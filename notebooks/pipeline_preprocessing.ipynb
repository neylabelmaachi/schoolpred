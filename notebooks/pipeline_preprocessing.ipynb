{
 "cells": [
  {
   "cell_type": "code",
   "execution_count": 98,
   "id": "bc6eda0b",
   "metadata": {},
   "outputs": [],
   "source": [
    "import numpy as np\n",
    "import pandas as pd\n",
    "import matplotlib.pyplot as plt\n",
    "import seaborn as sns\n",
    "import sklearn \n",
    "from sklearn.pipeline import Pipeline\n",
    "from sklearn.impute import SimpleImputer\n",
    "from sklearn.preprocessing import StandardScaler\n",
    "from sklearn.compose import ColumnTransformer\n",
    "from sklearn.preprocessing import OneHotEncoder\n",
    "from xgboost import XGBClassifier\n",
    "from sklearn.svm import SVC\n",
    "from sklearn.metrics import precision_score, recall_score, accuracy_score, f1_score, classification_report, confusion_matrix, ConfusionMatrixDisplay, PrecisionRecallDisplay, RocCurveDisplay"
   ]
  },
  {
   "cell_type": "code",
   "execution_count": 9,
   "id": "15544b2b",
   "metadata": {},
   "outputs": [],
   "source": [
    "data = pd.read_csv(\"../raw_data/final_file_with_all_features.csv\",low_memory=False)"
   ]
  },
  {
   "cell_type": "markdown",
   "id": "f41f007f",
   "metadata": {},
   "source": [
    "## Variables "
   ]
  },
  {
   "cell_type": "code",
   "execution_count": 56,
   "id": "f5b5ac7b",
   "metadata": {},
   "outputs": [],
   "source": [
    "X = data.drop(\"Age abandoned school\", axis=1)\n",
    "y = data[\"Age abandoned school\"]"
   ]
  },
  {
   "cell_type": "code",
   "execution_count": 57,
   "id": "de4b4af6",
   "metadata": {},
   "outputs": [
    {
     "data": {
      "text/plain": [
       "0    1.0\n",
       "1    1.0\n",
       "2    1.0\n",
       "3    1.0\n",
       "4    1.0\n",
       "Name: Age abandoned school, dtype: float64"
      ]
     },
     "execution_count": 57,
     "metadata": {},
     "output_type": "execute_result"
    }
   ],
   "source": [
    "y.head()"
   ]
  },
  {
   "cell_type": "code",
   "execution_count": 58,
   "id": "7755e958",
   "metadata": {
    "scrolled": true
   },
   "outputs": [
    {
     "data": {
      "text/html": [
       "<div>\n",
       "<style scoped>\n",
       "    .dataframe tbody tr th:only-of-type {\n",
       "        vertical-align: middle;\n",
       "    }\n",
       "\n",
       "    .dataframe tbody tr th {\n",
       "        vertical-align: top;\n",
       "    }\n",
       "\n",
       "    .dataframe thead th {\n",
       "        text-align: right;\n",
       "    }\n",
       "</style>\n",
       "<table border=\"1\" class=\"dataframe\">\n",
       "  <thead>\n",
       "    <tr style=\"text-align: right;\">\n",
       "      <th></th>\n",
       "      <th>hhid</th>\n",
       "      <th>Gender</th>\n",
       "      <th>mother_alive</th>\n",
       "      <th>father_alive</th>\n",
       "      <th>parents_age</th>\n",
       "      <th>marital_status</th>\n",
       "      <th>darija</th>\n",
       "      <th>class_arabic</th>\n",
       "      <th>french</th>\n",
       "      <th>amazygh</th>\n",
       "      <th>...</th>\n",
       "      <th>child_enrollment</th>\n",
       "      <th>class_when_dropout</th>\n",
       "      <th>region</th>\n",
       "      <th>province</th>\n",
       "      <th>schoolunitid</th>\n",
       "      <th>type_unit</th>\n",
       "      <th>groupid</th>\n",
       "      <th>num_menage</th>\n",
       "      <th>done_test</th>\n",
       "      <th>work_activity_classified</th>\n",
       "    </tr>\n",
       "  </thead>\n",
       "  <tbody>\n",
       "    <tr>\n",
       "      <th>0</th>\n",
       "      <td>A208004</td>\n",
       "      <td>1.0</td>\n",
       "      <td>1.0</td>\n",
       "      <td>1.0</td>\n",
       "      <td>35.0</td>\n",
       "      <td>1.0</td>\n",
       "      <td>1.0</td>\n",
       "      <td>2.0</td>\n",
       "      <td>2.0</td>\n",
       "      <td>2.0</td>\n",
       "      <td>...</td>\n",
       "      <td>1.0</td>\n",
       "      <td>0.0</td>\n",
       "      <td>Marrakech - Tensift - Al Haouz</td>\n",
       "      <td>Essaouira</td>\n",
       "      <td>A208</td>\n",
       "      <td>Secteur Scolaire Centre</td>\n",
       "      <td>2</td>\n",
       "      <td>4</td>\n",
       "      <td>1.0</td>\n",
       "      <td>1.0</td>\n",
       "    </tr>\n",
       "    <tr>\n",
       "      <th>1</th>\n",
       "      <td>A426002</td>\n",
       "      <td>1.0</td>\n",
       "      <td>1.0</td>\n",
       "      <td>2.0</td>\n",
       "      <td>33.0</td>\n",
       "      <td>1.0</td>\n",
       "      <td>1.0</td>\n",
       "      <td>2.0</td>\n",
       "      <td>2.0</td>\n",
       "      <td>1.0</td>\n",
       "      <td>...</td>\n",
       "      <td>1.0</td>\n",
       "      <td>0.0</td>\n",
       "      <td>Marrakech - Tensift - Al Haouz</td>\n",
       "      <td>Essaouira</td>\n",
       "      <td>A426</td>\n",
       "      <td>Secteur Scolaire Centre</td>\n",
       "      <td>4</td>\n",
       "      <td>2</td>\n",
       "      <td>2.0</td>\n",
       "      <td>0.0</td>\n",
       "    </tr>\n",
       "    <tr>\n",
       "      <th>2</th>\n",
       "      <td>A268006</td>\n",
       "      <td>1.0</td>\n",
       "      <td>1.0</td>\n",
       "      <td>1.0</td>\n",
       "      <td>31.0</td>\n",
       "      <td>1.0</td>\n",
       "      <td>1.0</td>\n",
       "      <td>2.0</td>\n",
       "      <td>2.0</td>\n",
       "      <td>1.0</td>\n",
       "      <td>...</td>\n",
       "      <td>1.0</td>\n",
       "      <td>0.0</td>\n",
       "      <td>Marrakech - Tensift - Al Haouz</td>\n",
       "      <td>Chichaoua</td>\n",
       "      <td>A268</td>\n",
       "      <td>Satellite</td>\n",
       "      <td>1</td>\n",
       "      <td>6</td>\n",
       "      <td>1.0</td>\n",
       "      <td>0.0</td>\n",
       "    </tr>\n",
       "    <tr>\n",
       "      <th>3</th>\n",
       "      <td>A419004</td>\n",
       "      <td>1.0</td>\n",
       "      <td>2.0</td>\n",
       "      <td>2.0</td>\n",
       "      <td>62.0</td>\n",
       "      <td>1.0</td>\n",
       "      <td>1.0</td>\n",
       "      <td>2.0</td>\n",
       "      <td>2.0</td>\n",
       "      <td>1.0</td>\n",
       "      <td>...</td>\n",
       "      <td>1.0</td>\n",
       "      <td>0.0</td>\n",
       "      <td>Sous - Massa - Draa</td>\n",
       "      <td>Taroudant</td>\n",
       "      <td>A419</td>\n",
       "      <td>Secteur Scolaire Centre</td>\n",
       "      <td>2</td>\n",
       "      <td>4</td>\n",
       "      <td>2.0</td>\n",
       "      <td>0.0</td>\n",
       "    </tr>\n",
       "    <tr>\n",
       "      <th>4</th>\n",
       "      <td>A536006</td>\n",
       "      <td>1.0</td>\n",
       "      <td>2.0</td>\n",
       "      <td>1.0</td>\n",
       "      <td>36.0</td>\n",
       "      <td>1.0</td>\n",
       "      <td>1.0</td>\n",
       "      <td>1.0</td>\n",
       "      <td>2.0</td>\n",
       "      <td>1.0</td>\n",
       "      <td>...</td>\n",
       "      <td>1.0</td>\n",
       "      <td>0.0</td>\n",
       "      <td>Marrakech - Tensift - Al Haouz</td>\n",
       "      <td>Essaouira</td>\n",
       "      <td>A536</td>\n",
       "      <td>Satellite</td>\n",
       "      <td>1</td>\n",
       "      <td>6</td>\n",
       "      <td>1.0</td>\n",
       "      <td>1.0</td>\n",
       "    </tr>\n",
       "  </tbody>\n",
       "</table>\n",
       "<p>5 rows × 33 columns</p>\n",
       "</div>"
      ],
      "text/plain": [
       "      hhid  Gender  mother_alive  father_alive  parents_age  marital_status  \\\n",
       "0  A208004     1.0           1.0           1.0         35.0             1.0   \n",
       "1  A426002     1.0           1.0           2.0         33.0             1.0   \n",
       "2  A268006     1.0           1.0           1.0         31.0             1.0   \n",
       "3  A419004     1.0           2.0           2.0         62.0             1.0   \n",
       "4  A536006     1.0           2.0           1.0         36.0             1.0   \n",
       "\n",
       "   darija  class_arabic  french  amazygh  ...  child_enrollment  \\\n",
       "0     1.0           2.0     2.0      2.0  ...               1.0   \n",
       "1     1.0           2.0     2.0      1.0  ...               1.0   \n",
       "2     1.0           2.0     2.0      1.0  ...               1.0   \n",
       "3     1.0           2.0     2.0      1.0  ...               1.0   \n",
       "4     1.0           1.0     2.0      1.0  ...               1.0   \n",
       "\n",
       "   class_when_dropout                          region   province  \\\n",
       "0                 0.0  Marrakech - Tensift - Al Haouz  Essaouira   \n",
       "1                 0.0  Marrakech - Tensift - Al Haouz  Essaouira   \n",
       "2                 0.0  Marrakech - Tensift - Al Haouz  Chichaoua   \n",
       "3                 0.0             Sous - Massa - Draa  Taroudant   \n",
       "4                 0.0  Marrakech - Tensift - Al Haouz  Essaouira   \n",
       "\n",
       "   schoolunitid                type_unit  groupid  num_menage  done_test  \\\n",
       "0          A208  Secteur Scolaire Centre        2           4        1.0   \n",
       "1          A426  Secteur Scolaire Centre        4           2        2.0   \n",
       "2          A268                Satellite        1           6        1.0   \n",
       "3          A419  Secteur Scolaire Centre        2           4        2.0   \n",
       "4          A536                Satellite        1           6        1.0   \n",
       "\n",
       "   work_activity_classified  \n",
       "0                       1.0  \n",
       "1                       0.0  \n",
       "2                       0.0  \n",
       "3                       0.0  \n",
       "4                       1.0  \n",
       "\n",
       "[5 rows x 33 columns]"
      ]
     },
     "execution_count": 58,
     "metadata": {},
     "output_type": "execute_result"
    }
   ],
   "source": [
    "X.head()"
   ]
  },
  {
   "cell_type": "code",
   "execution_count": 59,
   "id": "1eba4492",
   "metadata": {},
   "outputs": [
    {
     "data": {
      "text/plain": [
       "Index(['hhid', 'Gender', 'mother_alive', 'father_alive', 'parents_age',\n",
       "       'marital_status', 'darija', 'class_arabic', 'french', 'amazygh',\n",
       "       'read_one_lang', 'write_one_lang', 'no_read_write', 'parents_level_ed',\n",
       "       'num_per_house', 'type_housing', 'automobiles', 'mobile_phones',\n",
       "       'satellite', 'no_water', 'individual_water_net', 'electrical_net_co',\n",
       "       'school_id', 'child_enrollment', 'class_when_dropout', 'region',\n",
       "       'province', 'schoolunitid', 'type_unit', 'groupid', 'num_menage',\n",
       "       'done_test', 'work_activity_classified'],\n",
       "      dtype='object')"
      ]
     },
     "execution_count": 59,
     "metadata": {},
     "output_type": "execute_result"
    }
   ],
   "source": [
    "X.columns"
   ]
  },
  {
   "cell_type": "code",
   "execution_count": 60,
   "id": "6705a8a2",
   "metadata": {},
   "outputs": [],
   "source": [
    "X = X.drop(columns={\"type_unit\",\"groupid\",\"num_menage\",\"child_enrollment\",\"class_when_dropout\",\"schoolunitid\",\"school_id\",\"done_test\"})"
   ]
  },
  {
   "cell_type": "code",
   "execution_count": 61,
   "id": "c6ca61c2",
   "metadata": {},
   "outputs": [
    {
     "data": {
      "text/plain": [
       "(4052, 25)"
      ]
     },
     "execution_count": 61,
     "metadata": {},
     "output_type": "execute_result"
    }
   ],
   "source": [
    "X.shape"
   ]
  },
  {
   "cell_type": "code",
   "execution_count": 62,
   "id": "9d608113",
   "metadata": {},
   "outputs": [
    {
     "data": {
      "text/html": [
       "<div>\n",
       "<style scoped>\n",
       "    .dataframe tbody tr th:only-of-type {\n",
       "        vertical-align: middle;\n",
       "    }\n",
       "\n",
       "    .dataframe tbody tr th {\n",
       "        vertical-align: top;\n",
       "    }\n",
       "\n",
       "    .dataframe thead th {\n",
       "        text-align: right;\n",
       "    }\n",
       "</style>\n",
       "<table border=\"1\" class=\"dataframe\">\n",
       "  <thead>\n",
       "    <tr style=\"text-align: right;\">\n",
       "      <th></th>\n",
       "      <th>hhid</th>\n",
       "      <th>Gender</th>\n",
       "      <th>mother_alive</th>\n",
       "      <th>father_alive</th>\n",
       "      <th>parents_age</th>\n",
       "      <th>marital_status</th>\n",
       "      <th>darija</th>\n",
       "      <th>class_arabic</th>\n",
       "      <th>french</th>\n",
       "      <th>amazygh</th>\n",
       "      <th>...</th>\n",
       "      <th>type_housing</th>\n",
       "      <th>automobiles</th>\n",
       "      <th>mobile_phones</th>\n",
       "      <th>satellite</th>\n",
       "      <th>no_water</th>\n",
       "      <th>individual_water_net</th>\n",
       "      <th>electrical_net_co</th>\n",
       "      <th>region</th>\n",
       "      <th>province</th>\n",
       "      <th>work_activity_classified</th>\n",
       "    </tr>\n",
       "  </thead>\n",
       "  <tbody>\n",
       "    <tr>\n",
       "      <th>0</th>\n",
       "      <td>A208004</td>\n",
       "      <td>1.0</td>\n",
       "      <td>1.0</td>\n",
       "      <td>1.0</td>\n",
       "      <td>35.0</td>\n",
       "      <td>1.0</td>\n",
       "      <td>1.0</td>\n",
       "      <td>2.0</td>\n",
       "      <td>2.0</td>\n",
       "      <td>2.0</td>\n",
       "      <td>...</td>\n",
       "      <td>3.0</td>\n",
       "      <td>2.0</td>\n",
       "      <td>1.0</td>\n",
       "      <td>1.0</td>\n",
       "      <td>2</td>\n",
       "      <td>2</td>\n",
       "      <td>1</td>\n",
       "      <td>Marrakech - Tensift - Al Haouz</td>\n",
       "      <td>Essaouira</td>\n",
       "      <td>1.0</td>\n",
       "    </tr>\n",
       "    <tr>\n",
       "      <th>1</th>\n",
       "      <td>A426002</td>\n",
       "      <td>1.0</td>\n",
       "      <td>1.0</td>\n",
       "      <td>2.0</td>\n",
       "      <td>33.0</td>\n",
       "      <td>1.0</td>\n",
       "      <td>1.0</td>\n",
       "      <td>2.0</td>\n",
       "      <td>2.0</td>\n",
       "      <td>1.0</td>\n",
       "      <td>...</td>\n",
       "      <td>3.0</td>\n",
       "      <td>2.0</td>\n",
       "      <td>1.0</td>\n",
       "      <td>2.0</td>\n",
       "      <td>2</td>\n",
       "      <td>2</td>\n",
       "      <td>1</td>\n",
       "      <td>Marrakech - Tensift - Al Haouz</td>\n",
       "      <td>Essaouira</td>\n",
       "      <td>0.0</td>\n",
       "    </tr>\n",
       "    <tr>\n",
       "      <th>2</th>\n",
       "      <td>A268006</td>\n",
       "      <td>1.0</td>\n",
       "      <td>1.0</td>\n",
       "      <td>1.0</td>\n",
       "      <td>31.0</td>\n",
       "      <td>1.0</td>\n",
       "      <td>1.0</td>\n",
       "      <td>2.0</td>\n",
       "      <td>2.0</td>\n",
       "      <td>1.0</td>\n",
       "      <td>...</td>\n",
       "      <td>2.0</td>\n",
       "      <td>2.0</td>\n",
       "      <td>1.0</td>\n",
       "      <td>2.0</td>\n",
       "      <td>2</td>\n",
       "      <td>2</td>\n",
       "      <td>2</td>\n",
       "      <td>Marrakech - Tensift - Al Haouz</td>\n",
       "      <td>Chichaoua</td>\n",
       "      <td>0.0</td>\n",
       "    </tr>\n",
       "    <tr>\n",
       "      <th>3</th>\n",
       "      <td>A419004</td>\n",
       "      <td>1.0</td>\n",
       "      <td>2.0</td>\n",
       "      <td>2.0</td>\n",
       "      <td>62.0</td>\n",
       "      <td>1.0</td>\n",
       "      <td>1.0</td>\n",
       "      <td>2.0</td>\n",
       "      <td>2.0</td>\n",
       "      <td>1.0</td>\n",
       "      <td>...</td>\n",
       "      <td>1.0</td>\n",
       "      <td>2.0</td>\n",
       "      <td>1.0</td>\n",
       "      <td>1.0</td>\n",
       "      <td>2</td>\n",
       "      <td>2</td>\n",
       "      <td>1</td>\n",
       "      <td>Sous - Massa - Draa</td>\n",
       "      <td>Taroudant</td>\n",
       "      <td>0.0</td>\n",
       "    </tr>\n",
       "    <tr>\n",
       "      <th>4</th>\n",
       "      <td>A536006</td>\n",
       "      <td>1.0</td>\n",
       "      <td>2.0</td>\n",
       "      <td>1.0</td>\n",
       "      <td>36.0</td>\n",
       "      <td>1.0</td>\n",
       "      <td>1.0</td>\n",
       "      <td>1.0</td>\n",
       "      <td>2.0</td>\n",
       "      <td>1.0</td>\n",
       "      <td>...</td>\n",
       "      <td>3.0</td>\n",
       "      <td>2.0</td>\n",
       "      <td>1.0</td>\n",
       "      <td>2.0</td>\n",
       "      <td>2</td>\n",
       "      <td>2</td>\n",
       "      <td>2</td>\n",
       "      <td>Marrakech - Tensift - Al Haouz</td>\n",
       "      <td>Essaouira</td>\n",
       "      <td>1.0</td>\n",
       "    </tr>\n",
       "  </tbody>\n",
       "</table>\n",
       "<p>5 rows × 25 columns</p>\n",
       "</div>"
      ],
      "text/plain": [
       "      hhid  Gender  mother_alive  father_alive  parents_age  marital_status  \\\n",
       "0  A208004     1.0           1.0           1.0         35.0             1.0   \n",
       "1  A426002     1.0           1.0           2.0         33.0             1.0   \n",
       "2  A268006     1.0           1.0           1.0         31.0             1.0   \n",
       "3  A419004     1.0           2.0           2.0         62.0             1.0   \n",
       "4  A536006     1.0           2.0           1.0         36.0             1.0   \n",
       "\n",
       "   darija  class_arabic  french  amazygh  ...  type_housing  automobiles  \\\n",
       "0     1.0           2.0     2.0      2.0  ...           3.0          2.0   \n",
       "1     1.0           2.0     2.0      1.0  ...           3.0          2.0   \n",
       "2     1.0           2.0     2.0      1.0  ...           2.0          2.0   \n",
       "3     1.0           2.0     2.0      1.0  ...           1.0          2.0   \n",
       "4     1.0           1.0     2.0      1.0  ...           3.0          2.0   \n",
       "\n",
       "   mobile_phones  satellite  no_water  individual_water_net  \\\n",
       "0            1.0        1.0         2                     2   \n",
       "1            1.0        2.0         2                     2   \n",
       "2            1.0        2.0         2                     2   \n",
       "3            1.0        1.0         2                     2   \n",
       "4            1.0        2.0         2                     2   \n",
       "\n",
       "   electrical_net_co                          region   province  \\\n",
       "0                  1  Marrakech - Tensift - Al Haouz  Essaouira   \n",
       "1                  1  Marrakech - Tensift - Al Haouz  Essaouira   \n",
       "2                  2  Marrakech - Tensift - Al Haouz  Chichaoua   \n",
       "3                  1             Sous - Massa - Draa  Taroudant   \n",
       "4                  2  Marrakech - Tensift - Al Haouz  Essaouira   \n",
       "\n",
       "   work_activity_classified  \n",
       "0                       1.0  \n",
       "1                       0.0  \n",
       "2                       0.0  \n",
       "3                       0.0  \n",
       "4                       1.0  \n",
       "\n",
       "[5 rows x 25 columns]"
      ]
     },
     "execution_count": 62,
     "metadata": {},
     "output_type": "execute_result"
    }
   ],
   "source": [
    "X.head()"
   ]
  },
  {
   "cell_type": "markdown",
   "id": "bad51820",
   "metadata": {},
   "source": [
    "## Pipeline building"
   ]
  },
  {
   "cell_type": "code",
   "execution_count": 63,
   "id": "6ccd51e5",
   "metadata": {},
   "outputs": [],
   "source": [
    "# test/train split\n",
    "\n",
    "from sklearn.model_selection import train_test_split\n",
    "\n",
    "X_train, X_test, y_train, y_test = train_test_split(X, y, test_size = 0.20)\n",
    "X_train.shape, X_test.shape, y_train.shape, y_test.shape\n",
    "\n",
    "X_train_num = X.select_dtypes(include=[\"float64\",\"int64\"])\n",
    "X_train_cat = X[[\"region\",\"province\"]]"
   ]
  },
  {
   "cell_type": "code",
   "execution_count": 64,
   "id": "e258a6b3",
   "metadata": {},
   "outputs": [
    {
     "data": {
      "text/plain": [
       "((3241, 25), (811, 25), (3241,), (811,))"
      ]
     },
     "execution_count": 64,
     "metadata": {},
     "output_type": "execute_result"
    }
   ],
   "source": [
    "X_train.shape, X_test.shape, y_train.shape, y_test.shape"
   ]
  },
  {
   "cell_type": "code",
   "execution_count": 65,
   "id": "62d23b50",
   "metadata": {},
   "outputs": [],
   "source": [
    "# Numerical Features\n",
    "\n",
    "num_transformer = Pipeline([\n",
    "    ('imputer', SimpleImputer(strategy=\"mean\")),\n",
    "    ('standard_scaler', StandardScaler())])\n"
   ]
  },
  {
   "cell_type": "code",
   "execution_count": 66,
   "id": "0e05655a",
   "metadata": {},
   "outputs": [],
   "source": [
    "# Categorical features \n",
    "\n",
    "cat_transformer = Pipeline([\n",
    "    ('one_hot_encoder', OneHotEncoder(sparse=False, handle_unknown='ignore'))\n",
    "])"
   ]
  },
  {
   "cell_type": "code",
   "execution_count": 67,
   "id": "1581af0b",
   "metadata": {},
   "outputs": [],
   "source": [
    "# Build our preprocessor\n",
    "\n",
    "preprocessor = ColumnTransformer([\n",
    "    ('num_transformer', num_transformer, X_train_num.columns),\n",
    "    ('cat_transformer', cat_transformer, X_train_cat.columns)])\n"
   ]
  },
  {
   "cell_type": "code",
   "execution_count": 68,
   "id": "ca88d8e2",
   "metadata": {},
   "outputs": [],
   "source": [
    "X_train_preprocessed = preprocessor.fit_transform(X_train)"
   ]
  },
  {
   "cell_type": "code",
   "execution_count": 69,
   "id": "42603866",
   "metadata": {},
   "outputs": [],
   "source": [
    "feature_names = preprocessor.named_transformers_['cat_transformer']\\\n",
    "    .named_steps['one_hot_encoder'].get_feature_names_out(X_train_cat.columns)\n",
    "\n",
    "# Create a new DataFrame with preprocessed features and updated column names\n",
    "X_train_preprocessed_df = pd.DataFrame(X_train_preprocessed, columns=list(X_train_num.columns) + list(feature_names))"
   ]
  },
  {
   "cell_type": "code",
   "execution_count": 70,
   "id": "eb27026b",
   "metadata": {
    "scrolled": true
   },
   "outputs": [
    {
     "data": {
      "text/html": [
       "<div>\n",
       "<style scoped>\n",
       "    .dataframe tbody tr th:only-of-type {\n",
       "        vertical-align: middle;\n",
       "    }\n",
       "\n",
       "    .dataframe tbody tr th {\n",
       "        vertical-align: top;\n",
       "    }\n",
       "\n",
       "    .dataframe thead th {\n",
       "        text-align: right;\n",
       "    }\n",
       "</style>\n",
       "<table border=\"1\" class=\"dataframe\">\n",
       "  <thead>\n",
       "    <tr style=\"text-align: right;\">\n",
       "      <th></th>\n",
       "      <th>Gender</th>\n",
       "      <th>mother_alive</th>\n",
       "      <th>father_alive</th>\n",
       "      <th>parents_age</th>\n",
       "      <th>marital_status</th>\n",
       "      <th>darija</th>\n",
       "      <th>class_arabic</th>\n",
       "      <th>french</th>\n",
       "      <th>amazygh</th>\n",
       "      <th>read_one_lang</th>\n",
       "      <th>...</th>\n",
       "      <th>province_Essaouira</th>\n",
       "      <th>province_Ifrane</th>\n",
       "      <th>province_Jerada</th>\n",
       "      <th>province_Khenifra</th>\n",
       "      <th>province_Meknes</th>\n",
       "      <th>province_Nador</th>\n",
       "      <th>province_Ouarzazate</th>\n",
       "      <th>province_Taourirt</th>\n",
       "      <th>province_Taroudant</th>\n",
       "      <th>province_Tiznit</th>\n",
       "    </tr>\n",
       "  </thead>\n",
       "  <tbody>\n",
       "    <tr>\n",
       "      <th>0</th>\n",
       "      <td>-0.127695</td>\n",
       "      <td>1.185697</td>\n",
       "      <td>-1.252096</td>\n",
       "      <td>-1.963534</td>\n",
       "      <td>-0.13536</td>\n",
       "      <td>-0.438833</td>\n",
       "      <td>0.392556</td>\n",
       "      <td>0.159656</td>\n",
       "      <td>-0.558004</td>\n",
       "      <td>0.619922</td>\n",
       "      <td>...</td>\n",
       "      <td>0.0</td>\n",
       "      <td>0.0</td>\n",
       "      <td>0.0</td>\n",
       "      <td>0.0</td>\n",
       "      <td>0.0</td>\n",
       "      <td>0.0</td>\n",
       "      <td>0.0</td>\n",
       "      <td>0.0</td>\n",
       "      <td>1.0</td>\n",
       "      <td>0.0</td>\n",
       "    </tr>\n",
       "    <tr>\n",
       "      <th>1</th>\n",
       "      <td>-0.127695</td>\n",
       "      <td>-0.848095</td>\n",
       "      <td>-1.252096</td>\n",
       "      <td>0.678763</td>\n",
       "      <td>-0.13536</td>\n",
       "      <td>-0.438833</td>\n",
       "      <td>0.392556</td>\n",
       "      <td>0.159656</td>\n",
       "      <td>-0.558004</td>\n",
       "      <td>0.619922</td>\n",
       "      <td>...</td>\n",
       "      <td>1.0</td>\n",
       "      <td>0.0</td>\n",
       "      <td>0.0</td>\n",
       "      <td>0.0</td>\n",
       "      <td>0.0</td>\n",
       "      <td>0.0</td>\n",
       "      <td>0.0</td>\n",
       "      <td>0.0</td>\n",
       "      <td>0.0</td>\n",
       "      <td>0.0</td>\n",
       "    </tr>\n",
       "    <tr>\n",
       "      <th>2</th>\n",
       "      <td>-0.127695</td>\n",
       "      <td>-0.848095</td>\n",
       "      <td>-1.252096</td>\n",
       "      <td>-1.117999</td>\n",
       "      <td>-0.13536</td>\n",
       "      <td>-0.438833</td>\n",
       "      <td>0.392556</td>\n",
       "      <td>0.159656</td>\n",
       "      <td>1.798138</td>\n",
       "      <td>0.619922</td>\n",
       "      <td>...</td>\n",
       "      <td>1.0</td>\n",
       "      <td>0.0</td>\n",
       "      <td>0.0</td>\n",
       "      <td>0.0</td>\n",
       "      <td>0.0</td>\n",
       "      <td>0.0</td>\n",
       "      <td>0.0</td>\n",
       "      <td>0.0</td>\n",
       "      <td>0.0</td>\n",
       "      <td>0.0</td>\n",
       "    </tr>\n",
       "    <tr>\n",
       "      <th>3</th>\n",
       "      <td>-0.127695</td>\n",
       "      <td>-0.848095</td>\n",
       "      <td>-1.252096</td>\n",
       "      <td>-0.272464</td>\n",
       "      <td>-0.13536</td>\n",
       "      <td>-0.438833</td>\n",
       "      <td>0.392556</td>\n",
       "      <td>0.159656</td>\n",
       "      <td>-0.558004</td>\n",
       "      <td>-1.652660</td>\n",
       "      <td>...</td>\n",
       "      <td>0.0</td>\n",
       "      <td>0.0</td>\n",
       "      <td>0.0</td>\n",
       "      <td>0.0</td>\n",
       "      <td>0.0</td>\n",
       "      <td>0.0</td>\n",
       "      <td>0.0</td>\n",
       "      <td>0.0</td>\n",
       "      <td>0.0</td>\n",
       "      <td>0.0</td>\n",
       "    </tr>\n",
       "    <tr>\n",
       "      <th>4</th>\n",
       "      <td>-0.127695</td>\n",
       "      <td>-0.848095</td>\n",
       "      <td>-1.252096</td>\n",
       "      <td>0.150304</td>\n",
       "      <td>-0.13536</td>\n",
       "      <td>-0.438833</td>\n",
       "      <td>-2.556123</td>\n",
       "      <td>-6.285604</td>\n",
       "      <td>-0.558004</td>\n",
       "      <td>-1.652660</td>\n",
       "      <td>...</td>\n",
       "      <td>0.0</td>\n",
       "      <td>0.0</td>\n",
       "      <td>0.0</td>\n",
       "      <td>1.0</td>\n",
       "      <td>0.0</td>\n",
       "      <td>0.0</td>\n",
       "      <td>0.0</td>\n",
       "      <td>0.0</td>\n",
       "      <td>0.0</td>\n",
       "      <td>0.0</td>\n",
       "    </tr>\n",
       "  </tbody>\n",
       "</table>\n",
       "<p>5 rows × 44 columns</p>\n",
       "</div>"
      ],
      "text/plain": [
       "     Gender  mother_alive  father_alive  parents_age  marital_status  \\\n",
       "0 -0.127695      1.185697     -1.252096    -1.963534        -0.13536   \n",
       "1 -0.127695     -0.848095     -1.252096     0.678763        -0.13536   \n",
       "2 -0.127695     -0.848095     -1.252096    -1.117999        -0.13536   \n",
       "3 -0.127695     -0.848095     -1.252096    -0.272464        -0.13536   \n",
       "4 -0.127695     -0.848095     -1.252096     0.150304        -0.13536   \n",
       "\n",
       "     darija  class_arabic    french   amazygh  read_one_lang  ...  \\\n",
       "0 -0.438833      0.392556  0.159656 -0.558004       0.619922  ...   \n",
       "1 -0.438833      0.392556  0.159656 -0.558004       0.619922  ...   \n",
       "2 -0.438833      0.392556  0.159656  1.798138       0.619922  ...   \n",
       "3 -0.438833      0.392556  0.159656 -0.558004      -1.652660  ...   \n",
       "4 -0.438833     -2.556123 -6.285604 -0.558004      -1.652660  ...   \n",
       "\n",
       "   province_Essaouira  province_Ifrane  province_Jerada  province_Khenifra  \\\n",
       "0                 0.0              0.0              0.0                0.0   \n",
       "1                 1.0              0.0              0.0                0.0   \n",
       "2                 1.0              0.0              0.0                0.0   \n",
       "3                 0.0              0.0              0.0                0.0   \n",
       "4                 0.0              0.0              0.0                1.0   \n",
       "\n",
       "   province_Meknes  province_Nador  province_Ouarzazate  province_Taourirt  \\\n",
       "0              0.0             0.0                  0.0                0.0   \n",
       "1              0.0             0.0                  0.0                0.0   \n",
       "2              0.0             0.0                  0.0                0.0   \n",
       "3              0.0             0.0                  0.0                0.0   \n",
       "4              0.0             0.0                  0.0                0.0   \n",
       "\n",
       "   province_Taroudant  province_Tiznit  \n",
       "0                 1.0              0.0  \n",
       "1                 0.0              0.0  \n",
       "2                 0.0              0.0  \n",
       "3                 0.0              0.0  \n",
       "4                 0.0              0.0  \n",
       "\n",
       "[5 rows x 44 columns]"
      ]
     },
     "execution_count": 70,
     "metadata": {},
     "output_type": "execute_result"
    }
   ],
   "source": [
    "X_train_preprocessed_df.head()"
   ]
  },
  {
   "cell_type": "code",
   "execution_count": 71,
   "id": "74bd55b7",
   "metadata": {},
   "outputs": [
    {
     "data": {
      "text/plain": [
       "(3241, 44)"
      ]
     },
     "execution_count": 71,
     "metadata": {},
     "output_type": "execute_result"
    }
   ],
   "source": [
    "X_train_preprocessed_df.shape"
   ]
  },
  {
   "cell_type": "markdown",
   "id": "3c0ed88c",
   "metadata": {},
   "source": [
    "## Modelling"
   ]
  },
  {
   "cell_type": "code",
   "execution_count": 136,
   "id": "ba994eb6",
   "metadata": {},
   "outputs": [],
   "source": [
    "def perform(y_true, y_pred):\n",
    "    print(\"Precision : \", precision_score(y_true, y_pred, average = 'micro'))\n",
    "    print(\"Recall : \", recall_score(y_true, y_pred, average = 'micro'))\n",
    "    print(\"Accuracy : \", accuracy_score(y_true, y_pred))\n",
    "    print(\"F1 Score : \", f1_score(y_true, y_pred, average = 'micro'))\n",
    "    cm = confusion_matrix(y_true, y_pred)\n",
    "    print(\"\\n\", cm)\n",
    "    print(\"\\n\")\n",
    "    print(\"**\"*27 + \"\\n\" + \" \"* 16 + \"Classification Report\\n\" + \"**\"*27)\n",
    "    print(classification_report(y_true, y_pred))\n",
    "    print(\"**\"*27+\"\\n\")\n",
    "    \n",
    "    cm = ConfusionMatrixDisplay(confusion_matrix = cm)\n",
    "    cm.plot()"
   ]
  },
  {
   "cell_type": "markdown",
   "id": "33f32c62",
   "metadata": {},
   "source": [
    "### XGBoost"
   ]
  },
  {
   "cell_type": "code",
   "execution_count": 137,
   "id": "bc08387d",
   "metadata": {},
   "outputs": [
    {
     "name": "stdout",
     "output_type": "stream",
     "text": [
      "[17:14:32] WARNING: /Users/runner/work/xgboost/xgboost/python-package/build/temp.macosx-10.9-x86_64-cpython-37/xgboost/src/learner.cc:627: \n",
      "Parameters: { \"max_depth\" } might not be used.\n",
      "\n",
      "  This could be a false alarm, with some parameters getting used by language bindings but\n",
      "  then being mistakenly passed down to XGBoost core, or some parameter actually being used\n",
      "  but getting flagged wrongly here. Please open an issue if you find any such cases.\n",
      "\n",
      "\n"
     ]
    },
    {
     "data": {
      "text/html": [
       "<style>#sk-container-id-17 {color: black;background-color: white;}#sk-container-id-17 pre{padding: 0;}#sk-container-id-17 div.sk-toggleable {background-color: white;}#sk-container-id-17 label.sk-toggleable__label {cursor: pointer;display: block;width: 100%;margin-bottom: 0;padding: 0.3em;box-sizing: border-box;text-align: center;}#sk-container-id-17 label.sk-toggleable__label-arrow:before {content: \"▸\";float: left;margin-right: 0.25em;color: #696969;}#sk-container-id-17 label.sk-toggleable__label-arrow:hover:before {color: black;}#sk-container-id-17 div.sk-estimator:hover label.sk-toggleable__label-arrow:before {color: black;}#sk-container-id-17 div.sk-toggleable__content {max-height: 0;max-width: 0;overflow: hidden;text-align: left;background-color: #f0f8ff;}#sk-container-id-17 div.sk-toggleable__content pre {margin: 0.2em;color: black;border-radius: 0.25em;background-color: #f0f8ff;}#sk-container-id-17 input.sk-toggleable__control:checked~div.sk-toggleable__content {max-height: 200px;max-width: 100%;overflow: auto;}#sk-container-id-17 input.sk-toggleable__control:checked~label.sk-toggleable__label-arrow:before {content: \"▾\";}#sk-container-id-17 div.sk-estimator input.sk-toggleable__control:checked~label.sk-toggleable__label {background-color: #d4ebff;}#sk-container-id-17 div.sk-label input.sk-toggleable__control:checked~label.sk-toggleable__label {background-color: #d4ebff;}#sk-container-id-17 input.sk-hidden--visually {border: 0;clip: rect(1px 1px 1px 1px);clip: rect(1px, 1px, 1px, 1px);height: 1px;margin: -1px;overflow: hidden;padding: 0;position: absolute;width: 1px;}#sk-container-id-17 div.sk-estimator {font-family: monospace;background-color: #f0f8ff;border: 1px dotted black;border-radius: 0.25em;box-sizing: border-box;margin-bottom: 0.5em;}#sk-container-id-17 div.sk-estimator:hover {background-color: #d4ebff;}#sk-container-id-17 div.sk-parallel-item::after {content: \"\";width: 100%;border-bottom: 1px solid gray;flex-grow: 1;}#sk-container-id-17 div.sk-label:hover label.sk-toggleable__label {background-color: #d4ebff;}#sk-container-id-17 div.sk-serial::before {content: \"\";position: absolute;border-left: 1px solid gray;box-sizing: border-box;top: 0;bottom: 0;left: 50%;z-index: 0;}#sk-container-id-17 div.sk-serial {display: flex;flex-direction: column;align-items: center;background-color: white;padding-right: 0.2em;padding-left: 0.2em;position: relative;}#sk-container-id-17 div.sk-item {position: relative;z-index: 1;}#sk-container-id-17 div.sk-parallel {display: flex;align-items: stretch;justify-content: center;background-color: white;position: relative;}#sk-container-id-17 div.sk-item::before, #sk-container-id-17 div.sk-parallel-item::before {content: \"\";position: absolute;border-left: 1px solid gray;box-sizing: border-box;top: 0;bottom: 0;left: 50%;z-index: -1;}#sk-container-id-17 div.sk-parallel-item {display: flex;flex-direction: column;z-index: 1;position: relative;background-color: white;}#sk-container-id-17 div.sk-parallel-item:first-child::after {align-self: flex-end;width: 50%;}#sk-container-id-17 div.sk-parallel-item:last-child::after {align-self: flex-start;width: 50%;}#sk-container-id-17 div.sk-parallel-item:only-child::after {width: 0;}#sk-container-id-17 div.sk-dashed-wrapped {border: 1px dashed gray;margin: 0 0.4em 0.5em 0.4em;box-sizing: border-box;padding-bottom: 0.4em;background-color: white;}#sk-container-id-17 div.sk-label label {font-family: monospace;font-weight: bold;display: inline-block;line-height: 1.2em;}#sk-container-id-17 div.sk-label-container {text-align: center;}#sk-container-id-17 div.sk-container {/* jupyter's `normalize.less` sets `[hidden] { display: none; }` but bootstrap.min.css set `[hidden] { display: none !important; }` so we also need the `!important` here to be able to override the default hidden behavior on the sphinx rendered scikit-learn.org. See: https://github.com/scikit-learn/scikit-learn/issues/21755 */display: inline-block !important;position: relative;}#sk-container-id-17 div.sk-text-repr-fallback {display: none;}</style><div id=\"sk-container-id-17\" class=\"sk-top-container\"><div class=\"sk-text-repr-fallback\"><pre>XGBClassifier(alpha=0.3, base_score=0.5, booster=&#x27;gblinear&#x27;, callbacks=None,\n",
       "              colsample_bylevel=None, colsample_bynode=None,\n",
       "              colsample_bytree=None, early_stopping_rounds=None,\n",
       "              enable_categorical=False, eta=0.1, eval_metric=None, gamma=None,\n",
       "              gpu_id=-1, grow_policy=None, importance_type=None,\n",
       "              interaction_constraints=None, learning_rate=0.5, max_bin=None,\n",
       "              max_cat_to_onehot=None, max_delta_step=None, max_depth=8,\n",
       "              max_leaves=None, min_child_weight=None, missing=nan,\n",
       "              monotone_constraints=None, n_estimators=100, n_jobs=0,\n",
       "              num_parallel_tree=None, predictor=None, random_state=0, ...)</pre><b>In a Jupyter environment, please rerun this cell to show the HTML representation or trust the notebook. <br />On GitHub, the HTML representation is unable to render, please try loading this page with nbviewer.org.</b></div><div class=\"sk-container\" hidden><div class=\"sk-item\"><div class=\"sk-estimator sk-toggleable\"><input class=\"sk-toggleable__control sk-hidden--visually\" id=\"sk-estimator-id-27\" type=\"checkbox\" checked><label for=\"sk-estimator-id-27\" class=\"sk-toggleable__label sk-toggleable__label-arrow\">XGBClassifier</label><div class=\"sk-toggleable__content\"><pre>XGBClassifier(alpha=0.3, base_score=0.5, booster=&#x27;gblinear&#x27;, callbacks=None,\n",
       "              colsample_bylevel=None, colsample_bynode=None,\n",
       "              colsample_bytree=None, early_stopping_rounds=None,\n",
       "              enable_categorical=False, eta=0.1, eval_metric=None, gamma=None,\n",
       "              gpu_id=-1, grow_policy=None, importance_type=None,\n",
       "              interaction_constraints=None, learning_rate=0.5, max_bin=None,\n",
       "              max_cat_to_onehot=None, max_delta_step=None, max_depth=8,\n",
       "              max_leaves=None, min_child_weight=None, missing=nan,\n",
       "              monotone_constraints=None, n_estimators=100, n_jobs=0,\n",
       "              num_parallel_tree=None, predictor=None, random_state=0, ...)</pre></div></div></div></div></div>"
      ],
      "text/plain": [
       "XGBClassifier(alpha=0.3, base_score=0.5, booster='gblinear', callbacks=None,\n",
       "              colsample_bylevel=None, colsample_bynode=None,\n",
       "              colsample_bytree=None, early_stopping_rounds=None,\n",
       "              enable_categorical=False, eta=0.1, eval_metric=None, gamma=None,\n",
       "              gpu_id=-1, grow_policy=None, importance_type=None,\n",
       "              interaction_constraints=None, learning_rate=0.5, max_bin=None,\n",
       "              max_cat_to_onehot=None, max_delta_step=None, max_depth=8,\n",
       "              max_leaves=None, min_child_weight=None, missing=nan,\n",
       "              monotone_constraints=None, n_estimators=100, n_jobs=0,\n",
       "              num_parallel_tree=None, predictor=None, random_state=0, ...)"
      ]
     },
     "execution_count": 137,
     "metadata": {},
     "output_type": "execute_result"
    }
   ],
   "source": [
    "model_xgb = XGBClassifier(booster='gblinear',\n",
    "                        eta=0.1,\n",
    "                        max_depth=8,\n",
    "                        alpha=0.3\n",
    "                         )\n",
    "\n",
    "model_xgb.fit(X_train_preprocessed_df, y_train)"
   ]
  },
  {
   "cell_type": "code",
   "execution_count": 138,
   "id": "dce2fbc1",
   "metadata": {},
   "outputs": [],
   "source": [
    "X_test_num = X.select_dtypes(include=[\"float64\",\"int64\"])\n",
    "X_test_cat = X[[\"region\",\"province\"]]"
   ]
  },
  {
   "cell_type": "code",
   "execution_count": 139,
   "id": "f1f05e56",
   "metadata": {},
   "outputs": [],
   "source": [
    "X_test_preprocessed = preprocessor.fit_transform(X_test)\n",
    "feature_names = preprocessor.named_transformers_['cat_transformer']\\\n",
    "    .named_steps['one_hot_encoder'].get_feature_names_out(X_test_cat.columns)\n",
    "\n",
    "# Create a new DataFrame with preprocessed features and updated column names\n",
    "X_test_preprocessed_df = pd.DataFrame(X_test_preprocessed, columns=list(X_test_num.columns) + list(feature_names))"
   ]
  },
  {
   "cell_type": "code",
   "execution_count": 140,
   "id": "a6a0344e",
   "metadata": {
    "scrolled": true
   },
   "outputs": [],
   "source": [
    "y_pred_xgb = model_xgb.predict(X_test_preprocessed_df)"
   ]
  },
  {
   "cell_type": "code",
   "execution_count": 141,
   "id": "f2e886d0",
   "metadata": {
    "scrolled": true
   },
   "outputs": [
    {
     "name": "stdout",
     "output_type": "stream",
     "text": [
      "Precision :  0.750924784217016\n",
      "Recall :  0.750924784217016\n",
      "Accuracy :  0.750924784217016\n",
      "F1 Score :  0.7509247842170161\n",
      "\n",
      " [[  0 202]\n",
      " [  0 609]]\n",
      "\n",
      "\n",
      "******************************************************\n",
      "                Classification Report\n",
      "******************************************************\n",
      "              precision    recall  f1-score   support\n",
      "\n",
      "         0.0       0.00      0.00      0.00       202\n",
      "         1.0       0.75      1.00      0.86       609\n",
      "\n",
      "    accuracy                           0.75       811\n",
      "   macro avg       0.38      0.50      0.43       811\n",
      "weighted avg       0.56      0.75      0.64       811\n",
      "\n",
      "******************************************************\n",
      "\n"
     ]
    },
    {
     "name": "stderr",
     "output_type": "stream",
     "text": [
      "/Users/Neyla/.pyenv/versions/dropoutpred-env/lib/python3.10/site-packages/sklearn/metrics/_classification.py:1334: UndefinedMetricWarning: Precision and F-score are ill-defined and being set to 0.0 in labels with no predicted samples. Use `zero_division` parameter to control this behavior.\n",
      "  _warn_prf(average, modifier, msg_start, len(result))\n",
      "/Users/Neyla/.pyenv/versions/dropoutpred-env/lib/python3.10/site-packages/sklearn/metrics/_classification.py:1334: UndefinedMetricWarning: Precision and F-score are ill-defined and being set to 0.0 in labels with no predicted samples. Use `zero_division` parameter to control this behavior.\n",
      "  _warn_prf(average, modifier, msg_start, len(result))\n",
      "/Users/Neyla/.pyenv/versions/dropoutpred-env/lib/python3.10/site-packages/sklearn/metrics/_classification.py:1334: UndefinedMetricWarning: Precision and F-score are ill-defined and being set to 0.0 in labels with no predicted samples. Use `zero_division` parameter to control this behavior.\n",
      "  _warn_prf(average, modifier, msg_start, len(result))\n"
     ]
    },
    {
     "data": {
      "image/png": "[encoded data removed]",
      "text/plain": [
       "<Figure size 640x480 with 2 Axes>"
      ]
     },
     "metadata": {},
     "output_type": "display_data"
    }
   ],
   "source": [
    "perform(y_test, y_pred_xgb)"
   ]
  },
  {
   "cell_type": "markdown",
   "id": "57582724",
   "metadata": {},
   "source": [
    "### Support Vector Classifier"
   ]
  },
  {
   "cell_type": "code",
   "execution_count": 133,
   "id": "fb54bbab",
   "metadata": {
    "scrolled": true
   },
   "outputs": [
    {
     "data": {
      "text/html": [
       "<style>#sk-container-id-16 {color: black;background-color: white;}#sk-container-id-16 pre{padding: 0;}#sk-container-id-16 div.sk-toggleable {background-color: white;}#sk-container-id-16 label.sk-toggleable__label {cursor: pointer;display: block;width: 100%;margin-bottom: 0;padding: 0.3em;box-sizing: border-box;text-align: center;}#sk-container-id-16 label.sk-toggleable__label-arrow:before {content: \"▸\";float: left;margin-right: 0.25em;color: #696969;}#sk-container-id-16 label.sk-toggleable__label-arrow:hover:before {color: black;}#sk-container-id-16 div.sk-estimator:hover label.sk-toggleable__label-arrow:before {color: black;}#sk-container-id-16 div.sk-toggleable__content {max-height: 0;max-width: 0;overflow: hidden;text-align: left;background-color: #f0f8ff;}#sk-container-id-16 div.sk-toggleable__content pre {margin: 0.2em;color: black;border-radius: 0.25em;background-color: #f0f8ff;}#sk-container-id-16 input.sk-toggleable__control:checked~div.sk-toggleable__content {max-height: 200px;max-width: 100%;overflow: auto;}#sk-container-id-16 input.sk-toggleable__control:checked~label.sk-toggleable__label-arrow:before {content: \"▾\";}#sk-container-id-16 div.sk-estimator input.sk-toggleable__control:checked~label.sk-toggleable__label {background-color: #d4ebff;}#sk-container-id-16 div.sk-label input.sk-toggleable__control:checked~label.sk-toggleable__label {background-color: #d4ebff;}#sk-container-id-16 input.sk-hidden--visually {border: 0;clip: rect(1px 1px 1px 1px);clip: rect(1px, 1px, 1px, 1px);height: 1px;margin: -1px;overflow: hidden;padding: 0;position: absolute;width: 1px;}#sk-container-id-16 div.sk-estimator {font-family: monospace;background-color: #f0f8ff;border: 1px dotted black;border-radius: 0.25em;box-sizing: border-box;margin-bottom: 0.5em;}#sk-container-id-16 div.sk-estimator:hover {background-color: #d4ebff;}#sk-container-id-16 div.sk-parallel-item::after {content: \"\";width: 100%;border-bottom: 1px solid gray;flex-grow: 1;}#sk-container-id-16 div.sk-label:hover label.sk-toggleable__label {background-color: #d4ebff;}#sk-container-id-16 div.sk-serial::before {content: \"\";position: absolute;border-left: 1px solid gray;box-sizing: border-box;top: 0;bottom: 0;left: 50%;z-index: 0;}#sk-container-id-16 div.sk-serial {display: flex;flex-direction: column;align-items: center;background-color: white;padding-right: 0.2em;padding-left: 0.2em;position: relative;}#sk-container-id-16 div.sk-item {position: relative;z-index: 1;}#sk-container-id-16 div.sk-parallel {display: flex;align-items: stretch;justify-content: center;background-color: white;position: relative;}#sk-container-id-16 div.sk-item::before, #sk-container-id-16 div.sk-parallel-item::before {content: \"\";position: absolute;border-left: 1px solid gray;box-sizing: border-box;top: 0;bottom: 0;left: 50%;z-index: -1;}#sk-container-id-16 div.sk-parallel-item {display: flex;flex-direction: column;z-index: 1;position: relative;background-color: white;}#sk-container-id-16 div.sk-parallel-item:first-child::after {align-self: flex-end;width: 50%;}#sk-container-id-16 div.sk-parallel-item:last-child::after {align-self: flex-start;width: 50%;}#sk-container-id-16 div.sk-parallel-item:only-child::after {width: 0;}#sk-container-id-16 div.sk-dashed-wrapped {border: 1px dashed gray;margin: 0 0.4em 0.5em 0.4em;box-sizing: border-box;padding-bottom: 0.4em;background-color: white;}#sk-container-id-16 div.sk-label label {font-family: monospace;font-weight: bold;display: inline-block;line-height: 1.2em;}#sk-container-id-16 div.sk-label-container {text-align: center;}#sk-container-id-16 div.sk-container {/* jupyter's `normalize.less` sets `[hidden] { display: none; }` but bootstrap.min.css set `[hidden] { display: none !important; }` so we also need the `!important` here to be able to override the default hidden behavior on the sphinx rendered scikit-learn.org. See: https://github.com/scikit-learn/scikit-learn/issues/21755 */display: inline-block !important;position: relative;}#sk-container-id-16 div.sk-text-repr-fallback {display: none;}</style><div id=\"sk-container-id-16\" class=\"sk-top-container\"><div class=\"sk-text-repr-fallback\"><pre>SVC(C=1, gamma=4)</pre><b>In a Jupyter environment, please rerun this cell to show the HTML representation or trust the notebook. <br />On GitHub, the HTML representation is unable to render, please try loading this page with nbviewer.org.</b></div><div class=\"sk-container\" hidden><div class=\"sk-item\"><div class=\"sk-estimator sk-toggleable\"><input class=\"sk-toggleable__control sk-hidden--visually\" id=\"sk-estimator-id-26\" type=\"checkbox\" checked><label for=\"sk-estimator-id-26\" class=\"sk-toggleable__label sk-toggleable__label-arrow\">SVC</label><div class=\"sk-toggleable__content\"><pre>SVC(C=1, gamma=4)</pre></div></div></div></div></div>"
      ],
      "text/plain": [
       "SVC(C=1, gamma=4)"
      ]
     },
     "execution_count": 133,
     "metadata": {},
     "output_type": "execute_result"
    }
   ],
   "source": [
    "model_svc = SVC(kernel='rbf', gamma=4, C=1)\n",
    "model_svc.fit(X_train_preprocessed_df, y_train) "
   ]
  },
  {
   "cell_type": "code",
   "execution_count": 134,
   "id": "5b869fed",
   "metadata": {},
   "outputs": [],
   "source": [
    "y_pred_svc = model_svc.predict(X_test_preprocessed_df)"
   ]
  },
  {
   "cell_type": "code",
   "execution_count": 142,
   "id": "e113cfa3",
   "metadata": {
    "scrolled": false
   },
   "outputs": [
    {
     "name": "stdout",
     "output_type": "stream",
     "text": [
      "Precision :  0.7459926017262639\n",
      "Recall :  0.7459926017262639\n",
      "Accuracy :  0.7459926017262639\n",
      "F1 Score :  0.7459926017262638\n",
      "\n",
      " [[  4 198]\n",
      " [  8 601]]\n",
      "\n",
      "\n",
      "******************************************************\n",
      "                Classification Report\n",
      "******************************************************\n",
      "              precision    recall  f1-score   support\n",
      "\n",
      "         0.0       0.33      0.02      0.04       202\n",
      "         1.0       0.75      0.99      0.85       609\n",
      "\n",
      "    accuracy                           0.75       811\n",
      "   macro avg       0.54      0.50      0.45       811\n",
      "weighted avg       0.65      0.75      0.65       811\n",
      "\n",
      "******************************************************\n",
      "\n"
     ]
    },
    {
     "data": {
      "image/png": "[encoded data removed]",
      "text/plain": [
       "<Figure size 640x480 with 2 Axes>"
      ]
     },
     "metadata": {},
     "output_type": "display_data"
    }
   ],
   "source": [
    "perform(y_test, y_pred_svc)"
   ]
  },
  {
   "cell_type": "code",
   "execution_count": null,
   "id": "865cb4cf",
   "metadata": {},
   "outputs": [],
   "source": []
  }
 ],
 "metadata": {
  "kernelspec": {
   "display_name": "Python 3 (ipykernel)",
   "language": "python",
   "name": "python3"
  },
  "language_info": {
   "codemirror_mode": {
    "name": "ipython",
    "version": 3
   },
   "file_extension": ".py",
   "mimetype": "text/x-python",
   "name": "python",
   "nbconvert_exporter": "python",
   "pygments_lexer": "ipython3",
   "version": "3.10.6"
  },
  "toc": {
   "base_numbering": 1,
   "nav_menu": {},
   "number_sections": true,
   "sideBar": true,
   "skip_h1_title": false,
   "title_cell": "Table of Contents",
   "title_sidebar": "Contents",
   "toc_cell": false,
   "toc_position": {},
   "toc_section_display": true,
   "toc_window_display": false
  }
 },
 "nbformat": 4,
 "nbformat_minor": 5
}
