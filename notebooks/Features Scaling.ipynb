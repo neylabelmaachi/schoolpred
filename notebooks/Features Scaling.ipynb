{
 "cells": [
  {
   "cell_type": "code",
   "execution_count": 1,
   "id": "1dacf494",
   "metadata": {},
   "outputs": [],
   "source": [
    "import numpy as np\n",
    "import pandas as pd\n",
    "import matplotlib.pyplot as plt\n",
    "import seaborn as sns\n",
    "import sklearn "
   ]
  },
  {
   "cell_type": "code",
   "execution_count": 72,
   "id": "12ff3884",
   "metadata": {},
   "outputs": [],
   "source": [
    "data = pd.read_csv(\"../raw_data/final_file.csv\",low_memory=False)"
   ]
  },
  {
   "cell_type": "code",
   "execution_count": 73,
   "id": "a5c7a7f6",
   "metadata": {},
   "outputs": [],
   "source": [
    "X = data.drop(\"Age abandoned school\", axis=1)"
   ]
  },
  {
   "cell_type": "code",
   "execution_count": 74,
   "id": "6c8673a2",
   "metadata": {},
   "outputs": [],
   "source": [
    "y = data[\"Age abandoned school\"]"
   ]
  },
  {
   "cell_type": "code",
   "execution_count": 75,
   "id": "4131f912",
   "metadata": {
    "scrolled": true
   },
   "outputs": [
    {
     "data": {
      "text/html": [
       "<div>\n",
       "<style scoped>\n",
       "    .dataframe tbody tr th:only-of-type {\n",
       "        vertical-align: middle;\n",
       "    }\n",
       "\n",
       "    .dataframe tbody tr th {\n",
       "        vertical-align: top;\n",
       "    }\n",
       "\n",
       "    .dataframe thead th {\n",
       "        text-align: right;\n",
       "    }\n",
       "</style>\n",
       "<table border=\"1\" class=\"dataframe\">\n",
       "  <thead>\n",
       "    <tr style=\"text-align: right;\">\n",
       "      <th></th>\n",
       "      <th>Unnamed: 0</th>\n",
       "      <th>hhid</th>\n",
       "      <th>Gender</th>\n",
       "      <th>Mother still living</th>\n",
       "      <th>Father still living</th>\n",
       "      <th>Age, in years</th>\n",
       "      <th>Marital Status</th>\n",
       "      <th>darija</th>\n",
       "      <th>class_arabic</th>\n",
       "      <th>french</th>\n",
       "      <th>...</th>\n",
       "      <th>province</th>\n",
       "      <th>schoolunitid</th>\n",
       "      <th>type_unit</th>\n",
       "      <th>groupid</th>\n",
       "      <th>num_menage</th>\n",
       "      <th>done_test</th>\n",
       "      <th>digit_recognition_res</th>\n",
       "      <th>number_recognition_res</th>\n",
       "      <th>subtraction_res</th>\n",
       "      <th>division_res</th>\n",
       "    </tr>\n",
       "  </thead>\n",
       "  <tbody>\n",
       "    <tr>\n",
       "      <th>0</th>\n",
       "      <td>0</td>\n",
       "      <td>A208004</td>\n",
       "      <td>1.0</td>\n",
       "      <td>1.0</td>\n",
       "      <td>1.0</td>\n",
       "      <td>35.0</td>\n",
       "      <td>1.0</td>\n",
       "      <td>1.0</td>\n",
       "      <td>2.0</td>\n",
       "      <td>2.0</td>\n",
       "      <td>...</td>\n",
       "      <td>Essaouira</td>\n",
       "      <td>A208</td>\n",
       "      <td>Secteur Scolaire Centre</td>\n",
       "      <td>2</td>\n",
       "      <td>4</td>\n",
       "      <td>1.0</td>\n",
       "      <td>1.0</td>\n",
       "      <td>2.0</td>\n",
       "      <td>2.0</td>\n",
       "      <td>2.0</td>\n",
       "    </tr>\n",
       "    <tr>\n",
       "      <th>1</th>\n",
       "      <td>1</td>\n",
       "      <td>A426002</td>\n",
       "      <td>1.0</td>\n",
       "      <td>1.0</td>\n",
       "      <td>2.0</td>\n",
       "      <td>33.0</td>\n",
       "      <td>1.0</td>\n",
       "      <td>1.0</td>\n",
       "      <td>2.0</td>\n",
       "      <td>2.0</td>\n",
       "      <td>...</td>\n",
       "      <td>Essaouira</td>\n",
       "      <td>A426</td>\n",
       "      <td>Secteur Scolaire Centre</td>\n",
       "      <td>4</td>\n",
       "      <td>2</td>\n",
       "      <td>2.0</td>\n",
       "      <td>NaN</td>\n",
       "      <td>NaN</td>\n",
       "      <td>NaN</td>\n",
       "      <td>NaN</td>\n",
       "    </tr>\n",
       "    <tr>\n",
       "      <th>2</th>\n",
       "      <td>2</td>\n",
       "      <td>A268006</td>\n",
       "      <td>1.0</td>\n",
       "      <td>1.0</td>\n",
       "      <td>1.0</td>\n",
       "      <td>31.0</td>\n",
       "      <td>1.0</td>\n",
       "      <td>1.0</td>\n",
       "      <td>2.0</td>\n",
       "      <td>2.0</td>\n",
       "      <td>...</td>\n",
       "      <td>Chichaoua</td>\n",
       "      <td>A268</td>\n",
       "      <td>Satellite</td>\n",
       "      <td>1</td>\n",
       "      <td>6</td>\n",
       "      <td>1.0</td>\n",
       "      <td>1.0</td>\n",
       "      <td>1.0</td>\n",
       "      <td>2.0</td>\n",
       "      <td>2.0</td>\n",
       "    </tr>\n",
       "    <tr>\n",
       "      <th>3</th>\n",
       "      <td>3</td>\n",
       "      <td>A419004</td>\n",
       "      <td>1.0</td>\n",
       "      <td>2.0</td>\n",
       "      <td>2.0</td>\n",
       "      <td>62.0</td>\n",
       "      <td>1.0</td>\n",
       "      <td>1.0</td>\n",
       "      <td>2.0</td>\n",
       "      <td>2.0</td>\n",
       "      <td>...</td>\n",
       "      <td>Taroudant</td>\n",
       "      <td>A419</td>\n",
       "      <td>Secteur Scolaire Centre</td>\n",
       "      <td>2</td>\n",
       "      <td>4</td>\n",
       "      <td>2.0</td>\n",
       "      <td>NaN</td>\n",
       "      <td>NaN</td>\n",
       "      <td>NaN</td>\n",
       "      <td>NaN</td>\n",
       "    </tr>\n",
       "    <tr>\n",
       "      <th>4</th>\n",
       "      <td>4</td>\n",
       "      <td>A536006</td>\n",
       "      <td>1.0</td>\n",
       "      <td>2.0</td>\n",
       "      <td>1.0</td>\n",
       "      <td>36.0</td>\n",
       "      <td>1.0</td>\n",
       "      <td>1.0</td>\n",
       "      <td>1.0</td>\n",
       "      <td>2.0</td>\n",
       "      <td>...</td>\n",
       "      <td>Essaouira</td>\n",
       "      <td>A536</td>\n",
       "      <td>Satellite</td>\n",
       "      <td>1</td>\n",
       "      <td>6</td>\n",
       "      <td>1.0</td>\n",
       "      <td>1.0</td>\n",
       "      <td>1.0</td>\n",
       "      <td>1.0</td>\n",
       "      <td>2.0</td>\n",
       "    </tr>\n",
       "  </tbody>\n",
       "</table>\n",
       "<p>5 rows × 38 columns</p>\n",
       "</div>"
      ],
      "text/plain": [
       "   Unnamed: 0     hhid  Gender  Mother still living  Father still living  \\\n",
       "0           0  A208004     1.0                  1.0                  1.0   \n",
       "1           1  A426002     1.0                  1.0                  2.0   \n",
       "2           2  A268006     1.0                  1.0                  1.0   \n",
       "3           3  A419004     1.0                  2.0                  2.0   \n",
       "4           4  A536006     1.0                  2.0                  1.0   \n",
       "\n",
       "   Age, in years  Marital Status  darija  class_arabic  french  ...  \\\n",
       "0           35.0             1.0     1.0           2.0     2.0  ...   \n",
       "1           33.0             1.0     1.0           2.0     2.0  ...   \n",
       "2           31.0             1.0     1.0           2.0     2.0  ...   \n",
       "3           62.0             1.0     1.0           2.0     2.0  ...   \n",
       "4           36.0             1.0     1.0           1.0     2.0  ...   \n",
       "\n",
       "    province  schoolunitid                type_unit  groupid  num_menage  \\\n",
       "0  Essaouira          A208  Secteur Scolaire Centre        2           4   \n",
       "1  Essaouira          A426  Secteur Scolaire Centre        4           2   \n",
       "2  Chichaoua          A268                Satellite        1           6   \n",
       "3  Taroudant          A419  Secteur Scolaire Centre        2           4   \n",
       "4  Essaouira          A536                Satellite        1           6   \n",
       "\n",
       "   done_test  digit_recognition_res  number_recognition_res  subtraction_res  \\\n",
       "0        1.0                    1.0                     2.0              2.0   \n",
       "1        2.0                    NaN                     NaN              NaN   \n",
       "2        1.0                    1.0                     1.0              2.0   \n",
       "3        2.0                    NaN                     NaN              NaN   \n",
       "4        1.0                    1.0                     1.0              1.0   \n",
       "\n",
       "   division_res  \n",
       "0           2.0  \n",
       "1           NaN  \n",
       "2           2.0  \n",
       "3           NaN  \n",
       "4           2.0  \n",
       "\n",
       "[5 rows x 38 columns]"
      ]
     },
     "execution_count": 75,
     "metadata": {},
     "output_type": "execute_result"
    }
   ],
   "source": [
    "X.head()"
   ]
  },
  {
   "cell_type": "code",
   "execution_count": 76,
   "id": "344d96f5",
   "metadata": {
    "scrolled": true
   },
   "outputs": [],
   "source": [
    "X = X.rename(columns={'Member knows to read in at least one language':'read_one_lang',\n",
    "                    'Number of persons living in house':'num_per_house',\n",
    "                    'Type of housing':'type_housing',\n",
    "                     'Age, in years':'parents_age',\n",
    "                     'Mother still living':'mother_alive',\n",
    "                     'Father still living':'father_alive',\n",
    "                     'Marital Status':'marital_status'})"
   ]
  },
  {
   "cell_type": "code",
   "execution_count": 77,
   "id": "a00b341d",
   "metadata": {},
   "outputs": [
    {
     "data": {
      "text/plain": [
       "Index(['Unnamed: 0', 'hhid', 'Gender', 'mother_alive', 'father_alive',\n",
       "       'parents_age', 'marital_status', 'darija', 'class_arabic', 'french',\n",
       "       'amazygh', 'read_one_lang', 'write_one_lang', 'no_read_write',\n",
       "       'parents_level_ed', 'work_activity', 'num_per_house', 'type_housing',\n",
       "       'automobiles', 'mobile_phones', 'satellite', 'no_water',\n",
       "       'individual_water_net', 'electrical_net_co', 'school_id',\n",
       "       'child_enrollment', 'class_when_dropout', 'region', 'province',\n",
       "       'schoolunitid', 'type_unit', 'groupid', 'num_menage', 'done_test',\n",
       "       'digit_recognition_res', 'number_recognition_res', 'subtraction_res',\n",
       "       'division_res'],\n",
       "      dtype='object')"
      ]
     },
     "execution_count": 77,
     "metadata": {},
     "output_type": "execute_result"
    }
   ],
   "source": [
    "X.columns"
   ]
  },
  {
   "cell_type": "code",
   "execution_count": 6,
   "id": "ec9bd1e5",
   "metadata": {
    "scrolled": true
   },
   "outputs": [
    {
     "data": {
      "text/plain": [
       "subtraction_res           0.268190\n",
       "number_recognition_res    0.264197\n",
       "digit_recognition_res     0.263310\n",
       "division_res              0.261757\n",
       "read_one_lang             0.041925\n",
       "no_read_write             0.039264\n",
       "write_one_lang            0.039264\n",
       "work_activity             0.035714\n",
       "father_alive              0.030612\n",
       "marital_status            0.029281\n",
       "dtype: float64"
      ]
     },
     "execution_count": 6,
     "metadata": {},
     "output_type": "execute_result"
    }
   ],
   "source": [
    "X.isna().sum().sort_values(ascending = False).head(10)/len(X)"
   ]
  },
  {
   "cell_type": "markdown",
   "id": "513650fd",
   "metadata": {},
   "source": [
    "## Imputer"
   ]
  },
  {
   "cell_type": "code",
   "execution_count": 7,
   "id": "389a4149",
   "metadata": {},
   "outputs": [],
   "source": [
    "from sklearn.impute import SimpleImputer\n",
    "\n",
    "imputer = SimpleImputer(strategy=\"mean\") \n",
    "imputer.fit(X[['read_one_lang','no_read_write','write_one_lang','father_alive', 'mother_alive',\"darija\",\"class_arabic\",'french','amazygh']]) \n",
    "X[['read_one_lang','no_read_write','write_one_lang','father_alive', 'mother_alive',\"darija\",\"class_arabic\",'french','amazygh']] = imputer.transform(X[['read_one_lang','no_read_write','write_one_lang','father_alive', 'mother_alive',\"darija\",\"class_arabic\",'french','amazygh']])\n"
   ]
  },
  {
   "cell_type": "code",
   "execution_count": 8,
   "id": "12681668",
   "metadata": {},
   "outputs": [
    {
     "data": {
      "text/plain": [
       "subtraction_res           0.268190\n",
       "number_recognition_res    0.264197\n",
       "digit_recognition_res     0.263310\n",
       "division_res              0.261757\n",
       "work_activity             0.035714\n",
       "marital_status            0.029281\n",
       "parents_level_ed          0.026176\n",
       "parents_age               0.021961\n",
       "automobiles               0.010648\n",
       "satellite                 0.007764\n",
       "dtype: float64"
      ]
     },
     "execution_count": 8,
     "metadata": {},
     "output_type": "execute_result"
    }
   ],
   "source": [
    "X.isna().sum().sort_values(ascending = False).head(10)/len(X)"
   ]
  },
  {
   "cell_type": "markdown",
   "id": "eb58ce67",
   "metadata": {},
   "source": [
    "## Dropping missing values (Marital Status)"
   ]
  },
  {
   "cell_type": "code",
   "execution_count": 10,
   "id": "a415244e",
   "metadata": {},
   "outputs": [
    {
     "data": {
      "text/plain": [
       "1.0    4278\n",
       "NaN     132\n",
       "4.0      80\n",
       "3.0      12\n",
       "2.0       6\n",
       "Name: marital_status, dtype: int64"
      ]
     },
     "execution_count": 10,
     "metadata": {},
     "output_type": "execute_result"
    }
   ],
   "source": [
    "X[\"marital_status\"].value_counts(dropna=False)"
   ]
  },
  {
   "cell_type": "code",
   "execution_count": 48,
   "id": "b285cb84",
   "metadata": {},
   "outputs": [],
   "source": [
    "X['marital_status'].replace('NaN', np.nan, inplace=True)\n",
    "X['marital_status'].dropna(inplace=True)"
   ]
  },
  {
   "cell_type": "code",
   "execution_count": 49,
   "id": "b7c8b6e5",
   "metadata": {
    "scrolled": false
   },
   "outputs": [
    {
     "data": {
      "text/plain": [
       "1.0    4278\n",
       "NaN     132\n",
       "4.0      80\n",
       "3.0      12\n",
       "2.0       6\n",
       "Name: marital_status, dtype: int64"
      ]
     },
     "execution_count": 49,
     "metadata": {},
     "output_type": "execute_result"
    }
   ],
   "source": [
    "X[\"marital_status\"].value_counts(dropna=False)"
   ]
  },
  {
   "cell_type": "code",
   "execution_count": 55,
   "id": "a9b8e87d",
   "metadata": {},
   "outputs": [],
   "source": [
    "X['marital_status'] = pd.to_numeric(X['marital_status'],errors='coerce')"
   ]
  },
  {
   "cell_type": "code",
   "execution_count": 57,
   "id": "56e4a1e2",
   "metadata": {},
   "outputs": [],
   "source": [
    "X = X.dropna(subset = ['marital_status'])"
   ]
  },
  {
   "cell_type": "code",
   "execution_count": 58,
   "id": "d19e5854",
   "metadata": {
    "scrolled": true
   },
   "outputs": [
    {
     "data": {
      "text/plain": [
       "1.0    4278\n",
       "4.0      80\n",
       "3.0      12\n",
       "2.0       6\n",
       "Name: marital_status, dtype: int64"
      ]
     },
     "execution_count": 58,
     "metadata": {},
     "output_type": "execute_result"
    }
   ],
   "source": [
    "X[\"marital_status\"].value_counts(dropna=False)"
   ]
  },
  {
   "cell_type": "code",
   "execution_count": 59,
   "id": "b7e6ea64",
   "metadata": {
    "scrolled": true
   },
   "outputs": [
    {
     "data": {
      "text/plain": [
       "subtraction_res           0.266453\n",
       "number_recognition_res    0.262340\n",
       "digit_recognition_res     0.261426\n",
       "division_res              0.259826\n",
       "work_activity             0.020338\n",
       "automobiles               0.009598\n",
       "parents_level_ed          0.009369\n",
       "parents_age               0.009141\n",
       "satellite                 0.007084\n",
       "mobile_phones             0.006856\n",
       "dtype: float64"
      ]
     },
     "execution_count": 59,
     "metadata": {},
     "output_type": "execute_result"
    }
   ],
   "source": [
    "X.isna().sum().sort_values(ascending = False).head(10)/len(X)"
   ]
  },
  {
   "cell_type": "code",
   "execution_count": 64,
   "id": "0e19bb60",
   "metadata": {},
   "outputs": [
    {
     "data": {
      "text/plain": [
       "2.0    1788\n",
       "1.0    1422\n",
       "NaN    1166\n",
       "Name: subtraction_res, dtype: int64"
      ]
     },
     "execution_count": 64,
     "metadata": {},
     "output_type": "execute_result"
    }
   ],
   "source": [
    "X[\"subtraction_res\"].value_counts(dropna=False)"
   ]
  },
  {
   "cell_type": "code",
   "execution_count": 66,
   "id": "3f954efe",
   "metadata": {},
   "outputs": [
    {
     "data": {
      "text/plain": [
       "3.0    1630\n",
       "1.0    1438\n",
       "2.0     853\n",
       "4.0     414\n",
       "NaN      25\n",
       "5.0      16\n",
       "Name: type_housing, dtype: int64"
      ]
     },
     "execution_count": 66,
     "metadata": {},
     "output_type": "execute_result"
    }
   ],
   "source": [
    "X[\"type_housing\"].value_counts(dropna=False)"
   ]
  },
  {
   "cell_type": "code",
   "execution_count": 67,
   "id": "a12809cf",
   "metadata": {},
   "outputs": [
    {
     "data": {
      "text/plain": [
       "6.0     986\n",
       "7.0     883\n",
       "5.0     763\n",
       "8.0     597\n",
       "9.0     366\n",
       "4.0     340\n",
       "10.0    170\n",
       "11.0    109\n",
       "3.0      60\n",
       "1.0      17\n",
       "12.0     16\n",
       "NaN      14\n",
       "14.0     13\n",
       "13.0     10\n",
       "15.0      7\n",
       "2.0       6\n",
       "18.0      5\n",
       "17.0      4\n",
       "16.0      3\n",
       "21.0      2\n",
       "24.0      2\n",
       "0.0       1\n",
       "22.0      1\n",
       "19.0      1\n",
       "Name: num_per_house, dtype: int64"
      ]
     },
     "execution_count": 67,
     "metadata": {},
     "output_type": "execute_result"
    }
   ],
   "source": [
    "X[\"num_per_house\"].value_counts(dropna=False)"
   ]
  },
  {
   "cell_type": "code",
   "execution_count": 68,
   "id": "dc9c1080",
   "metadata": {},
   "outputs": [
    {
     "data": {
      "text/plain": [
       "2.0    4143\n",
       "1.0     191\n",
       "NaN      42\n",
       "Name: automobiles, dtype: int64"
      ]
     },
     "execution_count": 68,
     "metadata": {},
     "output_type": "execute_result"
    }
   ],
   "source": [
    "X[\"automobiles\"].value_counts(dropna=False)"
   ]
  }
 ],
 "metadata": {
  "kernelspec": {
   "display_name": "Python 3 (ipykernel)",
   "language": "python",
   "name": "python3"
  },
  "language_info": {
   "codemirror_mode": {
    "name": "ipython",
    "version": 3
   },
   "file_extension": ".py",
   "mimetype": "text/x-python",
   "name": "python",
   "nbconvert_exporter": "python",
   "pygments_lexer": "ipython3",
   "version": "3.10.6"
  },
  "toc": {
   "base_numbering": 1,
   "nav_menu": {},
   "number_sections": true,
   "sideBar": true,
   "skip_h1_title": false,
   "title_cell": "Table of Contents",
   "title_sidebar": "Contents",
   "toc_cell": false,
   "toc_position": {},
   "toc_section_display": true,
   "toc_window_display": false
  }
 },
 "nbformat": 4,
 "nbformat_minor": 5
}
