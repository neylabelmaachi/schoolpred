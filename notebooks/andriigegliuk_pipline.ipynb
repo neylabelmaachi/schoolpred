{
 "cells": [
  {
   "cell_type": "code",
   "execution_count": 1,
   "metadata": {},
   "outputs": [],
   "source": [
    "import pandas as pd\n",
    "import numpy as np\n",
    "import matplotlib.pyplot as plt\n",
    "import seaborn as sns\n",
    "\n",
    "# Importing all necessary scaling and machine learning\n",
    "from sklearn.model_selection import cross_validate\n",
    "from sklearn.compose import make_column_transformer\n",
    "from sklearn.pipeline import make_pipeline\n",
    "from sklearn.impute import SimpleImputer\n",
    "from sklearn.preprocessing import OneHotEncoder, MinMaxScaler\n",
    "from sklearn.model_selection import cross_val_score\n",
    "from sklearn.pipeline import FeatureUnion\n",
    "from sklearn.compose import ColumnTransformer\n",
    "from sklearn.pipeline import Pipeline\n",
    "from sklearn.model_selection import GridSearchCV\n",
    "\n",
    "pd.set_option('display.max_rows', 500)\n",
    "pd.set_option('display.max_columns', 500)\n",
    "pd.set_option('display.width', 1000)\n",
    "\n",
    "\n",
    "\n",
    "# SKLEARN\n",
    "from sklearn.preprocessing import LabelEncoder, StandardScaler, MinMaxScaler, RobustScaler\n",
    "from sklearn.neighbors import KNeighborsClassifier\n",
    "from sklearn.model_selection import train_test_split\n",
    "from sklearn.naive_bayes import GaussianNB\n",
    "from sklearn.linear_model import LogisticRegression\n",
    "from sklearn.ensemble import RandomForestClassifier\n",
    "from xgboost import XGBClassifier\n",
    "from sklearn.svm import SVC\n",
    "from sklearn.neural_network import MLPClassifier\n",
    "from sklearn.metrics import precision_score, recall_score, accuracy_score, f1_score, classification_report, confusion_matrix, ConfusionMatrixDisplay, PrecisionRecallDisplay, RocCurveDisplay"
   ]
  },
  {
   "cell_type": "code",
   "execution_count": 2,
   "metadata": {},
   "outputs": [
    {
     "data": {
      "text/html": [
       "<div>\n",
       "<style scoped>\n",
       "    .dataframe tbody tr th:only-of-type {\n",
       "        vertical-align: middle;\n",
       "    }\n",
       "\n",
       "    .dataframe tbody tr th {\n",
       "        vertical-align: top;\n",
       "    }\n",
       "\n",
       "    .dataframe thead th {\n",
       "        text-align: right;\n",
       "    }\n",
       "</style>\n",
       "<table border=\"1\" class=\"dataframe\">\n",
       "  <thead>\n",
       "    <tr style=\"text-align: right;\">\n",
       "      <th></th>\n",
       "      <th>hhid</th>\n",
       "      <th>Gender</th>\n",
       "      <th>mother_alive</th>\n",
       "      <th>father_alive</th>\n",
       "      <th>parents_age</th>\n",
       "      <th>marital_status</th>\n",
       "      <th>darija</th>\n",
       "      <th>class_arabic</th>\n",
       "      <th>french</th>\n",
       "      <th>amazygh</th>\n",
       "      <th>read_one_lang</th>\n",
       "      <th>write_one_lang</th>\n",
       "      <th>no_read_write</th>\n",
       "      <th>parents_level_ed</th>\n",
       "      <th>num_per_house</th>\n",
       "      <th>type_housing</th>\n",
       "      <th>automobiles</th>\n",
       "      <th>mobile_phones</th>\n",
       "      <th>satellite</th>\n",
       "      <th>no_water</th>\n",
       "      <th>individual_water_net</th>\n",
       "      <th>electrical_net_co</th>\n",
       "      <th>region</th>\n",
       "      <th>province</th>\n",
       "      <th>Age abandoned school</th>\n",
       "      <th>done_test</th>\n",
       "      <th>work_activity_classified</th>\n",
       "    </tr>\n",
       "  </thead>\n",
       "  <tbody>\n",
       "    <tr>\n",
       "      <th>0</th>\n",
       "      <td>A208004</td>\n",
       "      <td>1.0</td>\n",
       "      <td>1.0</td>\n",
       "      <td>1.0</td>\n",
       "      <td>35.0</td>\n",
       "      <td>1.0</td>\n",
       "      <td>1.0</td>\n",
       "      <td>2.0</td>\n",
       "      <td>2.0</td>\n",
       "      <td>2.0</td>\n",
       "      <td>1.0</td>\n",
       "      <td>2.0</td>\n",
       "      <td>1.0</td>\n",
       "      <td>1.0</td>\n",
       "      <td>5.0</td>\n",
       "      <td>3.0</td>\n",
       "      <td>2.0</td>\n",
       "      <td>1.0</td>\n",
       "      <td>1.0</td>\n",
       "      <td>2</td>\n",
       "      <td>2</td>\n",
       "      <td>1</td>\n",
       "      <td>Marrakech - Tensift - Al Haouz</td>\n",
       "      <td>Essaouira</td>\n",
       "      <td>1.0</td>\n",
       "      <td>1.0</td>\n",
       "      <td>1.0</td>\n",
       "    </tr>\n",
       "    <tr>\n",
       "      <th>1</th>\n",
       "      <td>A426002</td>\n",
       "      <td>1.0</td>\n",
       "      <td>1.0</td>\n",
       "      <td>2.0</td>\n",
       "      <td>33.0</td>\n",
       "      <td>1.0</td>\n",
       "      <td>1.0</td>\n",
       "      <td>2.0</td>\n",
       "      <td>2.0</td>\n",
       "      <td>1.0</td>\n",
       "      <td>2.0</td>\n",
       "      <td>2.0</td>\n",
       "      <td>1.0</td>\n",
       "      <td>1.0</td>\n",
       "      <td>5.0</td>\n",
       "      <td>3.0</td>\n",
       "      <td>2.0</td>\n",
       "      <td>1.0</td>\n",
       "      <td>2.0</td>\n",
       "      <td>2</td>\n",
       "      <td>2</td>\n",
       "      <td>1</td>\n",
       "      <td>Marrakech - Tensift - Al Haouz</td>\n",
       "      <td>Essaouira</td>\n",
       "      <td>1.0</td>\n",
       "      <td>2.0</td>\n",
       "      <td>0.0</td>\n",
       "    </tr>\n",
       "    <tr>\n",
       "      <th>2</th>\n",
       "      <td>A268006</td>\n",
       "      <td>1.0</td>\n",
       "      <td>1.0</td>\n",
       "      <td>1.0</td>\n",
       "      <td>31.0</td>\n",
       "      <td>1.0</td>\n",
       "      <td>1.0</td>\n",
       "      <td>2.0</td>\n",
       "      <td>2.0</td>\n",
       "      <td>1.0</td>\n",
       "      <td>1.0</td>\n",
       "      <td>1.0</td>\n",
       "      <td>2.0</td>\n",
       "      <td>3.0</td>\n",
       "      <td>7.0</td>\n",
       "      <td>2.0</td>\n",
       "      <td>2.0</td>\n",
       "      <td>1.0</td>\n",
       "      <td>2.0</td>\n",
       "      <td>2</td>\n",
       "      <td>2</td>\n",
       "      <td>2</td>\n",
       "      <td>Marrakech - Tensift - Al Haouz</td>\n",
       "      <td>Chichaoua</td>\n",
       "      <td>1.0</td>\n",
       "      <td>1.0</td>\n",
       "      <td>0.0</td>\n",
       "    </tr>\n",
       "    <tr>\n",
       "      <th>3</th>\n",
       "      <td>A419004</td>\n",
       "      <td>1.0</td>\n",
       "      <td>2.0</td>\n",
       "      <td>2.0</td>\n",
       "      <td>62.0</td>\n",
       "      <td>1.0</td>\n",
       "      <td>1.0</td>\n",
       "      <td>2.0</td>\n",
       "      <td>2.0</td>\n",
       "      <td>1.0</td>\n",
       "      <td>1.0</td>\n",
       "      <td>1.0</td>\n",
       "      <td>2.0</td>\n",
       "      <td>2.0</td>\n",
       "      <td>6.0</td>\n",
       "      <td>1.0</td>\n",
       "      <td>2.0</td>\n",
       "      <td>1.0</td>\n",
       "      <td>1.0</td>\n",
       "      <td>2</td>\n",
       "      <td>2</td>\n",
       "      <td>1</td>\n",
       "      <td>Sous - Massa - Draa</td>\n",
       "      <td>Taroudant</td>\n",
       "      <td>1.0</td>\n",
       "      <td>2.0</td>\n",
       "      <td>0.0</td>\n",
       "    </tr>\n",
       "    <tr>\n",
       "      <th>4</th>\n",
       "      <td>A536006</td>\n",
       "      <td>1.0</td>\n",
       "      <td>2.0</td>\n",
       "      <td>1.0</td>\n",
       "      <td>36.0</td>\n",
       "      <td>1.0</td>\n",
       "      <td>1.0</td>\n",
       "      <td>1.0</td>\n",
       "      <td>2.0</td>\n",
       "      <td>1.0</td>\n",
       "      <td>1.0</td>\n",
       "      <td>1.0</td>\n",
       "      <td>2.0</td>\n",
       "      <td>2.0</td>\n",
       "      <td>4.0</td>\n",
       "      <td>3.0</td>\n",
       "      <td>2.0</td>\n",
       "      <td>1.0</td>\n",
       "      <td>2.0</td>\n",
       "      <td>2</td>\n",
       "      <td>2</td>\n",
       "      <td>2</td>\n",
       "      <td>Marrakech - Tensift - Al Haouz</td>\n",
       "      <td>Essaouira</td>\n",
       "      <td>1.0</td>\n",
       "      <td>1.0</td>\n",
       "      <td>1.0</td>\n",
       "    </tr>\n",
       "    <tr>\n",
       "      <th>...</th>\n",
       "      <td>...</td>\n",
       "      <td>...</td>\n",
       "      <td>...</td>\n",
       "      <td>...</td>\n",
       "      <td>...</td>\n",
       "      <td>...</td>\n",
       "      <td>...</td>\n",
       "      <td>...</td>\n",
       "      <td>...</td>\n",
       "      <td>...</td>\n",
       "      <td>...</td>\n",
       "      <td>...</td>\n",
       "      <td>...</td>\n",
       "      <td>...</td>\n",
       "      <td>...</td>\n",
       "      <td>...</td>\n",
       "      <td>...</td>\n",
       "      <td>...</td>\n",
       "      <td>...</td>\n",
       "      <td>...</td>\n",
       "      <td>...</td>\n",
       "      <td>...</td>\n",
       "      <td>...</td>\n",
       "      <td>...</td>\n",
       "      <td>...</td>\n",
       "      <td>...</td>\n",
       "      <td>...</td>\n",
       "    </tr>\n",
       "    <tr>\n",
       "      <th>4047</th>\n",
       "      <td>A618007</td>\n",
       "      <td>1.0</td>\n",
       "      <td>1.0</td>\n",
       "      <td>1.0</td>\n",
       "      <td>37.0</td>\n",
       "      <td>1.0</td>\n",
       "      <td>1.0</td>\n",
       "      <td>2.0</td>\n",
       "      <td>2.0</td>\n",
       "      <td>2.0</td>\n",
       "      <td>2.0</td>\n",
       "      <td>2.0</td>\n",
       "      <td>1.0</td>\n",
       "      <td>1.0</td>\n",
       "      <td>5.0</td>\n",
       "      <td>2.0</td>\n",
       "      <td>2.0</td>\n",
       "      <td>1.0</td>\n",
       "      <td>2.0</td>\n",
       "      <td>2</td>\n",
       "      <td>2</td>\n",
       "      <td>1</td>\n",
       "      <td>Marrakech - Tensift - Al Haouz</td>\n",
       "      <td>El Kelaa Des Sraghna</td>\n",
       "      <td>1.0</td>\n",
       "      <td>1.0</td>\n",
       "      <td>0.0</td>\n",
       "    </tr>\n",
       "    <tr>\n",
       "      <th>4048</th>\n",
       "      <td>A571001</td>\n",
       "      <td>1.0</td>\n",
       "      <td>1.0</td>\n",
       "      <td>1.0</td>\n",
       "      <td>37.0</td>\n",
       "      <td>1.0</td>\n",
       "      <td>1.0</td>\n",
       "      <td>1.0</td>\n",
       "      <td>2.0</td>\n",
       "      <td>2.0</td>\n",
       "      <td>1.0</td>\n",
       "      <td>1.0</td>\n",
       "      <td>2.0</td>\n",
       "      <td>3.0</td>\n",
       "      <td>7.0</td>\n",
       "      <td>3.0</td>\n",
       "      <td>2.0</td>\n",
       "      <td>2.0</td>\n",
       "      <td>2.0</td>\n",
       "      <td>2</td>\n",
       "      <td>2</td>\n",
       "      <td>2</td>\n",
       "      <td>Marrakech - Tensift - Al Haouz</td>\n",
       "      <td>El Kelaa Des Sraghna</td>\n",
       "      <td>1.0</td>\n",
       "      <td>1.0</td>\n",
       "      <td>0.0</td>\n",
       "    </tr>\n",
       "    <tr>\n",
       "      <th>4049</th>\n",
       "      <td>A359007</td>\n",
       "      <td>1.0</td>\n",
       "      <td>1.0</td>\n",
       "      <td>2.0</td>\n",
       "      <td>42.0</td>\n",
       "      <td>1.0</td>\n",
       "      <td>1.0</td>\n",
       "      <td>2.0</td>\n",
       "      <td>2.0</td>\n",
       "      <td>2.0</td>\n",
       "      <td>2.0</td>\n",
       "      <td>2.0</td>\n",
       "      <td>1.0</td>\n",
       "      <td>1.0</td>\n",
       "      <td>6.0</td>\n",
       "      <td>2.0</td>\n",
       "      <td>2.0</td>\n",
       "      <td>2.0</td>\n",
       "      <td>2.0</td>\n",
       "      <td>2</td>\n",
       "      <td>2</td>\n",
       "      <td>2</td>\n",
       "      <td>Marrakech - Tensift - Al Haouz</td>\n",
       "      <td>El Kelaa Des Sraghna</td>\n",
       "      <td>0.0</td>\n",
       "      <td>1.0</td>\n",
       "      <td>0.0</td>\n",
       "    </tr>\n",
       "    <tr>\n",
       "      <th>4050</th>\n",
       "      <td>A578003</td>\n",
       "      <td>1.0</td>\n",
       "      <td>2.0</td>\n",
       "      <td>1.0</td>\n",
       "      <td>50.0</td>\n",
       "      <td>1.0</td>\n",
       "      <td>1.0</td>\n",
       "      <td>2.0</td>\n",
       "      <td>2.0</td>\n",
       "      <td>2.0</td>\n",
       "      <td>2.0</td>\n",
       "      <td>2.0</td>\n",
       "      <td>1.0</td>\n",
       "      <td>1.0</td>\n",
       "      <td>10.0</td>\n",
       "      <td>1.0</td>\n",
       "      <td>2.0</td>\n",
       "      <td>2.0</td>\n",
       "      <td>2.0</td>\n",
       "      <td>2</td>\n",
       "      <td>2</td>\n",
       "      <td>2</td>\n",
       "      <td>Marrakech - Tensift - Al Haouz</td>\n",
       "      <td>El Kelaa Des Sraghna</td>\n",
       "      <td>0.0</td>\n",
       "      <td>1.0</td>\n",
       "      <td>0.0</td>\n",
       "    </tr>\n",
       "    <tr>\n",
       "      <th>4051</th>\n",
       "      <td>A535005</td>\n",
       "      <td>1.0</td>\n",
       "      <td>1.0</td>\n",
       "      <td>1.0</td>\n",
       "      <td>38.0</td>\n",
       "      <td>1.0</td>\n",
       "      <td>1.0</td>\n",
       "      <td>2.0</td>\n",
       "      <td>2.0</td>\n",
       "      <td>1.0</td>\n",
       "      <td>2.0</td>\n",
       "      <td>2.0</td>\n",
       "      <td>1.0</td>\n",
       "      <td>2.0</td>\n",
       "      <td>7.0</td>\n",
       "      <td>1.0</td>\n",
       "      <td>2.0</td>\n",
       "      <td>1.0</td>\n",
       "      <td>2.0</td>\n",
       "      <td>2</td>\n",
       "      <td>2</td>\n",
       "      <td>1</td>\n",
       "      <td>Marrakech - Tensift - Al Haouz</td>\n",
       "      <td>Chichaoua</td>\n",
       "      <td>1.0</td>\n",
       "      <td>1.0</td>\n",
       "      <td>1.0</td>\n",
       "    </tr>\n",
       "  </tbody>\n",
       "</table>\n",
       "<p>4052 rows × 27 columns</p>\n",
       "</div>"
      ],
      "text/plain": [
       "         hhid  Gender  mother_alive  father_alive  parents_age  marital_status  darija  class_arabic  french  amazygh  read_one_lang  write_one_lang  no_read_write  parents_level_ed  num_per_house  type_housing  automobiles  mobile_phones  satellite  no_water  individual_water_net  electrical_net_co                          region              province  Age abandoned school  done_test  work_activity_classified\n",
       "0     A208004     1.0           1.0           1.0         35.0             1.0     1.0           2.0     2.0      2.0            1.0             2.0            1.0               1.0            5.0           3.0          2.0            1.0        1.0         2                     2                  1  Marrakech - Tensift - Al Haouz             Essaouira                   1.0        1.0                       1.0\n",
       "1     A426002     1.0           1.0           2.0         33.0             1.0     1.0           2.0     2.0      1.0            2.0             2.0            1.0               1.0            5.0           3.0          2.0            1.0        2.0         2                     2                  1  Marrakech - Tensift - Al Haouz             Essaouira                   1.0        2.0                       0.0\n",
       "2     A268006     1.0           1.0           1.0         31.0             1.0     1.0           2.0     2.0      1.0            1.0             1.0            2.0               3.0            7.0           2.0          2.0            1.0        2.0         2                     2                  2  Marrakech - Tensift - Al Haouz             Chichaoua                   1.0        1.0                       0.0\n",
       "3     A419004     1.0           2.0           2.0         62.0             1.0     1.0           2.0     2.0      1.0            1.0             1.0            2.0               2.0            6.0           1.0          2.0            1.0        1.0         2                     2                  1             Sous - Massa - Draa             Taroudant                   1.0        2.0                       0.0\n",
       "4     A536006     1.0           2.0           1.0         36.0             1.0     1.0           1.0     2.0      1.0            1.0             1.0            2.0               2.0            4.0           3.0          2.0            1.0        2.0         2                     2                  2  Marrakech - Tensift - Al Haouz             Essaouira                   1.0        1.0                       1.0\n",
       "...       ...     ...           ...           ...          ...             ...     ...           ...     ...      ...            ...             ...            ...               ...            ...           ...          ...            ...        ...       ...                   ...                ...                             ...                   ...                   ...        ...                       ...\n",
       "4047  A618007     1.0           1.0           1.0         37.0             1.0     1.0           2.0     2.0      2.0            2.0             2.0            1.0               1.0            5.0           2.0          2.0            1.0        2.0         2                     2                  1  Marrakech - Tensift - Al Haouz  El Kelaa Des Sraghna                   1.0        1.0                       0.0\n",
       "4048  A571001     1.0           1.0           1.0         37.0             1.0     1.0           1.0     2.0      2.0            1.0             1.0            2.0               3.0            7.0           3.0          2.0            2.0        2.0         2                     2                  2  Marrakech - Tensift - Al Haouz  El Kelaa Des Sraghna                   1.0        1.0                       0.0\n",
       "4049  A359007     1.0           1.0           2.0         42.0             1.0     1.0           2.0     2.0      2.0            2.0             2.0            1.0               1.0            6.0           2.0          2.0            2.0        2.0         2                     2                  2  Marrakech - Tensift - Al Haouz  El Kelaa Des Sraghna                   0.0        1.0                       0.0\n",
       "4050  A578003     1.0           2.0           1.0         50.0             1.0     1.0           2.0     2.0      2.0            2.0             2.0            1.0               1.0           10.0           1.0          2.0            2.0        2.0         2                     2                  2  Marrakech - Tensift - Al Haouz  El Kelaa Des Sraghna                   0.0        1.0                       0.0\n",
       "4051  A535005     1.0           1.0           1.0         38.0             1.0     1.0           2.0     2.0      1.0            2.0             2.0            1.0               2.0            7.0           1.0          2.0            1.0        2.0         2                     2                  1  Marrakech - Tensift - Al Haouz             Chichaoua                   1.0        1.0                       1.0\n",
       "\n",
       "[4052 rows x 27 columns]"
      ]
     },
     "execution_count": 2,
     "metadata": {},
     "output_type": "execute_result"
    }
   ],
   "source": [
    "data = pd.read_csv('../raw_data/school_dropout_data.csv')\n",
    "data"
   ]
  },
  {
   "cell_type": "code",
   "execution_count": 3,
   "metadata": {},
   "outputs": [
    {
     "data": {
      "text/plain": [
       "0"
      ]
     },
     "execution_count": 3,
     "metadata": {},
     "output_type": "execute_result"
    }
   ],
   "source": [
    "data.duplicated().sum()"
   ]
  },
  {
   "cell_type": "code",
   "execution_count": 4,
   "metadata": {},
   "outputs": [
    {
     "data": {
      "text/html": [
       "<div>\n",
       "<style scoped>\n",
       "    .dataframe tbody tr th:only-of-type {\n",
       "        vertical-align: middle;\n",
       "    }\n",
       "\n",
       "    .dataframe tbody tr th {\n",
       "        vertical-align: top;\n",
       "    }\n",
       "\n",
       "    .dataframe thead th {\n",
       "        text-align: right;\n",
       "    }\n",
       "</style>\n",
       "<table border=\"1\" class=\"dataframe\">\n",
       "  <thead>\n",
       "    <tr style=\"text-align: right;\">\n",
       "      <th></th>\n",
       "      <th>Gender</th>\n",
       "      <th>mother_alive</th>\n",
       "      <th>father_alive</th>\n",
       "      <th>parents_age</th>\n",
       "      <th>marital_status</th>\n",
       "      <th>darija</th>\n",
       "      <th>class_arabic</th>\n",
       "      <th>french</th>\n",
       "      <th>amazygh</th>\n",
       "      <th>read_one_lang</th>\n",
       "      <th>write_one_lang</th>\n",
       "      <th>no_read_write</th>\n",
       "      <th>parents_level_ed</th>\n",
       "      <th>num_per_house</th>\n",
       "      <th>type_housing</th>\n",
       "      <th>automobiles</th>\n",
       "      <th>mobile_phones</th>\n",
       "      <th>satellite</th>\n",
       "      <th>no_water</th>\n",
       "      <th>individual_water_net</th>\n",
       "      <th>electrical_net_co</th>\n",
       "      <th>Age abandoned school</th>\n",
       "      <th>done_test</th>\n",
       "      <th>work_activity_classified</th>\n",
       "    </tr>\n",
       "  </thead>\n",
       "  <tbody>\n",
       "    <tr>\n",
       "      <th>count</th>\n",
       "      <td>4052.000000</td>\n",
       "      <td>4052.000000</td>\n",
       "      <td>4052.000000</td>\n",
       "      <td>4052.000000</td>\n",
       "      <td>4052.000000</td>\n",
       "      <td>4052.000000</td>\n",
       "      <td>4052.000000</td>\n",
       "      <td>4052.000000</td>\n",
       "      <td>4052.000000</td>\n",
       "      <td>4052.000000</td>\n",
       "      <td>4052.000000</td>\n",
       "      <td>4052.000000</td>\n",
       "      <td>4052.000000</td>\n",
       "      <td>4052.000000</td>\n",
       "      <td>4052.000000</td>\n",
       "      <td>4052.000000</td>\n",
       "      <td>4052.000000</td>\n",
       "      <td>4052.000000</td>\n",
       "      <td>4052.000000</td>\n",
       "      <td>4052.000000</td>\n",
       "      <td>4052.000000</td>\n",
       "      <td>4052.000000</td>\n",
       "      <td>4052.000000</td>\n",
       "      <td>4052.000000</td>\n",
       "    </tr>\n",
       "    <tr>\n",
       "      <th>mean</th>\n",
       "      <td>1.016535</td>\n",
       "      <td>1.416832</td>\n",
       "      <td>1.608379</td>\n",
       "      <td>45.735213</td>\n",
       "      <td>1.056515</td>\n",
       "      <td>1.165842</td>\n",
       "      <td>1.866089</td>\n",
       "      <td>1.974257</td>\n",
       "      <td>1.233168</td>\n",
       "      <td>1.729614</td>\n",
       "      <td>1.752014</td>\n",
       "      <td>1.271652</td>\n",
       "      <td>1.508391</td>\n",
       "      <td>6.731984</td>\n",
       "      <td>2.238401</td>\n",
       "      <td>1.955084</td>\n",
       "      <td>1.341066</td>\n",
       "      <td>1.685834</td>\n",
       "      <td>1.997285</td>\n",
       "      <td>1.834156</td>\n",
       "      <td>1.428677</td>\n",
       "      <td>0.747532</td>\n",
       "      <td>1.259131</td>\n",
       "      <td>0.537512</td>\n",
       "    </tr>\n",
       "    <tr>\n",
       "      <th>std</th>\n",
       "      <td>0.127537</td>\n",
       "      <td>0.491633</td>\n",
       "      <td>0.484181</td>\n",
       "      <td>9.528661</td>\n",
       "      <td>0.399351</td>\n",
       "      <td>0.371433</td>\n",
       "      <td>0.340094</td>\n",
       "      <td>0.158151</td>\n",
       "      <td>0.422274</td>\n",
       "      <td>0.439198</td>\n",
       "      <td>0.427612</td>\n",
       "      <td>0.440453</td>\n",
       "      <td>0.921602</td>\n",
       "      <td>1.996352</td>\n",
       "      <td>1.029760</td>\n",
       "      <td>0.207145</td>\n",
       "      <td>0.474126</td>\n",
       "      <td>0.464240</td>\n",
       "      <td>0.052039</td>\n",
       "      <td>0.371986</td>\n",
       "      <td>0.494948</td>\n",
       "      <td>0.434482</td>\n",
       "      <td>0.438212</td>\n",
       "      <td>0.681834</td>\n",
       "    </tr>\n",
       "    <tr>\n",
       "      <th>min</th>\n",
       "      <td>1.000000</td>\n",
       "      <td>1.000000</td>\n",
       "      <td>1.000000</td>\n",
       "      <td>22.000000</td>\n",
       "      <td>1.000000</td>\n",
       "      <td>1.000000</td>\n",
       "      <td>1.000000</td>\n",
       "      <td>1.000000</td>\n",
       "      <td>1.000000</td>\n",
       "      <td>1.000000</td>\n",
       "      <td>1.000000</td>\n",
       "      <td>1.000000</td>\n",
       "      <td>1.000000</td>\n",
       "      <td>0.000000</td>\n",
       "      <td>1.000000</td>\n",
       "      <td>1.000000</td>\n",
       "      <td>1.000000</td>\n",
       "      <td>1.000000</td>\n",
       "      <td>1.000000</td>\n",
       "      <td>1.000000</td>\n",
       "      <td>1.000000</td>\n",
       "      <td>0.000000</td>\n",
       "      <td>1.000000</td>\n",
       "      <td>0.000000</td>\n",
       "    </tr>\n",
       "    <tr>\n",
       "      <th>25%</th>\n",
       "      <td>1.000000</td>\n",
       "      <td>1.000000</td>\n",
       "      <td>1.000000</td>\n",
       "      <td>39.000000</td>\n",
       "      <td>1.000000</td>\n",
       "      <td>1.000000</td>\n",
       "      <td>2.000000</td>\n",
       "      <td>2.000000</td>\n",
       "      <td>1.000000</td>\n",
       "      <td>1.000000</td>\n",
       "      <td>1.752014</td>\n",
       "      <td>1.000000</td>\n",
       "      <td>1.000000</td>\n",
       "      <td>5.000000</td>\n",
       "      <td>1.000000</td>\n",
       "      <td>2.000000</td>\n",
       "      <td>1.000000</td>\n",
       "      <td>1.000000</td>\n",
       "      <td>2.000000</td>\n",
       "      <td>2.000000</td>\n",
       "      <td>1.000000</td>\n",
       "      <td>0.000000</td>\n",
       "      <td>1.000000</td>\n",
       "      <td>0.000000</td>\n",
       "    </tr>\n",
       "    <tr>\n",
       "      <th>50%</th>\n",
       "      <td>1.000000</td>\n",
       "      <td>1.000000</td>\n",
       "      <td>2.000000</td>\n",
       "      <td>45.000000</td>\n",
       "      <td>1.000000</td>\n",
       "      <td>1.000000</td>\n",
       "      <td>2.000000</td>\n",
       "      <td>2.000000</td>\n",
       "      <td>1.000000</td>\n",
       "      <td>2.000000</td>\n",
       "      <td>2.000000</td>\n",
       "      <td>1.000000</td>\n",
       "      <td>1.000000</td>\n",
       "      <td>7.000000</td>\n",
       "      <td>2.000000</td>\n",
       "      <td>2.000000</td>\n",
       "      <td>1.000000</td>\n",
       "      <td>2.000000</td>\n",
       "      <td>2.000000</td>\n",
       "      <td>2.000000</td>\n",
       "      <td>1.000000</td>\n",
       "      <td>1.000000</td>\n",
       "      <td>1.000000</td>\n",
       "      <td>0.000000</td>\n",
       "    </tr>\n",
       "    <tr>\n",
       "      <th>75%</th>\n",
       "      <td>1.000000</td>\n",
       "      <td>2.000000</td>\n",
       "      <td>2.000000</td>\n",
       "      <td>51.000000</td>\n",
       "      <td>1.000000</td>\n",
       "      <td>1.000000</td>\n",
       "      <td>2.000000</td>\n",
       "      <td>2.000000</td>\n",
       "      <td>1.000000</td>\n",
       "      <td>2.000000</td>\n",
       "      <td>2.000000</td>\n",
       "      <td>2.000000</td>\n",
       "      <td>2.000000</td>\n",
       "      <td>8.000000</td>\n",
       "      <td>3.000000</td>\n",
       "      <td>2.000000</td>\n",
       "      <td>2.000000</td>\n",
       "      <td>2.000000</td>\n",
       "      <td>2.000000</td>\n",
       "      <td>2.000000</td>\n",
       "      <td>2.000000</td>\n",
       "      <td>1.000000</td>\n",
       "      <td>2.000000</td>\n",
       "      <td>1.000000</td>\n",
       "    </tr>\n",
       "    <tr>\n",
       "      <th>max</th>\n",
       "      <td>2.000000</td>\n",
       "      <td>2.000000</td>\n",
       "      <td>2.000000</td>\n",
       "      <td>96.000000</td>\n",
       "      <td>4.000000</td>\n",
       "      <td>2.000000</td>\n",
       "      <td>2.000000</td>\n",
       "      <td>2.000000</td>\n",
       "      <td>2.000000</td>\n",
       "      <td>2.000000</td>\n",
       "      <td>2.000000</td>\n",
       "      <td>2.000000</td>\n",
       "      <td>7.000000</td>\n",
       "      <td>22.000000</td>\n",
       "      <td>5.000000</td>\n",
       "      <td>2.000000</td>\n",
       "      <td>2.000000</td>\n",
       "      <td>2.000000</td>\n",
       "      <td>2.000000</td>\n",
       "      <td>2.000000</td>\n",
       "      <td>2.000000</td>\n",
       "      <td>1.000000</td>\n",
       "      <td>2.000000</td>\n",
       "      <td>2.000000</td>\n",
       "    </tr>\n",
       "  </tbody>\n",
       "</table>\n",
       "</div>"
      ],
      "text/plain": [
       "            Gender  mother_alive  father_alive  parents_age  marital_status       darija  class_arabic       french      amazygh  read_one_lang  write_one_lang  no_read_write  parents_level_ed  num_per_house  type_housing  automobiles  mobile_phones    satellite     no_water  individual_water_net  electrical_net_co  Age abandoned school    done_test  work_activity_classified\n",
       "count  4052.000000   4052.000000   4052.000000  4052.000000     4052.000000  4052.000000   4052.000000  4052.000000  4052.000000    4052.000000     4052.000000    4052.000000       4052.000000    4052.000000   4052.000000  4052.000000    4052.000000  4052.000000  4052.000000           4052.000000        4052.000000           4052.000000  4052.000000               4052.000000\n",
       "mean      1.016535      1.416832      1.608379    45.735213        1.056515     1.165842      1.866089     1.974257     1.233168       1.729614        1.752014       1.271652          1.508391       6.731984      2.238401     1.955084       1.341066     1.685834     1.997285              1.834156           1.428677              0.747532     1.259131                  0.537512\n",
       "std       0.127537      0.491633      0.484181     9.528661        0.399351     0.371433      0.340094     0.158151     0.422274       0.439198        0.427612       0.440453          0.921602       1.996352      1.029760     0.207145       0.474126     0.464240     0.052039              0.371986           0.494948              0.434482     0.438212                  0.681834\n",
       "min       1.000000      1.000000      1.000000    22.000000        1.000000     1.000000      1.000000     1.000000     1.000000       1.000000        1.000000       1.000000          1.000000       0.000000      1.000000     1.000000       1.000000     1.000000     1.000000              1.000000           1.000000              0.000000     1.000000                  0.000000\n",
       "25%       1.000000      1.000000      1.000000    39.000000        1.000000     1.000000      2.000000     2.000000     1.000000       1.000000        1.752014       1.000000          1.000000       5.000000      1.000000     2.000000       1.000000     1.000000     2.000000              2.000000           1.000000              0.000000     1.000000                  0.000000\n",
       "50%       1.000000      1.000000      2.000000    45.000000        1.000000     1.000000      2.000000     2.000000     1.000000       2.000000        2.000000       1.000000          1.000000       7.000000      2.000000     2.000000       1.000000     2.000000     2.000000              2.000000           1.000000              1.000000     1.000000                  0.000000\n",
       "75%       1.000000      2.000000      2.000000    51.000000        1.000000     1.000000      2.000000     2.000000     1.000000       2.000000        2.000000       2.000000          2.000000       8.000000      3.000000     2.000000       2.000000     2.000000     2.000000              2.000000           2.000000              1.000000     2.000000                  1.000000\n",
       "max       2.000000      2.000000      2.000000    96.000000        4.000000     2.000000      2.000000     2.000000     2.000000       2.000000        2.000000       2.000000          7.000000      22.000000      5.000000     2.000000       2.000000     2.000000     2.000000              2.000000           2.000000              1.000000     2.000000                  2.000000"
      ]
     },
     "execution_count": 4,
     "metadata": {},
     "output_type": "execute_result"
    }
   ],
   "source": [
    "data.describe()"
   ]
  },
  {
   "cell_type": "code",
   "execution_count": 5,
   "metadata": {},
   "outputs": [],
   "source": [
    "data = data.drop('done_test', axis = 1)"
   ]
  },
  {
   "cell_type": "code",
   "execution_count": 6,
   "metadata": {},
   "outputs": [
    {
     "data": {
      "text/plain": [
       "hhid                         object\n",
       "Gender                      float64\n",
       "mother_alive                float64\n",
       "father_alive                float64\n",
       "parents_age                 float64\n",
       "marital_status              float64\n",
       "darija                      float64\n",
       "class_arabic                float64\n",
       "french                      float64\n",
       "amazygh                     float64\n",
       "read_one_lang               float64\n",
       "write_one_lang              float64\n",
       "no_read_write               float64\n",
       "parents_level_ed            float64\n",
       "num_per_house               float64\n",
       "type_housing                float64\n",
       "automobiles                 float64\n",
       "mobile_phones               float64\n",
       "satellite                   float64\n",
       "no_water                      int64\n",
       "individual_water_net          int64\n",
       "electrical_net_co             int64\n",
       "region                       object\n",
       "province                     object\n",
       "Age abandoned school        float64\n",
       "work_activity_classified    float64\n",
       "dtype: object"
      ]
     },
     "execution_count": 6,
     "metadata": {},
     "output_type": "execute_result"
    }
   ],
   "source": [
    "data.dtypes"
   ]
  },
  {
   "cell_type": "code",
   "execution_count": 7,
   "metadata": {},
   "outputs": [
    {
     "data": {
      "text/plain": [
       "(4052, 26)"
      ]
     },
     "execution_count": 7,
     "metadata": {},
     "output_type": "execute_result"
    }
   ],
   "source": [
    "data.shape"
   ]
  },
  {
<<<<<<< HEAD
   "cell_type": "code",
   "execution_count": 8,
   "metadata": {},
   "outputs": [
    {
     "data": {
      "text/plain": [
       "(4052, 26)"
      ]
     },
     "execution_count": 8,
     "metadata": {},
     "output_type": "execute_result"
    }
   ],
   "source": [
    "data.shape"
   ]
  },
  {
=======
>>>>>>> 4479aec9b24a47926fded6e8a499ef4f71cf3803
   "attachments": {},
   "cell_type": "markdown",
   "metadata": {},
   "source": [
    "# Spliting Data into training and test"
   ]
  },
  {
   "cell_type": "code",
<<<<<<< HEAD
   "execution_count": 9,
=======
   "execution_count": 8,
>>>>>>> 4479aec9b24a47926fded6e8a499ef4f71cf3803
   "metadata": {},
   "outputs": [],
   "source": [
    "X = data.drop('Age abandoned school', axis=1)\n",
    "y = data['Age abandoned school']"
   ]
  },
  {
   "cell_type": "code",
<<<<<<< HEAD
   "execution_count": 10,
=======
   "execution_count": 9,
>>>>>>> 4479aec9b24a47926fded6e8a499ef4f71cf3803
   "metadata": {},
   "outputs": [
    {
     "data": {
      "text/plain": [
       "1.0    3029\n",
       "0.0    1023\n",
       "Name: Age abandoned school, dtype: int64"
      ]
     },
<<<<<<< HEAD
     "execution_count": 10,
=======
     "execution_count": 9,
>>>>>>> 4479aec9b24a47926fded6e8a499ef4f71cf3803
     "metadata": {},
     "output_type": "execute_result"
    }
   ],
   "source": [
    "y.value_counts()"
   ]
  },
  {
   "cell_type": "code",
<<<<<<< HEAD
   "execution_count": 11,
=======
   "execution_count": 10,
>>>>>>> 4479aec9b24a47926fded6e8a499ef4f71cf3803
   "metadata": {},
   "outputs": [
    {
     "data": {
      "text/plain": [
       "(4052, 25)"
      ]
     },
<<<<<<< HEAD
     "execution_count": 11,
=======
     "execution_count": 10,
>>>>>>> 4479aec9b24a47926fded6e8a499ef4f71cf3803
     "metadata": {},
     "output_type": "execute_result"
    }
   ],
   "source": [
    "X.shape"
   ]
  },
  {
   "cell_type": "code",
<<<<<<< HEAD
   "execution_count": 12,
=======
   "execution_count": 11,
>>>>>>> 4479aec9b24a47926fded6e8a499ef4f71cf3803
   "metadata": {},
   "outputs": [
    {
     "data": {
      "text/plain": [
       "(4052,)"
      ]
     },
<<<<<<< HEAD
     "execution_count": 12,
=======
     "execution_count": 11,
>>>>>>> 4479aec9b24a47926fded6e8a499ef4f71cf3803
     "metadata": {},
     "output_type": "execute_result"
    }
   ],
   "source": [
    "y.shape"
   ]
  },
  {
   "cell_type": "code",
<<<<<<< HEAD
   "execution_count": 13,
=======
   "execution_count": 12,
>>>>>>> 4479aec9b24a47926fded6e8a499ef4f71cf3803
   "metadata": {},
   "outputs": [
    {
     "data": {
      "text/plain": [
       "((3241, 25), (811, 25), (3241,), (811,))"
      ]
     },
<<<<<<< HEAD
     "execution_count": 13,
=======
     "execution_count": 12,
>>>>>>> 4479aec9b24a47926fded6e8a499ef4f71cf3803
     "metadata": {},
     "output_type": "execute_result"
    }
   ],
   "source": [
    "\n",
    "X_train, X_test, y_train, y_test = train_test_split(X, y, test_size = 0.20)\n",
    "X_train.shape, X_test.shape, y_train.shape, y_test.shape"
   ]
  },
  {
   "cell_type": "code",
<<<<<<< HEAD
   "execution_count": 14,
=======
   "execution_count": 13,
>>>>>>> 4479aec9b24a47926fded6e8a499ef4f71cf3803
   "metadata": {},
   "outputs": [
    {
     "data": {
      "text/plain": [
       "0"
      ]
     },
<<<<<<< HEAD
     "execution_count": 14,
=======
     "execution_count": 13,
>>>>>>> 4479aec9b24a47926fded6e8a499ef4f71cf3803
     "metadata": {},
     "output_type": "execute_result"
    }
   ],
   "source": [
    "X_train.duplicated().sum()"
   ]
  },
  {
   "cell_type": "code",
<<<<<<< HEAD
   "execution_count": 15,
=======
   "execution_count": 14,
>>>>>>> 4479aec9b24a47926fded6e8a499ef4f71cf3803
   "metadata": {},
   "outputs": [
    {
     "data": {
      "text/plain": [
       "(0, 0, 3239, 809)"
      ]
     },
<<<<<<< HEAD
     "execution_count": 15,
=======
     "execution_count": 14,
>>>>>>> 4479aec9b24a47926fded6e8a499ef4f71cf3803
     "metadata": {},
     "output_type": "execute_result"
    }
   ],
   "source": [
    "X_train.duplicated().sum(), X_test.duplicated().sum(), y_train.duplicated().sum(), y_test.duplicated().sum()"
   ]
  },
  {
   "attachments": {},
   "cell_type": "markdown",
   "metadata": {},
   "source": [
    "# Selecting categorical and numerical features"
   ]
  },
  {
   "cell_type": "code",
<<<<<<< HEAD
   "execution_count": 16,
=======
   "execution_count": 15,
>>>>>>> 4479aec9b24a47926fded6e8a499ef4f71cf3803
   "metadata": {},
   "outputs": [],
   "source": [
    "X_train_num = X.select_dtypes(include=[\"float64\",\"int64\"])\n",
    "X_train_cat = X[[\"region\",\"province\"]]"
   ]
  },
  {
   "cell_type": "code",
<<<<<<< HEAD
   "execution_count": 17,
=======
   "execution_count": 16,
>>>>>>> 4479aec9b24a47926fded6e8a499ef4f71cf3803
   "metadata": {},
   "outputs": [
    {
     "data": {
      "text/plain": [
       "4035"
      ]
     },
<<<<<<< HEAD
     "execution_count": 17,
=======
     "execution_count": 16,
>>>>>>> 4479aec9b24a47926fded6e8a499ef4f71cf3803
     "metadata": {},
     "output_type": "execute_result"
    }
   ],
   "source": [
    "X_train_cat.duplicated().sum()"
   ]
  },
  {
   "attachments": {},
   "cell_type": "markdown",
   "metadata": {},
   "source": [
    "# Creating Pipeline"
   ]
  },
  {
   "cell_type": "code",
<<<<<<< HEAD
   "execution_count": 18,
=======
   "execution_count": 17,
>>>>>>> 4479aec9b24a47926fded6e8a499ef4f71cf3803
   "metadata": {},
   "outputs": [],
   "source": [
    "num_transformer = Pipeline([\n",
    "    ('imputer', SimpleImputer(strategy=\"mean\")),\n",
    "    ('standard_scaler', StandardScaler())]\n",
    ")"
   ]
  },
  {
   "cell_type": "code",
<<<<<<< HEAD
   "execution_count": 19,
=======
   "execution_count": 18,
>>>>>>> 4479aec9b24a47926fded6e8a499ef4f71cf3803
   "metadata": {},
   "outputs": [],
   "source": [
    "cat_transformer = Pipeline([\n",
    "    ('one_hot_encoder', OneHotEncoder(sparse_output=False, handle_unknown='ignore'))\n",
    "])"
   ]
  },
  {
   "cell_type": "code",
<<<<<<< HEAD
   "execution_count": 20,
=======
   "execution_count": 19,
>>>>>>> 4479aec9b24a47926fded6e8a499ef4f71cf3803
   "metadata": {},
   "outputs": [
    {
     "data": {
      "text/html": [
       "<style>#sk-container-id-1 {color: black;background-color: white;}#sk-container-id-1 pre{padding: 0;}#sk-container-id-1 div.sk-toggleable {background-color: white;}#sk-container-id-1 label.sk-toggleable__label {cursor: pointer;display: block;width: 100%;margin-bottom: 0;padding: 0.3em;box-sizing: border-box;text-align: center;}#sk-container-id-1 label.sk-toggleable__label-arrow:before {content: \"▸\";float: left;margin-right: 0.25em;color: #696969;}#sk-container-id-1 label.sk-toggleable__label-arrow:hover:before {color: black;}#sk-container-id-1 div.sk-estimator:hover label.sk-toggleable__label-arrow:before {color: black;}#sk-container-id-1 div.sk-toggleable__content {max-height: 0;max-width: 0;overflow: hidden;text-align: left;background-color: #f0f8ff;}#sk-container-id-1 div.sk-toggleable__content pre {margin: 0.2em;color: black;border-radius: 0.25em;background-color: #f0f8ff;}#sk-container-id-1 input.sk-toggleable__control:checked~div.sk-toggleable__content {max-height: 200px;max-width: 100%;overflow: auto;}#sk-container-id-1 input.sk-toggleable__control:checked~label.sk-toggleable__label-arrow:before {content: \"▾\";}#sk-container-id-1 div.sk-estimator input.sk-toggleable__control:checked~label.sk-toggleable__label {background-color: #d4ebff;}#sk-container-id-1 div.sk-label input.sk-toggleable__control:checked~label.sk-toggleable__label {background-color: #d4ebff;}#sk-container-id-1 input.sk-hidden--visually {border: 0;clip: rect(1px 1px 1px 1px);clip: rect(1px, 1px, 1px, 1px);height: 1px;margin: -1px;overflow: hidden;padding: 0;position: absolute;width: 1px;}#sk-container-id-1 div.sk-estimator {font-family: monospace;background-color: #f0f8ff;border: 1px dotted black;border-radius: 0.25em;box-sizing: border-box;margin-bottom: 0.5em;}#sk-container-id-1 div.sk-estimator:hover {background-color: #d4ebff;}#sk-container-id-1 div.sk-parallel-item::after {content: \"\";width: 100%;border-bottom: 1px solid gray;flex-grow: 1;}#sk-container-id-1 div.sk-label:hover label.sk-toggleable__label {background-color: #d4ebff;}#sk-container-id-1 div.sk-serial::before {content: \"\";position: absolute;border-left: 1px solid gray;box-sizing: border-box;top: 0;bottom: 0;left: 50%;z-index: 0;}#sk-container-id-1 div.sk-serial {display: flex;flex-direction: column;align-items: center;background-color: white;padding-right: 0.2em;padding-left: 0.2em;position: relative;}#sk-container-id-1 div.sk-item {position: relative;z-index: 1;}#sk-container-id-1 div.sk-parallel {display: flex;align-items: stretch;justify-content: center;background-color: white;position: relative;}#sk-container-id-1 div.sk-item::before, #sk-container-id-1 div.sk-parallel-item::before {content: \"\";position: absolute;border-left: 1px solid gray;box-sizing: border-box;top: 0;bottom: 0;left: 50%;z-index: -1;}#sk-container-id-1 div.sk-parallel-item {display: flex;flex-direction: column;z-index: 1;position: relative;background-color: white;}#sk-container-id-1 div.sk-parallel-item:first-child::after {align-self: flex-end;width: 50%;}#sk-container-id-1 div.sk-parallel-item:last-child::after {align-self: flex-start;width: 50%;}#sk-container-id-1 div.sk-parallel-item:only-child::after {width: 0;}#sk-container-id-1 div.sk-dashed-wrapped {border: 1px dashed gray;margin: 0 0.4em 0.5em 0.4em;box-sizing: border-box;padding-bottom: 0.4em;background-color: white;}#sk-container-id-1 div.sk-label label {font-family: monospace;font-weight: bold;display: inline-block;line-height: 1.2em;}#sk-container-id-1 div.sk-label-container {text-align: center;}#sk-container-id-1 div.sk-container {/* jupyter's `normalize.less` sets `[hidden] { display: none; }` but bootstrap.min.css set `[hidden] { display: none !important; }` so we also need the `!important` here to be able to override the default hidden behavior on the sphinx rendered scikit-learn.org. See: https://github.com/scikit-learn/scikit-learn/issues/21755 */display: inline-block !important;position: relative;}#sk-container-id-1 div.sk-text-repr-fallback {display: none;}</style><div id=\"sk-container-id-1\" class=\"sk-top-container\"><div class=\"sk-text-repr-fallback\"><pre>ColumnTransformer(transformers=[(&#x27;num_transformer&#x27;,\n",
       "                                 Pipeline(steps=[(&#x27;imputer&#x27;, SimpleImputer()),\n",
       "                                                 (&#x27;standard_scaler&#x27;,\n",
       "                                                  StandardScaler())]),\n",
       "                                 Index([&#x27;Gender&#x27;, &#x27;mother_alive&#x27;, &#x27;father_alive&#x27;, &#x27;parents_age&#x27;, &#x27;marital_status&#x27;, &#x27;darija&#x27;, &#x27;class_arabic&#x27;, &#x27;french&#x27;, &#x27;amazygh&#x27;, &#x27;read_one_lang&#x27;, &#x27;write_one_lang&#x27;, &#x27;no_read_write&#x27;, &#x27;parents_level_ed&#x27;, &#x27;num_per_house&#x27;, &#x27;type_housing&#x27;, &#x27;automobiles&#x27;, &#x27;mobile_phones&#x27;, &#x27;satellite&#x27;, &#x27;no_water&#x27;, &#x27;individual_water_net&#x27;, &#x27;electrical_net_co&#x27;, &#x27;work_activity_classified&#x27;], dtype=&#x27;object&#x27;)),\n",
       "                                (&#x27;cat_transformer&#x27;,\n",
       "                                 Pipeline(steps=[(&#x27;one_hot_encoder&#x27;,\n",
       "                                                  OneHotEncoder(handle_unknown=&#x27;ignore&#x27;,\n",
       "                                                                sparse_output=False))]),\n",
       "                                 Index([&#x27;region&#x27;, &#x27;province&#x27;], dtype=&#x27;object&#x27;))])</pre><b>In a Jupyter environment, please rerun this cell to show the HTML representation or trust the notebook. <br />On GitHub, the HTML representation is unable to render, please try loading this page with nbviewer.org.</b></div><div class=\"sk-container\" hidden><div class=\"sk-item sk-dashed-wrapped\"><div class=\"sk-label-container\"><div class=\"sk-label sk-toggleable\"><input class=\"sk-toggleable__control sk-hidden--visually\" id=\"sk-estimator-id-1\" type=\"checkbox\" ><label for=\"sk-estimator-id-1\" class=\"sk-toggleable__label sk-toggleable__label-arrow\">ColumnTransformer</label><div class=\"sk-toggleable__content\"><pre>ColumnTransformer(transformers=[(&#x27;num_transformer&#x27;,\n",
       "                                 Pipeline(steps=[(&#x27;imputer&#x27;, SimpleImputer()),\n",
       "                                                 (&#x27;standard_scaler&#x27;,\n",
       "                                                  StandardScaler())]),\n",
       "                                 Index([&#x27;Gender&#x27;, &#x27;mother_alive&#x27;, &#x27;father_alive&#x27;, &#x27;parents_age&#x27;, &#x27;marital_status&#x27;, &#x27;darija&#x27;, &#x27;class_arabic&#x27;, &#x27;french&#x27;, &#x27;amazygh&#x27;, &#x27;read_one_lang&#x27;, &#x27;write_one_lang&#x27;, &#x27;no_read_write&#x27;, &#x27;parents_level_ed&#x27;, &#x27;num_per_house&#x27;, &#x27;type_housing&#x27;, &#x27;automobiles&#x27;, &#x27;mobile_phones&#x27;, &#x27;satellite&#x27;, &#x27;no_water&#x27;, &#x27;individual_water_net&#x27;, &#x27;electrical_net_co&#x27;, &#x27;work_activity_classified&#x27;], dtype=&#x27;object&#x27;)),\n",
       "                                (&#x27;cat_transformer&#x27;,\n",
       "                                 Pipeline(steps=[(&#x27;one_hot_encoder&#x27;,\n",
       "                                                  OneHotEncoder(handle_unknown=&#x27;ignore&#x27;,\n",
       "                                                                sparse_output=False))]),\n",
       "                                 Index([&#x27;region&#x27;, &#x27;province&#x27;], dtype=&#x27;object&#x27;))])</pre></div></div></div><div class=\"sk-parallel\"><div class=\"sk-parallel-item\"><div class=\"sk-item\"><div class=\"sk-label-container\"><div class=\"sk-label sk-toggleable\"><input class=\"sk-toggleable__control sk-hidden--visually\" id=\"sk-estimator-id-2\" type=\"checkbox\" ><label for=\"sk-estimator-id-2\" class=\"sk-toggleable__label sk-toggleable__label-arrow\">num_transformer</label><div class=\"sk-toggleable__content\"><pre>Index([&#x27;Gender&#x27;, &#x27;mother_alive&#x27;, &#x27;father_alive&#x27;, &#x27;parents_age&#x27;, &#x27;marital_status&#x27;, &#x27;darija&#x27;, &#x27;class_arabic&#x27;, &#x27;french&#x27;, &#x27;amazygh&#x27;, &#x27;read_one_lang&#x27;, &#x27;write_one_lang&#x27;, &#x27;no_read_write&#x27;, &#x27;parents_level_ed&#x27;, &#x27;num_per_house&#x27;, &#x27;type_housing&#x27;, &#x27;automobiles&#x27;, &#x27;mobile_phones&#x27;, &#x27;satellite&#x27;, &#x27;no_water&#x27;, &#x27;individual_water_net&#x27;, &#x27;electrical_net_co&#x27;, &#x27;work_activity_classified&#x27;], dtype=&#x27;object&#x27;)</pre></div></div></div><div class=\"sk-serial\"><div class=\"sk-item\"><div class=\"sk-serial\"><div class=\"sk-item\"><div class=\"sk-estimator sk-toggleable\"><input class=\"sk-toggleable__control sk-hidden--visually\" id=\"sk-estimator-id-3\" type=\"checkbox\" ><label for=\"sk-estimator-id-3\" class=\"sk-toggleable__label sk-toggleable__label-arrow\">SimpleImputer</label><div class=\"sk-toggleable__content\"><pre>SimpleImputer()</pre></div></div></div><div class=\"sk-item\"><div class=\"sk-estimator sk-toggleable\"><input class=\"sk-toggleable__control sk-hidden--visually\" id=\"sk-estimator-id-4\" type=\"checkbox\" ><label for=\"sk-estimator-id-4\" class=\"sk-toggleable__label sk-toggleable__label-arrow\">StandardScaler</label><div class=\"sk-toggleable__content\"><pre>StandardScaler()</pre></div></div></div></div></div></div></div></div><div class=\"sk-parallel-item\"><div class=\"sk-item\"><div class=\"sk-label-container\"><div class=\"sk-label sk-toggleable\"><input class=\"sk-toggleable__control sk-hidden--visually\" id=\"sk-estimator-id-5\" type=\"checkbox\" ><label for=\"sk-estimator-id-5\" class=\"sk-toggleable__label sk-toggleable__label-arrow\">cat_transformer</label><div class=\"sk-toggleable__content\"><pre>Index([&#x27;region&#x27;, &#x27;province&#x27;], dtype=&#x27;object&#x27;)</pre></div></div></div><div class=\"sk-serial\"><div class=\"sk-item\"><div class=\"sk-serial\"><div class=\"sk-item\"><div class=\"sk-estimator sk-toggleable\"><input class=\"sk-toggleable__control sk-hidden--visually\" id=\"sk-estimator-id-6\" type=\"checkbox\" ><label for=\"sk-estimator-id-6\" class=\"sk-toggleable__label sk-toggleable__label-arrow\">OneHotEncoder</label><div class=\"sk-toggleable__content\"><pre>OneHotEncoder(handle_unknown=&#x27;ignore&#x27;, sparse_output=False)</pre></div></div></div></div></div></div></div></div></div></div></div></div>"
      ],
      "text/plain": [
       "ColumnTransformer(transformers=[('num_transformer',\n",
       "                                 Pipeline(steps=[('imputer', SimpleImputer()),\n",
       "                                                 ('standard_scaler',\n",
       "                                                  StandardScaler())]),\n",
       "                                 Index(['Gender', 'mother_alive', 'father_alive', 'parents_age', 'marital_status', 'darija', 'class_arabic', 'french', 'amazygh', 'read_one_lang', 'write_one_lang', 'no_read_write', 'parents_level_ed', 'num_per_house', 'type_housing', 'automobiles', 'mobile_phones', 'satellite', 'no_water', 'individual_water_net', 'electrical_net_co', 'work_activity_classified'], dtype='object')),\n",
       "                                ('cat_transformer',\n",
       "                                 Pipeline(steps=[('one_hot_encoder',\n",
       "                                                  OneHotEncoder(handle_unknown='ignore',\n",
       "                                                                sparse_output=False))]),\n",
       "                                 Index(['region', 'province'], dtype='object'))])"
      ]
     },
<<<<<<< HEAD
     "execution_count": 20,
=======
     "execution_count": 19,
>>>>>>> 4479aec9b24a47926fded6e8a499ef4f71cf3803
     "metadata": {},
     "output_type": "execute_result"
    }
   ],
   "source": [
    "preprocessor = ColumnTransformer([\n",
    "    ('num_transformer', num_transformer, X_train_num.columns),\n",
    "    ('cat_transformer', cat_transformer, X_train_cat.columns)])\n",
    "\n",
    "preprocessor"
   ]
  },
  {
   "cell_type": "code",
<<<<<<< HEAD
   "execution_count": 21,
=======
   "execution_count": 20,
>>>>>>> 4479aec9b24a47926fded6e8a499ef4f71cf3803
   "metadata": {},
   "outputs": [
    {
     "data": {
      "text/plain": [
<<<<<<< HEAD
       "array([[-0.12644153,  1.18494449,  0.80335534, ...,  0.        ,\n",
       "         0.        ,  0.        ],\n",
       "       [-0.12644153, -0.84863303, -1.26473935, ...,  0.        ,\n",
       "         0.        ,  0.        ],\n",
       "       [-0.12644153, -0.84863303, -1.26473935, ...,  0.        ,\n",
       "         0.        ,  0.        ],\n",
       "       ...,\n",
       "       [-0.12644153,  1.18494449,  0.80335534, ...,  0.        ,\n",
       "         0.        ,  0.        ],\n",
       "       [-0.12644153,  1.18494449, -1.26473935, ...,  0.        ,\n",
       "         0.        ,  0.        ],\n",
       "       [-0.12644153, -0.84863303,  0.80335534, ...,  0.        ,\n",
       "         0.        ,  0.        ]])"
      ]
     },
     "execution_count": 21,
=======
       "array([[-0.13016848, -0.85240409, -1.25384468, ...,  0.        ,\n",
       "         0.        ,  0.        ],\n",
       "       [-0.13016848, -0.85240409, -1.25384468, ...,  0.        ,\n",
       "         0.        ,  0.        ],\n",
       "       [-0.13016848, -0.85240409, -1.25384468, ...,  0.        ,\n",
       "         0.        ,  0.        ],\n",
       "       ...,\n",
       "       [-0.13016848,  1.17969272,  0.81079283, ...,  0.        ,\n",
       "         0.        ,  0.        ],\n",
       "       [-0.13016848, -0.85240409,  0.81079283, ...,  0.        ,\n",
       "         0.        ,  0.        ],\n",
       "       [-0.13016848,  1.17969272,  0.81079283, ...,  0.        ,\n",
       "         1.        ,  0.        ]])"
      ]
     },
     "execution_count": 20,
>>>>>>> 4479aec9b24a47926fded6e8a499ef4f71cf3803
     "metadata": {},
     "output_type": "execute_result"
    }
   ],
   "source": [
    "X_train_preprocessed = preprocessor.fit_transform(X_train)\n",
    "X_train_preprocessed"
   ]
  },
  {
   "cell_type": "code",
<<<<<<< HEAD
   "execution_count": 22,
=======
   "execution_count": 21,
>>>>>>> 4479aec9b24a47926fded6e8a499ef4f71cf3803
   "metadata": {},
   "outputs": [
    {
     "data": {
      "text/plain": [
<<<<<<< HEAD
       "array([[-0.14186538,  1.19189805,  0.83144517, ...,  0.        ,\n",
       "         1.        ,  0.        ],\n",
       "       [-0.14186538, -0.84525968,  0.83144517, ...,  0.        ,\n",
       "         0.        ,  0.        ],\n",
       "       [-0.14186538, -0.84525968,  0.83144517, ...,  0.        ,\n",
       "         0.        ,  0.        ],\n",
       "       ...,\n",
       "       [-0.14186538,  1.19189805,  0.83144517, ...,  0.        ,\n",
       "         0.        ,  0.        ],\n",
       "       [-0.14186538, -0.84525968, -1.2251418 , ...,  0.        ,\n",
       "         1.        ,  0.        ],\n",
       "       [-0.14186538, -0.84525968,  0.83144517, ...,  0.        ,\n",
       "         0.        ,  0.        ]])"
      ]
     },
     "execution_count": 22,
=======
       "array([[-0.12763513,  1.21337302,  0.80151684, ...,  0.        ,\n",
       "         0.        ,  0.        ],\n",
       "       [-0.12763513, -0.83033944,  0.80151684, ...,  0.        ,\n",
       "         0.        ,  0.        ],\n",
       "       [-0.12763513, -0.83033944, -0.00896545, ...,  0.        ,\n",
       "         0.        ,  0.        ],\n",
       "       ...,\n",
       "       [-0.12763513, -0.83033944, -1.26804267, ...,  0.        ,\n",
       "         0.        ,  0.        ],\n",
       "       [-0.12763513,  1.21337302,  0.80151684, ...,  0.        ,\n",
       "         1.        ,  0.        ],\n",
       "       [-0.12763513, -0.83033944, -1.26804267, ...,  0.        ,\n",
       "         0.        ,  0.        ]])"
      ]
     },
     "execution_count": 21,
>>>>>>> 4479aec9b24a47926fded6e8a499ef4f71cf3803
     "metadata": {},
     "output_type": "execute_result"
    }
   ],
   "source": [
    "X_test_preprocessed = preprocessor.fit_transform(X_test)\n",
    "X_test_preprocessed"
   ]
  },
  {
   "cell_type": "code",
<<<<<<< HEAD
   "execution_count": 23,
=======
   "execution_count": 22,
>>>>>>> 4479aec9b24a47926fded6e8a499ef4f71cf3803
   "metadata": {},
   "outputs": [
    {
     "data": {
      "text/html": [
       "<div>\n",
       "<style scoped>\n",
       "    .dataframe tbody tr th:only-of-type {\n",
       "        vertical-align: middle;\n",
       "    }\n",
       "\n",
       "    .dataframe tbody tr th {\n",
       "        vertical-align: top;\n",
       "    }\n",
       "\n",
       "    .dataframe thead th {\n",
       "        text-align: right;\n",
       "    }\n",
       "</style>\n",
       "<table border=\"1\" class=\"dataframe\">\n",
       "  <thead>\n",
       "    <tr style=\"text-align: right;\">\n",
       "      <th></th>\n",
       "      <th>Gender</th>\n",
       "      <th>mother_alive</th>\n",
       "      <th>father_alive</th>\n",
       "      <th>parents_age</th>\n",
       "      <th>marital_status</th>\n",
       "      <th>darija</th>\n",
       "      <th>class_arabic</th>\n",
       "      <th>french</th>\n",
       "      <th>amazygh</th>\n",
       "      <th>read_one_lang</th>\n",
       "      <th>write_one_lang</th>\n",
       "      <th>no_read_write</th>\n",
       "      <th>parents_level_ed</th>\n",
       "      <th>num_per_house</th>\n",
       "      <th>type_housing</th>\n",
       "      <th>automobiles</th>\n",
       "      <th>mobile_phones</th>\n",
       "      <th>satellite</th>\n",
       "      <th>no_water</th>\n",
       "      <th>individual_water_net</th>\n",
       "      <th>electrical_net_co</th>\n",
       "      <th>work_activity_classified</th>\n",
       "      <th>region_L'Oriental</th>\n",
       "      <th>region_Marrakech - Tensift - Al Haouz</th>\n",
       "      <th>region_Meknhs - Tafilalet</th>\n",
       "      <th>region_Sous - Massa - Draa</th>\n",
       "      <th>region_Tadla - Azilal</th>\n",
       "      <th>province_Al Haouz</th>\n",
       "      <th>province_Azilal</th>\n",
       "      <th>province_Chichaoua</th>\n",
       "      <th>province_Chtouka Ait Baha</th>\n",
       "      <th>province_El Hajeb</th>\n",
       "      <th>province_El Kelaa Des Sraghna</th>\n",
       "      <th>province_Errachidia</th>\n",
       "      <th>province_Essaouira</th>\n",
       "      <th>province_Ifrane</th>\n",
       "      <th>province_Jerada</th>\n",
       "      <th>province_Khenifra</th>\n",
       "      <th>province_Meknes</th>\n",
       "      <th>province_Nador</th>\n",
       "      <th>province_Ouarzazate</th>\n",
       "      <th>province_Taourirt</th>\n",
       "      <th>province_Taroudant</th>\n",
       "      <th>province_Tiznit</th>\n",
       "    </tr>\n",
       "  </thead>\n",
       "  <tbody>\n",
       "    <tr>\n",
       "      <th>0</th>\n",
<<<<<<< HEAD
       "      <td>-0.126442</td>\n",
       "      <td>1.184944</td>\n",
       "      <td>0.803355</td>\n",
       "      <td>1.677567</td>\n",
       "      <td>-0.144411</td>\n",
       "      <td>2.245716</td>\n",
       "      <td>0.393603</td>\n",
       "      <td>0.154500</td>\n",
       "      <td>-0.552297</td>\n",
       "      <td>0.606184</td>\n",
       "      <td>0.574851</td>\n",
       "      <td>-0.607291</td>\n",
       "      <td>-0.547898</td>\n",
       "      <td>1.640105</td>\n",
       "      <td>0.737504</td>\n",
       "      <td>0.218746</td>\n",
       "      <td>-0.731139</td>\n",
       "      <td>-1.487310</td>\n",
       "      <td>0.043066</td>\n",
       "      <td>0.452090</td>\n",
       "      <td>-0.881399</td>\n",
       "      <td>-0.783747</td>\n",
=======
       "      <td>-0.130168</td>\n",
       "      <td>-0.852404</td>\n",
       "      <td>-1.253845</td>\n",
       "      <td>-0.403083</td>\n",
       "      <td>-0.143026</td>\n",
       "      <td>-0.442176</td>\n",
       "      <td>0.395561</td>\n",
       "      <td>0.164616</td>\n",
       "      <td>1.809052</td>\n",
       "      <td>-1.658706</td>\n",
       "      <td>-1.755966</td>\n",
       "      <td>1.652871</td>\n",
       "      <td>0.524891</td>\n",
       "      <td>-0.867902</td>\n",
       "      <td>0.745255</td>\n",
       "      <td>0.215631</td>\n",
       "      <td>-0.715304</td>\n",
       "      <td>0.657396</td>\n",
       "      <td>0.055633</td>\n",
       "      <td>0.444645</td>\n",
       "      <td>-0.874237</td>\n",
       "      <td>0.67803</td>\n",
       "      <td>0.0</td>\n",
       "      <td>1.0</td>\n",
       "      <td>0.0</td>\n",
       "      <td>0.0</td>\n",
       "      <td>0.0</td>\n",
       "      <td>0.0</td>\n",
       "      <td>0.0</td>\n",
>>>>>>> 4479aec9b24a47926fded6e8a499ef4f71cf3803
       "      <td>0.0</td>\n",
       "      <td>0.0</td>\n",
       "      <td>0.0</td>\n",
       "      <td>1.0</td>\n",
       "      <td>0.0</td>\n",
       "      <td>0.0</td>\n",
       "      <td>0.0</td>\n",
       "      <td>0.0</td>\n",
       "      <td>0.0</td>\n",
       "      <td>0.0</td>\n",
       "      <td>0.0</td>\n",
       "      <td>0.0</td>\n",
       "      <td>0.0</td>\n",
       "      <td>0.0</td>\n",
       "      <td>0.0</td>\n",
<<<<<<< HEAD
       "      <td>0.0</td>\n",
       "      <td>0.0</td>\n",
       "      <td>0.0</td>\n",
       "      <td>1.0</td>\n",
       "      <td>0.0</td>\n",
       "      <td>0.0</td>\n",
       "      <td>0.0</td>\n",
       "    </tr>\n",
       "    <tr>\n",
       "      <th>1</th>\n",
       "      <td>-0.126442</td>\n",
       "      <td>-0.848633</td>\n",
       "      <td>-1.264739</td>\n",
       "      <td>-0.294839</td>\n",
       "      <td>-0.144411</td>\n",
       "      <td>-0.446808</td>\n",
       "      <td>0.393603</td>\n",
       "      <td>0.154500</td>\n",
       "      <td>-0.552297</td>\n",
       "      <td>0.606184</td>\n",
       "      <td>0.574851</td>\n",
       "      <td>-0.607291</td>\n",
       "      <td>-0.547898</td>\n",
       "      <td>-0.359925</td>\n",
       "      <td>0.737504</td>\n",
       "      <td>0.218746</td>\n",
       "      <td>-0.731139</td>\n",
       "      <td>0.672355</td>\n",
       "      <td>0.043066</td>\n",
       "      <td>0.452090</td>\n",
       "      <td>-0.881399</td>\n",
       "      <td>-0.783747</td>\n",
=======
       "    </tr>\n",
       "    <tr>\n",
       "      <th>1</th>\n",
       "      <td>-0.130168</td>\n",
       "      <td>-0.852404</td>\n",
       "      <td>-1.253845</td>\n",
       "      <td>0.337294</td>\n",
       "      <td>-0.143026</td>\n",
       "      <td>-0.442176</td>\n",
       "      <td>-2.535831</td>\n",
       "      <td>0.164616</td>\n",
       "      <td>-0.554479</td>\n",
       "      <td>-1.658706</td>\n",
       "      <td>-1.755966</td>\n",
       "      <td>1.652871</td>\n",
       "      <td>0.524891</td>\n",
       "      <td>1.119640</td>\n",
       "      <td>0.745255</td>\n",
       "      <td>0.215631</td>\n",
       "      <td>-0.715304</td>\n",
       "      <td>0.657396</td>\n",
       "      <td>0.055633</td>\n",
       "      <td>0.444645</td>\n",
       "      <td>-0.874237</td>\n",
       "      <td>0.67803</td>\n",
       "      <td>0.0</td>\n",
>>>>>>> 4479aec9b24a47926fded6e8a499ef4f71cf3803
       "      <td>1.0</td>\n",
       "      <td>0.0</td>\n",
       "      <td>0.0</td>\n",
       "      <td>0.0</td>\n",
       "      <td>0.0</td>\n",
       "      <td>0.0</td>\n",
       "      <td>0.0</td>\n",
       "      <td>0.0</td>\n",
       "      <td>0.0</td>\n",
       "      <td>0.0</td>\n",
       "      <td>0.0</td>\n",
<<<<<<< HEAD
       "      <td>0.0</td>\n",
       "      <td>0.0</td>\n",
       "      <td>0.0</td>\n",
=======
>>>>>>> 4479aec9b24a47926fded6e8a499ef4f71cf3803
       "      <td>1.0</td>\n",
       "      <td>0.0</td>\n",
       "      <td>0.0</td>\n",
       "      <td>0.0</td>\n",
       "      <td>0.0</td>\n",
       "      <td>0.0</td>\n",
       "      <td>0.0</td>\n",
       "      <td>0.0</td>\n",
<<<<<<< HEAD
       "    </tr>\n",
       "    <tr>\n",
       "      <th>2</th>\n",
       "      <td>-0.126442</td>\n",
       "      <td>-0.848633</td>\n",
       "      <td>-1.264739</td>\n",
       "      <td>-0.813893</td>\n",
       "      <td>-0.144411</td>\n",
       "      <td>-0.446808</td>\n",
       "      <td>-2.549294</td>\n",
       "      <td>0.154500</td>\n",
       "      <td>1.816786</td>\n",
       "      <td>-1.687706</td>\n",
       "      <td>-1.774953</td>\n",
       "      <td>1.680324</td>\n",
       "      <td>1.688548</td>\n",
       "      <td>-1.359940</td>\n",
       "      <td>-1.201060</td>\n",
       "      <td>0.218746</td>\n",
       "      <td>-0.731139</td>\n",
       "      <td>0.672355</td>\n",
       "      <td>0.043066</td>\n",
       "      <td>-2.211951</td>\n",
       "      <td>-0.881399</td>\n",
       "      <td>0.689643</td>\n",
       "      <td>0.0</td>\n",
=======
       "      <td>0.0</td>\n",
       "      <td>0.0</td>\n",
       "    </tr>\n",
       "    <tr>\n",
       "      <th>2</th>\n",
       "      <td>-0.130168</td>\n",
       "      <td>-0.852404</td>\n",
       "      <td>-1.253845</td>\n",
       "      <td>-0.826156</td>\n",
       "      <td>-0.143026</td>\n",
       "      <td>-0.442176</td>\n",
       "      <td>-2.535831</td>\n",
       "      <td>0.164616</td>\n",
       "      <td>1.809052</td>\n",
       "      <td>-1.658706</td>\n",
       "      <td>-1.755966</td>\n",
       "      <td>1.652871</td>\n",
       "      <td>0.524891</td>\n",
       "      <td>-1.364787</td>\n",
       "      <td>0.745255</td>\n",
       "      <td>0.215631</td>\n",
       "      <td>1.398006</td>\n",
       "      <td>0.657396</td>\n",
       "      <td>0.055633</td>\n",
       "      <td>0.444645</td>\n",
       "      <td>-0.874237</td>\n",
       "      <td>-0.78113</td>\n",
>>>>>>> 4479aec9b24a47926fded6e8a499ef4f71cf3803
       "      <td>0.0</td>\n",
       "      <td>1.0</td>\n",
       "      <td>0.0</td>\n",
       "      <td>0.0</td>\n",
       "      <td>0.0</td>\n",
       "      <td>0.0</td>\n",
       "      <td>0.0</td>\n",
       "      <td>0.0</td>\n",
       "      <td>0.0</td>\n",
       "      <td>0.0</td>\n",
       "      <td>0.0</td>\n",
       "      <td>0.0</td>\n",
<<<<<<< HEAD
       "      <td>0.0</td>\n",
       "      <td>0.0</td>\n",
       "      <td>0.0</td>\n",
=======
>>>>>>> 4479aec9b24a47926fded6e8a499ef4f71cf3803
       "      <td>1.0</td>\n",
       "      <td>0.0</td>\n",
       "      <td>0.0</td>\n",
       "      <td>0.0</td>\n",
       "      <td>0.0</td>\n",
       "      <td>0.0</td>\n",
<<<<<<< HEAD
       "    </tr>\n",
       "    <tr>\n",
       "      <th>3</th>\n",
       "      <td>-0.126442</td>\n",
       "      <td>-0.848633</td>\n",
       "      <td>-1.264739</td>\n",
       "      <td>0.120405</td>\n",
       "      <td>-0.144411</td>\n",
       "      <td>-0.446808</td>\n",
       "      <td>-2.549294</td>\n",
       "      <td>0.154500</td>\n",
       "      <td>1.816786</td>\n",
       "      <td>-1.687706</td>\n",
       "      <td>-1.774953</td>\n",
       "      <td>1.680324</td>\n",
       "      <td>1.688548</td>\n",
       "      <td>2.140112</td>\n",
       "      <td>-0.231778</td>\n",
       "      <td>0.218746</td>\n",
       "      <td>-0.731139</td>\n",
       "      <td>-1.487310</td>\n",
       "      <td>0.043066</td>\n",
       "      <td>0.452090</td>\n",
       "      <td>-0.881399</td>\n",
       "      <td>-0.783747</td>\n",
       "      <td>0.0</td>\n",
=======
       "      <td>0.0</td>\n",
       "      <td>0.0</td>\n",
       "      <td>0.0</td>\n",
       "      <td>0.0</td>\n",
       "    </tr>\n",
       "    <tr>\n",
       "      <th>3</th>\n",
       "      <td>-0.130168</td>\n",
       "      <td>-0.852404</td>\n",
       "      <td>0.810793</td>\n",
       "      <td>0.125758</td>\n",
       "      <td>-0.143026</td>\n",
       "      <td>-0.442176</td>\n",
       "      <td>0.395561</td>\n",
       "      <td>0.164616</td>\n",
       "      <td>1.809052</td>\n",
       "      <td>0.615981</td>\n",
       "      <td>0.580398</td>\n",
       "      <td>-0.616612</td>\n",
       "      <td>-0.551800</td>\n",
       "      <td>-0.867902</td>\n",
       "      <td>-1.193246</td>\n",
       "      <td>0.215631</td>\n",
       "      <td>-0.715304</td>\n",
       "      <td>0.657396</td>\n",
       "      <td>0.055633</td>\n",
       "      <td>-2.248987</td>\n",
       "      <td>-0.874237</td>\n",
       "      <td>0.67803</td>\n",
>>>>>>> 4479aec9b24a47926fded6e8a499ef4f71cf3803
       "      <td>0.0</td>\n",
       "      <td>1.0</td>\n",
       "      <td>0.0</td>\n",
       "      <td>0.0</td>\n",
       "      <td>0.0</td>\n",
       "      <td>0.0</td>\n",
       "      <td>0.0</td>\n",
       "      <td>0.0</td>\n",
       "      <td>0.0</td>\n",
       "      <td>0.0</td>\n",
<<<<<<< HEAD
       "      <td>0.0</td>\n",
       "      <td>0.0</td>\n",
       "      <td>0.0</td>\n",
       "      <td>0.0</td>\n",
       "      <td>0.0</td>\n",
=======
>>>>>>> 4479aec9b24a47926fded6e8a499ef4f71cf3803
       "      <td>1.0</td>\n",
       "      <td>0.0</td>\n",
       "      <td>0.0</td>\n",
       "      <td>0.0</td>\n",
       "      <td>0.0</td>\n",
       "      <td>0.0</td>\n",
<<<<<<< HEAD
       "    </tr>\n",
       "    <tr>\n",
       "      <th>4</th>\n",
       "      <td>-0.126442</td>\n",
       "      <td>-0.848633</td>\n",
       "      <td>-1.264739</td>\n",
       "      <td>-1.332947</td>\n",
       "      <td>-0.144411</td>\n",
       "      <td>2.245716</td>\n",
       "      <td>0.393603</td>\n",
       "      <td>0.154500</td>\n",
       "      <td>-0.552297</td>\n",
       "      <td>-1.687706</td>\n",
       "      <td>-1.774953</td>\n",
       "      <td>1.680324</td>\n",
       "      <td>1.688548</td>\n",
       "      <td>-0.359925</td>\n",
       "      <td>0.737504</td>\n",
       "      <td>0.218746</td>\n",
       "      <td>-0.731139</td>\n",
       "      <td>0.672355</td>\n",
       "      <td>0.043066</td>\n",
       "      <td>0.452090</td>\n",
       "      <td>1.134560</td>\n",
       "      <td>-0.783747</td>\n",
=======
       "      <td>0.0</td>\n",
       "      <td>0.0</td>\n",
       "      <td>0.0</td>\n",
       "      <td>0.0</td>\n",
       "      <td>0.0</td>\n",
       "      <td>0.0</td>\n",
       "    </tr>\n",
       "    <tr>\n",
       "      <th>4</th>\n",
       "      <td>-0.130168</td>\n",
       "      <td>1.179693</td>\n",
       "      <td>-1.253845</td>\n",
       "      <td>-0.403083</td>\n",
       "      <td>-0.143026</td>\n",
       "      <td>-0.442176</td>\n",
       "      <td>0.395561</td>\n",
       "      <td>0.164616</td>\n",
       "      <td>-0.554479</td>\n",
       "      <td>-1.658706</td>\n",
       "      <td>-1.755966</td>\n",
       "      <td>1.652871</td>\n",
       "      <td>0.524891</td>\n",
       "      <td>1.119640</td>\n",
       "      <td>-1.193246</td>\n",
       "      <td>0.215631</td>\n",
       "      <td>1.398006</td>\n",
       "      <td>0.657396</td>\n",
       "      <td>0.055633</td>\n",
       "      <td>0.444645</td>\n",
       "      <td>1.143855</td>\n",
       "      <td>0.67803</td>\n",
       "      <td>0.0</td>\n",
       "      <td>0.0</td>\n",
>>>>>>> 4479aec9b24a47926fded6e8a499ef4f71cf3803
       "      <td>0.0</td>\n",
       "      <td>1.0</td>\n",
       "      <td>0.0</td>\n",
       "      <td>0.0</td>\n",
       "      <td>0.0</td>\n",
       "      <td>0.0</td>\n",
       "      <td>0.0</td>\n",
       "      <td>0.0</td>\n",
       "      <td>0.0</td>\n",
       "      <td>0.0</td>\n",
       "      <td>0.0</td>\n",
       "      <td>0.0</td>\n",
<<<<<<< HEAD
=======
       "      <td>0.0</td>\n",
       "      <td>0.0</td>\n",
       "      <td>0.0</td>\n",
       "      <td>0.0</td>\n",
>>>>>>> 4479aec9b24a47926fded6e8a499ef4f71cf3803
       "      <td>1.0</td>\n",
       "      <td>0.0</td>\n",
       "      <td>0.0</td>\n",
       "      <td>0.0</td>\n",
<<<<<<< HEAD
       "      <td>0.0</td>\n",
       "      <td>0.0</td>\n",
       "      <td>0.0</td>\n",
       "      <td>0.0</td>\n",
       "      <td>0.0</td>\n",
       "      <td>0.0</td>\n",
=======
>>>>>>> 4479aec9b24a47926fded6e8a499ef4f71cf3803
       "    </tr>\n",
       "    <tr>\n",
       "      <th>...</th>\n",
       "      <td>...</td>\n",
       "      <td>...</td>\n",
       "      <td>...</td>\n",
       "      <td>...</td>\n",
       "      <td>...</td>\n",
       "      <td>...</td>\n",
       "      <td>...</td>\n",
       "      <td>...</td>\n",
       "      <td>...</td>\n",
       "      <td>...</td>\n",
       "      <td>...</td>\n",
       "      <td>...</td>\n",
       "      <td>...</td>\n",
       "      <td>...</td>\n",
       "      <td>...</td>\n",
       "      <td>...</td>\n",
       "      <td>...</td>\n",
       "      <td>...</td>\n",
       "      <td>...</td>\n",
       "      <td>...</td>\n",
       "      <td>...</td>\n",
       "      <td>...</td>\n",
       "      <td>...</td>\n",
       "      <td>...</td>\n",
       "      <td>...</td>\n",
       "      <td>...</td>\n",
       "      <td>...</td>\n",
       "      <td>...</td>\n",
       "      <td>...</td>\n",
       "      <td>...</td>\n",
       "      <td>...</td>\n",
       "      <td>...</td>\n",
       "      <td>...</td>\n",
       "      <td>...</td>\n",
       "      <td>...</td>\n",
       "      <td>...</td>\n",
       "      <td>...</td>\n",
       "      <td>...</td>\n",
       "      <td>...</td>\n",
       "      <td>...</td>\n",
       "      <td>...</td>\n",
       "      <td>...</td>\n",
       "      <td>...</td>\n",
       "      <td>...</td>\n",
       "    </tr>\n",
       "    <tr>\n",
       "      <th>3236</th>\n",
<<<<<<< HEAD
       "      <td>-0.126442</td>\n",
       "      <td>-0.848633</td>\n",
       "      <td>-1.264739</td>\n",
       "      <td>-0.191028</td>\n",
       "      <td>-0.144411</td>\n",
       "      <td>-0.446808</td>\n",
       "      <td>0.393603</td>\n",
       "      <td>0.154500</td>\n",
       "      <td>-0.552297</td>\n",
       "      <td>0.606184</td>\n",
       "      <td>0.574851</td>\n",
       "      <td>-0.607291</td>\n",
       "      <td>-0.547898</td>\n",
       "      <td>-0.359925</td>\n",
       "      <td>-1.201060</td>\n",
       "      <td>0.218746</td>\n",
       "      <td>1.367729</td>\n",
       "      <td>0.672355</td>\n",
       "      <td>0.043066</td>\n",
       "      <td>0.452090</td>\n",
       "      <td>-0.881399</td>\n",
       "      <td>-0.783747</td>\n",
       "      <td>0.0</td>\n",
       "      <td>1.0</td>\n",
       "      <td>0.0</td>\n",
       "      <td>0.0</td>\n",
       "      <td>0.0</td>\n",
=======
       "      <td>-0.130168</td>\n",
       "      <td>-0.852404</td>\n",
       "      <td>0.810793</td>\n",
       "      <td>0.548830</td>\n",
       "      <td>-0.143026</td>\n",
       "      <td>-0.442176</td>\n",
       "      <td>0.395561</td>\n",
       "      <td>0.164616</td>\n",
       "      <td>1.809052</td>\n",
       "      <td>0.615981</td>\n",
       "      <td>0.580398</td>\n",
       "      <td>-0.616612</td>\n",
       "      <td>-0.551800</td>\n",
       "      <td>1.119640</td>\n",
       "      <td>0.745255</td>\n",
       "      <td>0.215631</td>\n",
       "      <td>-0.715304</td>\n",
       "      <td>0.657396</td>\n",
       "      <td>0.055633</td>\n",
       "      <td>0.444645</td>\n",
       "      <td>-0.874237</td>\n",
       "      <td>2.13719</td>\n",
>>>>>>> 4479aec9b24a47926fded6e8a499ef4f71cf3803
       "      <td>1.0</td>\n",
       "      <td>0.0</td>\n",
       "      <td>0.0</td>\n",
       "      <td>0.0</td>\n",
       "      <td>0.0</td>\n",
       "      <td>0.0</td>\n",
       "      <td>0.0</td>\n",
       "      <td>0.0</td>\n",
       "      <td>0.0</td>\n",
       "      <td>0.0</td>\n",
       "      <td>0.0</td>\n",
       "      <td>0.0</td>\n",
       "      <td>0.0</td>\n",
       "      <td>0.0</td>\n",
       "      <td>0.0</td>\n",
       "      <td>0.0</td>\n",
       "      <td>0.0</td>\n",
<<<<<<< HEAD
       "    </tr>\n",
       "    <tr>\n",
       "      <th>3237</th>\n",
       "      <td>7.908794</td>\n",
       "      <td>-0.848633</td>\n",
       "      <td>-1.264739</td>\n",
       "      <td>-0.191028</td>\n",
       "      <td>4.756487</td>\n",
       "      <td>2.245716</td>\n",
       "      <td>0.393603</td>\n",
       "      <td>0.154500</td>\n",
       "      <td>-0.552297</td>\n",
       "      <td>0.606184</td>\n",
       "      <td>0.574851</td>\n",
       "      <td>-0.607291</td>\n",
       "      <td>-0.547898</td>\n",
       "      <td>0.140082</td>\n",
       "      <td>-1.201060</td>\n",
       "      <td>0.218746</td>\n",
       "      <td>1.367729</td>\n",
       "      <td>0.672355</td>\n",
       "      <td>0.043066</td>\n",
       "      <td>0.452090</td>\n",
       "      <td>1.134560</td>\n",
       "      <td>2.163033</td>\n",
=======
       "      <td>0.0</td>\n",
       "      <td>0.0</td>\n",
       "      <td>1.0</td>\n",
       "      <td>0.0</td>\n",
       "      <td>0.0</td>\n",
       "    </tr>\n",
       "    <tr>\n",
       "      <th>3237</th>\n",
       "      <td>-0.130168</td>\n",
       "      <td>-0.852404</td>\n",
       "      <td>0.810793</td>\n",
       "      <td>0.019990</td>\n",
       "      <td>-0.143026</td>\n",
       "      <td>2.268635</td>\n",
       "      <td>0.395561</td>\n",
       "      <td>0.164616</td>\n",
       "      <td>-0.554479</td>\n",
       "      <td>0.615981</td>\n",
       "      <td>0.580398</td>\n",
       "      <td>-0.616612</td>\n",
       "      <td>-0.551800</td>\n",
       "      <td>-0.867902</td>\n",
       "      <td>-1.193246</td>\n",
       "      <td>0.215631</td>\n",
       "      <td>1.398006</td>\n",
       "      <td>-1.521153</td>\n",
       "      <td>0.055633</td>\n",
       "      <td>0.444645</td>\n",
       "      <td>-0.874237</td>\n",
       "      <td>2.13719</td>\n",
       "      <td>0.0</td>\n",
       "      <td>0.0</td>\n",
       "      <td>0.0</td>\n",
>>>>>>> 4479aec9b24a47926fded6e8a499ef4f71cf3803
       "      <td>1.0</td>\n",
       "      <td>0.0</td>\n",
       "      <td>0.0</td>\n",
       "      <td>0.0</td>\n",
       "      <td>0.0</td>\n",
       "      <td>0.0</td>\n",
       "      <td>0.0</td>\n",
       "      <td>0.0</td>\n",
       "      <td>0.0</td>\n",
       "      <td>0.0</td>\n",
       "      <td>0.0</td>\n",
       "      <td>0.0</td>\n",
       "      <td>0.0</td>\n",
       "      <td>0.0</td>\n",
       "      <td>0.0</td>\n",
       "      <td>0.0</td>\n",
       "      <td>0.0</td>\n",
       "      <td>1.0</td>\n",
       "      <td>0.0</td>\n",
<<<<<<< HEAD
       "      <td>0.0</td>\n",
       "      <td>0.0</td>\n",
       "      <td>0.0</td>\n",
       "    </tr>\n",
       "    <tr>\n",
       "      <th>3238</th>\n",
       "      <td>-0.126442</td>\n",
       "      <td>1.184944</td>\n",
       "      <td>0.803355</td>\n",
       "      <td>1.366134</td>\n",
       "      <td>-0.144411</td>\n",
       "      <td>2.245716</td>\n",
       "      <td>0.393603</td>\n",
       "      <td>0.154500</td>\n",
       "      <td>-0.552297</td>\n",
       "      <td>0.606184</td>\n",
       "      <td>0.574851</td>\n",
       "      <td>-0.607291</td>\n",
       "      <td>-0.547898</td>\n",
       "      <td>2.140112</td>\n",
       "      <td>-1.201060</td>\n",
       "      <td>0.218746</td>\n",
       "      <td>1.367729</td>\n",
       "      <td>0.672355</td>\n",
       "      <td>0.043066</td>\n",
       "      <td>0.452090</td>\n",
       "      <td>1.134560</td>\n",
       "      <td>-0.783747</td>\n",
       "      <td>0.0</td>\n",
       "      <td>0.0</td>\n",
       "      <td>0.0</td>\n",
=======
       "    </tr>\n",
       "    <tr>\n",
       "      <th>3238</th>\n",
       "      <td>-0.130168</td>\n",
       "      <td>1.179693</td>\n",
       "      <td>0.810793</td>\n",
       "      <td>1.077671</td>\n",
       "      <td>-0.143026</td>\n",
       "      <td>-0.442176</td>\n",
       "      <td>0.395561</td>\n",
       "      <td>0.164616</td>\n",
       "      <td>-0.554479</td>\n",
       "      <td>0.615981</td>\n",
       "      <td>0.580398</td>\n",
       "      <td>-0.616612</td>\n",
       "      <td>-0.551800</td>\n",
       "      <td>0.125869</td>\n",
       "      <td>0.745255</td>\n",
       "      <td>0.215631</td>\n",
       "      <td>-0.715304</td>\n",
       "      <td>0.657396</td>\n",
       "      <td>0.055633</td>\n",
       "      <td>0.444645</td>\n",
       "      <td>1.143855</td>\n",
       "      <td>-0.78113</td>\n",
>>>>>>> 4479aec9b24a47926fded6e8a499ef4f71cf3803
       "      <td>1.0</td>\n",
       "      <td>0.0</td>\n",
       "      <td>0.0</td>\n",
       "      <td>0.0</td>\n",
       "      <td>0.0</td>\n",
       "      <td>0.0</td>\n",
       "      <td>0.0</td>\n",
       "      <td>0.0</td>\n",
       "      <td>0.0</td>\n",
       "      <td>0.0</td>\n",
       "      <td>0.0</td>\n",
       "      <td>0.0</td>\n",
       "      <td>0.0</td>\n",
       "      <td>0.0</td>\n",
       "      <td>0.0</td>\n",
<<<<<<< HEAD
=======
       "      <td>0.0</td>\n",
       "      <td>0.0</td>\n",
>>>>>>> 4479aec9b24a47926fded6e8a499ef4f71cf3803
       "      <td>1.0</td>\n",
       "      <td>0.0</td>\n",
       "      <td>0.0</td>\n",
       "      <td>0.0</td>\n",
<<<<<<< HEAD
       "    </tr>\n",
       "    <tr>\n",
       "      <th>3239</th>\n",
       "      <td>-0.126442</td>\n",
       "      <td>1.184944</td>\n",
       "      <td>-1.264739</td>\n",
       "      <td>0.847080</td>\n",
       "      <td>-0.144411</td>\n",
       "      <td>-0.446808</td>\n",
       "      <td>-2.549294</td>\n",
       "      <td>-6.496857</td>\n",
       "      <td>1.816786</td>\n",
       "      <td>-1.687706</td>\n",
       "      <td>0.574851</td>\n",
       "      <td>1.680324</td>\n",
       "      <td>3.924993</td>\n",
       "      <td>-0.859933</td>\n",
       "      <td>-1.201060</td>\n",
       "      <td>-4.571504</td>\n",
       "      <td>-0.731139</td>\n",
       "      <td>0.672355</td>\n",
       "      <td>0.043066</td>\n",
       "      <td>0.452090</td>\n",
       "      <td>-0.881399</td>\n",
       "      <td>-0.783747</td>\n",
=======
       "      <td>0.0</td>\n",
       "    </tr>\n",
       "    <tr>\n",
       "      <th>3239</th>\n",
       "      <td>-0.130168</td>\n",
       "      <td>-0.852404</td>\n",
       "      <td>0.810793</td>\n",
       "      <td>-0.826156</td>\n",
       "      <td>-0.143026</td>\n",
       "      <td>-0.442176</td>\n",
       "      <td>0.395561</td>\n",
       "      <td>0.164616</td>\n",
       "      <td>-0.554479</td>\n",
       "      <td>0.615981</td>\n",
       "      <td>0.580398</td>\n",
       "      <td>-0.616612</td>\n",
       "      <td>-0.551800</td>\n",
       "      <td>-0.371016</td>\n",
       "      <td>0.745255</td>\n",
       "      <td>0.215631</td>\n",
       "      <td>-0.715304</td>\n",
       "      <td>-1.521153</td>\n",
       "      <td>0.055633</td>\n",
       "      <td>-2.248987</td>\n",
       "      <td>-0.874237</td>\n",
       "      <td>-0.78113</td>\n",
>>>>>>> 4479aec9b24a47926fded6e8a499ef4f71cf3803
       "      <td>0.0</td>\n",
       "      <td>1.0</td>\n",
       "      <td>0.0</td>\n",
       "      <td>0.0</td>\n",
       "      <td>0.0</td>\n",
       "      <td>0.0</td>\n",
       "      <td>0.0</td>\n",
       "      <td>0.0</td>\n",
       "      <td>0.0</td>\n",
       "      <td>0.0</td>\n",
<<<<<<< HEAD
=======
       "      <td>0.0</td>\n",
       "      <td>0.0</td>\n",
>>>>>>> 4479aec9b24a47926fded6e8a499ef4f71cf3803
       "      <td>1.0</td>\n",
       "      <td>0.0</td>\n",
       "      <td>0.0</td>\n",
       "      <td>0.0</td>\n",
       "      <td>0.0</td>\n",
       "      <td>0.0</td>\n",
       "      <td>0.0</td>\n",
       "      <td>0.0</td>\n",
       "      <td>0.0</td>\n",
       "      <td>0.0</td>\n",
<<<<<<< HEAD
       "      <td>0.0</td>\n",
       "      <td>0.0</td>\n",
       "    </tr>\n",
       "    <tr>\n",
       "      <th>3240</th>\n",
       "      <td>-0.126442</td>\n",
       "      <td>-0.848633</td>\n",
       "      <td>0.803355</td>\n",
       "      <td>-0.813893</td>\n",
       "      <td>-0.144411</td>\n",
       "      <td>-0.446808</td>\n",
       "      <td>0.393603</td>\n",
       "      <td>0.154500</td>\n",
       "      <td>1.816786</td>\n",
       "      <td>0.606184</td>\n",
       "      <td>0.574851</td>\n",
       "      <td>-0.607291</td>\n",
       "      <td>-0.547898</td>\n",
       "      <td>-0.859933</td>\n",
       "      <td>0.737504</td>\n",
       "      <td>0.218746</td>\n",
       "      <td>1.367729</td>\n",
       "      <td>0.672355</td>\n",
       "      <td>0.043066</td>\n",
       "      <td>0.452090</td>\n",
       "      <td>-0.881399</td>\n",
       "      <td>0.689643</td>\n",
       "      <td>0.0</td>\n",
       "      <td>1.0</td>\n",
       "      <td>0.0</td>\n",
       "      <td>0.0</td>\n",
=======
       "    </tr>\n",
       "    <tr>\n",
       "      <th>3240</th>\n",
       "      <td>-0.130168</td>\n",
       "      <td>1.179693</td>\n",
       "      <td>0.810793</td>\n",
       "      <td>0.231526</td>\n",
       "      <td>-0.143026</td>\n",
       "      <td>-0.442176</td>\n",
       "      <td>0.395561</td>\n",
       "      <td>0.164616</td>\n",
       "      <td>-0.554479</td>\n",
       "      <td>0.615981</td>\n",
       "      <td>0.580398</td>\n",
       "      <td>-0.616612</td>\n",
       "      <td>-0.551800</td>\n",
       "      <td>0.622755</td>\n",
       "      <td>-0.223995</td>\n",
       "      <td>0.215631</td>\n",
       "      <td>1.398006</td>\n",
       "      <td>0.657396</td>\n",
       "      <td>0.055633</td>\n",
       "      <td>0.444645</td>\n",
       "      <td>1.143855</td>\n",
       "      <td>0.67803</td>\n",
>>>>>>> 4479aec9b24a47926fded6e8a499ef4f71cf3803
       "      <td>0.0</td>\n",
       "      <td>0.0</td>\n",
       "      <td>0.0</td>\n",
       "      <td>1.0</td>\n",
       "      <td>0.0</td>\n",
       "      <td>0.0</td>\n",
       "      <td>0.0</td>\n",
       "      <td>0.0</td>\n",
       "      <td>0.0</td>\n",
       "      <td>0.0</td>\n",
       "      <td>0.0</td>\n",
       "      <td>0.0</td>\n",
       "      <td>0.0</td>\n",
       "      <td>0.0</td>\n",
       "      <td>0.0</td>\n",
       "      <td>0.0</td>\n",
       "      <td>0.0</td>\n",
       "      <td>0.0</td>\n",
<<<<<<< HEAD
=======
       "      <td>0.0</td>\n",
       "      <td>0.0</td>\n",
       "      <td>1.0</td>\n",
       "      <td>0.0</td>\n",
>>>>>>> 4479aec9b24a47926fded6e8a499ef4f71cf3803
       "    </tr>\n",
       "  </tbody>\n",
       "</table>\n",
       "<p>3241 rows × 44 columns</p>\n",
       "</div>"
      ],
      "text/plain": [
       "        Gender  mother_alive  father_alive  parents_age  marital_status    darija  class_arabic    french   amazygh  read_one_lang  write_one_lang  no_read_write  parents_level_ed  num_per_house  type_housing  automobiles  mobile_phones  satellite  no_water  individual_water_net  electrical_net_co  work_activity_classified  region_L'Oriental  region_Marrakech - Tensift - Al Haouz  region_Meknhs - Tafilalet  region_Sous - Massa - Draa  region_Tadla - Azilal  province_Al Haouz  province_Azilal  province_Chichaoua  province_Chtouka Ait Baha  province_El Hajeb  province_El Kelaa Des Sraghna  province_Errachidia  province_Essaouira  province_Ifrane  province_Jerada  province_Khenifra  province_Meknes  province_Nador  province_Ouarzazate  province_Taourirt  province_Taroudant  province_Tiznit\n",
<<<<<<< HEAD
       "0    -0.126442      1.184944      0.803355     1.677567       -0.144411  2.245716      0.393603  0.154500 -0.552297       0.606184        0.574851      -0.607291         -0.547898       1.640105      0.737504     0.218746      -0.731139  -1.487310  0.043066              0.452090          -0.881399                 -0.783747                0.0                                    0.0                        0.0                         1.0                    0.0                0.0              0.0                 0.0                        0.0                0.0                            0.0                  0.0                 0.0              0.0              0.0                0.0              0.0             0.0                  1.0                0.0                 0.0              0.0\n",
       "1    -0.126442     -0.848633     -1.264739    -0.294839       -0.144411 -0.446808      0.393603  0.154500 -0.552297       0.606184        0.574851      -0.607291         -0.547898      -0.359925      0.737504     0.218746      -0.731139   0.672355  0.043066              0.452090          -0.881399                 -0.783747                1.0                                    0.0                        0.0                         0.0                    0.0                0.0              0.0                 0.0                        0.0                0.0                            0.0                  0.0                 0.0              0.0              1.0                0.0              0.0             0.0                  0.0                0.0                 0.0              0.0\n",
       "2    -0.126442     -0.848633     -1.264739    -0.813893       -0.144411 -0.446808     -2.549294  0.154500  1.816786      -1.687706       -1.774953       1.680324          1.688548      -1.359940     -1.201060     0.218746      -0.731139   0.672355  0.043066             -2.211951          -0.881399                  0.689643                0.0                                    0.0                        1.0                         0.0                    0.0                0.0              0.0                 0.0                        0.0                0.0                            0.0                  0.0                 0.0              0.0              0.0                0.0              1.0             0.0                  0.0                0.0                 0.0              0.0\n",
       "3    -0.126442     -0.848633     -1.264739     0.120405       -0.144411 -0.446808     -2.549294  0.154500  1.816786      -1.687706       -1.774953       1.680324          1.688548       2.140112     -0.231778     0.218746      -0.731139  -1.487310  0.043066              0.452090          -0.881399                 -0.783747                0.0                                    0.0                        1.0                         0.0                    0.0                0.0              0.0                 0.0                        0.0                0.0                            0.0                  0.0                 0.0              0.0              0.0                0.0              1.0             0.0                  0.0                0.0                 0.0              0.0\n",
       "4    -0.126442     -0.848633     -1.264739    -1.332947       -0.144411  2.245716      0.393603  0.154500 -0.552297      -1.687706       -1.774953       1.680324          1.688548      -0.359925      0.737504     0.218746      -0.731139   0.672355  0.043066              0.452090           1.134560                 -0.783747                0.0                                    1.0                        0.0                         0.0                    0.0                0.0              0.0                 0.0                        0.0                0.0                            0.0                  0.0                 1.0              0.0              0.0                0.0              0.0             0.0                  0.0                0.0                 0.0              0.0\n",
       "...        ...           ...           ...          ...             ...       ...           ...       ...       ...            ...             ...            ...               ...            ...           ...          ...            ...        ...       ...                   ...                ...                       ...                ...                                    ...                        ...                         ...                    ...                ...              ...                 ...                        ...                ...                            ...                  ...                 ...              ...              ...                ...              ...             ...                  ...                ...                 ...              ...\n",
       "3236 -0.126442     -0.848633     -1.264739    -0.191028       -0.144411 -0.446808      0.393603  0.154500 -0.552297       0.606184        0.574851      -0.607291         -0.547898      -0.359925     -1.201060     0.218746       1.367729   0.672355  0.043066              0.452090          -0.881399                 -0.783747                0.0                                    1.0                        0.0                         0.0                    0.0                1.0              0.0                 0.0                        0.0                0.0                            0.0                  0.0                 0.0              0.0              0.0                0.0              0.0             0.0                  0.0                0.0                 0.0              0.0\n",
       "3237  7.908794     -0.848633     -1.264739    -0.191028        4.756487  2.245716      0.393603  0.154500 -0.552297       0.606184        0.574851      -0.607291         -0.547898       0.140082     -1.201060     0.218746       1.367729   0.672355  0.043066              0.452090           1.134560                  2.163033                1.0                                    0.0                        0.0                         0.0                    0.0                0.0              0.0                 0.0                        0.0                0.0                            0.0                  0.0                 0.0              0.0              0.0                0.0              0.0             1.0                  0.0                0.0                 0.0              0.0\n",
       "3238 -0.126442      1.184944      0.803355     1.366134       -0.144411  2.245716      0.393603  0.154500 -0.552297       0.606184        0.574851      -0.607291         -0.547898       2.140112     -1.201060     0.218746       1.367729   0.672355  0.043066              0.452090           1.134560                 -0.783747                0.0                                    0.0                        0.0                         1.0                    0.0                0.0              0.0                 0.0                        0.0                0.0                            0.0                  0.0                 0.0              0.0              0.0                0.0              0.0             0.0                  1.0                0.0                 0.0              0.0\n",
       "3239 -0.126442      1.184944     -1.264739     0.847080       -0.144411 -0.446808     -2.549294 -6.496857  1.816786      -1.687706        0.574851       1.680324          3.924993      -0.859933     -1.201060    -4.571504      -0.731139   0.672355  0.043066              0.452090          -0.881399                 -0.783747                0.0                                    1.0                        0.0                         0.0                    0.0                0.0              0.0                 0.0                        0.0                0.0                            1.0                  0.0                 0.0              0.0              0.0                0.0              0.0             0.0                  0.0                0.0                 0.0              0.0\n",
       "3240 -0.126442     -0.848633      0.803355    -0.813893       -0.144411 -0.446808      0.393603  0.154500  1.816786       0.606184        0.574851      -0.607291         -0.547898      -0.859933      0.737504     0.218746       1.367729   0.672355  0.043066              0.452090          -0.881399                  0.689643                0.0                                    1.0                        0.0                         0.0                    0.0                0.0              0.0                 1.0                        0.0                0.0                            0.0                  0.0                 0.0              0.0              0.0                0.0              0.0             0.0                  0.0                0.0                 0.0              0.0\n",
=======
       "0    -0.130168     -0.852404     -1.253845    -0.403083       -0.143026 -0.442176      0.395561  0.164616  1.809052      -1.658706       -1.755966       1.652871          0.524891      -0.867902      0.745255     0.215631      -0.715304   0.657396  0.055633              0.444645          -0.874237                   0.67803                0.0                                    1.0                        0.0                         0.0                    0.0                0.0              0.0                 0.0                        0.0                0.0                            1.0                  0.0                 0.0              0.0              0.0                0.0              0.0             0.0                  0.0                0.0                 0.0              0.0\n",
       "1    -0.130168     -0.852404     -1.253845     0.337294       -0.143026 -0.442176     -2.535831  0.164616 -0.554479      -1.658706       -1.755966       1.652871          0.524891       1.119640      0.745255     0.215631      -0.715304   0.657396  0.055633              0.444645          -0.874237                   0.67803                0.0                                    1.0                        0.0                         0.0                    0.0                0.0              0.0                 0.0                        0.0                0.0                            0.0                  0.0                 1.0              0.0              0.0                0.0              0.0             0.0                  0.0                0.0                 0.0              0.0\n",
       "2    -0.130168     -0.852404     -1.253845    -0.826156       -0.143026 -0.442176     -2.535831  0.164616  1.809052      -1.658706       -1.755966       1.652871          0.524891      -1.364787      0.745255     0.215631       1.398006   0.657396  0.055633              0.444645          -0.874237                  -0.78113                0.0                                    1.0                        0.0                         0.0                    0.0                0.0              0.0                 0.0                        0.0                0.0                            0.0                  0.0                 1.0              0.0              0.0                0.0              0.0             0.0                  0.0                0.0                 0.0              0.0\n",
       "3    -0.130168     -0.852404      0.810793     0.125758       -0.143026 -0.442176      0.395561  0.164616  1.809052       0.615981        0.580398      -0.616612         -0.551800      -0.867902     -1.193246     0.215631      -0.715304   0.657396  0.055633             -2.248987          -0.874237                   0.67803                0.0                                    1.0                        0.0                         0.0                    0.0                0.0              0.0                 0.0                        0.0                0.0                            1.0                  0.0                 0.0              0.0              0.0                0.0              0.0             0.0                  0.0                0.0                 0.0              0.0\n",
       "4    -0.130168      1.179693     -1.253845    -0.403083       -0.143026 -0.442176      0.395561  0.164616 -0.554479      -1.658706       -1.755966       1.652871          0.524891       1.119640     -1.193246     0.215631       1.398006   0.657396  0.055633              0.444645           1.143855                   0.67803                0.0                                    0.0                        0.0                         1.0                    0.0                0.0              0.0                 0.0                        0.0                0.0                            0.0                  0.0                 0.0              0.0              0.0                0.0              0.0             0.0                  1.0                0.0                 0.0              0.0\n",
       "...        ...           ...           ...          ...             ...       ...           ...       ...       ...            ...             ...            ...               ...            ...           ...          ...            ...        ...       ...                   ...                ...                       ...                ...                                    ...                        ...                         ...                    ...                ...              ...                 ...                        ...                ...                            ...                  ...                 ...              ...              ...                ...              ...             ...                  ...                ...                 ...              ...\n",
       "3236 -0.130168     -0.852404      0.810793     0.548830       -0.143026 -0.442176      0.395561  0.164616  1.809052       0.615981        0.580398      -0.616612         -0.551800       1.119640      0.745255     0.215631      -0.715304   0.657396  0.055633              0.444645          -0.874237                   2.13719                1.0                                    0.0                        0.0                         0.0                    0.0                0.0              0.0                 0.0                        0.0                0.0                            0.0                  0.0                 0.0              0.0              0.0                0.0              0.0             0.0                  0.0                1.0                 0.0              0.0\n",
       "3237 -0.130168     -0.852404      0.810793     0.019990       -0.143026  2.268635      0.395561  0.164616 -0.554479       0.615981        0.580398      -0.616612         -0.551800      -0.867902     -1.193246     0.215631       1.398006  -1.521153  0.055633              0.444645          -0.874237                   2.13719                0.0                                    0.0                        0.0                         1.0                    0.0                0.0              0.0                 0.0                        0.0                0.0                            0.0                  0.0                 0.0              0.0              0.0                0.0              0.0             0.0                  0.0                0.0                 1.0              0.0\n",
       "3238 -0.130168      1.179693      0.810793     1.077671       -0.143026 -0.442176      0.395561  0.164616 -0.554479       0.615981        0.580398      -0.616612         -0.551800       0.125869      0.745255     0.215631      -0.715304   0.657396  0.055633              0.444645           1.143855                  -0.78113                1.0                                    0.0                        0.0                         0.0                    0.0                0.0              0.0                 0.0                        0.0                0.0                            0.0                  0.0                 0.0              0.0              0.0                0.0              0.0             1.0                  0.0                0.0                 0.0              0.0\n",
       "3239 -0.130168     -0.852404      0.810793    -0.826156       -0.143026 -0.442176      0.395561  0.164616 -0.554479       0.615981        0.580398      -0.616612         -0.551800      -0.371016      0.745255     0.215631      -0.715304  -1.521153  0.055633             -2.248987          -0.874237                  -0.78113                0.0                                    1.0                        0.0                         0.0                    0.0                0.0              0.0                 0.0                        0.0                0.0                            0.0                  0.0                 1.0              0.0              0.0                0.0              0.0             0.0                  0.0                0.0                 0.0              0.0\n",
       "3240 -0.130168      1.179693      0.810793     0.231526       -0.143026 -0.442176      0.395561  0.164616 -0.554479       0.615981        0.580398      -0.616612         -0.551800       0.622755     -0.223995     0.215631       1.398006   0.657396  0.055633              0.444645           1.143855                   0.67803                0.0                                    0.0                        0.0                         1.0                    0.0                0.0              0.0                 0.0                        0.0                0.0                            0.0                  0.0                 0.0              0.0              0.0                0.0              0.0             0.0                  0.0                0.0                 1.0              0.0\n",
>>>>>>> 4479aec9b24a47926fded6e8a499ef4f71cf3803
       "\n",
       "[3241 rows x 44 columns]"
      ]
     },
<<<<<<< HEAD
     "execution_count": 23,
=======
     "execution_count": 22,
>>>>>>> 4479aec9b24a47926fded6e8a499ef4f71cf3803
     "metadata": {},
     "output_type": "execute_result"
    }
   ],
   "source": [
    "feature_names = preprocessor.named_transformers_['cat_transformer']\\\n",
    "    .named_steps['one_hot_encoder'].get_feature_names_out(X_train_cat.columns)\n",
    "\n",
    "\n",
    "X_train_preprocessed_df = pd.DataFrame(X_train_preprocessed, columns=list(X_train_num.columns) + list(feature_names))\n",
    "X_train_preprocessed_df"
   ]
  },
  {
   "attachments": {},
   "cell_type": "markdown",
   "metadata": {},
   "source": [
    "# Testing MLPClassifier"
   ]
  },
  {
   "cell_type": "code",
<<<<<<< HEAD
   "execution_count": 24,
=======
   "execution_count": 23,
>>>>>>> 4479aec9b24a47926fded6e8a499ef4f71cf3803
   "metadata": {},
   "outputs": [
    {
     "name": "stderr",
     "output_type": "stream",
     "text": [
      "/home/andriigegliuk/.pyenv/versions/3.10.6/envs/dropoutpred-env/lib/python3.10/site-packages/sklearn/neural_network/_multilayer_perceptron.py:686: ConvergenceWarning: Stochastic Optimizer: Maximum iterations (100) reached and the optimization hasn't converged yet.\n",
      "  warnings.warn(\n"
     ]
    },
    {
     "data": {
      "text/html": [
       "<style>#sk-container-id-2 {color: black;background-color: white;}#sk-container-id-2 pre{padding: 0;}#sk-container-id-2 div.sk-toggleable {background-color: white;}#sk-container-id-2 label.sk-toggleable__label {cursor: pointer;display: block;width: 100%;margin-bottom: 0;padding: 0.3em;box-sizing: border-box;text-align: center;}#sk-container-id-2 label.sk-toggleable__label-arrow:before {content: \"▸\";float: left;margin-right: 0.25em;color: #696969;}#sk-container-id-2 label.sk-toggleable__label-arrow:hover:before {color: black;}#sk-container-id-2 div.sk-estimator:hover label.sk-toggleable__label-arrow:before {color: black;}#sk-container-id-2 div.sk-toggleable__content {max-height: 0;max-width: 0;overflow: hidden;text-align: left;background-color: #f0f8ff;}#sk-container-id-2 div.sk-toggleable__content pre {margin: 0.2em;color: black;border-radius: 0.25em;background-color: #f0f8ff;}#sk-container-id-2 input.sk-toggleable__control:checked~div.sk-toggleable__content {max-height: 200px;max-width: 100%;overflow: auto;}#sk-container-id-2 input.sk-toggleable__control:checked~label.sk-toggleable__label-arrow:before {content: \"▾\";}#sk-container-id-2 div.sk-estimator input.sk-toggleable__control:checked~label.sk-toggleable__label {background-color: #d4ebff;}#sk-container-id-2 div.sk-label input.sk-toggleable__control:checked~label.sk-toggleable__label {background-color: #d4ebff;}#sk-container-id-2 input.sk-hidden--visually {border: 0;clip: rect(1px 1px 1px 1px);clip: rect(1px, 1px, 1px, 1px);height: 1px;margin: -1px;overflow: hidden;padding: 0;position: absolute;width: 1px;}#sk-container-id-2 div.sk-estimator {font-family: monospace;background-color: #f0f8ff;border: 1px dotted black;border-radius: 0.25em;box-sizing: border-box;margin-bottom: 0.5em;}#sk-container-id-2 div.sk-estimator:hover {background-color: #d4ebff;}#sk-container-id-2 div.sk-parallel-item::after {content: \"\";width: 100%;border-bottom: 1px solid gray;flex-grow: 1;}#sk-container-id-2 div.sk-label:hover label.sk-toggleable__label {background-color: #d4ebff;}#sk-container-id-2 div.sk-serial::before {content: \"\";position: absolute;border-left: 1px solid gray;box-sizing: border-box;top: 0;bottom: 0;left: 50%;z-index: 0;}#sk-container-id-2 div.sk-serial {display: flex;flex-direction: column;align-items: center;background-color: white;padding-right: 0.2em;padding-left: 0.2em;position: relative;}#sk-container-id-2 div.sk-item {position: relative;z-index: 1;}#sk-container-id-2 div.sk-parallel {display: flex;align-items: stretch;justify-content: center;background-color: white;position: relative;}#sk-container-id-2 div.sk-item::before, #sk-container-id-2 div.sk-parallel-item::before {content: \"\";position: absolute;border-left: 1px solid gray;box-sizing: border-box;top: 0;bottom: 0;left: 50%;z-index: -1;}#sk-container-id-2 div.sk-parallel-item {display: flex;flex-direction: column;z-index: 1;position: relative;background-color: white;}#sk-container-id-2 div.sk-parallel-item:first-child::after {align-self: flex-end;width: 50%;}#sk-container-id-2 div.sk-parallel-item:last-child::after {align-self: flex-start;width: 50%;}#sk-container-id-2 div.sk-parallel-item:only-child::after {width: 0;}#sk-container-id-2 div.sk-dashed-wrapped {border: 1px dashed gray;margin: 0 0.4em 0.5em 0.4em;box-sizing: border-box;padding-bottom: 0.4em;background-color: white;}#sk-container-id-2 div.sk-label label {font-family: monospace;font-weight: bold;display: inline-block;line-height: 1.2em;}#sk-container-id-2 div.sk-label-container {text-align: center;}#sk-container-id-2 div.sk-container {/* jupyter's `normalize.less` sets `[hidden] { display: none; }` but bootstrap.min.css set `[hidden] { display: none !important; }` so we also need the `!important` here to be able to override the default hidden behavior on the sphinx rendered scikit-learn.org. See: https://github.com/scikit-learn/scikit-learn/issues/21755 */display: inline-block !important;position: relative;}#sk-container-id-2 div.sk-text-repr-fallback {display: none;}</style><div id=\"sk-container-id-2\" class=\"sk-top-container\"><div class=\"sk-text-repr-fallback\"><pre>MLPClassifier(max_iter=100)</pre><b>In a Jupyter environment, please rerun this cell to show the HTML representation or trust the notebook. <br />On GitHub, the HTML representation is unable to render, please try loading this page with nbviewer.org.</b></div><div class=\"sk-container\" hidden><div class=\"sk-item\"><div class=\"sk-estimator sk-toggleable\"><input class=\"sk-toggleable__control sk-hidden--visually\" id=\"sk-estimator-id-7\" type=\"checkbox\" checked><label for=\"sk-estimator-id-7\" class=\"sk-toggleable__label sk-toggleable__label-arrow\">MLPClassifier</label><div class=\"sk-toggleable__content\"><pre>MLPClassifier(max_iter=100)</pre></div></div></div></div></div>"
      ],
      "text/plain": [
       "MLPClassifier(max_iter=100)"
      ]
     },
<<<<<<< HEAD
     "execution_count": 24,
=======
     "execution_count": 23,
>>>>>>> 4479aec9b24a47926fded6e8a499ef4f71cf3803
     "metadata": {},
     "output_type": "execute_result"
    }
   ],
   "source": [
    "model_mlp = MLPClassifier(max_iter=100)\n",
    "model_mlp.fit(X_train_preprocessed, y_train)"
   ]
  },
  {
   "cell_type": "code",
<<<<<<< HEAD
   "execution_count": 25,
=======
   "execution_count": 24,
>>>>>>> 4479aec9b24a47926fded6e8a499ef4f71cf3803
   "metadata": {},
   "outputs": [
    {
     "data": {
      "text/plain": [
       "array([1., 1., 1., 1., 1., 1., 1., 1., 1., 1., 1., 1., 1., 1., 1., 1., 1.,\n",
<<<<<<< HEAD
       "       1., 1., 1., 1., 1., 1., 1., 1., 1., 0., 1., 1., 1., 1., 1., 1., 1.,\n",
       "       1., 0., 0., 1., 1., 1., 1., 1., 0., 1., 1., 1., 1., 1., 1., 0., 1.,\n",
       "       1., 1., 1., 1., 1., 1., 1., 1., 1., 1., 1., 1., 1., 1., 1., 0., 1.,\n",
       "       1., 1., 1., 1., 1., 1., 1., 1., 1., 1., 1., 1., 1., 1., 1., 1., 1.,\n",
       "       1., 1., 0., 1., 1., 1., 1., 1., 1., 1., 1., 1., 1., 1., 1., 1., 1.,\n",
       "       1., 1., 1., 1., 1., 1., 1., 1., 0., 1., 1., 1., 1., 1., 1., 1., 1.,\n",
       "       1., 1., 1., 1., 1., 1., 1., 1., 1., 1., 1., 1., 1., 1., 0., 1., 0.,\n",
       "       1., 1., 1., 1., 1., 0., 1., 1., 0., 0., 1., 1., 1., 1., 1., 1., 1.,\n",
       "       1., 1., 1., 1., 1., 1., 1., 1., 1., 1., 1., 1., 1., 1., 1., 1., 1.,\n",
       "       1., 1., 1., 1., 1., 1., 1., 1., 1., 1., 1., 1., 1., 1., 1., 1., 1.,\n",
       "       1., 1., 1., 1., 1., 1., 1., 1., 1., 1., 1., 1., 1., 1., 1., 1., 1.,\n",
       "       1., 1., 0., 1., 1., 1., 1., 1., 0., 1., 1., 0., 1., 1., 1., 1., 1.,\n",
       "       1., 1., 1., 1., 1., 1., 1., 0., 1., 1., 1., 0., 1., 1., 0., 1., 1.,\n",
       "       1., 1., 1., 1., 1., 1., 1., 1., 1., 1., 1., 1., 0., 1., 1., 0., 1.,\n",
       "       0., 1., 1., 1., 1., 1., 1., 1., 1., 1., 1., 0., 1., 1., 1., 1., 1.,\n",
       "       1., 1., 1., 1., 1., 0., 1., 1., 1., 0., 1., 1., 1., 1., 1., 1., 1.,\n",
       "       1., 1., 1., 0., 1., 1., 1., 1., 1., 1., 1., 1., 1., 1., 1., 1., 1.,\n",
       "       1., 1., 1., 1., 1., 1., 1., 1., 0., 1., 0., 1., 1., 1., 1., 1., 1.,\n",
       "       1., 1., 1., 1., 1., 1., 1., 1., 0., 1., 1., 1., 1., 1., 1., 1., 1.,\n",
       "       1., 1., 1., 1., 1., 0., 1., 1., 1., 1., 1., 1., 1., 1., 1., 1., 1.,\n",
       "       1., 1., 1., 0., 1., 1., 1., 1., 1., 1., 1., 1., 1., 0., 1., 1., 1.,\n",
       "       1., 1., 1., 1., 1., 1., 0., 1., 1., 1., 1., 1., 1., 1., 1., 1., 1.,\n",
       "       0., 1., 1., 1., 1., 1., 1., 1., 1., 1., 1., 1., 1., 1., 1., 1., 1.,\n",
       "       1., 1., 1., 1., 1., 1., 0., 1., 1., 1., 1., 1., 1., 1., 1., 1., 1.,\n",
       "       1., 0., 1., 1., 1., 1., 1., 0., 1., 1., 1., 1., 1., 1., 1., 1., 1.,\n",
       "       1., 1., 1., 1., 1., 1., 1., 1., 1., 0., 1., 0., 1., 0., 1., 1., 1.,\n",
       "       1., 1., 1., 1., 1., 1., 1., 1., 1., 1., 1., 1., 0., 1., 1., 1., 1.,\n",
       "       1., 1., 1., 1., 1., 1., 1., 1., 1., 1., 1., 1., 1., 1., 1., 1., 1.,\n",
       "       1., 1., 0., 1., 1., 1., 1., 1., 1., 1., 0., 1., 1., 1., 1., 1., 1.,\n",
       "       1., 1., 1., 0., 1., 1., 0., 1., 1., 1., 1., 1., 0., 1., 1., 1., 1.,\n",
       "       1., 1., 1., 1., 1., 1., 1., 1., 0., 1., 1., 1., 1., 1., 1., 1., 1.,\n",
       "       1., 1., 1., 1., 1., 1., 1., 1., 1., 1., 1., 1., 1., 1., 1., 1., 1.,\n",
       "       1., 1., 1., 1., 1., 1., 1., 1., 1., 1., 1., 1., 1., 1., 1., 1., 1.,\n",
       "       1., 1., 1., 1., 1., 1., 1., 1., 1., 1., 1., 1., 1., 1., 1., 1., 1.,\n",
       "       1., 1., 1., 1., 0., 1., 1., 1., 1., 1., 1., 1., 1., 1., 1., 0., 1.,\n",
       "       1., 1., 1., 1., 1., 1., 1., 0., 1., 1., 0., 1., 1., 1., 1., 1., 1.,\n",
       "       1., 0., 0., 1., 1., 1., 1., 1., 1., 1., 1., 1., 1., 1., 1., 1., 1.,\n",
       "       1., 1., 1., 1., 1., 1., 1., 1., 1., 0., 1., 1., 1., 1., 1., 1., 1.,\n",
       "       1., 0., 1., 1., 1., 1., 1., 1., 1., 1., 1., 0., 1., 1., 1., 1., 1.,\n",
       "       1., 1., 1., 1., 1., 1., 1., 1., 1., 1., 1., 1., 0., 1., 0., 1., 1.,\n",
       "       1., 1., 1., 1., 1., 1., 1., 1., 1., 1., 1., 1., 1., 1., 1., 1., 1.,\n",
       "       1., 1., 1., 1., 1., 1., 1., 1., 1., 0., 1., 1., 1., 1., 1., 1., 1.,\n",
       "       1., 0., 1., 1., 1., 1., 1., 1., 1., 1., 1., 1., 1., 1., 1., 1., 1.,\n",
       "       1., 1., 1., 1., 1., 1., 1., 1., 1., 1., 1., 1., 1., 1., 1., 1., 1.,\n",
       "       1., 1., 1., 0., 1., 1., 1., 1., 1., 1., 1., 1., 1., 1., 1., 0., 1.,\n",
       "       1., 1., 1., 1., 1., 1., 1., 1., 1., 1., 1., 1., 1., 1., 1., 1., 1.,\n",
       "       1., 1., 0., 1., 1., 1., 1., 1., 1., 1., 1., 1.])"
      ]
     },
     "execution_count": 25,
=======
       "       0., 1., 1., 1., 1., 1., 1., 1., 0., 1., 1., 1., 1., 1., 1., 1., 1.,\n",
       "       1., 1., 1., 1., 1., 1., 1., 1., 1., 1., 1., 1., 1., 1., 1., 1., 1.,\n",
       "       1., 1., 1., 0., 1., 1., 1., 1., 1., 1., 1., 1., 1., 1., 1., 1., 1.,\n",
       "       1., 1., 1., 1., 1., 1., 1., 1., 1., 1., 1., 1., 1., 0., 0., 1., 1.,\n",
       "       1., 1., 1., 1., 1., 1., 1., 1., 1., 1., 1., 1., 1., 1., 1., 1., 1.,\n",
       "       1., 1., 1., 1., 1., 1., 1., 1., 1., 1., 1., 1., 1., 1., 1., 1., 1.,\n",
       "       1., 0., 1., 1., 1., 1., 1., 1., 1., 0., 0., 1., 1., 1., 1., 1., 1.,\n",
       "       1., 1., 1., 0., 1., 1., 1., 1., 1., 1., 1., 1., 1., 1., 1., 1., 1.,\n",
       "       0., 1., 1., 1., 0., 1., 1., 1., 1., 1., 1., 0., 1., 1., 1., 1., 1.,\n",
       "       1., 1., 1., 1., 1., 0., 0., 1., 1., 1., 1., 1., 1., 1., 1., 1., 1.,\n",
       "       1., 1., 0., 1., 1., 1., 1., 1., 1., 1., 1., 1., 1., 1., 1., 1., 1.,\n",
       "       1., 1., 1., 1., 1., 0., 1., 1., 1., 1., 1., 1., 1., 1., 1., 1., 1.,\n",
       "       1., 1., 0., 1., 1., 1., 1., 1., 1., 0., 0., 1., 0., 1., 1., 0., 1.,\n",
       "       1., 1., 1., 1., 1., 1., 1., 1., 1., 1., 1., 1., 1., 1., 1., 1., 1.,\n",
       "       1., 1., 1., 1., 1., 1., 1., 1., 1., 1., 1., 1., 1., 1., 1., 1., 1.,\n",
       "       1., 1., 1., 1., 1., 1., 1., 1., 1., 1., 1., 1., 1., 1., 1., 1., 1.,\n",
       "       1., 1., 1., 0., 1., 1., 1., 1., 1., 1., 1., 1., 1., 1., 1., 1., 1.,\n",
       "       1., 1., 1., 1., 1., 1., 1., 1., 0., 1., 1., 1., 1., 1., 1., 1., 1.,\n",
       "       1., 1., 1., 1., 1., 1., 1., 1., 1., 1., 1., 1., 1., 0., 1., 1., 0.,\n",
       "       1., 1., 1., 1., 1., 1., 1., 1., 0., 1., 0., 1., 1., 1., 1., 1., 1.,\n",
       "       1., 1., 1., 1., 1., 1., 1., 0., 1., 1., 1., 1., 1., 1., 1., 1., 0.,\n",
       "       1., 1., 1., 1., 1., 0., 1., 1., 1., 1., 0., 1., 1., 1., 1., 0., 1.,\n",
       "       1., 1., 1., 1., 1., 1., 1., 1., 1., 1., 1., 1., 1., 1., 1., 1., 1.,\n",
       "       1., 1., 1., 1., 0., 0., 1., 1., 1., 1., 1., 1., 0., 1., 1., 1., 1.,\n",
       "       1., 1., 1., 1., 1., 0., 1., 1., 1., 1., 1., 1., 1., 1., 1., 1., 1.,\n",
       "       1., 1., 1., 1., 1., 1., 1., 1., 1., 1., 1., 0., 1., 1., 1., 1., 1.,\n",
       "       1., 1., 1., 1., 1., 1., 1., 1., 1., 1., 1., 1., 1., 1., 1., 1., 1.,\n",
       "       1., 1., 1., 1., 1., 1., 1., 1., 1., 1., 1., 1., 1., 1., 1., 1., 1.,\n",
       "       1., 1., 1., 0., 1., 1., 1., 1., 1., 1., 1., 1., 1., 0., 1., 1., 1.,\n",
       "       1., 1., 1., 1., 1., 1., 0., 1., 1., 0., 1., 1., 1., 0., 1., 1., 1.,\n",
       "       0., 1., 1., 0., 1., 1., 1., 1., 1., 1., 1., 1., 0., 1., 1., 1., 1.,\n",
       "       1., 1., 1., 1., 0., 1., 1., 1., 1., 1., 1., 1., 1., 1., 1., 1., 1.,\n",
       "       0., 1., 1., 1., 1., 1., 1., 1., 1., 1., 0., 1., 1., 1., 1., 1., 1.,\n",
       "       1., 1., 1., 1., 1., 1., 1., 1., 1., 1., 0., 1., 1., 1., 1., 1., 1.,\n",
       "       1., 1., 1., 1., 1., 1., 1., 0., 1., 1., 0., 0., 1., 1., 1., 1., 1.,\n",
       "       1., 1., 1., 1., 1., 1., 1., 1., 1., 1., 1., 1., 1., 1., 1., 0., 1.,\n",
       "       1., 1., 1., 1., 1., 1., 1., 0., 1., 1., 1., 0., 0., 0., 1., 1., 1.,\n",
       "       1., 1., 1., 1., 1., 1., 1., 1., 1., 1., 1., 1., 1., 1., 1., 1., 1.,\n",
       "       1., 1., 1., 1., 1., 1., 1., 1., 1., 1., 1., 1., 1., 1., 1., 1., 1.,\n",
       "       1., 1., 1., 0., 1., 1., 1., 1., 1., 1., 1., 1., 0., 1., 1., 1., 0.,\n",
       "       1., 1., 1., 1., 1., 0., 1., 1., 1., 1., 1., 1., 1., 1., 1., 1., 1.,\n",
       "       1., 0., 1., 1., 1., 1., 1., 1., 1., 1., 1., 0., 1., 1., 1., 1., 1.,\n",
       "       1., 1., 1., 1., 1., 1., 1., 1., 1., 1., 1., 1., 0., 1., 1., 1., 1.,\n",
       "       1., 1., 1., 1., 1., 1., 1., 0., 1., 1., 1., 1., 1., 1., 1., 1., 1.,\n",
       "       1., 0., 1., 1., 1., 1., 1., 1., 1., 0., 1., 1., 1., 1., 1., 1., 1.,\n",
       "       1., 1., 1., 1., 1., 1., 1., 1., 1., 1., 1., 1., 1., 1., 1., 1., 1.,\n",
       "       1., 1., 1., 1., 1., 1., 0., 1., 1., 1., 0., 1.])"
      ]
     },
     "execution_count": 24,
>>>>>>> 4479aec9b24a47926fded6e8a499ef4f71cf3803
     "metadata": {},
     "output_type": "execute_result"
    }
   ],
   "source": [
    "y_pred_mlp = model_mlp.predict(X_test_preprocessed)\n",
    "y_pred_mlp"
   ]
  },
  {
   "cell_type": "code",
<<<<<<< HEAD
   "execution_count": 26,
=======
   "execution_count": 25,
>>>>>>> 4479aec9b24a47926fded6e8a499ef4f71cf3803
   "metadata": {},
   "outputs": [],
   "source": [
    "def perform(y_true, y_pred):\n",
    "    print(\"Precision : \", precision_score(y_true, y_pred))\n",
    "    print(\"Recall : \", recall_score(y_true, y_pred))\n",
    "    print(\"Accuracy : \", accuracy_score(y_true, y_pred))\n",
    "    print(\"F1 Score : \", f1_score(y_true, y_pred))\n",
    "    cm = confusion_matrix(y_true, y_pred)\n",
    "    print(\"\\n\", cm)\n",
    "    print(\"\\n\")\n",
    "    print(\"**\"*27 + \"\\n\" + \" \"* 16 + \"Classification Report\\n\" + \"**\"*27)\n",
    "    print(classification_report(y_true, y_pred))\n",
    "    print(\"**\"*27+\"\\n\")\n",
    "    \n",
    "    cm = ConfusionMatrixDisplay(confusion_matrix = cm, display_labels=['Non-Dropout', 'Dropout'])\n",
    "    cm.plot()"
   ]
  },
  {
   "cell_type": "code",
<<<<<<< HEAD
   "execution_count": 27,
=======
   "execution_count": 26,
>>>>>>> 4479aec9b24a47926fded6e8a499ef4f71cf3803
   "metadata": {},
   "outputs": [
    {
     "name": "stdout",
     "output_type": "stream",
     "text": [
<<<<<<< HEAD
      "Precision :  0.7566844919786097\n",
      "Recall :  0.9248366013071896\n",
      "Accuracy :  0.718865598027127\n",
      "F1 Score :  0.8323529411764707\n",
      "\n",
      " [[ 17 182]\n",
      " [ 46 566]]\n",
=======
      "Precision :  0.7816711590296496\n",
      "Recall :  0.932475884244373\n",
      "Accuracy :  0.7484586929716399\n",
      "F1 Score :  0.8504398826979471\n",
      "\n",
      " [[ 27 162]\n",
      " [ 42 580]]\n",
>>>>>>> 4479aec9b24a47926fded6e8a499ef4f71cf3803
      "\n",
      "\n",
      "******************************************************\n",
      "                Classification Report\n",
      "******************************************************\n",
      "              precision    recall  f1-score   support\n",
      "\n",
<<<<<<< HEAD
      "         0.0       0.27      0.09      0.13       199\n",
      "         1.0       0.76      0.92      0.83       612\n",
      "\n",
      "    accuracy                           0.72       811\n",
      "   macro avg       0.51      0.51      0.48       811\n",
      "weighted avg       0.64      0.72      0.66       811\n",
=======
      "         0.0       0.39      0.14      0.21       189\n",
      "         1.0       0.78      0.93      0.85       622\n",
      "\n",
      "    accuracy                           0.75       811\n",
      "   macro avg       0.59      0.54      0.53       811\n",
      "weighted avg       0.69      0.75      0.70       811\n",
>>>>>>> 4479aec9b24a47926fded6e8a499ef4f71cf3803
      "\n",
      "******************************************************\n",
      "\n"
     ]
    },
    {
     "data": {
<<<<<<< HEAD
      "image/png": "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",
=======
      "image/png": "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",
>>>>>>> 4479aec9b24a47926fded6e8a499ef4f71cf3803
      "text/plain": [
       "<Figure size 640x480 with 2 Axes>"
      ]
     },
     "metadata": {},
     "output_type": "display_data"
    }
   ],
   "source": [
    "perform(y_test, y_pred_mlp)"
   ]
  },
  {
   "cell_type": "code",
<<<<<<< HEAD
   "execution_count": 28,
=======
   "execution_count": 27,
>>>>>>> 4479aec9b24a47926fded6e8a499ef4f71cf3803
   "metadata": {},
   "outputs": [],
   "source": [
    "parameters = {\n",
    "    'hidden_layer_sizes': [(50,50,50), (50,100,50), (100,)],\n",
    "    'activation': ['tanh', 'relu'],\n",
    "    'solver': ['sgd', 'adam'],\n",
    "    'alpha': [0.0001, 0.05],\n",
    "    'learning_rate': ['constant','adaptive'],\n",
    "}"
   ]
  },
  {
   "cell_type": "code",
<<<<<<< HEAD
   "execution_count": 29,
=======
   "execution_count": 28,
>>>>>>> 4479aec9b24a47926fded6e8a499ef4f71cf3803
   "metadata": {},
   "outputs": [],
   "source": [
    "new_model_mlp = MLPClassifier(max_iter=100)"
   ]
  },
  {
   "cell_type": "code",
<<<<<<< HEAD
   "execution_count": 30,
=======
   "execution_count": 29,
>>>>>>> 4479aec9b24a47926fded6e8a499ef4f71cf3803
   "metadata": {},
   "outputs": [],
   "source": [
    "clf = GridSearchCV(model_mlp, parameters, n_jobs=-1, cv=3)"
   ]
  },
  {
   "cell_type": "code",
<<<<<<< HEAD
   "execution_count": 31,
=======
   "execution_count": 30,
>>>>>>> 4479aec9b24a47926fded6e8a499ef4f71cf3803
   "metadata": {},
   "outputs": [
    {
     "name": "stderr",
     "output_type": "stream",
     "text": [
      "/home/andriigegliuk/.pyenv/versions/3.10.6/envs/dropoutpred-env/lib/python3.10/site-packages/sklearn/neural_network/_multilayer_perceptron.py:686: ConvergenceWarning: Stochastic Optimizer: Maximum iterations (100) reached and the optimization hasn't converged yet.\n",
      "  warnings.warn(\n",
      "/home/andriigegliuk/.pyenv/versions/3.10.6/envs/dropoutpred-env/lib/python3.10/site-packages/sklearn/neural_network/_multilayer_perceptron.py:686: ConvergenceWarning: Stochastic Optimizer: Maximum iterations (100) reached and the optimization hasn't converged yet.\n",
      "  warnings.warn(\n",
      "/home/andriigegliuk/.pyenv/versions/3.10.6/envs/dropoutpred-env/lib/python3.10/site-packages/sklearn/neural_network/_multilayer_perceptron.py:686: ConvergenceWarning: Stochastic Optimizer: Maximum iterations (100) reached and the optimization hasn't converged yet.\n",
      "  warnings.warn(\n",
      "/home/andriigegliuk/.pyenv/versions/3.10.6/envs/dropoutpred-env/lib/python3.10/site-packages/sklearn/neural_network/_multilayer_perceptron.py:686: ConvergenceWarning: Stochastic Optimizer: Maximum iterations (100) reached and the optimization hasn't converged yet.\n",
      "  warnings.warn(\n",
      "/home/andriigegliuk/.pyenv/versions/3.10.6/envs/dropoutpred-env/lib/python3.10/site-packages/sklearn/neural_network/_multilayer_perceptron.py:686: ConvergenceWarning: Stochastic Optimizer: Maximum iterations (100) reached and the optimization hasn't converged yet.\n",
      "  warnings.warn(\n",
      "/home/andriigegliuk/.pyenv/versions/3.10.6/envs/dropoutpred-env/lib/python3.10/site-packages/sklearn/neural_network/_multilayer_perceptron.py:686: ConvergenceWarning: Stochastic Optimizer: Maximum iterations (100) reached and the optimization hasn't converged yet.\n",
      "  warnings.warn(\n",
      "/home/andriigegliuk/.pyenv/versions/3.10.6/envs/dropoutpred-env/lib/python3.10/site-packages/sklearn/neural_network/_multilayer_perceptron.py:686: ConvergenceWarning: Stochastic Optimizer: Maximum iterations (100) reached and the optimization hasn't converged yet.\n",
      "  warnings.warn(\n",
      "/home/andriigegliuk/.pyenv/versions/3.10.6/envs/dropoutpred-env/lib/python3.10/site-packages/sklearn/neural_network/_multilayer_perceptron.py:686: ConvergenceWarning: Stochastic Optimizer: Maximum iterations (100) reached and the optimization hasn't converged yet.\n",
      "  warnings.warn(\n",
      "/home/andriigegliuk/.pyenv/versions/3.10.6/envs/dropoutpred-env/lib/python3.10/site-packages/sklearn/neural_network/_multilayer_perceptron.py:686: ConvergenceWarning: Stochastic Optimizer: Maximum iterations (100) reached and the optimization hasn't converged yet.\n",
      "  warnings.warn(\n",
      "/home/andriigegliuk/.pyenv/versions/3.10.6/envs/dropoutpred-env/lib/python3.10/site-packages/sklearn/neural_network/_multilayer_perceptron.py:686: ConvergenceWarning: Stochastic Optimizer: Maximum iterations (100) reached and the optimization hasn't converged yet.\n",
      "  warnings.warn(\n",
      "/home/andriigegliuk/.pyenv/versions/3.10.6/envs/dropoutpred-env/lib/python3.10/site-packages/sklearn/neural_network/_multilayer_perceptron.py:686: ConvergenceWarning: Stochastic Optimizer: Maximum iterations (100) reached and the optimization hasn't converged yet.\n",
      "  warnings.warn(\n",
      "/home/andriigegliuk/.pyenv/versions/3.10.6/envs/dropoutpred-env/lib/python3.10/site-packages/sklearn/neural_network/_multilayer_perceptron.py:686: ConvergenceWarning: Stochastic Optimizer: Maximum iterations (100) reached and the optimization hasn't converged yet.\n",
      "  warnings.warn(\n",
      "/home/andriigegliuk/.pyenv/versions/3.10.6/envs/dropoutpred-env/lib/python3.10/site-packages/sklearn/neural_network/_multilayer_perceptron.py:686: ConvergenceWarning: Stochastic Optimizer: Maximum iterations (100) reached and the optimization hasn't converged yet.\n",
      "  warnings.warn(\n",
      "/home/andriigegliuk/.pyenv/versions/3.10.6/envs/dropoutpred-env/lib/python3.10/site-packages/sklearn/neural_network/_multilayer_perceptron.py:686: ConvergenceWarning: Stochastic Optimizer: Maximum iterations (100) reached and the optimization hasn't converged yet.\n",
      "  warnings.warn(\n",
      "/home/andriigegliuk/.pyenv/versions/3.10.6/envs/dropoutpred-env/lib/python3.10/site-packages/sklearn/neural_network/_multilayer_perceptron.py:686: ConvergenceWarning: Stochastic Optimizer: Maximum iterations (100) reached and the optimization hasn't converged yet.\n",
      "  warnings.warn(\n",
      "/home/andriigegliuk/.pyenv/versions/3.10.6/envs/dropoutpred-env/lib/python3.10/site-packages/sklearn/neural_network/_multilayer_perceptron.py:686: ConvergenceWarning: Stochastic Optimizer: Maximum iterations (100) reached and the optimization hasn't converged yet.\n",
      "  warnings.warn(\n",
      "/home/andriigegliuk/.pyenv/versions/3.10.6/envs/dropoutpred-env/lib/python3.10/site-packages/sklearn/neural_network/_multilayer_perceptron.py:686: ConvergenceWarning: Stochastic Optimizer: Maximum iterations (100) reached and the optimization hasn't converged yet.\n",
      "  warnings.warn(\n",
      "/home/andriigegliuk/.pyenv/versions/3.10.6/envs/dropoutpred-env/lib/python3.10/site-packages/sklearn/neural_network/_multilayer_perceptron.py:686: ConvergenceWarning: Stochastic Optimizer: Maximum iterations (100) reached and the optimization hasn't converged yet.\n",
      "  warnings.warn(\n",
      "/home/andriigegliuk/.pyenv/versions/3.10.6/envs/dropoutpred-env/lib/python3.10/site-packages/sklearn/neural_network/_multilayer_perceptron.py:686: ConvergenceWarning: Stochastic Optimizer: Maximum iterations (100) reached and the optimization hasn't converged yet.\n",
      "  warnings.warn(\n",
      "/home/andriigegliuk/.pyenv/versions/3.10.6/envs/dropoutpred-env/lib/python3.10/site-packages/sklearn/neural_network/_multilayer_perceptron.py:686: ConvergenceWarning: Stochastic Optimizer: Maximum iterations (100) reached and the optimization hasn't converged yet.\n",
      "  warnings.warn(\n",
      "/home/andriigegliuk/.pyenv/versions/3.10.6/envs/dropoutpred-env/lib/python3.10/site-packages/sklearn/neural_network/_multilayer_perceptron.py:686: ConvergenceWarning: Stochastic Optimizer: Maximum iterations (100) reached and the optimization hasn't converged yet.\n",
      "  warnings.warn(\n",
      "/home/andriigegliuk/.pyenv/versions/3.10.6/envs/dropoutpred-env/lib/python3.10/site-packages/sklearn/neural_network/_multilayer_perceptron.py:686: ConvergenceWarning: Stochastic Optimizer: Maximum iterations (100) reached and the optimization hasn't converged yet.\n",
      "  warnings.warn(\n",
      "/home/andriigegliuk/.pyenv/versions/3.10.6/envs/dropoutpred-env/lib/python3.10/site-packages/sklearn/neural_network/_multilayer_perceptron.py:686: ConvergenceWarning: Stochastic Optimizer: Maximum iterations (100) reached and the optimization hasn't converged yet.\n",
      "  warnings.warn(\n",
      "/home/andriigegliuk/.pyenv/versions/3.10.6/envs/dropoutpred-env/lib/python3.10/site-packages/sklearn/neural_network/_multilayer_perceptron.py:686: ConvergenceWarning: Stochastic Optimizer: Maximum iterations (100) reached and the optimization hasn't converged yet.\n",
      "  warnings.warn(\n",
      "/home/andriigegliuk/.pyenv/versions/3.10.6/envs/dropoutpred-env/lib/python3.10/site-packages/sklearn/neural_network/_multilayer_perceptron.py:686: ConvergenceWarning: Stochastic Optimizer: Maximum iterations (100) reached and the optimization hasn't converged yet.\n",
      "  warnings.warn(\n",
      "/home/andriigegliuk/.pyenv/versions/3.10.6/envs/dropoutpred-env/lib/python3.10/site-packages/sklearn/neural_network/_multilayer_perceptron.py:686: ConvergenceWarning: Stochastic Optimizer: Maximum iterations (100) reached and the optimization hasn't converged yet.\n",
      "  warnings.warn(\n",
      "/home/andriigegliuk/.pyenv/versions/3.10.6/envs/dropoutpred-env/lib/python3.10/site-packages/sklearn/neural_network/_multilayer_perceptron.py:686: ConvergenceWarning: Stochastic Optimizer: Maximum iterations (100) reached and the optimization hasn't converged yet.\n",
      "  warnings.warn(\n",
      "/home/andriigegliuk/.pyenv/versions/3.10.6/envs/dropoutpred-env/lib/python3.10/site-packages/sklearn/neural_network/_multilayer_perceptron.py:686: ConvergenceWarning: Stochastic Optimizer: Maximum iterations (100) reached and the optimization hasn't converged yet.\n",
      "  warnings.warn(\n",
      "/home/andriigegliuk/.pyenv/versions/3.10.6/envs/dropoutpred-env/lib/python3.10/site-packages/sklearn/neural_network/_multilayer_perceptron.py:686: ConvergenceWarning: Stochastic Optimizer: Maximum iterations (100) reached and the optimization hasn't converged yet.\n",
      "  warnings.warn(\n",
      "/home/andriigegliuk/.pyenv/versions/3.10.6/envs/dropoutpred-env/lib/python3.10/site-packages/sklearn/neural_network/_multilayer_perceptron.py:686: ConvergenceWarning: Stochastic Optimizer: Maximum iterations (100) reached and the optimization hasn't converged yet.\n",
      "  warnings.warn(\n",
      "/home/andriigegliuk/.pyenv/versions/3.10.6/envs/dropoutpred-env/lib/python3.10/site-packages/sklearn/neural_network/_multilayer_perceptron.py:686: ConvergenceWarning: Stochastic Optimizer: Maximum iterations (100) reached and the optimization hasn't converged yet.\n",
      "  warnings.warn(\n",
      "/home/andriigegliuk/.pyenv/versions/3.10.6/envs/dropoutpred-env/lib/python3.10/site-packages/sklearn/neural_network/_multilayer_perceptron.py:686: ConvergenceWarning: Stochastic Optimizer: Maximum iterations (100) reached and the optimization hasn't converged yet.\n",
      "  warnings.warn(\n",
      "/home/andriigegliuk/.pyenv/versions/3.10.6/envs/dropoutpred-env/lib/python3.10/site-packages/sklearn/neural_network/_multilayer_perceptron.py:686: ConvergenceWarning: Stochastic Optimizer: Maximum iterations (100) reached and the optimization hasn't converged yet.\n",
      "  warnings.warn(\n",
      "/home/andriigegliuk/.pyenv/versions/3.10.6/envs/dropoutpred-env/lib/python3.10/site-packages/sklearn/neural_network/_multilayer_perceptron.py:686: ConvergenceWarning: Stochastic Optimizer: Maximum iterations (100) reached and the optimization hasn't converged yet.\n",
      "  warnings.warn(\n",
      "/home/andriigegliuk/.pyenv/versions/3.10.6/envs/dropoutpred-env/lib/python3.10/site-packages/sklearn/neural_network/_multilayer_perceptron.py:686: ConvergenceWarning: Stochastic Optimizer: Maximum iterations (100) reached and the optimization hasn't converged yet.\n",
      "  warnings.warn(\n",
      "/home/andriigegliuk/.pyenv/versions/3.10.6/envs/dropoutpred-env/lib/python3.10/site-packages/sklearn/neural_network/_multilayer_perceptron.py:686: ConvergenceWarning: Stochastic Optimizer: Maximum iterations (100) reached and the optimization hasn't converged yet.\n",
      "  warnings.warn(\n",
      "/home/andriigegliuk/.pyenv/versions/3.10.6/envs/dropoutpred-env/lib/python3.10/site-packages/sklearn/neural_network/_multilayer_perceptron.py:686: ConvergenceWarning: Stochastic Optimizer: Maximum iterations (100) reached and the optimization hasn't converged yet.\n",
      "  warnings.warn(\n",
      "/home/andriigegliuk/.pyenv/versions/3.10.6/envs/dropoutpred-env/lib/python3.10/site-packages/sklearn/neural_network/_multilayer_perceptron.py:686: ConvergenceWarning: Stochastic Optimizer: Maximum iterations (100) reached and the optimization hasn't converged yet.\n",
      "  warnings.warn(\n",
      "/home/andriigegliuk/.pyenv/versions/3.10.6/envs/dropoutpred-env/lib/python3.10/site-packages/sklearn/neural_network/_multilayer_perceptron.py:686: ConvergenceWarning: Stochastic Optimizer: Maximum iterations (100) reached and the optimization hasn't converged yet.\n",
      "  warnings.warn(\n",
      "/home/andriigegliuk/.pyenv/versions/3.10.6/envs/dropoutpred-env/lib/python3.10/site-packages/sklearn/neural_network/_multilayer_perceptron.py:686: ConvergenceWarning: Stochastic Optimizer: Maximum iterations (100) reached and the optimization hasn't converged yet.\n",
      "  warnings.warn(\n",
      "/home/andriigegliuk/.pyenv/versions/3.10.6/envs/dropoutpred-env/lib/python3.10/site-packages/sklearn/neural_network/_multilayer_perceptron.py:686: ConvergenceWarning: Stochastic Optimizer: Maximum iterations (100) reached and the optimization hasn't converged yet.\n",
      "  warnings.warn(\n",
      "/home/andriigegliuk/.pyenv/versions/3.10.6/envs/dropoutpred-env/lib/python3.10/site-packages/sklearn/neural_network/_multilayer_perceptron.py:686: ConvergenceWarning: Stochastic Optimizer: Maximum iterations (100) reached and the optimization hasn't converged yet.\n",
      "  warnings.warn(\n",
      "/home/andriigegliuk/.pyenv/versions/3.10.6/envs/dropoutpred-env/lib/python3.10/site-packages/sklearn/neural_network/_multilayer_perceptron.py:686: ConvergenceWarning: Stochastic Optimizer: Maximum iterations (100) reached and the optimization hasn't converged yet.\n",
      "  warnings.warn(\n",
      "/home/andriigegliuk/.pyenv/versions/3.10.6/envs/dropoutpred-env/lib/python3.10/site-packages/sklearn/neural_network/_multilayer_perceptron.py:686: ConvergenceWarning: Stochastic Optimizer: Maximum iterations (100) reached and the optimization hasn't converged yet.\n",
      "  warnings.warn(\n",
      "/home/andriigegliuk/.pyenv/versions/3.10.6/envs/dropoutpred-env/lib/python3.10/site-packages/sklearn/neural_network/_multilayer_perceptron.py:686: ConvergenceWarning: Stochastic Optimizer: Maximum iterations (100) reached and the optimization hasn't converged yet.\n",
      "  warnings.warn(\n",
      "/home/andriigegliuk/.pyenv/versions/3.10.6/envs/dropoutpred-env/lib/python3.10/site-packages/sklearn/neural_network/_multilayer_perceptron.py:686: ConvergenceWarning: Stochastic Optimizer: Maximum iterations (100) reached and the optimization hasn't converged yet.\n",
      "  warnings.warn(\n",
      "/home/andriigegliuk/.pyenv/versions/3.10.6/envs/dropoutpred-env/lib/python3.10/site-packages/sklearn/neural_network/_multilayer_perceptron.py:686: ConvergenceWarning: Stochastic Optimizer: Maximum iterations (100) reached and the optimization hasn't converged yet.\n",
      "  warnings.warn(\n",
      "/home/andriigegliuk/.pyenv/versions/3.10.6/envs/dropoutpred-env/lib/python3.10/site-packages/sklearn/neural_network/_multilayer_perceptron.py:686: ConvergenceWarning: Stochastic Optimizer: Maximum iterations (100) reached and the optimization hasn't converged yet.\n",
      "  warnings.warn(\n",
      "/home/andriigegliuk/.pyenv/versions/3.10.6/envs/dropoutpred-env/lib/python3.10/site-packages/sklearn/neural_network/_multilayer_perceptron.py:686: ConvergenceWarning: Stochastic Optimizer: Maximum iterations (100) reached and the optimization hasn't converged yet.\n",
      "  warnings.warn(\n",
      "/home/andriigegliuk/.pyenv/versions/3.10.6/envs/dropoutpred-env/lib/python3.10/site-packages/sklearn/neural_network/_multilayer_perceptron.py:686: ConvergenceWarning: Stochastic Optimizer: Maximum iterations (100) reached and the optimization hasn't converged yet.\n",
      "  warnings.warn(\n",
      "/home/andriigegliuk/.pyenv/versions/3.10.6/envs/dropoutpred-env/lib/python3.10/site-packages/sklearn/neural_network/_multilayer_perceptron.py:686: ConvergenceWarning: Stochastic Optimizer: Maximum iterations (100) reached and the optimization hasn't converged yet.\n",
      "  warnings.warn(\n",
      "/home/andriigegliuk/.pyenv/versions/3.10.6/envs/dropoutpred-env/lib/python3.10/site-packages/sklearn/neural_network/_multilayer_perceptron.py:686: ConvergenceWarning: Stochastic Optimizer: Maximum iterations (100) reached and the optimization hasn't converged yet.\n",
      "  warnings.warn(\n",
      "/home/andriigegliuk/.pyenv/versions/3.10.6/envs/dropoutpred-env/lib/python3.10/site-packages/sklearn/neural_network/_multilayer_perceptron.py:686: ConvergenceWarning: Stochastic Optimizer: Maximum iterations (100) reached and the optimization hasn't converged yet.\n",
      "  warnings.warn(\n",
      "/home/andriigegliuk/.pyenv/versions/3.10.6/envs/dropoutpred-env/lib/python3.10/site-packages/sklearn/neural_network/_multilayer_perceptron.py:686: ConvergenceWarning: Stochastic Optimizer: Maximum iterations (100) reached and the optimization hasn't converged yet.\n",
      "  warnings.warn(\n",
      "/home/andriigegliuk/.pyenv/versions/3.10.6/envs/dropoutpred-env/lib/python3.10/site-packages/sklearn/neural_network/_multilayer_perceptron.py:686: ConvergenceWarning: Stochastic Optimizer: Maximum iterations (100) reached and the optimization hasn't converged yet.\n",
      "  warnings.warn(\n",
      "/home/andriigegliuk/.pyenv/versions/3.10.6/envs/dropoutpred-env/lib/python3.10/site-packages/sklearn/neural_network/_multilayer_perceptron.py:686: ConvergenceWarning: Stochastic Optimizer: Maximum iterations (100) reached and the optimization hasn't converged yet.\n",
      "  warnings.warn(\n",
      "/home/andriigegliuk/.pyenv/versions/3.10.6/envs/dropoutpred-env/lib/python3.10/site-packages/sklearn/neural_network/_multilayer_perceptron.py:686: ConvergenceWarning: Stochastic Optimizer: Maximum iterations (100) reached and the optimization hasn't converged yet.\n",
      "  warnings.warn(\n",
      "/home/andriigegliuk/.pyenv/versions/3.10.6/envs/dropoutpred-env/lib/python3.10/site-packages/sklearn/neural_network/_multilayer_perceptron.py:686: ConvergenceWarning: Stochastic Optimizer: Maximum iterations (100) reached and the optimization hasn't converged yet.\n",
      "  warnings.warn(\n",
      "/home/andriigegliuk/.pyenv/versions/3.10.6/envs/dropoutpred-env/lib/python3.10/site-packages/sklearn/neural_network/_multilayer_perceptron.py:686: ConvergenceWarning: Stochastic Optimizer: Maximum iterations (100) reached and the optimization hasn't converged yet.\n",
      "  warnings.warn(\n",
      "/home/andriigegliuk/.pyenv/versions/3.10.6/envs/dropoutpred-env/lib/python3.10/site-packages/sklearn/neural_network/_multilayer_perceptron.py:686: ConvergenceWarning: Stochastic Optimizer: Maximum iterations (100) reached and the optimization hasn't converged yet.\n",
      "  warnings.warn(\n",
      "/home/andriigegliuk/.pyenv/versions/3.10.6/envs/dropoutpred-env/lib/python3.10/site-packages/sklearn/neural_network/_multilayer_perceptron.py:686: ConvergenceWarning: Stochastic Optimizer: Maximum iterations (100) reached and the optimization hasn't converged yet.\n",
      "  warnings.warn(\n",
      "/home/andriigegliuk/.pyenv/versions/3.10.6/envs/dropoutpred-env/lib/python3.10/site-packages/sklearn/neural_network/_multilayer_perceptron.py:686: ConvergenceWarning: Stochastic Optimizer: Maximum iterations (100) reached and the optimization hasn't converged yet.\n",
      "  warnings.warn(\n",
      "/home/andriigegliuk/.pyenv/versions/3.10.6/envs/dropoutpred-env/lib/python3.10/site-packages/sklearn/neural_network/_multilayer_perceptron.py:686: ConvergenceWarning: Stochastic Optimizer: Maximum iterations (100) reached and the optimization hasn't converged yet.\n",
      "  warnings.warn(\n",
      "/home/andriigegliuk/.pyenv/versions/3.10.6/envs/dropoutpred-env/lib/python3.10/site-packages/sklearn/neural_network/_multilayer_perceptron.py:686: ConvergenceWarning: Stochastic Optimizer: Maximum iterations (100) reached and the optimization hasn't converged yet.\n",
      "  warnings.warn(\n",
      "/home/andriigegliuk/.pyenv/versions/3.10.6/envs/dropoutpred-env/lib/python3.10/site-packages/sklearn/neural_network/_multilayer_perceptron.py:686: ConvergenceWarning: Stochastic Optimizer: Maximum iterations (100) reached and the optimization hasn't converged yet.\n",
      "  warnings.warn(\n",
      "/home/andriigegliuk/.pyenv/versions/3.10.6/envs/dropoutpred-env/lib/python3.10/site-packages/sklearn/neural_network/_multilayer_perceptron.py:686: ConvergenceWarning: Stochastic Optimizer: Maximum iterations (100) reached and the optimization hasn't converged yet.\n",
      "  warnings.warn(\n",
      "/home/andriigegliuk/.pyenv/versions/3.10.6/envs/dropoutpred-env/lib/python3.10/site-packages/sklearn/neural_network/_multilayer_perceptron.py:686: ConvergenceWarning: Stochastic Optimizer: Maximum iterations (100) reached and the optimization hasn't converged yet.\n",
      "  warnings.warn(\n",
      "/home/andriigegliuk/.pyenv/versions/3.10.6/envs/dropoutpred-env/lib/python3.10/site-packages/sklearn/neural_network/_multilayer_perceptron.py:686: ConvergenceWarning: Stochastic Optimizer: Maximum iterations (100) reached and the optimization hasn't converged yet.\n",
      "  warnings.warn(\n",
      "/home/andriigegliuk/.pyenv/versions/3.10.6/envs/dropoutpred-env/lib/python3.10/site-packages/sklearn/neural_network/_multilayer_perceptron.py:686: ConvergenceWarning: Stochastic Optimizer: Maximum iterations (100) reached and the optimization hasn't converged yet.\n",
      "  warnings.warn(\n",
      "/home/andriigegliuk/.pyenv/versions/3.10.6/envs/dropoutpred-env/lib/python3.10/site-packages/sklearn/neural_network/_multilayer_perceptron.py:686: ConvergenceWarning: Stochastic Optimizer: Maximum iterations (100) reached and the optimization hasn't converged yet.\n",
      "  warnings.warn(\n",
      "/home/andriigegliuk/.pyenv/versions/3.10.6/envs/dropoutpred-env/lib/python3.10/site-packages/sklearn/neural_network/_multilayer_perceptron.py:686: ConvergenceWarning: Stochastic Optimizer: Maximum iterations (100) reached and the optimization hasn't converged yet.\n",
      "  warnings.warn(\n",
      "/home/andriigegliuk/.pyenv/versions/3.10.6/envs/dropoutpred-env/lib/python3.10/site-packages/sklearn/neural_network/_multilayer_perceptron.py:686: ConvergenceWarning: Stochastic Optimizer: Maximum iterations (100) reached and the optimization hasn't converged yet.\n",
      "  warnings.warn(\n",
      "/home/andriigegliuk/.pyenv/versions/3.10.6/envs/dropoutpred-env/lib/python3.10/site-packages/sklearn/neural_network/_multilayer_perceptron.py:686: ConvergenceWarning: Stochastic Optimizer: Maximum iterations (100) reached and the optimization hasn't converged yet.\n",
      "  warnings.warn(\n",
      "/home/andriigegliuk/.pyenv/versions/3.10.6/envs/dropoutpred-env/lib/python3.10/site-packages/sklearn/neural_network/_multilayer_perceptron.py:686: ConvergenceWarning: Stochastic Optimizer: Maximum iterations (100) reached and the optimization hasn't converged yet.\n",
      "  warnings.warn(\n",
      "/home/andriigegliuk/.pyenv/versions/3.10.6/envs/dropoutpred-env/lib/python3.10/site-packages/sklearn/neural_network/_multilayer_perceptron.py:686: ConvergenceWarning: Stochastic Optimizer: Maximum iterations (100) reached and the optimization hasn't converged yet.\n",
      "  warnings.warn(\n",
      "/home/andriigegliuk/.pyenv/versions/3.10.6/envs/dropoutpred-env/lib/python3.10/site-packages/sklearn/neural_network/_multilayer_perceptron.py:686: ConvergenceWarning: Stochastic Optimizer: Maximum iterations (100) reached and the optimization hasn't converged yet.\n",
      "  warnings.warn(\n",
      "/home/andriigegliuk/.pyenv/versions/3.10.6/envs/dropoutpred-env/lib/python3.10/site-packages/sklearn/neural_network/_multilayer_perceptron.py:686: ConvergenceWarning: Stochastic Optimizer: Maximum iterations (100) reached and the optimization hasn't converged yet.\n",
      "  warnings.warn(\n",
      "/home/andriigegliuk/.pyenv/versions/3.10.6/envs/dropoutpred-env/lib/python3.10/site-packages/sklearn/neural_network/_multilayer_perceptron.py:686: ConvergenceWarning: Stochastic Optimizer: Maximum iterations (100) reached and the optimization hasn't converged yet.\n",
      "  warnings.warn(\n",
      "/home/andriigegliuk/.pyenv/versions/3.10.6/envs/dropoutpred-env/lib/python3.10/site-packages/sklearn/neural_network/_multilayer_perceptron.py:686: ConvergenceWarning: Stochastic Optimizer: Maximum iterations (100) reached and the optimization hasn't converged yet.\n",
      "  warnings.warn(\n",
      "/home/andriigegliuk/.pyenv/versions/3.10.6/envs/dropoutpred-env/lib/python3.10/site-packages/sklearn/neural_network/_multilayer_perceptron.py:686: ConvergenceWarning: Stochastic Optimizer: Maximum iterations (100) reached and the optimization hasn't converged yet.\n",
      "  warnings.warn(\n",
      "/home/andriigegliuk/.pyenv/versions/3.10.6/envs/dropoutpred-env/lib/python3.10/site-packages/sklearn/neural_network/_multilayer_perceptron.py:686: ConvergenceWarning: Stochastic Optimizer: Maximum iterations (100) reached and the optimization hasn't converged yet.\n",
      "  warnings.warn(\n",
      "/home/andriigegliuk/.pyenv/versions/3.10.6/envs/dropoutpred-env/lib/python3.10/site-packages/sklearn/neural_network/_multilayer_perceptron.py:686: ConvergenceWarning: Stochastic Optimizer: Maximum iterations (100) reached and the optimization hasn't converged yet.\n",
      "  warnings.warn(\n",
      "/home/andriigegliuk/.pyenv/versions/3.10.6/envs/dropoutpred-env/lib/python3.10/site-packages/sklearn/neural_network/_multilayer_perceptron.py:686: ConvergenceWarning: Stochastic Optimizer: Maximum iterations (100) reached and the optimization hasn't converged yet.\n",
      "  warnings.warn(\n",
      "/home/andriigegliuk/.pyenv/versions/3.10.6/envs/dropoutpred-env/lib/python3.10/site-packages/sklearn/neural_network/_multilayer_perceptron.py:686: ConvergenceWarning: Stochastic Optimizer: Maximum iterations (100) reached and the optimization hasn't converged yet.\n",
      "  warnings.warn(\n",
      "/home/andriigegliuk/.pyenv/versions/3.10.6/envs/dropoutpred-env/lib/python3.10/site-packages/sklearn/neural_network/_multilayer_perceptron.py:686: ConvergenceWarning: Stochastic Optimizer: Maximum iterations (100) reached and the optimization hasn't converged yet.\n",
      "  warnings.warn(\n",
      "/home/andriigegliuk/.pyenv/versions/3.10.6/envs/dropoutpred-env/lib/python3.10/site-packages/sklearn/neural_network/_multilayer_perceptron.py:686: ConvergenceWarning: Stochastic Optimizer: Maximum iterations (100) reached and the optimization hasn't converged yet.\n",
      "  warnings.warn(\n",
      "/home/andriigegliuk/.pyenv/versions/3.10.6/envs/dropoutpred-env/lib/python3.10/site-packages/sklearn/neural_network/_multilayer_perceptron.py:686: ConvergenceWarning: Stochastic Optimizer: Maximum iterations (100) reached and the optimization hasn't converged yet.\n",
      "  warnings.warn(\n",
      "/home/andriigegliuk/.pyenv/versions/3.10.6/envs/dropoutpred-env/lib/python3.10/site-packages/sklearn/neural_network/_multilayer_perceptron.py:686: ConvergenceWarning: Stochastic Optimizer: Maximum iterations (100) reached and the optimization hasn't converged yet.\n",
      "  warnings.warn(\n",
      "/home/andriigegliuk/.pyenv/versions/3.10.6/envs/dropoutpred-env/lib/python3.10/site-packages/sklearn/neural_network/_multilayer_perceptron.py:686: ConvergenceWarning: Stochastic Optimizer: Maximum iterations (100) reached and the optimization hasn't converged yet.\n",
      "  warnings.warn(\n",
      "/home/andriigegliuk/.pyenv/versions/3.10.6/envs/dropoutpred-env/lib/python3.10/site-packages/sklearn/neural_network/_multilayer_perceptron.py:686: ConvergenceWarning: Stochastic Optimizer: Maximum iterations (100) reached and the optimization hasn't converged yet.\n",
      "  warnings.warn(\n",
      "/home/andriigegliuk/.pyenv/versions/3.10.6/envs/dropoutpred-env/lib/python3.10/site-packages/sklearn/neural_network/_multilayer_perceptron.py:686: ConvergenceWarning: Stochastic Optimizer: Maximum iterations (100) reached and the optimization hasn't converged yet.\n",
      "  warnings.warn(\n",
      "/home/andriigegliuk/.pyenv/versions/3.10.6/envs/dropoutpred-env/lib/python3.10/site-packages/sklearn/neural_network/_multilayer_perceptron.py:686: ConvergenceWarning: Stochastic Optimizer: Maximum iterations (100) reached and the optimization hasn't converged yet.\n",
      "  warnings.warn(\n",
      "/home/andriigegliuk/.pyenv/versions/3.10.6/envs/dropoutpred-env/lib/python3.10/site-packages/sklearn/neural_network/_multilayer_perceptron.py:686: ConvergenceWarning: Stochastic Optimizer: Maximum iterations (100) reached and the optimization hasn't converged yet.\n",
      "  warnings.warn(\n",
      "/home/andriigegliuk/.pyenv/versions/3.10.6/envs/dropoutpred-env/lib/python3.10/site-packages/sklearn/neural_network/_multilayer_perceptron.py:686: ConvergenceWarning: Stochastic Optimizer: Maximum iterations (100) reached and the optimization hasn't converged yet.\n",
      "  warnings.warn(\n",
      "/home/andriigegliuk/.pyenv/versions/3.10.6/envs/dropoutpred-env/lib/python3.10/site-packages/sklearn/neural_network/_multilayer_perceptron.py:686: ConvergenceWarning: Stochastic Optimizer: Maximum iterations (100) reached and the optimization hasn't converged yet.\n",
      "  warnings.warn(\n",
      "/home/andriigegliuk/.pyenv/versions/3.10.6/envs/dropoutpred-env/lib/python3.10/site-packages/sklearn/neural_network/_multilayer_perceptron.py:686: ConvergenceWarning: Stochastic Optimizer: Maximum iterations (100) reached and the optimization hasn't converged yet.\n",
      "  warnings.warn(\n",
      "/home/andriigegliuk/.pyenv/versions/3.10.6/envs/dropoutpred-env/lib/python3.10/site-packages/sklearn/neural_network/_multilayer_perceptron.py:686: ConvergenceWarning: Stochastic Optimizer: Maximum iterations (100) reached and the optimization hasn't converged yet.\n",
      "  warnings.warn(\n",
      "/home/andriigegliuk/.pyenv/versions/3.10.6/envs/dropoutpred-env/lib/python3.10/site-packages/sklearn/neural_network/_multilayer_perceptron.py:686: ConvergenceWarning: Stochastic Optimizer: Maximum iterations (100) reached and the optimization hasn't converged yet.\n",
      "  warnings.warn(\n",
      "/home/andriigegliuk/.pyenv/versions/3.10.6/envs/dropoutpred-env/lib/python3.10/site-packages/sklearn/neural_network/_multilayer_perceptron.py:686: ConvergenceWarning: Stochastic Optimizer: Maximum iterations (100) reached and the optimization hasn't converged yet.\n",
      "  warnings.warn(\n",
      "/home/andriigegliuk/.pyenv/versions/3.10.6/envs/dropoutpred-env/lib/python3.10/site-packages/sklearn/neural_network/_multilayer_perceptron.py:686: ConvergenceWarning: Stochastic Optimizer: Maximum iterations (100) reached and the optimization hasn't converged yet.\n",
      "  warnings.warn(\n",
      "/home/andriigegliuk/.pyenv/versions/3.10.6/envs/dropoutpred-env/lib/python3.10/site-packages/sklearn/neural_network/_multilayer_perceptron.py:686: ConvergenceWarning: Stochastic Optimizer: Maximum iterations (100) reached and the optimization hasn't converged yet.\n",
      "  warnings.warn(\n",
      "/home/andriigegliuk/.pyenv/versions/3.10.6/envs/dropoutpred-env/lib/python3.10/site-packages/sklearn/neural_network/_multilayer_perceptron.py:686: ConvergenceWarning: Stochastic Optimizer: Maximum iterations (100) reached and the optimization hasn't converged yet.\n",
      "  warnings.warn(\n",
      "/home/andriigegliuk/.pyenv/versions/3.10.6/envs/dropoutpred-env/lib/python3.10/site-packages/sklearn/neural_network/_multilayer_perceptron.py:686: ConvergenceWarning: Stochastic Optimizer: Maximum iterations (100) reached and the optimization hasn't converged yet.\n",
      "  warnings.warn(\n",
      "/home/andriigegliuk/.pyenv/versions/3.10.6/envs/dropoutpred-env/lib/python3.10/site-packages/sklearn/neural_network/_multilayer_perceptron.py:686: ConvergenceWarning: Stochastic Optimizer: Maximum iterations (100) reached and the optimization hasn't converged yet.\n",
      "  warnings.warn(\n",
      "/home/andriigegliuk/.pyenv/versions/3.10.6/envs/dropoutpred-env/lib/python3.10/site-packages/sklearn/neural_network/_multilayer_perceptron.py:686: ConvergenceWarning: Stochastic Optimizer: Maximum iterations (100) reached and the optimization hasn't converged yet.\n",
      "  warnings.warn(\n",
      "/home/andriigegliuk/.pyenv/versions/3.10.6/envs/dropoutpred-env/lib/python3.10/site-packages/sklearn/neural_network/_multilayer_perceptron.py:686: ConvergenceWarning: Stochastic Optimizer: Maximum iterations (100) reached and the optimization hasn't converged yet.\n",
      "  warnings.warn(\n",
      "/home/andriigegliuk/.pyenv/versions/3.10.6/envs/dropoutpred-env/lib/python3.10/site-packages/sklearn/neural_network/_multilayer_perceptron.py:686: ConvergenceWarning: Stochastic Optimizer: Maximum iterations (100) reached and the optimization hasn't converged yet.\n",
      "  warnings.warn(\n",
      "/home/andriigegliuk/.pyenv/versions/3.10.6/envs/dropoutpred-env/lib/python3.10/site-packages/sklearn/neural_network/_multilayer_perceptron.py:686: ConvergenceWarning: Stochastic Optimizer: Maximum iterations (100) reached and the optimization hasn't converged yet.\n",
      "  warnings.warn(\n",
      "/home/andriigegliuk/.pyenv/versions/3.10.6/envs/dropoutpred-env/lib/python3.10/site-packages/sklearn/neural_network/_multilayer_perceptron.py:686: ConvergenceWarning: Stochastic Optimizer: Maximum iterations (100) reached and the optimization hasn't converged yet.\n",
      "  warnings.warn(\n",
      "/home/andriigegliuk/.pyenv/versions/3.10.6/envs/dropoutpred-env/lib/python3.10/site-packages/sklearn/neural_network/_multilayer_perceptron.py:686: ConvergenceWarning: Stochastic Optimizer: Maximum iterations (100) reached and the optimization hasn't converged yet.\n",
      "  warnings.warn(\n",
      "/home/andriigegliuk/.pyenv/versions/3.10.6/envs/dropoutpred-env/lib/python3.10/site-packages/sklearn/neural_network/_multilayer_perceptron.py:686: ConvergenceWarning: Stochastic Optimizer: Maximum iterations (100) reached and the optimization hasn't converged yet.\n",
      "  warnings.warn(\n",
      "/home/andriigegliuk/.pyenv/versions/3.10.6/envs/dropoutpred-env/lib/python3.10/site-packages/sklearn/neural_network/_multilayer_perceptron.py:686: ConvergenceWarning: Stochastic Optimizer: Maximum iterations (100) reached and the optimization hasn't converged yet.\n",
      "  warnings.warn(\n",
      "/home/andriigegliuk/.pyenv/versions/3.10.6/envs/dropoutpred-env/lib/python3.10/site-packages/sklearn/neural_network/_multilayer_perceptron.py:686: ConvergenceWarning: Stochastic Optimizer: Maximum iterations (100) reached and the optimization hasn't converged yet.\n",
      "  warnings.warn(\n",
      "/home/andriigegliuk/.pyenv/versions/3.10.6/envs/dropoutpred-env/lib/python3.10/site-packages/sklearn/neural_network/_multilayer_perceptron.py:686: ConvergenceWarning: Stochastic Optimizer: Maximum iterations (100) reached and the optimization hasn't converged yet.\n",
      "  warnings.warn(\n",
      "/home/andriigegliuk/.pyenv/versions/3.10.6/envs/dropoutpred-env/lib/python3.10/site-packages/sklearn/neural_network/_multilayer_perceptron.py:686: ConvergenceWarning: Stochastic Optimizer: Maximum iterations (100) reached and the optimization hasn't converged yet.\n",
      "  warnings.warn(\n",
      "/home/andriigegliuk/.pyenv/versions/3.10.6/envs/dropoutpred-env/lib/python3.10/site-packages/sklearn/neural_network/_multilayer_perceptron.py:686: ConvergenceWarning: Stochastic Optimizer: Maximum iterations (100) reached and the optimization hasn't converged yet.\n",
      "  warnings.warn(\n",
      "/home/andriigegliuk/.pyenv/versions/3.10.6/envs/dropoutpred-env/lib/python3.10/site-packages/sklearn/neural_network/_multilayer_perceptron.py:686: ConvergenceWarning: Stochastic Optimizer: Maximum iterations (100) reached and the optimization hasn't converged yet.\n",
      "  warnings.warn(\n",
      "/home/andriigegliuk/.pyenv/versions/3.10.6/envs/dropoutpred-env/lib/python3.10/site-packages/sklearn/neural_network/_multilayer_perceptron.py:686: ConvergenceWarning: Stochastic Optimizer: Maximum iterations (100) reached and the optimization hasn't converged yet.\n",
      "  warnings.warn(\n",
      "/home/andriigegliuk/.pyenv/versions/3.10.6/envs/dropoutpred-env/lib/python3.10/site-packages/sklearn/neural_network/_multilayer_perceptron.py:686: ConvergenceWarning: Stochastic Optimizer: Maximum iterations (100) reached and the optimization hasn't converged yet.\n",
      "  warnings.warn(\n",
      "/home/andriigegliuk/.pyenv/versions/3.10.6/envs/dropoutpred-env/lib/python3.10/site-packages/sklearn/neural_network/_multilayer_perceptron.py:686: ConvergenceWarning: Stochastic Optimizer: Maximum iterations (100) reached and the optimization hasn't converged yet.\n",
      "  warnings.warn(\n",
      "/home/andriigegliuk/.pyenv/versions/3.10.6/envs/dropoutpred-env/lib/python3.10/site-packages/sklearn/neural_network/_multilayer_perceptron.py:686: ConvergenceWarning: Stochastic Optimizer: Maximum iterations (100) reached and the optimization hasn't converged yet.\n",
      "  warnings.warn(\n",
      "/home/andriigegliuk/.pyenv/versions/3.10.6/envs/dropoutpred-env/lib/python3.10/site-packages/sklearn/neural_network/_multilayer_perceptron.py:686: ConvergenceWarning: Stochastic Optimizer: Maximum iterations (100) reached and the optimization hasn't converged yet.\n",
      "  warnings.warn(\n",
      "/home/andriigegliuk/.pyenv/versions/3.10.6/envs/dropoutpred-env/lib/python3.10/site-packages/sklearn/neural_network/_multilayer_perceptron.py:686: ConvergenceWarning: Stochastic Optimizer: Maximum iterations (100) reached and the optimization hasn't converged yet.\n",
      "  warnings.warn(\n",
      "/home/andriigegliuk/.pyenv/versions/3.10.6/envs/dropoutpred-env/lib/python3.10/site-packages/sklearn/neural_network/_multilayer_perceptron.py:686: ConvergenceWarning: Stochastic Optimizer: Maximum iterations (100) reached and the optimization hasn't converged yet.\n",
      "  warnings.warn(\n",
      "/home/andriigegliuk/.pyenv/versions/3.10.6/envs/dropoutpred-env/lib/python3.10/site-packages/sklearn/neural_network/_multilayer_perceptron.py:686: ConvergenceWarning: Stochastic Optimizer: Maximum iterations (100) reached and the optimization hasn't converged yet.\n",
      "  warnings.warn(\n",
      "/home/andriigegliuk/.pyenv/versions/3.10.6/envs/dropoutpred-env/lib/python3.10/site-packages/sklearn/neural_network/_multilayer_perceptron.py:686: ConvergenceWarning: Stochastic Optimizer: Maximum iterations (100) reached and the optimization hasn't converged yet.\n",
      "  warnings.warn(\n",
      "/home/andriigegliuk/.pyenv/versions/3.10.6/envs/dropoutpred-env/lib/python3.10/site-packages/sklearn/neural_network/_multilayer_perceptron.py:686: ConvergenceWarning: Stochastic Optimizer: Maximum iterations (100) reached and the optimization hasn't converged yet.\n",
      "  warnings.warn(\n",
      "/home/andriigegliuk/.pyenv/versions/3.10.6/envs/dropoutpred-env/lib/python3.10/site-packages/sklearn/neural_network/_multilayer_perceptron.py:686: ConvergenceWarning: Stochastic Optimizer: Maximum iterations (100) reached and the optimization hasn't converged yet.\n",
      "  warnings.warn(\n",
      "/home/andriigegliuk/.pyenv/versions/3.10.6/envs/dropoutpred-env/lib/python3.10/site-packages/sklearn/neural_network/_multilayer_perceptron.py:686: ConvergenceWarning: Stochastic Optimizer: Maximum iterations (100) reached and the optimization hasn't converged yet.\n",
      "  warnings.warn(\n",
      "/home/andriigegliuk/.pyenv/versions/3.10.6/envs/dropoutpred-env/lib/python3.10/site-packages/sklearn/neural_network/_multilayer_perceptron.py:686: ConvergenceWarning: Stochastic Optimizer: Maximum iterations (100) reached and the optimization hasn't converged yet.\n",
      "  warnings.warn(\n",
      "/home/andriigegliuk/.pyenv/versions/3.10.6/envs/dropoutpred-env/lib/python3.10/site-packages/sklearn/neural_network/_multilayer_perceptron.py:686: ConvergenceWarning: Stochastic Optimizer: Maximum iterations (100) reached and the optimization hasn't converged yet.\n",
      "  warnings.warn(\n",
      "/home/andriigegliuk/.pyenv/versions/3.10.6/envs/dropoutpred-env/lib/python3.10/site-packages/sklearn/neural_network/_multilayer_perceptron.py:686: ConvergenceWarning: Stochastic Optimizer: Maximum iterations (100) reached and the optimization hasn't converged yet.\n",
      "  warnings.warn(\n",
      "/home/andriigegliuk/.pyenv/versions/3.10.6/envs/dropoutpred-env/lib/python3.10/site-packages/sklearn/neural_network/_multilayer_perceptron.py:686: ConvergenceWarning: Stochastic Optimizer: Maximum iterations (100) reached and the optimization hasn't converged yet.\n",
      "  warnings.warn(\n",
      "/home/andriigegliuk/.pyenv/versions/3.10.6/envs/dropoutpred-env/lib/python3.10/site-packages/sklearn/neural_network/_multilayer_perceptron.py:686: ConvergenceWarning: Stochastic Optimizer: Maximum iterations (100) reached and the optimization hasn't converged yet.\n",
      "  warnings.warn(\n",
      "/home/andriigegliuk/.pyenv/versions/3.10.6/envs/dropoutpred-env/lib/python3.10/site-packages/sklearn/neural_network/_multilayer_perceptron.py:686: ConvergenceWarning: Stochastic Optimizer: Maximum iterations (100) reached and the optimization hasn't converged yet.\n",
      "  warnings.warn(\n",
      "/home/andriigegliuk/.pyenv/versions/3.10.6/envs/dropoutpred-env/lib/python3.10/site-packages/sklearn/neural_network/_multilayer_perceptron.py:686: ConvergenceWarning: Stochastic Optimizer: Maximum iterations (100) reached and the optimization hasn't converged yet.\n",
      "  warnings.warn(\n",
      "/home/andriigegliuk/.pyenv/versions/3.10.6/envs/dropoutpred-env/lib/python3.10/site-packages/sklearn/neural_network/_multilayer_perceptron.py:686: ConvergenceWarning: Stochastic Optimizer: Maximum iterations (100) reached and the optimization hasn't converged yet.\n",
      "  warnings.warn(\n"
     ]
    },
    {
     "data": {
      "text/html": [
       "<style>#sk-container-id-3 {color: black;background-color: white;}#sk-container-id-3 pre{padding: 0;}#sk-container-id-3 div.sk-toggleable {background-color: white;}#sk-container-id-3 label.sk-toggleable__label {cursor: pointer;display: block;width: 100%;margin-bottom: 0;padding: 0.3em;box-sizing: border-box;text-align: center;}#sk-container-id-3 label.sk-toggleable__label-arrow:before {content: \"▸\";float: left;margin-right: 0.25em;color: #696969;}#sk-container-id-3 label.sk-toggleable__label-arrow:hover:before {color: black;}#sk-container-id-3 div.sk-estimator:hover label.sk-toggleable__label-arrow:before {color: black;}#sk-container-id-3 div.sk-toggleable__content {max-height: 0;max-width: 0;overflow: hidden;text-align: left;background-color: #f0f8ff;}#sk-container-id-3 div.sk-toggleable__content pre {margin: 0.2em;color: black;border-radius: 0.25em;background-color: #f0f8ff;}#sk-container-id-3 input.sk-toggleable__control:checked~div.sk-toggleable__content {max-height: 200px;max-width: 100%;overflow: auto;}#sk-container-id-3 input.sk-toggleable__control:checked~label.sk-toggleable__label-arrow:before {content: \"▾\";}#sk-container-id-3 div.sk-estimator input.sk-toggleable__control:checked~label.sk-toggleable__label {background-color: #d4ebff;}#sk-container-id-3 div.sk-label input.sk-toggleable__control:checked~label.sk-toggleable__label {background-color: #d4ebff;}#sk-container-id-3 input.sk-hidden--visually {border: 0;clip: rect(1px 1px 1px 1px);clip: rect(1px, 1px, 1px, 1px);height: 1px;margin: -1px;overflow: hidden;padding: 0;position: absolute;width: 1px;}#sk-container-id-3 div.sk-estimator {font-family: monospace;background-color: #f0f8ff;border: 1px dotted black;border-radius: 0.25em;box-sizing: border-box;margin-bottom: 0.5em;}#sk-container-id-3 div.sk-estimator:hover {background-color: #d4ebff;}#sk-container-id-3 div.sk-parallel-item::after {content: \"\";width: 100%;border-bottom: 1px solid gray;flex-grow: 1;}#sk-container-id-3 div.sk-label:hover label.sk-toggleable__label {background-color: #d4ebff;}#sk-container-id-3 div.sk-serial::before {content: \"\";position: absolute;border-left: 1px solid gray;box-sizing: border-box;top: 0;bottom: 0;left: 50%;z-index: 0;}#sk-container-id-3 div.sk-serial {display: flex;flex-direction: column;align-items: center;background-color: white;padding-right: 0.2em;padding-left: 0.2em;position: relative;}#sk-container-id-3 div.sk-item {position: relative;z-index: 1;}#sk-container-id-3 div.sk-parallel {display: flex;align-items: stretch;justify-content: center;background-color: white;position: relative;}#sk-container-id-3 div.sk-item::before, #sk-container-id-3 div.sk-parallel-item::before {content: \"\";position: absolute;border-left: 1px solid gray;box-sizing: border-box;top: 0;bottom: 0;left: 50%;z-index: -1;}#sk-container-id-3 div.sk-parallel-item {display: flex;flex-direction: column;z-index: 1;position: relative;background-color: white;}#sk-container-id-3 div.sk-parallel-item:first-child::after {align-self: flex-end;width: 50%;}#sk-container-id-3 div.sk-parallel-item:last-child::after {align-self: flex-start;width: 50%;}#sk-container-id-3 div.sk-parallel-item:only-child::after {width: 0;}#sk-container-id-3 div.sk-dashed-wrapped {border: 1px dashed gray;margin: 0 0.4em 0.5em 0.4em;box-sizing: border-box;padding-bottom: 0.4em;background-color: white;}#sk-container-id-3 div.sk-label label {font-family: monospace;font-weight: bold;display: inline-block;line-height: 1.2em;}#sk-container-id-3 div.sk-label-container {text-align: center;}#sk-container-id-3 div.sk-container {/* jupyter's `normalize.less` sets `[hidden] { display: none; }` but bootstrap.min.css set `[hidden] { display: none !important; }` so we also need the `!important` here to be able to override the default hidden behavior on the sphinx rendered scikit-learn.org. See: https://github.com/scikit-learn/scikit-learn/issues/21755 */display: inline-block !important;position: relative;}#sk-container-id-3 div.sk-text-repr-fallback {display: none;}</style><div id=\"sk-container-id-3\" class=\"sk-top-container\"><div class=\"sk-text-repr-fallback\"><pre>GridSearchCV(cv=3, estimator=MLPClassifier(max_iter=100), n_jobs=-1,\n",
       "             param_grid={&#x27;activation&#x27;: [&#x27;tanh&#x27;, &#x27;relu&#x27;],\n",
       "                         &#x27;alpha&#x27;: [0.0001, 0.05],\n",
       "                         &#x27;hidden_layer_sizes&#x27;: [(50, 50, 50), (50, 100, 50),\n",
       "                                                (100,)],\n",
       "                         &#x27;learning_rate&#x27;: [&#x27;constant&#x27;, &#x27;adaptive&#x27;],\n",
       "                         &#x27;solver&#x27;: [&#x27;sgd&#x27;, &#x27;adam&#x27;]})</pre><b>In a Jupyter environment, please rerun this cell to show the HTML representation or trust the notebook. <br />On GitHub, the HTML representation is unable to render, please try loading this page with nbviewer.org.</b></div><div class=\"sk-container\" hidden><div class=\"sk-item sk-dashed-wrapped\"><div class=\"sk-label-container\"><div class=\"sk-label sk-toggleable\"><input class=\"sk-toggleable__control sk-hidden--visually\" id=\"sk-estimator-id-8\" type=\"checkbox\" ><label for=\"sk-estimator-id-8\" class=\"sk-toggleable__label sk-toggleable__label-arrow\">GridSearchCV</label><div class=\"sk-toggleable__content\"><pre>GridSearchCV(cv=3, estimator=MLPClassifier(max_iter=100), n_jobs=-1,\n",
       "             param_grid={&#x27;activation&#x27;: [&#x27;tanh&#x27;, &#x27;relu&#x27;],\n",
       "                         &#x27;alpha&#x27;: [0.0001, 0.05],\n",
       "                         &#x27;hidden_layer_sizes&#x27;: [(50, 50, 50), (50, 100, 50),\n",
       "                                                (100,)],\n",
       "                         &#x27;learning_rate&#x27;: [&#x27;constant&#x27;, &#x27;adaptive&#x27;],\n",
       "                         &#x27;solver&#x27;: [&#x27;sgd&#x27;, &#x27;adam&#x27;]})</pre></div></div></div><div class=\"sk-parallel\"><div class=\"sk-parallel-item\"><div class=\"sk-item\"><div class=\"sk-label-container\"><div class=\"sk-label sk-toggleable\"><input class=\"sk-toggleable__control sk-hidden--visually\" id=\"sk-estimator-id-9\" type=\"checkbox\" ><label for=\"sk-estimator-id-9\" class=\"sk-toggleable__label sk-toggleable__label-arrow\">estimator: MLPClassifier</label><div class=\"sk-toggleable__content\"><pre>MLPClassifier(max_iter=100)</pre></div></div></div><div class=\"sk-serial\"><div class=\"sk-item\"><div class=\"sk-estimator sk-toggleable\"><input class=\"sk-toggleable__control sk-hidden--visually\" id=\"sk-estimator-id-10\" type=\"checkbox\" ><label for=\"sk-estimator-id-10\" class=\"sk-toggleable__label sk-toggleable__label-arrow\">MLPClassifier</label><div class=\"sk-toggleable__content\"><pre>MLPClassifier(max_iter=100)</pre></div></div></div></div></div></div></div></div></div></div>"
      ],
      "text/plain": [
       "GridSearchCV(cv=3, estimator=MLPClassifier(max_iter=100), n_jobs=-1,\n",
       "             param_grid={'activation': ['tanh', 'relu'],\n",
       "                         'alpha': [0.0001, 0.05],\n",
       "                         'hidden_layer_sizes': [(50, 50, 50), (50, 100, 50),\n",
       "                                                (100,)],\n",
       "                         'learning_rate': ['constant', 'adaptive'],\n",
       "                         'solver': ['sgd', 'adam']})"
      ]
     },
<<<<<<< HEAD
     "execution_count": 31,
=======
     "execution_count": 30,
>>>>>>> 4479aec9b24a47926fded6e8a499ef4f71cf3803
     "metadata": {},
     "output_type": "execute_result"
    }
   ],
   "source": [
    "clf.fit(X_train_preprocessed, y_train)"
   ]
  },
  {
   "cell_type": "code",
<<<<<<< HEAD
   "execution_count": 32,
=======
   "execution_count": 31,
>>>>>>> 4479aec9b24a47926fded6e8a499ef4f71cf3803
   "metadata": {},
   "outputs": [
    {
     "name": "stdout",
     "output_type": "stream",
     "text": [
      "Best parameters found:\n",
<<<<<<< HEAD
      " {'activation': 'relu', 'alpha': 0.0001, 'hidden_layer_sizes': (50, 100, 50), 'learning_rate': 'constant', 'solver': 'sgd'}\n"
=======
      " {'activation': 'relu', 'alpha': 0.0001, 'hidden_layer_sizes': (50, 50, 50), 'learning_rate': 'constant', 'solver': 'sgd'}\n"
>>>>>>> 4479aec9b24a47926fded6e8a499ef4f71cf3803
     ]
    }
   ],
   "source": [
    "print('Best parameters found:\\n', clf.best_params_)"
   ]
  },
  {
   "cell_type": "code",
<<<<<<< HEAD
   "execution_count": 33,
=======
   "execution_count": 32,
>>>>>>> 4479aec9b24a47926fded6e8a499ef4f71cf3803
   "metadata": {},
   "outputs": [],
   "source": [
    "best_model_params = MLPClassifier(activation='relu', alpha=0.0001, hidden_layer_sizes=(50, 50, 50), learning_rate='adaptive', solver='sgd')"
   ]
  },
  {
   "cell_type": "code",
<<<<<<< HEAD
   "execution_count": 34,
=======
   "execution_count": 33,
>>>>>>> 4479aec9b24a47926fded6e8a499ef4f71cf3803
   "metadata": {},
   "outputs": [
    {
     "name": "stderr",
     "output_type": "stream",
     "text": [
      "/home/andriigegliuk/.pyenv/versions/3.10.6/envs/dropoutpred-env/lib/python3.10/site-packages/sklearn/neural_network/_multilayer_perceptron.py:686: ConvergenceWarning: Stochastic Optimizer: Maximum iterations (200) reached and the optimization hasn't converged yet.\n",
      "  warnings.warn(\n"
     ]
    },
    {
     "data": {
      "text/html": [
       "<style>#sk-container-id-4 {color: black;background-color: white;}#sk-container-id-4 pre{padding: 0;}#sk-container-id-4 div.sk-toggleable {background-color: white;}#sk-container-id-4 label.sk-toggleable__label {cursor: pointer;display: block;width: 100%;margin-bottom: 0;padding: 0.3em;box-sizing: border-box;text-align: center;}#sk-container-id-4 label.sk-toggleable__label-arrow:before {content: \"▸\";float: left;margin-right: 0.25em;color: #696969;}#sk-container-id-4 label.sk-toggleable__label-arrow:hover:before {color: black;}#sk-container-id-4 div.sk-estimator:hover label.sk-toggleable__label-arrow:before {color: black;}#sk-container-id-4 div.sk-toggleable__content {max-height: 0;max-width: 0;overflow: hidden;text-align: left;background-color: #f0f8ff;}#sk-container-id-4 div.sk-toggleable__content pre {margin: 0.2em;color: black;border-radius: 0.25em;background-color: #f0f8ff;}#sk-container-id-4 input.sk-toggleable__control:checked~div.sk-toggleable__content {max-height: 200px;max-width: 100%;overflow: auto;}#sk-container-id-4 input.sk-toggleable__control:checked~label.sk-toggleable__label-arrow:before {content: \"▾\";}#sk-container-id-4 div.sk-estimator input.sk-toggleable__control:checked~label.sk-toggleable__label {background-color: #d4ebff;}#sk-container-id-4 div.sk-label input.sk-toggleable__control:checked~label.sk-toggleable__label {background-color: #d4ebff;}#sk-container-id-4 input.sk-hidden--visually {border: 0;clip: rect(1px 1px 1px 1px);clip: rect(1px, 1px, 1px, 1px);height: 1px;margin: -1px;overflow: hidden;padding: 0;position: absolute;width: 1px;}#sk-container-id-4 div.sk-estimator {font-family: monospace;background-color: #f0f8ff;border: 1px dotted black;border-radius: 0.25em;box-sizing: border-box;margin-bottom: 0.5em;}#sk-container-id-4 div.sk-estimator:hover {background-color: #d4ebff;}#sk-container-id-4 div.sk-parallel-item::after {content: \"\";width: 100%;border-bottom: 1px solid gray;flex-grow: 1;}#sk-container-id-4 div.sk-label:hover label.sk-toggleable__label {background-color: #d4ebff;}#sk-container-id-4 div.sk-serial::before {content: \"\";position: absolute;border-left: 1px solid gray;box-sizing: border-box;top: 0;bottom: 0;left: 50%;z-index: 0;}#sk-container-id-4 div.sk-serial {display: flex;flex-direction: column;align-items: center;background-color: white;padding-right: 0.2em;padding-left: 0.2em;position: relative;}#sk-container-id-4 div.sk-item {position: relative;z-index: 1;}#sk-container-id-4 div.sk-parallel {display: flex;align-items: stretch;justify-content: center;background-color: white;position: relative;}#sk-container-id-4 div.sk-item::before, #sk-container-id-4 div.sk-parallel-item::before {content: \"\";position: absolute;border-left: 1px solid gray;box-sizing: border-box;top: 0;bottom: 0;left: 50%;z-index: -1;}#sk-container-id-4 div.sk-parallel-item {display: flex;flex-direction: column;z-index: 1;position: relative;background-color: white;}#sk-container-id-4 div.sk-parallel-item:first-child::after {align-self: flex-end;width: 50%;}#sk-container-id-4 div.sk-parallel-item:last-child::after {align-self: flex-start;width: 50%;}#sk-container-id-4 div.sk-parallel-item:only-child::after {width: 0;}#sk-container-id-4 div.sk-dashed-wrapped {border: 1px dashed gray;margin: 0 0.4em 0.5em 0.4em;box-sizing: border-box;padding-bottom: 0.4em;background-color: white;}#sk-container-id-4 div.sk-label label {font-family: monospace;font-weight: bold;display: inline-block;line-height: 1.2em;}#sk-container-id-4 div.sk-label-container {text-align: center;}#sk-container-id-4 div.sk-container {/* jupyter's `normalize.less` sets `[hidden] { display: none; }` but bootstrap.min.css set `[hidden] { display: none !important; }` so we also need the `!important` here to be able to override the default hidden behavior on the sphinx rendered scikit-learn.org. See: https://github.com/scikit-learn/scikit-learn/issues/21755 */display: inline-block !important;position: relative;}#sk-container-id-4 div.sk-text-repr-fallback {display: none;}</style><div id=\"sk-container-id-4\" class=\"sk-top-container\"><div class=\"sk-text-repr-fallback\"><pre>MLPClassifier(hidden_layer_sizes=(50, 50, 50), learning_rate=&#x27;adaptive&#x27;,\n",
       "              solver=&#x27;sgd&#x27;)</pre><b>In a Jupyter environment, please rerun this cell to show the HTML representation or trust the notebook. <br />On GitHub, the HTML representation is unable to render, please try loading this page with nbviewer.org.</b></div><div class=\"sk-container\" hidden><div class=\"sk-item\"><div class=\"sk-estimator sk-toggleable\"><input class=\"sk-toggleable__control sk-hidden--visually\" id=\"sk-estimator-id-11\" type=\"checkbox\" checked><label for=\"sk-estimator-id-11\" class=\"sk-toggleable__label sk-toggleable__label-arrow\">MLPClassifier</label><div class=\"sk-toggleable__content\"><pre>MLPClassifier(hidden_layer_sizes=(50, 50, 50), learning_rate=&#x27;adaptive&#x27;,\n",
       "              solver=&#x27;sgd&#x27;)</pre></div></div></div></div></div>"
      ],
      "text/plain": [
       "MLPClassifier(hidden_layer_sizes=(50, 50, 50), learning_rate='adaptive',\n",
       "              solver='sgd')"
      ]
     },
<<<<<<< HEAD
     "execution_count": 34,
=======
     "execution_count": 33,
>>>>>>> 4479aec9b24a47926fded6e8a499ef4f71cf3803
     "metadata": {},
     "output_type": "execute_result"
    }
   ],
   "source": [
    "best_model_params.fit(X_train_preprocessed, y_train)"
   ]
  },
  {
   "cell_type": "code",
<<<<<<< HEAD
   "execution_count": 35,
=======
   "execution_count": 34,
>>>>>>> 4479aec9b24a47926fded6e8a499ef4f71cf3803
   "metadata": {},
   "outputs": [],
   "source": [
    "y_pred = best_model_params.predict(X_test_preprocessed)"
   ]
  },
  {
   "cell_type": "code",
<<<<<<< HEAD
   "execution_count": 36,
=======
   "execution_count": 35,
>>>>>>> 4479aec9b24a47926fded6e8a499ef4f71cf3803
   "metadata": {},
   "outputs": [
    {
     "name": "stdout",
     "output_type": "stream",
     "text": [
<<<<<<< HEAD
      "Precision :  0.7546239210850801\n",
      "Recall :  1.0\n",
      "Accuracy :  0.7546239210850801\n",
      "F1 Score :  0.8601546029515108\n",
      "\n",
      " [[  0 199]\n",
      " [  0 612]]\n",
=======
      "Precision :  0.7669543773119606\n",
      "Recall :  1.0\n",
      "Accuracy :  0.7669543773119606\n",
      "F1 Score :  0.8681088625261689\n",
      "\n",
      " [[  0 189]\n",
      " [  0 622]]\n",
>>>>>>> 4479aec9b24a47926fded6e8a499ef4f71cf3803
      "\n",
      "\n",
      "******************************************************\n",
      "                Classification Report\n",
      "******************************************************\n",
      "              precision    recall  f1-score   support\n",
      "\n",
<<<<<<< HEAD
      "         0.0       0.00      0.00      0.00       199\n",
      "         1.0       0.75      1.00      0.86       612\n",
      "\n",
      "    accuracy                           0.75       811\n",
      "   macro avg       0.38      0.50      0.43       811\n",
      "weighted avg       0.57      0.75      0.65       811\n",
=======
      "         0.0       0.00      0.00      0.00       189\n",
      "         1.0       0.77      1.00      0.87       622\n",
      "\n",
      "    accuracy                           0.77       811\n",
      "   macro avg       0.38      0.50      0.43       811\n",
      "weighted avg       0.59      0.77      0.67       811\n",
>>>>>>> 4479aec9b24a47926fded6e8a499ef4f71cf3803
      "\n",
      "******************************************************\n",
      "\n"
     ]
    },
    {
     "name": "stderr",
     "output_type": "stream",
     "text": [
      "/home/andriigegliuk/.pyenv/versions/3.10.6/envs/dropoutpred-env/lib/python3.10/site-packages/sklearn/metrics/_classification.py:1344: UndefinedMetricWarning: Precision and F-score are ill-defined and being set to 0.0 in labels with no predicted samples. Use `zero_division` parameter to control this behavior.\n",
      "  _warn_prf(average, modifier, msg_start, len(result))\n",
      "/home/andriigegliuk/.pyenv/versions/3.10.6/envs/dropoutpred-env/lib/python3.10/site-packages/sklearn/metrics/_classification.py:1344: UndefinedMetricWarning: Precision and F-score are ill-defined and being set to 0.0 in labels with no predicted samples. Use `zero_division` parameter to control this behavior.\n",
      "  _warn_prf(average, modifier, msg_start, len(result))\n",
      "/home/andriigegliuk/.pyenv/versions/3.10.6/envs/dropoutpred-env/lib/python3.10/site-packages/sklearn/metrics/_classification.py:1344: UndefinedMetricWarning: Precision and F-score are ill-defined and being set to 0.0 in labels with no predicted samples. Use `zero_division` parameter to control this behavior.\n",
      "  _warn_prf(average, modifier, msg_start, len(result))\n"
     ]
    },
    {
     "data": {
<<<<<<< HEAD
      "image/png": "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",
=======
      "image/png": "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",
>>>>>>> 4479aec9b24a47926fded6e8a499ef4f71cf3803
      "text/plain": [
       "<Figure size 640x480 with 2 Axes>"
      ]
     },
     "metadata": {},
     "output_type": "display_data"
    }
   ],
   "source": [
    "perform(y_test, y_pred)"
   ]
  },
  {
   "attachments": {},
   "cell_type": "markdown",
   "metadata": {},
   "source": [
    "# Testing KNeighborsClassifier"
   ]
  },
  {
   "cell_type": "code",
<<<<<<< HEAD
   "execution_count": 37,
=======
   "execution_count": 36,
>>>>>>> 4479aec9b24a47926fded6e8a499ef4f71cf3803
   "metadata": {},
   "outputs": [
    {
     "data": {
      "text/plain": [
<<<<<<< HEAD
       "[0.3908754623921085,\n",
       " 0.46115906288532676,\n",
       " 0.31442663378545005,\n",
       " 0.374845869297164,\n",
       " 0.2909987669543773,\n",
       " 0.32305795314426633,\n",
       " 0.2749691738594328,\n",
       " 0.2996300863131936,\n",
       " 0.2688039457459926,\n",
       " 0.2996300863131936,\n",
       " 0.2638717632552404,\n",
       " 0.2762022194821208,\n",
       " 0.2589395807644883,\n",
       " 0.2725030826140567,\n",
       " 0.24907521578298397,\n",
       " 0.2589395807644883,\n",
       " 0.25400739827373614,\n",
       " 0.2601726263871763,\n",
       " 0.24784217016029594,\n",
       " 0.2527743526510481,\n",
       " 0.24907521578298397,\n",
       " 0.25154130702836003,\n",
       " 0.24907521578298397,\n",
       " 0.2527743526510481,\n",
       " 0.24784217016029594,\n",
       " 0.24907521578298397,\n",
       " 0.24537607891491986,\n",
       " 0.24537607891491986,\n",
       " 0.2466091245376079,\n",
       " 0.2466091245376079,\n",
       " 0.24537607891491986,\n",
       " 0.2466091245376079,\n",
       " 0.2466091245376079,\n",
       " 0.2466091245376079,\n",
       " 0.2466091245376079,\n",
       " 0.2466091245376079,\n",
       " 0.24537607891491986,\n",
       " 0.24537607891491986,\n",
       " 0.24537607891491986]"
      ]
     },
     "execution_count": 37,
=======
       "[0.3847102342786683,\n",
       " 0.499383477188656,\n",
       " 0.33785450061652283,\n",
       " 0.3884093711467324,\n",
       " 0.3094944512946979,\n",
       " 0.3242909987669544,\n",
       " 0.2749691738594328,\n",
       " 0.2934648581997534,\n",
       " 0.25770653514180025,\n",
       " 0.27743526510480887,\n",
       " 0.2527743526510481,\n",
       " 0.26633785450061653,\n",
       " 0.25030826140567203,\n",
       " 0.25524044389642414,\n",
       " 0.24167694204685575,\n",
       " 0.25154130702836003,\n",
       " 0.23921085080147966,\n",
       " 0.24537607891491986,\n",
       " 0.23674475955610358,\n",
       " 0.24907521578298397,\n",
       " 0.24167694204685575,\n",
       " 0.24167694204685575,\n",
       " 0.2404438964241677,\n",
       " 0.24167694204685575,\n",
       " 0.23551171393341552,\n",
       " 0.23551171393341552,\n",
       " 0.2318125770653514,\n",
       " 0.2342786683107275,\n",
       " 0.2318125770653514,\n",
       " 0.23304562268803947,\n",
       " 0.23304562268803947,\n",
       " 0.23304562268803947,\n",
       " 0.2318125770653514,\n",
       " 0.2318125770653514,\n",
       " 0.2318125770653514,\n",
       " 0.2318125770653514,\n",
       " 0.2318125770653514,\n",
       " 0.2318125770653514,\n",
       " 0.2318125770653514]"
      ]
     },
     "execution_count": 36,
>>>>>>> 4479aec9b24a47926fded6e8a499ef4f71cf3803
     "metadata": {},
     "output_type": "execute_result"
    }
   ],
   "source": [
    "error_rate = []\n",
    "for i in range(1,40):\n",
    "    knn = KNeighborsClassifier(n_neighbors=i)\n",
    "    knn.fit(X_train_preprocessed,y_train)\n",
    "    pred_i = knn.predict(X_test_preprocessed)\n",
    "    error_rate.append(np.mean(pred_i != y_test))\n",
    "error_rate"
   ]
  },
  {
   "cell_type": "code",
<<<<<<< HEAD
   "execution_count": 38,
=======
   "execution_count": 37,
>>>>>>> 4479aec9b24a47926fded6e8a499ef4f71cf3803
   "metadata": {},
   "outputs": [
    {
     "name": "stdout",
     "output_type": "stream",
     "text": [
<<<<<<< HEAD
      " Minimum error: 0.24537607891491986 at K = 27\n"
=======
      " Minimum error: 0.2318125770653514 at K = 27\n"
>>>>>>> 4479aec9b24a47926fded6e8a499ef4f71cf3803
     ]
    },
    {
     "data": {
<<<<<<< HEAD
      "image/png": "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",
=======
      "image/png": "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",
>>>>>>> 4479aec9b24a47926fded6e8a499ef4f71cf3803
      "text/plain": [
       "<Figure size 1000x600 with 1 Axes>"
      ]
     },
     "metadata": {},
     "output_type": "display_data"
    }
   ],
   "source": [
    "plt.figure(figsize=(10,6))\n",
    "plt.plot(range(1,40), error_rate,color='blue', linestyle='dashed', marker='o', markerfacecolor='red', markersize=10)\n",
    "plt.title('Error Rate vs. K Value')\n",
    "plt.xlabel('K')\n",
    "plt.ylabel('Error Rate')\n",
    "req_k_value = error_rate.index(min(error_rate)) + 1\n",
    "print(f' Minimum error: {min(error_rate)} at K = {req_k_value}')"
   ]
  },
  {
   "cell_type": "code",
<<<<<<< HEAD
   "execution_count": 39,
=======
   "execution_count": 38,
>>>>>>> 4479aec9b24a47926fded6e8a499ef4f71cf3803
   "metadata": {},
   "outputs": [
    {
     "data": {
      "text/html": [
       "<style>#sk-container-id-5 {color: black;background-color: white;}#sk-container-id-5 pre{padding: 0;}#sk-container-id-5 div.sk-toggleable {background-color: white;}#sk-container-id-5 label.sk-toggleable__label {cursor: pointer;display: block;width: 100%;margin-bottom: 0;padding: 0.3em;box-sizing: border-box;text-align: center;}#sk-container-id-5 label.sk-toggleable__label-arrow:before {content: \"▸\";float: left;margin-right: 0.25em;color: #696969;}#sk-container-id-5 label.sk-toggleable__label-arrow:hover:before {color: black;}#sk-container-id-5 div.sk-estimator:hover label.sk-toggleable__label-arrow:before {color: black;}#sk-container-id-5 div.sk-toggleable__content {max-height: 0;max-width: 0;overflow: hidden;text-align: left;background-color: #f0f8ff;}#sk-container-id-5 div.sk-toggleable__content pre {margin: 0.2em;color: black;border-radius: 0.25em;background-color: #f0f8ff;}#sk-container-id-5 input.sk-toggleable__control:checked~div.sk-toggleable__content {max-height: 200px;max-width: 100%;overflow: auto;}#sk-container-id-5 input.sk-toggleable__control:checked~label.sk-toggleable__label-arrow:before {content: \"▾\";}#sk-container-id-5 div.sk-estimator input.sk-toggleable__control:checked~label.sk-toggleable__label {background-color: #d4ebff;}#sk-container-id-5 div.sk-label input.sk-toggleable__control:checked~label.sk-toggleable__label {background-color: #d4ebff;}#sk-container-id-5 input.sk-hidden--visually {border: 0;clip: rect(1px 1px 1px 1px);clip: rect(1px, 1px, 1px, 1px);height: 1px;margin: -1px;overflow: hidden;padding: 0;position: absolute;width: 1px;}#sk-container-id-5 div.sk-estimator {font-family: monospace;background-color: #f0f8ff;border: 1px dotted black;border-radius: 0.25em;box-sizing: border-box;margin-bottom: 0.5em;}#sk-container-id-5 div.sk-estimator:hover {background-color: #d4ebff;}#sk-container-id-5 div.sk-parallel-item::after {content: \"\";width: 100%;border-bottom: 1px solid gray;flex-grow: 1;}#sk-container-id-5 div.sk-label:hover label.sk-toggleable__label {background-color: #d4ebff;}#sk-container-id-5 div.sk-serial::before {content: \"\";position: absolute;border-left: 1px solid gray;box-sizing: border-box;top: 0;bottom: 0;left: 50%;z-index: 0;}#sk-container-id-5 div.sk-serial {display: flex;flex-direction: column;align-items: center;background-color: white;padding-right: 0.2em;padding-left: 0.2em;position: relative;}#sk-container-id-5 div.sk-item {position: relative;z-index: 1;}#sk-container-id-5 div.sk-parallel {display: flex;align-items: stretch;justify-content: center;background-color: white;position: relative;}#sk-container-id-5 div.sk-item::before, #sk-container-id-5 div.sk-parallel-item::before {content: \"\";position: absolute;border-left: 1px solid gray;box-sizing: border-box;top: 0;bottom: 0;left: 50%;z-index: -1;}#sk-container-id-5 div.sk-parallel-item {display: flex;flex-direction: column;z-index: 1;position: relative;background-color: white;}#sk-container-id-5 div.sk-parallel-item:first-child::after {align-self: flex-end;width: 50%;}#sk-container-id-5 div.sk-parallel-item:last-child::after {align-self: flex-start;width: 50%;}#sk-container-id-5 div.sk-parallel-item:only-child::after {width: 0;}#sk-container-id-5 div.sk-dashed-wrapped {border: 1px dashed gray;margin: 0 0.4em 0.5em 0.4em;box-sizing: border-box;padding-bottom: 0.4em;background-color: white;}#sk-container-id-5 div.sk-label label {font-family: monospace;font-weight: bold;display: inline-block;line-height: 1.2em;}#sk-container-id-5 div.sk-label-container {text-align: center;}#sk-container-id-5 div.sk-container {/* jupyter's `normalize.less` sets `[hidden] { display: none; }` but bootstrap.min.css set `[hidden] { display: none !important; }` so we also need the `!important` here to be able to override the default hidden behavior on the sphinx rendered scikit-learn.org. See: https://github.com/scikit-learn/scikit-learn/issues/21755 */display: inline-block !important;position: relative;}#sk-container-id-5 div.sk-text-repr-fallback {display: none;}</style><div id=\"sk-container-id-5\" class=\"sk-top-container\"><div class=\"sk-text-repr-fallback\"><pre>KNeighborsClassifier(n_neighbors=27)</pre><b>In a Jupyter environment, please rerun this cell to show the HTML representation or trust the notebook. <br />On GitHub, the HTML representation is unable to render, please try loading this page with nbviewer.org.</b></div><div class=\"sk-container\" hidden><div class=\"sk-item\"><div class=\"sk-estimator sk-toggleable\"><input class=\"sk-toggleable__control sk-hidden--visually\" id=\"sk-estimator-id-12\" type=\"checkbox\" checked><label for=\"sk-estimator-id-12\" class=\"sk-toggleable__label sk-toggleable__label-arrow\">KNeighborsClassifier</label><div class=\"sk-toggleable__content\"><pre>KNeighborsClassifier(n_neighbors=27)</pre></div></div></div></div></div>"
      ],
      "text/plain": [
       "KNeighborsClassifier(n_neighbors=27)"
      ]
     },
<<<<<<< HEAD
     "execution_count": 39,
=======
     "execution_count": 38,
>>>>>>> 4479aec9b24a47926fded6e8a499ef4f71cf3803
     "metadata": {},
     "output_type": "execute_result"
    }
   ],
   "source": [
    "model_kn = KNeighborsClassifier(n_neighbors = req_k_value, metric='minkowski', p=2)\n",
    "model_kn.fit(X_train_preprocessed, y_train)"
   ]
  },
  {
   "cell_type": "code",
<<<<<<< HEAD
   "execution_count": 40,
=======
   "execution_count": 39,
>>>>>>> 4479aec9b24a47926fded6e8a499ef4f71cf3803
   "metadata": {},
   "outputs": [
    {
     "data": {
      "text/plain": [
       "array([1., 1., 1., 1., 1., 1., 1., 1., 1., 1., 1., 1., 1., 1., 1., 1., 1.,\n",
       "       1., 1., 1., 1., 1., 1., 1., 1., 1., 1., 1., 1., 1., 1., 1., 1., 1.,\n",
       "       1., 1., 1., 1., 1., 1., 1., 1., 1., 1., 1., 1., 1., 1., 1., 1., 1.,\n",
       "       1., 1., 1., 1., 1., 1., 1., 1., 1., 1., 1., 1., 1., 1., 1., 1., 1.,\n",
<<<<<<< HEAD
=======
       "       1., 1., 1., 1., 1., 1., 1., 1., 1., 1., 1., 1., 1., 1., 1., 1., 1.,\n",
       "       1., 1., 1., 1., 1., 1., 1., 1., 1., 1., 1., 1., 1., 1., 1., 1., 1.,\n",
       "       1., 1., 1., 1., 1., 1., 1., 1., 1., 1., 1., 1., 1., 1., 1., 1., 1.,\n",
       "       1., 1., 1., 1., 1., 1., 1., 1., 1., 1., 1., 1., 1., 1., 1., 1., 1.,\n",
       "       1., 1., 1., 1., 1., 1., 1., 1., 1., 1., 1., 1., 1., 1., 1., 1., 1.,\n",
       "       1., 1., 1., 1., 1., 1., 1., 1., 1., 1., 1., 1., 1., 1., 1., 1., 1.,\n",
       "       1., 1., 1., 1., 1., 1., 1., 1., 1., 1., 1., 1., 1., 1., 1., 1., 1.,\n",
>>>>>>> 4479aec9b24a47926fded6e8a499ef4f71cf3803
       "       1., 1., 0., 1., 1., 1., 1., 1., 1., 1., 1., 1., 1., 1., 1., 1., 1.,\n",
       "       1., 1., 1., 1., 1., 1., 1., 1., 1., 1., 1., 1., 1., 1., 1., 1., 1.,\n",
       "       1., 1., 1., 1., 1., 1., 1., 1., 1., 1., 1., 1., 1., 1., 1., 1., 1.,\n",
       "       1., 1., 1., 1., 1., 1., 1., 1., 1., 1., 1., 1., 1., 1., 1., 1., 1.,\n",
       "       1., 1., 1., 1., 1., 1., 1., 1., 1., 1., 1., 1., 1., 1., 1., 1., 1.,\n",
       "       1., 1., 1., 1., 1., 1., 1., 1., 1., 1., 1., 1., 1., 1., 1., 1., 1.,\n",
       "       1., 1., 1., 1., 1., 1., 1., 1., 1., 1., 1., 1., 1., 1., 1., 1., 1.,\n",
       "       1., 1., 1., 1., 1., 1., 1., 1., 1., 1., 1., 1., 1., 1., 1., 1., 1.,\n",
       "       1., 1., 1., 1., 1., 1., 1., 1., 1., 1., 1., 1., 1., 1., 1., 1., 1.,\n",
       "       1., 1., 1., 1., 1., 1., 1., 1., 1., 1., 1., 1., 1., 1., 1., 1., 1.,\n",
       "       1., 1., 1., 1., 1., 1., 1., 1., 1., 1., 1., 1., 1., 1., 1., 1., 1.,\n",
       "       1., 1., 1., 1., 1., 1., 1., 1., 1., 1., 1., 1., 1., 1., 1., 1., 1.,\n",
       "       1., 1., 1., 1., 1., 1., 1., 1., 1., 1., 1., 1., 1., 1., 1., 1., 1.,\n",
       "       1., 1., 1., 1., 1., 1., 1., 1., 1., 1., 1., 1., 1., 1., 1., 1., 1.,\n",
       "       1., 1., 1., 1., 1., 1., 1., 1., 1., 1., 1., 1., 1., 1., 1., 1., 1.,\n",
       "       1., 1., 1., 1., 1., 1., 1., 1., 1., 1., 1., 1., 1., 1., 1., 1., 1.,\n",
<<<<<<< HEAD
       "       1., 1., 1., 0., 1., 1., 1., 1., 1., 1., 1., 1., 1., 1., 1., 1., 1.,\n",
       "       1., 1., 1., 1., 1., 1., 1., 1., 1., 1., 1., 1., 1., 1., 1., 1., 1.,\n",
       "       1., 1., 1., 1., 1., 1., 1., 1., 1., 1., 1., 1., 1., 1., 1., 1., 1.,\n",
       "       1., 1., 1., 1., 1., 1., 1., 1., 1., 1., 1., 1., 1., 1., 1., 1., 1.,\n",
       "       1., 1., 1., 1., 1., 1., 0., 1., 1., 1., 1., 1., 1., 1., 1., 1., 1.,\n",
=======
>>>>>>> 4479aec9b24a47926fded6e8a499ef4f71cf3803
       "       1., 1., 1., 1., 1., 1., 1., 1., 1., 1., 1., 1., 1., 1., 1., 1., 1.,\n",
       "       1., 1., 1., 1., 1., 1., 1., 1., 1., 1., 1., 1., 1., 1., 1., 1., 1.,\n",
       "       1., 1., 1., 1., 1., 1., 1., 1., 1., 1., 1., 1., 1., 1., 1., 1., 1.,\n",
       "       1., 1., 1., 1., 1., 1., 1., 1., 1., 1., 1., 1., 1., 1., 1., 1., 1.,\n",
       "       1., 1., 1., 1., 1., 1., 1., 1., 1., 1., 1., 1., 1., 1., 1., 1., 1.,\n",
       "       1., 1., 1., 1., 1., 1., 1., 1., 1., 1., 1., 1., 1., 1., 1., 1., 1.,\n",
       "       1., 1., 1., 1., 1., 1., 1., 1., 1., 1., 1., 1., 1., 1., 1., 1., 1.,\n",
<<<<<<< HEAD
=======
       "       1., 1., 1., 1., 1., 1., 1., 1., 1., 1., 0., 1., 1., 1., 1., 1., 1.,\n",
       "       1., 1., 1., 1., 1., 1., 1., 1., 1., 1., 1., 1., 1., 1., 1., 1., 1.,\n",
       "       1., 1., 1., 1., 1., 1., 1., 1., 1., 1., 1., 1., 1., 1., 1., 1., 1.,\n",
       "       1., 1., 1., 1., 1., 1., 1., 0., 1., 1., 1., 1., 1., 1., 1., 1., 1.,\n",
>>>>>>> 4479aec9b24a47926fded6e8a499ef4f71cf3803
       "       1., 1., 1., 1., 1., 1., 1., 1., 1., 1., 1., 1., 1., 1., 1., 1., 1.,\n",
       "       1., 1., 1., 1., 1., 1., 1., 1., 1., 1., 1., 1., 1., 1., 1., 1., 1.,\n",
       "       1., 1., 1., 1., 1., 1., 1., 1., 1., 1., 1., 1., 1., 1., 1., 1., 1.,\n",
       "       1., 1., 1., 1., 1., 1., 1., 1., 1., 1., 1., 1., 1., 1., 1., 1., 1.,\n",
       "       1., 1., 1., 1., 1., 1., 1., 1., 1., 1., 1., 1., 1., 1., 1., 1., 1.,\n",
       "       1., 1., 1., 1., 1., 1., 1., 1., 1., 1., 1., 1., 1., 1., 1., 1., 1.,\n",
       "       1., 1., 1., 1., 1., 1., 1., 1., 1., 1., 1., 1., 1., 1., 1., 1., 1.,\n",
       "       1., 1., 1., 1., 1., 1., 1., 1., 1., 1., 1., 1., 1., 1., 1., 1., 1.,\n",
<<<<<<< HEAD
       "       1., 1., 1., 1., 1., 1., 1., 1., 1., 1., 1., 1., 0., 1., 1., 1., 1.,\n",
       "       1., 1., 1., 1., 1., 1., 1., 1., 1., 1., 1., 1., 1., 1., 1., 1., 1.,\n",
       "       1., 1., 1., 1., 1., 1., 1., 1., 1., 1., 1., 1., 1., 1., 1., 1., 1.,\n",
       "       1., 1., 1., 1., 1., 1., 1., 1., 1., 1., 1., 1., 1., 1., 1., 1., 1.,\n",
       "       1., 1., 1., 1., 1., 1., 1., 1., 1., 1., 1., 1., 1., 1., 1., 1., 1.,\n",
       "       1., 1., 1., 1., 1., 1., 1., 1., 1., 1., 1., 1., 1., 1., 1., 1., 1.,\n",
=======
>>>>>>> 4479aec9b24a47926fded6e8a499ef4f71cf3803
       "       1., 1., 1., 1., 1., 1., 1., 1., 1., 1., 1., 1., 1., 1., 1., 1., 1.,\n",
       "       1., 1., 1., 1., 1., 1., 1., 1., 1., 1., 1., 1.])"
      ]
     },
<<<<<<< HEAD
     "execution_count": 40,
=======
     "execution_count": 39,
>>>>>>> 4479aec9b24a47926fded6e8a499ef4f71cf3803
     "metadata": {},
     "output_type": "execute_result"
    }
   ],
   "source": [
    "y_pred_kn = model_kn.predict(X_test_preprocessed)\n",
    "y_pred_kn"
   ]
  },
  {
   "cell_type": "code",
<<<<<<< HEAD
   "execution_count": 41,
=======
   "execution_count": 40,
>>>>>>> 4479aec9b24a47926fded6e8a499ef4f71cf3803
   "metadata": {},
   "outputs": [
    {
     "name": "stdout",
     "output_type": "stream",
     "text": [
<<<<<<< HEAD
      "Precision :  0.7558859975216853\n",
      "Recall :  0.9967320261437909\n",
      "Accuracy :  0.7546239210850801\n",
      "F1 Score :  0.8597603946441156\n",
      "\n",
      " [[  2 197]\n",
      " [  2 610]]\n",
=======
      "Precision :  0.7685643564356436\n",
      "Recall :  0.9983922829581994\n",
      "Accuracy :  0.7681874229346486\n",
      "F1 Score :  0.8685314685314686\n",
      "\n",
      " [[  2 187]\n",
      " [  1 621]]\n",
>>>>>>> 4479aec9b24a47926fded6e8a499ef4f71cf3803
      "\n",
      "\n",
      "******************************************************\n",
      "                Classification Report\n",
      "******************************************************\n",
      "              precision    recall  f1-score   support\n",
      "\n",
<<<<<<< HEAD
      "         0.0       0.50      0.01      0.02       199\n",
      "         1.0       0.76      1.00      0.86       612\n",
      "\n",
      "    accuracy                           0.75       811\n",
      "   macro avg       0.63      0.50      0.44       811\n",
      "weighted avg       0.69      0.75      0.65       811\n",
=======
      "         0.0       0.67      0.01      0.02       189\n",
      "         1.0       0.77      1.00      0.87       622\n",
      "\n",
      "    accuracy                           0.77       811\n",
      "   macro avg       0.72      0.50      0.44       811\n",
      "weighted avg       0.74      0.77      0.67       811\n",
>>>>>>> 4479aec9b24a47926fded6e8a499ef4f71cf3803
      "\n",
      "******************************************************\n",
      "\n"
     ]
    },
    {
     "data": {
<<<<<<< HEAD
      "image/png": "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",
=======
      "image/png": "iVBORw0KGgoAAAANSUhEUgAAAksAAAGwCAYAAAC5ACFFAAAAOXRFWHRTb2Z0d2FyZQBNYXRwbG90bGliIHZlcnNpb24zLjUuMywgaHR0cHM6Ly9tYXRwbG90bGliLm9yZy/NK7nSAAAACXBIWXMAAA9hAAAPYQGoP6dpAABIAklEQVR4nO3df3zNdf/H8efZ759nflzsGDOTsMmPoq+WIloWqokr6Vo1UV35UX5E6rrCEIso6RL9kNGVSykUolCpGKJoWMvP5sc215VspvbDzuf7h2vn6mTO2Zz9tMf9dnvfbs7n835/Pq+zjvbyer8/72MyDMMQAAAASuRW1QEAAABUZyRLAAAADpAsAQAAOECyBAAA4ADJEgAAgAMkSwAAAA6QLAEAADjgUdUBoOpYrVadPHlSgYGBMplMVR0OAKCMDMPQ2bNnFRISIje3iqt/5OXlqaCgwOXreHl5ycfHpxwiqlwkS7XYyZMnFRoaWtVhAABcdOzYMTVp0qRCrp2Xl6fwsABlnipy+VoWi0VHjhypcQkTyVItFhgYKEm6Sb3lIc8qjgaoGNkD/6+qQwAqTFFhnr7/YKrt/+cVoaCgQJmnivTTrmYyB15+9SrnrFVhHY+qoKCAZAk1R/HUm4c85WEiWcKVyd2rZv1PGbgclbGUIiDQpIDAy7+PVTV3uQfJEgAAcKrIsKrIhW+TLTKs5RdMJSNZAgAATlllyKrLz5ZcGVvV2DoAAADAASpLAADAKauscmUizbXRVYtkCQAAOFVkGCoyLn8qzZWxVY1pOAAAAAdIlgAAgFPFC7xdaWV14sQJ3X///apfv758fX3Vtm1b7dy503beMAxNnDhRjRo1kq+vr6Kjo3XgwAG7a5w+fVpxcXEym82qU6eOhgwZotzc3DLFQbIEAACcsspQkQutrMnSL7/8oi5dusjT01Pr1q3T/v37NXv2bNWtW9fWZ+bMmZo7d64WLFig7du3y9/fXzExMcrLy7P1iYuL0759+7RhwwatWbNGX375pR599NEyxcKaJQAAUO3MmDFDoaGhWrRoke1YeHi47c+GYWjOnDl69tlnFRsbK0lasmSJgoODtWrVKg0cOFCpqalav369vvnmG3Xq1EmS9Morr6h3796aNWuWQkJCShULlSUAAOBUeU3D5eTk2LX8/PwS7/fRRx+pU6dOuueee9SwYUNde+21euONN2znjxw5oszMTEVHR9uOBQUFqXPnzkpOTpYkJScnq06dOrZESZKio6Pl5uam7du3l/q9kywBAACnip+Gc6VJUmhoqIKCgmwtMTGxxPsdPnxY8+fP19VXX61PPvlEQ4cO1RNPPKHFixdLkjIzMyVJwcHBduOCg4Nt5zIzM9WwYUO78x4eHqpXr56tT2kwDQcAACrNsWPHZDabba+9vb1L7Ge1WtWpUydNnz5dknTttddq7969WrBggeLj4ysl1mJUlgAAgFPWcmiSZDab7dqlkqVGjRopMjLS7lhERITS09MlSRaLRZKUlZVl1ycrK8t2zmKx6NSpU3bnz58/r9OnT9v6lAbJEgAAcMqVJ+GKW1l06dJFaWlpdsd+/PFHhYWFSbqw2NtisWjTpk228zk5Odq+fbuioqIkSVFRUTpz5ox27dpl6/PZZ5/JarWqc+fOpY6FaTgAAOBUkXGhuTK+LEaPHq0bb7xR06dP14ABA7Rjxw69/vrrev311yVJJpNJo0aN0nPPPaerr75a4eHhmjBhgkJCQtS3b19JFypRt99+ux555BEtWLBAhYWFGjFihAYOHFjqJ+EkkiUAAFANXX/99Vq5cqWeeeYZTZkyReHh4ZozZ47i4uJsfZ566imdO3dOjz76qM6cOaObbrpJ69evl4+Pj63PO++8oxEjRujWW2+Vm5ub+vfvr7lz55YpFpNh1OAva4FLcnJyFBQUpFsUKw+TZ1WHA1SIMw9EVXUIQIUpKsjTd8v+ruzsbLtF0+Wp+HfF7v0NFRh4+at3zp61qkPkqQqNtaJQWQIAAE5ZZVKRTC6Nr6lY4A0AAOAAlSUAAOCU1bjQXBlfU5EsAQAAp4pcnIZzZWxVYxoOAADAASpLAADAqdpcWSJZAgAATlkNk6yGC0/DuTC2qjENBwAA4ACVJQAA4BTTcAAAAA4UyU1FLkxIFZVjLJWNZAkAADhluLhmyWDNEgAAwJWJyhIAAHCKNUsAAAAOFBluKjJcWLNUg7/uhGk4AAAAB6gsAQAAp6wyyepCjcWqmltaIlkCAABO1eY1S0zDAQAAOEBlCQAAOOX6Am+m4QAAwBXswpolF75Il2k4AACAKxOVJQAA4JTVxe+G42k4AABwRWPNEgAAgANWudXafZZYswQAAOAAlSUAAOBUkWFSkeHCppQujK1qJEsAAMCpIhcXeBcxDQcAAHBlorIEAACcshpusrrwNJyVp+EAAMCVjGk4AAAAlIjKEgAAcMoq155os5ZfKJWOZAkAADjl+qaUNXcyq+ZGDgAAUAmoLAEAAKdc/264mlufIVkCAABOWWWSVa6sWWIHbwAAcAWrzZWlmhs5AABAJaCyBAAAnHJ9U8qaW58hWQIAAE5ZDZOsruyz5MLYqlZz0zwAAIBKQGUJAAA4ZXVxGq4mb0pJsgQAAJyyGm6yuvBEmytjq1rNjRwAAKASUFkCAABOFcmkIhc2lnRlbFUjWQIAAE4xDQcAAIASUVkCAABOFcm1qbSi8gul0pEsAQAAp5iGAwAAcKD4i3RdaWWRkJAgk8lk11q3bm07n5eXp+HDh6t+/foKCAhQ//79lZWVZXeN9PR09enTR35+fmrYsKHGjRun8+fPl/m9U1kCAADVUps2bbRx40bbaw+P/6Uto0eP1tq1a7V8+XIFBQVpxIgR6tevn7Zs2SJJKioqUp8+fWSxWLR161ZlZGTowQcflKenp6ZPn16mOEiWAACAU4ZMsrqwZsn479icnBy7497e3vL29i5xjIeHhywWy0XHs7OztXDhQi1dulQ9evSQJC1atEgRERHatm2bbrjhBn366afav3+/Nm7cqODgYHXo0EFTp07V+PHjlZCQIC8vr1LHzjQcAABwqrym4UJDQxUUFGRriYmJl7zngQMHFBISoubNmysuLk7p6emSpF27dqmwsFDR0dG2vq1bt1bTpk2VnJwsSUpOTlbbtm0VHBxs6xMTE6OcnBzt27evTO+dyhIAAKg0x44dk9lstr2+VFWpc+fOSkpKUqtWrZSRkaHJkyfr5ptv1t69e5WZmSkvLy/VqVPHbkxwcLAyMzMlSZmZmXaJUvH54nNlQbIEAACcshomWY3Ln4YrHms2m+2SpUvp1auX7c/t2rVT586dFRYWpvfee0++vr6XHcflYBoOAAA4VSQ3l5sr6tSpo5YtW+rgwYOyWCwqKCjQmTNn7PpkZWXZ1jhZLJaLno4rfl3SOihHSJYAAEC1l5ubq0OHDqlRo0bq2LGjPD09tWnTJtv5tLQ0paenKyoqSpIUFRWllJQUnTp1ytZnw4YNMpvNioyMLNO9mYYDAABOldc0XGmNHTtWd955p8LCwnTy5ElNmjRJ7u7uuu+++xQUFKQhQ4ZozJgxqlevnsxmsx5//HFFRUXphhtukCT17NlTkZGReuCBBzRz5kxlZmbq2Wef1fDhwy+5TupSSJYAAIBTVrnJ6sKEVFnHHj9+XPfdd59+/vlnNWjQQDfddJO2bdumBg0aSJJeeuklubm5qX///srPz1dMTIxeffVV23h3d3etWbNGQ4cOVVRUlPz9/RUfH68pU6aUOXaSJQAAUO0sW7bM4XkfHx/NmzdP8+bNu2SfsLAwffzxxy7HQrIEAACcKjJMKnJhGs6VsVWNZAkAADhV2WuWqhOSJQAA4JRhuMlaxi/D/eP4mqrmRg4AAFAJqCwBAACnimRSkQtfpOvK2KpGsgQAAJyyGq6tO7Ia5RhMJWMaDgAAwAEqS0AFu3dElrr0zlZoi3wV5Llp/04/LZzWSMcP+VR1aECpdAg/qfu77lHrJv9WA/OvGrc4Rl/uD7ed9/Uq1PBe29StzVGZ/fKUcdqsd7dco5Xb20iSGtXN0aqnl5Z47Wf+eZs+S7mqUt4HXGN1cYG3K2OrGskSUMHaRZ3T6qQ/6cfdfnL3MDTo6QxN/9dhPdKtlfJ/c6/q8ACnfL3O60BGfa3e2VozH/zkovOj7tiqjled0KRlPZTxS6A6X31c4/p+pf/k+Our1GbKOhOgXlMftBtzd+f9iuu2R8lpTSvrbcBFVplkdWHdkStjq1qVpnmDBg2SyWTS888/b3d81apVMpkq9od69OhRmUwmWwsMDFSbNm00fPhwHThwoELvXd6SkpJUp06dqg4Dl/D3uOba8F49/fSjjw7v99XsUU0V3KRQV7f7rapDA0olOa2pXvv0/7R5X3iJ59uGZerjb1vp28ONlfGLWat2ROpgRn1Fhl74AlOr4abTuX52rVubI9r0/VX6rcCzMt8KcFmqvCbm4+OjGTNm6JdffqmS+2/cuFEZGRnas2ePpk+frtTUVLVv397um4z/qKCgoBIjxJXG31wkSTp7hqoSrgwpP1l0c8RRNTDnSjLUsfkJhTbI1vYDTUrs37rxv9Wq8c/66JvWlRsoXFK8g7crraaq8mQpOjpaFotFiYmJl+zzwQcfqE2bNvL29lazZs00e/Zsu/PNmjXT9OnTNXjwYAUGBqpp06Z6/fXXS3X/+vXry2KxqHnz5oqNjdXGjRvVuXNnDRkyREVFF36pJSQkqEOHDnrzzTcVHh4uH58La03S09MVGxurgIAAmc1mDRgwQFlZWbZrF4977bXXFBoaKj8/Pw0YMEDZ2dm2PlarVVOmTFGTJk3k7e2tDh06aP369bbzX3zxhUwmk86cOWM7tnv3bplMJh09elRffPGFHnroIWVnZ9uqZAkJCaV676h8JpOhxyaf0N4dfvopzbeqwwHKxawPb9KRU3W15u//1Jbpb2jOkLV6YdVN2n0kpMT+d16fqiNZdZXyk6WSI4UritcsudJqqiqP3N3dXdOnT9crr7yi48ePX3R+165dGjBggAYOHKiUlBQlJCRowoQJSkpKsus3e/ZsderUSd99952GDRumoUOHKi0trczxuLm5aeTIkfrpp5+0a9cu2/GDBw/qgw8+0IoVK7R7925ZrVbFxsbq9OnT2rx5szZs2KDDhw/r3nvvtbvewYMH9d5772n16tVav369Lb5iL7/8smbPnq1Zs2bp+++/V0xMjO66665STwXeeOONmjNnjsxmszIyMpSRkaGxY8eW2Dc/P185OTl2DZVrxPQTCmudp8ShYVUdClBuBnRJ0TVNs/Rk0u2Kn9tfL6+5UeP6fq3rW1z8/3Rvj/OK6XCQqhJqlCpPliTp7rvvVocOHTRp0qSLzr344ou69dZbNWHCBLVs2VKDBg3SiBEj9MILL9j16927t4YNG6YWLVpo/Pjx+tOf/qTPP//8suJp3frCX+KjR4/ajhUUFGjJkiW69tpr1a5dO23atEkpKSlaunSpOnbsqM6dO2vJkiXavHmzvvnmG9u4vLw8LVmyRB06dFDXrl31yiuvaNmyZcrMzJQkzZo1S+PHj9fAgQPVqlUrzZgxQx06dNCcOXNKFauXl5eCgoJkMplksVhksVgUEBBQYt/ExEQFBQXZWmho6GX9fHB5hk87rs635eipP1+l/2R4VXU4QLnw9jivoTE79PKaG/V1ajMdzKyv95Ov0cY9Vymu656L+vdoe1g+nuf18bctqyBauMIqk+374S6rscDbdTNmzNDixYuVmppqdzw1NVVdunSxO9alSxcdOHDANk0mSe3atbP9uThxOHXqwuLCXr16KSAgQAEBAWrTpo3TWAzDsF2nWFhYmBo0aGAXV2hoqF3CERkZqTp16ti9h6ZNm6px48a211FRUbJarUpLS1NOTo5OnjxZ4vv748+hPDzzzDPKzs62tWPHjpX7PVASQ8OnHdeNt2frqXuuUtYx76oOCCg3Hu5WeXpYL9qs0GqY5Ga6eBfCO69P1VepzXTmHNPQNY3x36fhLrcZNThZqjZbB3Tt2lUxMTF65plnNGjQoDKP9/S0f6LCZDLJarVKkt5880399ttvJfYrSXGiEh7+vyc//P39yxxTeXBzu5DPFidwklRYWHhZ1/L29pa3N7+oK9uI6SfU/e5flPBQuH7LdVPdBhf++507666CvGrz7xXgkny9CtWk/v/WWobUy9HVjf6jnN+8lXUmULsONdLjvZOVX+iujF8CdV3zk+p13Y96ec2NdtdpUj9b14ZnaPSi3pX9FlAOiitEroyvqapNsiRJzz//vDp06KBWrVrZjkVERGjLli12/bZs2aKWLVvK3b10TxP9vrLjjNVq1dy5cxUeHq5rr732kv0iIiJ07NgxHTt2zFZd2r9/v86cOaPIyEhbv/T0dJ08eVIhIRcWOm7btk1ubm5q1aqVzGazQkJCtGXLFnXr1s3u/f3f//2fJNmqWRkZGapbt66kCwu8f8/Ly8uuyobq5c5BP0uSZq04ZHd81qhQbXivXlWEBJRJRJNTmv/X1bbXo+9MliSt2dlSU5f30LNLb9PwXts1eeAmmf3ylflLoBZ88n9asS3S7jp3dvpBp3ICtP0ASwBQs1SrZKlt27aKi4vT3LlzbceefPJJXX/99Zo6daruvfdeJScn6x//+IdeffXVcrnnzz//rMzMTP3666/au3ev5syZox07dmjt2rUOk7Ho6GhbvHPmzNH58+c1bNgwdevWTZ06dbL18/HxUXx8vGbNmqWcnBw98cQTGjBggCyWC0+BjBs3TpMmTdJVV12lDh06aNGiRdq9e7feeecdSVKLFi0UGhqqhIQETZs2TT/++GOJTwPm5uZq06ZNat++vfz8/OTn51cuPx+4LiakfVWHALjk28ON1Xn8Y5c8fzrXT1OXd3d6nfmfdNb8TzqXZ2ioRLV5B+9qF/mUKVNs02eSdN111+m9997TsmXLdM0112jixImaMmXKZU3VlSQ6OlqNGjVS27Zt9fTTTysiIkLff/+9und3/BffZDLpww8/VN26ddW1a1dFR0erefPmevfdd+36tWjRQv369VPv3r3Vs2dPtWvXzi7Re+KJJzRmzBg9+eSTatu2rdavX6+PPvpIV199taQL04b/+te/9MMPP6hdu3aaMWOGnnvuObt73HjjjXrsscd07733qkGDBpo5c2a5/GwAACjm0uJuF6fwqprJ+P1iGJSrhIQErVq16qJps+oiJydHQUFBukWx8jCxiy6uTGceiKrqEIAKU1SQp++W/V3Z2dkym80Vco/i3xWxnw6Wp//lP8lbeK5AH/Z8q0JjrSjVahoOAABUT7X5u+FIlgAAgFO1+Wm4ardm6UqSkJBQbafgAABA6VBZAgAATtXmyhLJEgAAcKo2J0tMwwEAADhAZQkAADhVmytLJEsAAMApQ649/l+TN3UkWQIAAE7V5soSa5YAAAAcoLIEAACcqs2VJZIlAADgVG1OlpiGAwAAcIDKEgAAcKo2V5ZIlgAAgFOGYZLhQsLjytiqxjQcAACAA1SWAACAU1aZXNqU0pWxVY1kCQAAOFWb1ywxDQcAAOAAlSUAAOBUbV7gTbIEAACcqs3TcCRLAADAqdpcWWLNEgAAgANUlgAAgFOGi9NwNbmyRLIEAACcMiQZhmvjayqm4QAAABygsgQAAJyyyiQTO3gDAACUjKfhAAAAqqnnn39eJpNJo0aNsh3Ly8vT8OHDVb9+fQUEBKh///7KysqyG5eenq4+ffrIz89PDRs21Lhx43T+/Pky359kCQAAOFW8KaUr7XJ88803eu2119SuXTu746NHj9bq1au1fPlybd68WSdPnlS/fv1s54uKitSnTx8VFBRo69atWrx4sZKSkjRx4sQyx0CyBAAAnDIM11tZ5ebmKi4uTm+88Ybq1q1rO56dna2FCxfqxRdfVI8ePdSxY0ctWrRIW7du1bZt2yRJn376qfbv369//vOf6tChg3r16qWpU6dq3rx5KigoKFMcJEsAAKDS5OTk2LX8/PxL9h0+fLj69Omj6Ohou+O7du1SYWGh3fHWrVuradOmSk5OliQlJyerbdu2Cg4OtvWJiYlRTk6O9u3bV6aYSZYAAIBTxQu8XWmSFBoaqqCgIFtLTEws8X7Lli3Tt99+W+L5zMxMeXl5qU6dOnbHg4ODlZmZaevz+0Sp+HzxubLgaTgAAOBUeT0Nd+zYMZnNZttxb2/vi/oeO3ZMI0eO1IYNG+Tj43PZ9ywvVJYAAIBT5bXA22w227WSkqVdu3bp1KlTuu666+Th4SEPDw9t3rxZc+fOlYeHh4KDg1VQUKAzZ87YjcvKypLFYpEkWSyWi56OK35d3Ke0SJYAAEC1cuuttyolJUW7d++2tU6dOikuLs72Z09PT23atMk2Ji0tTenp6YqKipIkRUVFKSUlRadOnbL12bBhg8xmsyIjI8sUD9NwAADAqct9ou3340srMDBQ11xzjd0xf39/1a9f33Z8yJAhGjNmjOrVqyez2azHH39cUVFRuuGGGyRJPXv2VGRkpB544AHNnDlTmZmZevbZZzV8+PASq1mOkCwBAACnLiRLrqxZKsdgJL300ktyc3NT//79lZ+fr5iYGL366qu28+7u7lqzZo2GDh2qqKgo+fv7Kz4+XlOmTCnzvUiWAABAtffFF1/Yvfbx8dG8efM0b968S44JCwvTxx9/7PK9SZYAAIBTtfm74UiWAACAU8Z/myvjayqehgMAAHCAyhIAAHCKaTgAAABHavE8HMkSAABwzsXKkmpwZYk1SwAAAA5QWQIAAE5V5g7e1Q3JEgAAcKo2L/BmGg4AAMABKksAAMA5w+TaIu0aXFkiWQIAAE7V5jVLTMMBAAA4QGUJAAA4x6aUAAAAl1abn4YrVbL00UcflfqCd91112UHAwAAUN2UKlnq27dvqS5mMplUVFTkSjwAAKC6qsFTaa4oVbJktVorOg4AAFCN1eZpOJeehsvLyyuvOAAAQHVmlEOrocqcLBUVFWnq1Klq3LixAgICdPjwYUnShAkTtHDhwnIPEAAAoCqVOVmaNm2akpKSNHPmTHl5edmOX3PNNXrzzTfLNTgAAFBdmMqh1UxlTpaWLFmi119/XXFxcXJ3d7cdb9++vX744YdyDQ4AAFQTTMOV3okTJ9SiRYuLjlutVhUWFpZLUAAAANVFmZOlyMhIffXVVxcdf//993XttdeWS1AAAKCaqcWVpTLv4D1x4kTFx8frxIkTslqtWrFihdLS0rRkyRKtWbOmImIEAABVzTBdaK6Mr6HKXFmKjY3V6tWrtXHjRvn7+2vixIlKTU3V6tWrddttt1VEjAAAAFXmsr4b7uabb9aGDRvKOxYAAFBNGcaF5sr4muqyv0h3586dSk1NlXRhHVPHjh3LLSgAAFDNuLruqDYlS8ePH9d9992nLVu2qE6dOpKkM2fO6MYbb9SyZcvUpEmT8o4RAACgypR5zdLDDz+swsJCpaam6vTp0zp9+rRSU1NltVr18MMPV0SMAACgqhUv8Hal1VBlrixt3rxZW7duVatWrWzHWrVqpVdeeUU333xzuQYHAACqB5NxobkyvqYqc7IUGhpa4uaTRUVFCgkJKZegAABANVOL1yyVeRruhRde0OOPP66dO3faju3cuVMjR47UrFmzyjU4AACAqlaqylLdunVlMv1vrvHcuXPq3LmzPDwuDD9//rw8PDw0ePBg9e3bt0ICBQAAVagWb0pZqmRpzpw5FRwGAACo1mrxNFypkqX4+PiKjgMAAKBauuxNKSUpLy9PBQUFdsfMZrNLAQEAgGqoFleWyrzA+9y5cxoxYoQaNmwof39/1a1b164BAIArkFEOrYYqc7L01FNP6bPPPtP8+fPl7e2tN998U5MnT1ZISIiWLFlSETECAABUmTJPw61evVpLlizRLbfcooceekg333yzWrRoobCwML3zzjuKi4uriDgBAEBVqsVPw5W5snT69Gk1b95c0oX1SadPn5Yk3XTTTfryyy/LNzoAAFAtFO/g7UqrqcqcLDVv3lxHjhyRJLVu3VrvvfeepAsVp+Iv1gUAALhSlDlZeuihh7Rnzx5J0tNPP6158+bJx8dHo0eP1rhx48o9QAAAUA3U4gXeZV6zNHr0aNufo6Oj9cMPP2jXrl1q0aKF2rVrV67BAQAAVDWX9lmSpLCwMIWFhZVHLAAAoJoyybV1RzV3eXcpk6W5c+eW+oJPPPHEZQcDAABQ3ZQqWXrppZdKdTGTyUSyBKBa2T5jflWHAFSYnLNW1V1WSTerxVsHlCpZKn76DQAA1FJ83QkAAABKQrIEAACcq+StA+bPn6927drJbDbLbDYrKipK69ats53Py8vT8OHDVb9+fQUEBKh///7Kysqyu0Z6err69OkjPz8/NWzYUOPGjdP58+fL/NZJlgAAgFOVvYN3kyZN9Pzzz2vXrl3auXOnevToodjYWO3bt0/Sha2MVq9ereXLl2vz5s06efKk+vXrZxtfVFSkPn36qKCgQFu3btXixYuVlJSkiRMnXsZ7N4waPIsIV+Tk5CgoKEi3KFYeJs+qDgeoEJ+c3F3VIQAVJuesVXVbHlZ2drbMZnPF3OO/vyuaTZsmNx+fy76ONS9PR//+dx07dswuVm9vb3l7e5fqGvXq1dMLL7ygP//5z2rQoIGWLl2qP//5z5KkH374QREREUpOTtYNN9ygdevW6Y477tDJkycVHBwsSVqwYIHGjx+vf//73/Ly8ip17FSWAACAc+U0DRcaGqqgoCBbS0xMdHrroqIiLVu2TOfOnVNUVJR27dqlwsJCRUdH2/q0bt1aTZs2VXJysiQpOTlZbdu2tSVKkhQTE6OcnBxbdaq0LmtTyq+++kqvvfaaDh06pPfff1+NGzfW22+/rfDwcN10002Xc0kAAFCdldPTcCVVli4lJSVFUVFRysvLU0BAgFauXKnIyEjt3r1bXl5eF30nbXBwsDIzMyVJmZmZdolS8fnic2VR5srSBx98oJiYGPn6+uq7775Tfn6+JCk7O1vTp08v6+UAAEAtUrxgu7g5SpZatWql3bt3a/v27Ro6dKji4+O1f//+Soz2gjInS88995wWLFigN954Q56e/1vn0qVLF3377bflGhwAAKgeKnuBtyR5eXmpRYsW6tixoxITE9W+fXu9/PLLslgsKigo0JkzZ+z6Z2VlyWKxSJIsFstFT8cVvy7uU1plTpbS0tLUtWvXi44HBQVdFDQAALhCFO/g7UpzkdVqVX5+vjp27ChPT09t2rTJdi4tLU3p6emKioqSJEVFRSklJUWnTp2y9dmwYYPMZrMiIyPLdN8yr1myWCw6ePCgmjVrZnf866+/VvPmzct6OQAAUBNU8g7ezzzzjHr16qWmTZvq7NmzWrp0qb744gt98sknCgoK0pAhQzRmzBjVq1dPZrNZjz/+uKKionTDDTdIknr27KnIyEg98MADmjlzpjIzM/Xss89q+PDhpX76rliZk6VHHnlEI0eO1FtvvSWTyaSTJ08qOTlZY8eO1YQJE8p6OQAAgIucOnVKDz74oDIyMhQUFKR27drpk08+0W233SbpwvfWurm5qX///srPz1dMTIxeffVV23h3d3etWbNGQ4cOVVRUlPz9/RUfH68pU6aUOZYyJ0tPP/20rFarbr31Vv3666/q2rWrvL29NXbsWD3++ONlDgAAAFR/l7vu6Pfjy2LhwoUOz/v4+GjevHmaN2/eJfuEhYXp448/LtuNS1DmZMlkMunvf/+7xo0bp4MHDyo3N1eRkZEKCAhwORgAAFBN1eIv0r2sfZakCyvUy7pACgAAoKYpc7LUvXt3mUyXXtH+2WefuRQQAACohlychqtVlaUOHTrYvS4sLNTu3bu1d+9excfHl1dcAACgOmEarvReeumlEo8nJCQoNzfX5YAAAACqk3L7It37779fb731VnldDgAAVCfl9EW6NdFlL/D+o+TkZPn4+JTX5QAAQDVS2VsHVCdlTpb69etn99owDGVkZGjnzp1sSgkAAK44ZU6WgoKC7F67ubmpVatWmjJlinr27FlugQEAAFQHZUqWioqK9NBDD6lt27aqW7duRcUEAACqm1r8NFyZFni7u7urZ8+eOnPmTAWFAwAAqqPiNUuutJqqzE/DXXPNNTp8+HBFxAIAAFDtlDlZeu655zR27FitWbNGGRkZysnJsWsAAOAKVQu3DZDKsGZpypQpevLJJ9W7d29J0l133WX3tSeGYchkMqmoqKj8owQAAFWrFq9ZKnWyNHnyZD322GP6/PPPKzIeAACAaqXUyZJhXEgJu3XrVmHBAACA6olNKUvp99NuAACgFmEarnRatmzpNGE6ffq0SwEBAABUJ2VKliZPnnzRDt4AAODKxzRcKQ0cOFANGzasqFgAAEB1VYun4Uq9zxLrlQAAQG1U5qfhAABALVSLK0ulTpasVmtFxgEAAKox1iwBAAA4UosrS2X+bjgAAIDahMoSAABwrhZXlkiWAACAU7V5zRLTcAAAAA5QWQIAAM4xDQcAAHBpTMMBAACgRFSWAACAc0zDAQAAOFCLkyWm4QAAABygsgQAAJwy/be5Mr6mIlkCAADO1eJpOJIlAADgFFsHAAAAoERUlgAAgHNMwwEAADhRgxMeVzANBwAA4ACVJQAA4FRtXuBNsgQAAJyrxWuWmIYDAABwgMoSAABwimk4AAAAR5iGAwAAQEmoLAEAAKdq8zQclSUAAOCcUQ6tDBITE3X99dcrMDBQDRs2VN++fZWWlmbXJy8vT8OHD1f9+vUVEBCg/v37Kysry65Penq6+vTpIz8/PzVs2FDjxo3T+fPnyxQLyRIAAHCukpOlzZs3a/jw4dq2bZs2bNigwsJC9ezZU+fOnbP1GT16tFavXq3ly5dr8+bNOnnypPr162c7X1RUpD59+qigoEBbt27V4sWLlZSUpIkTJ5YpFqbhAABAtbN+/Xq710lJSWrYsKF27dqlrl27Kjs7WwsXLtTSpUvVo0cPSdKiRYsUERGhbdu26YYbbtCnn36q/fv3a+PGjQoODlaHDh00depUjR8/XgkJCfLy8ipVLFSWAACAU8VrllxpkpSTk2PX8vPzS3X/7OxsSVK9evUkSbt27VJhYaGio6NtfVq3bq2mTZsqOTlZkpScnKy2bdsqODjY1icmJkY5OTnat29fqd87yRIAAHCunKbhQkNDFRQUZGuJiYlOb221WjVq1Ch16dJF11xzjSQpMzNTXl5eqlOnjl3f4OBgZWZm2vr8PlEqPl98rrSYhgMAAJXm2LFjMpvNttfe3t5OxwwfPlx79+7V119/XZGhXRLJEgAAcMpkGDIZl//8f/FYs9lslyw5M2LECK1Zs0ZffvmlmjRpYjtusVhUUFCgM2fO2FWXsrKyZLFYbH127Nhhd73ip+WK+5QG03AAAMC5Sn4azjAMjRgxQitXrtRnn32m8PBwu/MdO3aUp6enNm3aZDuWlpam9PR0RUVFSZKioqKUkpKiU6dO2fps2LBBZrNZkZGRpY6FyhIAAKh2hg8frqVLl+rDDz9UYGCgbY1RUFCQfH19FRQUpCFDhmjMmDGqV6+ezGazHn/8cUVFRemGG26QJPXs2VORkZF64IEHNHPmTGVmZurZZ5/V8OHDSzX9V4xkCQAAOFXZO3jPnz9fknTLLbfYHV+0aJEGDRokSXrppZfk5uam/v37Kz8/XzExMXr11Vdtfd3d3bVmzRoNHTpUUVFR8vf3V3x8vKZMmVKmWEiWAACAc5X8RbpGKdZH+fj4aN68eZo3b94l+4SFhenjjz8u283/gDVLAAAADlBZAgAATtXmL9IlWQIAAM5V8jRcdUKyBAAAnKrNlSXWLAEAADhAZQkAADjHNBwAAIBjNXkqzRVMwwEAADhAZQkAADhnGBeaK+NrKJIlAADgFE/DAQAAoERUlgAAgHM8DQcAAHBpJuuF5sr4moppOAAAAAeoLAGV4JrOubpn2L91ddtfVd9yXgmDmyl5fVBVhwWUyn8yPLVwWiN987lZ+b+5KaRZvp58KV0t2/+m84VS0oxG+uYzszJ+8pK/2aprbz6rIX87qfqW87ZrLH05WDs2mnV4n688vAyt+CGlCt8RLkstnoajsgRUAh8/qw7v89E//takqkMByuTsGXeNib1a7h6GnvvnYb3xxQ96dOJJBQQVSZLyf3PTwRQ//WVUluZ98qMmvnlExw95a9Kg5nbXOV9gUtc7z6hP/H+q4m2gHBQ/DedKq6lqdWVp0KBBWrx4sSTJw8ND9erVU7t27XTfffdp0KBBcnOrGblks2bNNGrUKI0aNaqqQ8El7PzcrJ2fm6s6DKDM3pvXUH8KKdDYOcdsxyxNC2x/9jdb9fy7h+zGDJ92XE/0bqVTxz3VsEmhJOnBcZmSpE/frVcJUaNC1OJ9lmpGNlCBbr/9dmVkZOjo0aNat26dunfvrpEjR+qOO+7Q+fPnSxxTWFhYyVECQNXY9mmQWrb/Vc892kwD2rbRsNta6uN3HCc853LcZTIZ8v9v9Qmo6Wp9suTt7S2LxaLGjRvruuuu09/+9jd9+OGHWrdunZKSkiRJJpNJ8+fP11133SV/f39NmzZNkjR//nxdddVV8vLyUqtWrfT222/bXbt4XK9eveTr66vmzZvr/ffft+uTkpKiHj16yNfXV/Xr19ejjz6q3Nxc2/lbbrnloopR3759NWjQINv5n376SaNHj5bJZJLJZLrke83Pz1dOTo5dAwBHMtK9tGbJnxQSnq/pSw/rjvifNX9CE214r26J/QvyTFo4LUS39P1F/oE1+PEnXKQ2T8PV+mSpJD169FD79u21YsUK27GEhATdfffdSklJ0eDBg7Vy5UqNHDlSTz75pPbu3au//vWveuihh/T555/bXWvChAnq37+/9uzZo7i4OA0cOFCpqamSpHPnzikmJkZ169bVN998o+XLl2vjxo0aMWJEqWNdsWKFmjRpoilTpigjI0MZGRmX7JuYmKigoCBbCw0NLeNPBkBtY1ilFtf8psHPZKhF29/U+/6f1esvP2vt23+6qO/5QmnaX5tJhvT488crP1hULKMcWg1FsnQJrVu31tGjR22v//KXv+ihhx5S8+bN1bRpU82aNUuDBg3SsGHD1LJlS40ZM0b9+vXTrFmz7K5zzz336OGHH1bLli01depUderUSa+88ookaenSpcrLy9OSJUt0zTXXqEePHvrHP/6ht99+W1lZWaWKs169enJ3d1dgYKAsFossFssl+z7zzDPKzs62tWPHjl2yLwBIUr2G5xXWMs/uWOjVeTp1wtPuWHGilHXCS4nLDlFVwhWFZOkSDMOwm9Lq1KmT3fnU1FR16dLF7liXLl1sVaNiUVFRF70u7pOamqr27dvL39/f7hpWq1VpaWnl8j5+z9vbW2az2a4BgCOR15/TsUPedsdOHPZWw8b/W7tZnCidOOKt5989KHM91ipdiZiGw0VSU1MVHh5ue/37hKYyubm5yfjDEwQsMK95fPyK1LzNb2re5jdJkiW0QM3b/KYGjQucjASqVr9HT+mHb/31r7kNdeKIlz5bUUcf/7O+7nrowhYA5wulqY+E68c9fhr/j59kLTLp9CkPnT7locKC//2D89RxTx3a66tTJzxlLZIO7fXVob2++u0cv4ZqjOKn4VxpNRSf0hJ89tlnSklJUf/+/S/ZJyIiQlu2bLE7tmXLFkVGRtod27Zt20WvIyIibNfYs2ePzp07Z3cNNzc3tWrVSpLUoEEDu3VIRUVF2rt3r901vby8VFTEv+Sqs5btf9P8DT9q/oYfJUmPTT6p+Rt+1INjM6s4MsCxVh1+08SFR/TFqrr6a4/WWjrHosemnFCPfr9Ikv6T6aVtnwbpPxleGnZba93X4Rpb27/zf//IXDKrkYb1bKW3ZzXSb+fcNaxnKw3r2Uo/7vGrqrcGlFqt3mdJuvCEWGZmpoqKipSVlaX169crMTFRd9xxhx588MFLjhs3bpwGDBiga6+9VtHR0Vq9erVWrFihjRs32vVbvny5OnXqpJtuuknvvPOOduzYoYULF0qS4uLiNGnSJMXHxyshIUH//ve/9fjjj+uBBx5QcHCwpAuLzceMGaO1a9fqqquu0osvvqgzZ87Y3aNZs2b68ssvNXDgQHl7e+tPf7p44SWq1vfJAYoJaV/VYQCX5YbbcnTDbSU/PWsJLdAnJ3c7vcbYOekaOye9nCNDZXJ1Kq0mT8PV+mRp/fr1atSokTw8PFS3bl21b99ec+fOVXx8vMNNKfv27auXX35Zs2bN0siRIxUeHq5Fixbplltuses3efJkLVu2TMOGDVOjRo30r3/9y1Z98vPz0yeffKKRI0fq+uuvl5+fn/r3768XX3zRNn7w4MHas2ePHnzwQXl4eGj06NHq3r273T2mTJmiv/71r7rqqquUn59/0bQdAAAuq8Vfd2Iy+M1aYUwmk1auXKm+fftWdSglysnJUVBQkG5RrDxMns4HADVQaaoeQE2Vc9aqui0PKzs7u8Ie2in+XRF1+xR5ePpc9nXOF+Ypef3ECo21otT6yhIAAHCOaTgAAABHrMaF5sr4GopkqQIxwwkAuGLU4jVLbB0AAADgAJUlAADglEkurlkqt0gqH8kSAABwztVduGvw0hSm4QAAABygsgQAAJxi6wAAAABHeBoOAAAAJaGyBAAAnDIZhkwuLNJ2ZWxVI1kCAADOWf/bXBlfQzENBwAA4ACVJQAA4BTTcAAAAI7U4qfhSJYAAIBz7OANAACAklBZAgAATrGDNwAAgCNMwwEAAKAkVJYAAIBTJuuF5sr4mopkCQAAOMc0HAAAQPXx5Zdf6s4771RISIhMJpNWrVpld94wDE2cOFGNGjWSr6+voqOjdeDAAbs+p0+fVlxcnMxms+rUqaMhQ4YoNze3zLGQLAEAAOeMcmhlcO7cObVv317z5s0r8fzMmTM1d+5cLViwQNu3b5e/v79iYmKUl5dn6xMXF6d9+/Zpw4YNWrNmjb788ks9+uijZQtETMMBAIBSqOyvO+nVq5d69epV4jnDMDRnzhw9++yzio2NlSQtWbJEwcHBWrVqlQYOHKjU1FStX79e33zzjTp16iRJeuWVV9S7d2/NmjVLISEhpY6FyhIAAKg0OTk5di0/P7/M1zhy5IgyMzMVHR1tOxYUFKTOnTsrOTlZkpScnKw6derYEiVJio6Olpubm7Zv316m+5EsAQAA54oXeLvSJIWGhiooKMjWEhMTyxxKZmamJCk4ONjueHBwsO1cZmamGjZsaHfew8ND9erVs/UpLabhAACAc4YkVx7//+8s3LFjx2Q2m22Hvb29XQqrMlBZAgAAThWvWXKlSZLZbLZrl5MsWSwWSVJWVpbd8aysLNs5i8WiU6dO2Z0/f/68Tp8+betTWiRLAACgRgkPD5fFYtGmTZtsx3JycrR9+3ZFRUVJkqKionTmzBnt2rXL1uezzz6T1WpV586dy3Q/puEAAIBzhlzclLJs3XNzc3Xw4EHb6yNHjmj37t2qV6+emjZtqlGjRum5557T1VdfrfDwcE2YMEEhISHq27evJCkiIkK33367HnnkES1YsECFhYUaMWKEBg4cWKYn4SSSJQAAUBqVvIP3zp071b17d9vrMWPGSJLi4+OVlJSkp556SufOndOjjz6qM2fO6KabbtL69evl4+NjG/POO+9oxIgRuvXWW+Xm5qb+/ftr7ty5ZQ7dZBg1eP9xuCQnJ0dBQUG6RbHyMHlWdThAhfjk5O6qDgGoMDlnrarb8rCys7PtFk2X6z3++7uiR/vx8nC//MXY54vy9dmeGRUaa0WhsgQAAJyzSjK5OL6GIlkCAABOVfYO3tUJT8MBAAA4QGUJAAA4V8kLvKsTkiUAAOBcLU6WmIYDAABwgMoSAABwrhZXlkiWAACAc2wdAAAAcGlsHQAAAIASUVkCAADOsWYJAADAAashmVxIeKw1N1liGg4AAMABKksAAMA5puEAAAAccTFZUs1NlpiGAwAAcIDKEgAAcI5pOAAAAAeshlyaSuNpOAAAgCsTlSUAAOCcYb3QXBlfQ5EsAQAA51izBAAA4ABrlgAAAFASKksAAMA5puEAAAAcMORislRukVQ6puEAAAAcoLIEAACcYxoOAADAAatVkgt7JVlr7j5LTMMBAAA4QGUJAAA4xzQcAACAA7U4WWIaDgAAwAEqSwAAwLla/HUnJEsAAMApw7DKMC7/iTZXxlY1kiUAAOCcYbhWHWLNEgAAwJWJyhIAAHDOcHHNUg2uLJEsAQAA56xWyeTCuqMavGaJaTgAAAAHqCwBAADnmIYDAAC4NMNqleHCNFxN3jqAaTgAAAAHqCwBAADnmIYDAABwwGpIptqZLDENBwAA4ACVJQAA4JxhSHJln6WaW1kiWQIAAE4ZVkOGC9NwBskSAAC4ohlWuVZZYusAAACAKxKVJQAA4BTTcAAAAI7U4mk4kqVarDjLP69Cl/YZA6qznLM193/QgDM5uRc+35VRtXH1d8V5FZZfMJWMZKkWO3v2rCTpa31cxZEAFaduy6qOAKh4Z8+eVVBQUIVc28vLSxaLRV9nuv67wmKxyMvLqxyiqlwmoyZPIsIlVqtVJ0+eVGBgoEwmU1WHUyvk5OQoNDRUx44dk9lsrupwgHLF57vyGYahs2fPKiQkRG5uFffMVl5engoKCly+jpeXl3x8fMohospFZakWc3NzU5MmTao6jFrJbDbzywRXLD7flauiKkq/5+PjUyOTnPLC1gEAAAAOkCwBAAA4QLIEVCJvb29NmjRJ3t7eVR0KUO74fONKxQJvAAAAB6gsAQAAOECyBAAA4ADJEgAAgAMkSwAAAA6QLKHGGzRokEwmk55//nm746tWrarwncmPHj0qk8lka4GBgWrTpo2GDx+uAwcOVOi9y1tSUpLq1KlT1WGgghT/PTGZTPL09FRwcLBuu+02vfXWW7Jaa8735zVr1kxz5syp6jBQy5As4Yrg4+OjGTNm6JdffqmS+2/cuFEZGRnas2ePpk+frtTUVLVv316bNm265Jjy+OoAoCxuv/12ZWRk6OjRo1q3bp26d++ukSNH6o477tD58+dLHFNYWHO//BQoLyRLuCJER0fLYrEoMTHxkn0++OADtWnTRt7e3mrWrJlmz55td75Zs2aaPn26Bg8erMDAQDVt2lSvv/56qe5fv359WSwWNW/eXLGxsdq4caM6d+6sIUOGqKioSJKUkJCgDh066M0331R4eLjtqwPS09MVGxurgIAAmc1mDRgwQFlZWbZrF4977bXXFBoaKj8/Pw0YMEDZ2dm2PlarVVOmTFGTJk3k7e2tDh06aP369bbzX3zxhUwmk86cOWM7tnv3bplMJh09elRffPGFHnroIWVnZ9uqDwkJCaV676g5vL29ZbFY1LhxY1133XX629/+pg8//FDr1q1TUlKSJMlkMmn+/Pm666675O/vr2nTpkmS5s+fr6uuukpeXl5q1aqV3n77bbtrF4/r1auXfH191bx5c73//vt2fVJSUtSjRw/5+vqqfv36evTRR5Wbm2s7f8stt2jUqFF2Y/r27atBgwbZzv/0008aPXq07XMKVAaSJVwR3N3dNX36dL3yyis6fvz4Red37dqlAQMGaODAgUpJSVFCQoImTJhg+wVRbPbs2erUqZO+++47DRs2TEOHDlVaWlqZ43Fzc9PIkSP1008/adeuXbbjBw8e1AcffKAVK1Zo9+7dslqtio2N1enTp7V582Zt2LBBhw8f1r333mt3vYMHD+q9997T6tWrtX79elt8xV5++WXNnj1bs2bN0vfff6+YmBjdddddpZ4KvPHGGzVnzhyZzWZlZGQoIyNDY8eOLfP7Rs3To0cPtW/fXitWrLAdS0hI0N13362UlBQNHjxYK1eu1MiRI/Xkk09q7969+utf/6qHHnpIn3/+ud21JkyYoP79+2vPnj2Ki4vTwIEDlZqaKkk6d+6cYmJiVLduXX3zzTdavny5Nm7cqBEjRpQ61hUrVqhJkyaaMmWK7XMKVAoDqOHi4+ON2NhYwzAM44YbbjAGDx5sGIZhrFy50ij+iP/lL38xbrvtNrtx48aNMyIjI22vw8LCjPvvv9/22mq1Gg0bNjTmz59/yXsfOXLEkGR89913F51LTU01JBnvvvuuYRiGMWnSJMPT09M4deqUrc+nn35quLu7G+np6bZj+/btMyQZO3bssI1zd3c3jh8/buuzbt06w83NzcjIyDAMwzBCQkKMadOm2d3/+uuvN4YNG2YYhmF8/vnnhiTjl19+sZ3/7rvvDEnGkSNHDMMwjEWLFhlBQUGXfK+o2X7/9+SP7r33XiMiIsIwDMOQZIwaNcru/I033mg88sgjdsfuueceo3fv3rbXkozHHnvMrk/nzp2NoUOHGoZhGK+//rpRt25dIzc313Z+7dq1hpubm5GZmWkYhmF069bNGDlypN01YmNjjfj4eNvrsLAw46WXXnL6foHyRGUJV5QZM2Zo8eLFtn/NFktNTVWXLl3sjnXp0kUHDhywTZNJUrt27Wx/NplMslgsOnXqlCSpV69eCggIUEBAgNq0aeM0FuO/m+P/fqogLCxMDRo0sIsrNDRUoaGhtmORkZGqU6eO3Xto2rSpGjdubHsdFRUlq9WqtLQ05eTk6OTJkyW+vz/+HICSGIZh9znt1KmT3flL/f354+crKirqotfFfYrX8fn7+9tdo/hzDFRnHlUdAFCeunbtqpiYGD3zzDO2dQ5l4enpaffaZDLZnhR688039dtvv5XYryTFvyTCw8Ntx37/i6Iyubld+HeR8btvN2LhLoqlpqZWm8+p8Ydv4OJziuqAyhKuOM8//7xWr16t5ORk27GIiAht2bLFrt+WLVvUsmVLubu7l+q6jRs3VosWLdSiRQuFhYU57Gu1WjV37lyFh4fr2muvvWS/iIgIHTt2TMeOHbMd279/v86cOaPIyEjbsfT0dJ08edL2etu2bXJzc1OrVq1kNpsVEhJS4vsrvkZxNev3azx2795t19/Ly8uuyoba4bPPPlNKSor69+9/yT6X+vvz+8+odOFz+cfXERERtmvs2bNH586ds7tG8edYuvA5/f1ntKioSHv37rW7Jp9TVAWSJVxx2rZtq7i4OM2dO9d27Mknn9SmTZs0depU/fjjj1q8eLH+8Y9/lNsi5p9//lmZmZk6fPiwPvroI0VHR2vHjh1auHChw2QsOjraFu+3336rHTt26MEHH1S3bt3spkJ8fHwUHx+vPXv26KuvvtITTzyhAQMGyGKxSJLGjRunGTNm6N1331VaWpqefvpp7d69WyNHjpQktWjRQqGhoUpISNCBAwe0du3aEp8GzM3N1aZNm/Sf//xHv/76a7n8bFB95OfnKzMzUydOnNC3336r6dOnKzY2VnfccYcefPDBS44bN26ckpKSNH/+fB04cEAvvviiVqxYcdHfn+XLl+utt97Sjz/+qEmTJmnHjh22BdxxcXG2z/HevXv1+eef6/HHH9cDDzyg4OBgSRcWm69du1Zr167VDz/8oKFDh9o9wSld+Jx++eWXOnHihP7zn/+U7w8IuJSqXTIFuK6khatHjhwxvLy8jN9/xN9//30jMjLS8PT0NJo2bWq88MILdmNKWjjavn17Y9KkSZe8d/EC7+Lm5+dnREREGMOGDTMOHDhg13fSpElG+/btL7rGTz/9ZNx1112Gv7+/ERgYaNxzzz22Ba+/H/fqq68aISEhho+Pj/HnP//ZOH36tK1PUVGRkZCQYDRu3Njw9PQ02rdvb6xbt87uPl9//bXRtm1bw8fHx7j55puN5cuX2y3wNgzDeOyxx4z69esbkhy+b9Q88fHxts+ph4eH0aBBAyM6Otp46623jKKiIls/ScbKlSsvGv/qq68azZs3Nzw9PY2WLVsaS5YssTsvyZg3b55x2223Gd7e3kazZs1sDzcU+/77743u3bsbPj4+Rr169YxHHnnEOHv2rO18QUGBMXToUKNevXpGw4YNjcTExIsWeCcnJxvt2rUzvL29DX6FobKYDOMPE8QAqpWEhAStWrXqomkzoDoxmUxauXKl+vbtW9WhAOWOaTgAAAAHSJYAAAAcYBoOAADAASpLAAAADpAsAQAAOECyBAAA4ADJEgAAgAMkSwAAAA6QLAGoUoMGDbLbyPCWW27RqFGjKj2OL774QiaT6aKv1/g9k8mkVatWlfqaCQkJ6tChg0txHT16VCaTiU1JgSpEsgTgIoMGDZLJZJLJZJKXl5datGihKVOm6Pz58xV+7xUrVmjq1Kml6luaBAcAXOVR1QEAqJ5uv/12LVq0SPn5+fr44481fPhweXp66plnnrmob0FBgby8vMrlvvXq1SuX6wBAeaGyBKBE3t7eslgsCgsL09ChQxUdHa2PPvpI0v+mzqZNm6aQkBC1atVKknTs2DENGDBAderUUb169RQbG6ujR4/arllUVKQxY8aoTp06ql+/vp566in9cV/cP07D5efna/z48QoNDZW3t7datGihhQsX6ujRo+revbskqW7dujKZTBo0aJAkyWq1KjExUeHh4fL19VX79u31/vvv293n448/VsuWLeXr66vu3bvbxVla48ePV8uWLeXn56fmzZtrwoQJKiwsvKjfa6+9ptDQUPn5+WnAgAHKzs62O//mm28qIiJCPj4+at26tV599dUyxwKg4pAsASgVX19fFRQU2F5v2rRJaWlp2rBhg9asWaPCwkLFxMQoMDBQX331lbZs2aKAgADdfvvttnGzZ89WUlKS3nrrLX399dc6ffq0Vq5c6fC+Dz74oP71r39p7ty5Sk1N1WuvvaaAgACFhobqgw8+kCSlpaUpIyNDL7/8siQpMTFRS5Ys0YIFC7Rv3z6NHj1a999/vzZv3izpQlLXr18/3Xnnndq9e7cefvhhPf3002X+mQQGBiopKUn79+/Xyy+/rDfeeEMvvfSSXZ+DBw/qvffe0+rVq7V+/Xp99913GjZsmO38O++8o4kTJ2ratGlKTU3V9OnTNWHCBC1evLjM8QCoIAYA/EF8fLwRGxtrGIZhWK1WY8OGDYa3t7cxduxY2/ng4GAjPz/fNubtt982WrVqZVitVtux/Px8w9fX1/jkk08MwzCMRo0aGTNnzrSdLywsNJo0aWK7l2EYRrdu3YyRI0cahmEYaWlphiRjw4YNJcb5+eefG5KMX375xXYsLy/P8PPzM7Zu3WrXd8iQIcZ9991nGIZhPPPMM0ZkZKTd+fHjx190rT+SZKxcufKS51944QWjY8eOtteTJk0y3N3djePHj9uOrVu3znBzczMyMjIMwzCMq666yli6dKnddaZOnWpERUUZhmEYR44cMSQZ33333SXvC6BisWYJQInWrFmjgIAAFRYWymq16i9/+YsSEhJs59u2bWu3TmnPnj06ePCgAgMD7a6Tl5enQ4cOKTs7WxkZGercubPtnIeHhzp16nTRVFyx3bt3y93dXd26dSt13AcPHtSvv/6q2267ze54QUGBrr32WklSamqqXRySFBUVVep7FHv33Xc1d+5cHTp0SLm5uTp//rzMZrNdn6ZNm6px48Z297FarUpLS1NgYKAOHTqkIUOG6JFHHrH1OX/+vIKCgsocD4CKQbIEoETdu3fX/Pnz5eXlpZCQEHl42P/vwt/f3+51bm6uOnbsqHfeeeeiazVo0OCyYvD19S3zmNzcXEnS2rVr7ZIU6cI6rPKSnJysuLg4TZ48WTExMQoKCtKyZcs0e/bsMsf6xhtvXJS8ubu7l1usAFxDsgSgRP7+/mrRokWp+1933XV699131bBhw4uqK8UaNWqk7du3q2vXrpIuVFB27dql6667rsT+bdu2ldVq1ebNmxUdHX3R+eLKVlFRke1YZGSkvL29lZ6efsmKVEREhG2xerFt27Y5f5O/s3XrVoWFhenvf/+77dhPP/10Ub/09HSdPHlSISEhtvu4ubmpVatWCg4OVkhIiA4fPqy4uLgy3R9A5WGBN4ByERcXpz/96U+KjY3VV199pSNHjuiLL77QE088oePHj0uSRo4cqeeff16rVq3SDz/8oGHDhjncI6lZs2aKj4/X4MGDtWrVKts133vvPUlSWFiYTCaT1qxZo3//+9/Kzc1VYGCgxo4dq9GjR2vx4sU6dOiQvv32W73yyiu2RdOPPfaYDhw4oHHjxiktLU1Lly5VUlJSmd7v1VdfrfT0dC1btkyHDh3S3LlzS1ys7uPjo/j4eO3Zs0dfffWVnnjiCQ0YMEAWi0WSNHnyZCUmJmru3Ln68ccflZKSokWLFunFF18sUzwAKg7JEoBy4efnpy+//FJNmzZVv379FBERoSFDhigvL89WaXryySf1wAMPKD4+XlFRUQoMDNTdd9/t8Lrz58/Xn//8Zw0bNkytW7fWI488onPnzkmSGjdurMmTJ+vpp59WcHCwRowYIUmaOnWqJkyYoMTEREVEROj222/X2rVrFR4eLunCOqIPPvhAq1atUvv27bVgwQJNnz69TO/3rrvu0ujRozVixAh16NBBW7du1YQJEy7q16JFC/Xr10+9e/dWz5491a5dO7utAR5++GG9+eabWrRokdq2batu3bopKSnJFiuAqmcyLrWyEgAAAFSWAAAAHCFZAgAAcIBkCQAAwAGSJQAAAAdIlgAAABwgWQIAAHCAZAkAAMABkiUAAAAHSJYAAAAcIFkCAABwgGQJAADAgf8HBhGSWVKiDuoAAAAASUVORK5CYII=",
>>>>>>> 4479aec9b24a47926fded6e8a499ef4f71cf3803
      "text/plain": [
       "<Figure size 640x480 with 2 Axes>"
      ]
     },
     "metadata": {},
     "output_type": "display_data"
    }
   ],
   "source": [
    "perform(y_test, y_pred_kn)"
   ]
  },
  {
   "cell_type": "code",
<<<<<<< HEAD
   "execution_count": 42,
=======
   "execution_count": 41,
>>>>>>> 4479aec9b24a47926fded6e8a499ef4f71cf3803
   "metadata": {},
   "outputs": [],
   "source": [
    "# X_num = X.select_dtypes(include=[\"float64\",\"int64\"])\n",
    "# X_cat = X[[\"region\",\"province\"]]"
   ]
  },
  {
   "cell_type": "code",
<<<<<<< HEAD
   "execution_count": 43,
=======
   "execution_count": 42,
>>>>>>> 4479aec9b24a47926fded6e8a499ef4f71cf3803
   "metadata": {},
   "outputs": [],
   "source": [
    "# cat_preprocessor = make_pipeline(\n",
    "#     OneHotEncoder(sparse_output = False, handle_unknown='ignore')\n",
    "# )"
   ]
  },
  {
   "cell_type": "code",
<<<<<<< HEAD
   "execution_count": 44,
=======
   "execution_count": 43,
>>>>>>> 4479aec9b24a47926fded6e8a499ef4f71cf3803
   "metadata": {},
   "outputs": [],
   "source": [
    "# num_processor = make_pipeline(\n",
    "#     MinMaxScaler()\n",
    "# )"
   ]
  },
  {
   "cell_type": "code",
<<<<<<< HEAD
   "execution_count": 45,
=======
   "execution_count": 44,
>>>>>>> 4479aec9b24a47926fded6e8a499ef4f71cf3803
   "metadata": {},
   "outputs": [],
   "source": [
    "# preprocessor = ColumnTransformer([\n",
    "#     ('cat_pipeline', cat_preprocessor, X_cat.columns),\n",
    "#     ('num_pipline', num_processor, X_num.columns),\n",
    "# ], remainder='drop').set_output(transform='pandas')"
   ]
  },
  {
   "cell_type": "code",
<<<<<<< HEAD
   "execution_count": 46,
=======
   "execution_count": 45,
>>>>>>> 4479aec9b24a47926fded6e8a499ef4f71cf3803
   "metadata": {},
   "outputs": [],
   "source": [
    "# preprocessor"
   ]
  },
  {
   "cell_type": "code",
<<<<<<< HEAD
   "execution_count": 47,
=======
   "execution_count": 46,
>>>>>>> 4479aec9b24a47926fded6e8a499ef4f71cf3803
   "metadata": {},
   "outputs": [],
   "source": [
    "# X_train, X_test, y_train, y_test = train_test_split(X, y, test_size = 0.20)\n",
    "# X_train.shape, X_test.shape, y_train.shape, y_test.shape"
   ]
  },
  {
   "cell_type": "code",
<<<<<<< HEAD
   "execution_count": 48,
=======
   "execution_count": 47,
>>>>>>> 4479aec9b24a47926fded6e8a499ef4f71cf3803
   "metadata": {},
   "outputs": [],
   "source": [
    "# preprocessor.fit_transform(X_train)"
   ]
  },
  {
   "cell_type": "code",
<<<<<<< HEAD
   "execution_count": 49,
=======
   "execution_count": 48,
>>>>>>> 4479aec9b24a47926fded6e8a499ef4f71cf3803
   "metadata": {},
   "outputs": [
    {
     "data": {
      "text/plain": [
<<<<<<< HEAD
       "array([[-0.14186538,  1.19189805,  0.83144517, ...,  0.        ,\n",
       "         1.        ,  0.        ],\n",
       "       [-0.14186538, -0.84525968,  0.83144517, ...,  0.        ,\n",
       "         0.        ,  0.        ],\n",
       "       [-0.14186538, -0.84525968,  0.83144517, ...,  0.        ,\n",
       "         0.        ,  0.        ],\n",
       "       ...,\n",
       "       [-0.14186538,  1.19189805,  0.83144517, ...,  0.        ,\n",
       "         0.        ,  0.        ],\n",
       "       [-0.14186538, -0.84525968, -1.2251418 , ...,  0.        ,\n",
       "         1.        ,  0.        ],\n",
       "       [-0.14186538, -0.84525968,  0.83144517, ...,  0.        ,\n",
       "         0.        ,  0.        ]])"
      ]
     },
     "execution_count": 49,
=======
       "array([[-0.12763513,  1.21337302,  0.80151684, ...,  0.        ,\n",
       "         0.        ,  0.        ],\n",
       "       [-0.12763513, -0.83033944,  0.80151684, ...,  0.        ,\n",
       "         0.        ,  0.        ],\n",
       "       [-0.12763513, -0.83033944, -0.00896545, ...,  0.        ,\n",
       "         0.        ,  0.        ],\n",
       "       ...,\n",
       "       [-0.12763513, -0.83033944, -1.26804267, ...,  0.        ,\n",
       "         0.        ,  0.        ],\n",
       "       [-0.12763513,  1.21337302,  0.80151684, ...,  0.        ,\n",
       "         1.        ,  0.        ],\n",
       "       [-0.12763513, -0.83033944, -1.26804267, ...,  0.        ,\n",
       "         0.        ,  0.        ]])"
      ]
     },
     "execution_count": 48,
>>>>>>> 4479aec9b24a47926fded6e8a499ef4f71cf3803
     "metadata": {},
     "output_type": "execute_result"
    }
   ],
   "source": [
    "X_test_preprocessed"
   ]
  },
  {
   "cell_type": "code",
<<<<<<< HEAD
   "execution_count": 50,
=======
   "execution_count": 49,
>>>>>>> 4479aec9b24a47926fded6e8a499ef4f71cf3803
   "metadata": {},
   "outputs": [
    {
     "data": {
      "text/plain": [
<<<<<<< HEAD
       "array([[-0.12644153,  1.18494449,  0.80335534, ...,  0.        ,\n",
       "         0.        ,  0.        ],\n",
       "       [-0.12644153, -0.84863303, -1.26473935, ...,  0.        ,\n",
       "         0.        ,  0.        ],\n",
       "       [-0.12644153, -0.84863303, -1.26473935, ...,  0.        ,\n",
       "         0.        ,  0.        ],\n",
       "       ...,\n",
       "       [-0.12644153,  1.18494449,  0.80335534, ...,  0.        ,\n",
       "         0.        ,  0.        ],\n",
       "       [-0.12644153,  1.18494449, -1.26473935, ...,  0.        ,\n",
       "         0.        ,  0.        ],\n",
       "       [-0.12644153, -0.84863303,  0.80335534, ...,  0.        ,\n",
       "         0.        ,  0.        ]])"
      ]
     },
     "execution_count": 50,
=======
       "array([[-0.13016848, -0.85240409, -1.25384468, ...,  0.        ,\n",
       "         0.        ,  0.        ],\n",
       "       [-0.13016848, -0.85240409, -1.25384468, ...,  0.        ,\n",
       "         0.        ,  0.        ],\n",
       "       [-0.13016848, -0.85240409, -1.25384468, ...,  0.        ,\n",
       "         0.        ,  0.        ],\n",
       "       ...,\n",
       "       [-0.13016848,  1.17969272,  0.81079283, ...,  0.        ,\n",
       "         0.        ,  0.        ],\n",
       "       [-0.13016848, -0.85240409,  0.81079283, ...,  0.        ,\n",
       "         0.        ,  0.        ],\n",
       "       [-0.13016848,  1.17969272,  0.81079283, ...,  0.        ,\n",
       "         1.        ,  0.        ]])"
      ]
     },
     "execution_count": 49,
>>>>>>> 4479aec9b24a47926fded6e8a499ef4f71cf3803
     "metadata": {},
     "output_type": "execute_result"
    }
   ],
   "source": [
    "X_train_preprocessed"
   ]
  },
  {
   "attachments": {},
   "cell_type": "markdown",
   "metadata": {},
   "source": [
    "# Testing CatBoostClassifier"
   ]
  },
  {
   "cell_type": "code",
<<<<<<< HEAD
   "execution_count": 51,
=======
   "execution_count": 50,
>>>>>>> 4479aec9b24a47926fded6e8a499ef4f71cf3803
   "metadata": {},
   "outputs": [],
   "source": [
    "from catboost import CatBoostClassifier"
   ]
  },
  {
   "cell_type": "code",
<<<<<<< HEAD
   "execution_count": 52,
=======
   "execution_count": 51,
>>>>>>> 4479aec9b24a47926fded6e8a499ef4f71cf3803
   "metadata": {},
   "outputs": [],
   "source": [
    "catmodel = CatBoostClassifier(\n",
    "    iterations=500,\n",
    "    custom_loss=['Precision', 'Recall', 'F1', 'Accuracy'], \n",
    "    random_seed=42,\n",
<<<<<<< HEAD
    "    auto_class_weights='Balanced', \n",
=======
    "    auto_class_weights='Balanced'\n",
    ")"
   ]
  },
  {
   "cell_type": "code",
   "execution_count": 52,
   "metadata": {},
   "outputs": [
    {
     "data": {
      "text/plain": [
       "<catboost.core.CatBoostClassifier at 0x7fcc10777e80>"
      ]
     },
     "execution_count": 52,
     "metadata": {},
     "output_type": "execute_result"
    }
   ],
   "source": [
    "catmodel.fit(\n",
    "    X_train_preprocessed, y_train, \n",
    "    eval_set=(X_test_preprocessed, y_test),\n",
    "    verbose=False,\n",
    "    plot=False\n",
>>>>>>> 4479aec9b24a47926fded6e8a499ef4f71cf3803
    ")"
   ]
  },
  {
   "cell_type": "code",
   "execution_count": 53,
   "metadata": {},
   "outputs": [
    {
     "data": {
<<<<<<< HEAD
      "application/vnd.jupyter.widget-view+json": {
       "model_id": "bc297c35c810443dacfd745567fa93d4",
       "version_major": 2,
       "version_minor": 0
      },
      "text/plain": [
       "MetricVisualizer(layout=Layout(align_self='stretch', height='500px'))"
      ]
     },
     "metadata": {},
     "output_type": "display_data"
    },
    {
     "data": {
      "text/plain": [
       "<catboost.core.CatBoostClassifier at 0x7efde098f880>"
=======
      "text/plain": [
       "array([1., 1., 1., 0., 0., 0., 1., 0., 0., 0., 0., 1., 0., 1., 1., 1., 1.,\n",
       "       1., 1., 1., 0., 0., 1., 0., 1., 0., 0., 1., 0., 1., 0., 1., 1., 0.,\n",
       "       1., 1., 1., 1., 1., 0., 1., 1., 1., 1., 0., 0., 0., 0., 0., 1., 1.,\n",
       "       1., 1., 1., 0., 1., 0., 1., 1., 1., 1., 1., 0., 1., 0., 1., 0., 1.,\n",
       "       1., 0., 1., 1., 0., 1., 0., 0., 1., 1., 0., 1., 1., 0., 0., 1., 1.,\n",
       "       1., 1., 1., 0., 1., 0., 1., 0., 1., 0., 0., 1., 1., 1., 1., 0., 1.,\n",
       "       1., 0., 0., 0., 1., 0., 0., 0., 0., 0., 0., 0., 0., 1., 0., 0., 0.,\n",
       "       0., 0., 0., 0., 1., 0., 1., 0., 1., 0., 0., 0., 1., 0., 0., 1., 1.,\n",
       "       1., 0., 0., 0., 0., 1., 1., 1., 1., 0., 1., 0., 1., 0., 1., 0., 1.,\n",
       "       0., 1., 0., 0., 0., 1., 1., 0., 1., 0., 1., 0., 1., 0., 1., 0., 1.,\n",
       "       1., 0., 0., 0., 1., 0., 0., 1., 1., 1., 0., 1., 0., 1., 1., 1., 0.,\n",
       "       1., 1., 0., 0., 0., 1., 1., 1., 0., 0., 1., 0., 1., 0., 0., 0., 1.,\n",
       "       0., 1., 1., 1., 1., 0., 0., 1., 0., 0., 0., 1., 0., 0., 0., 1., 1.,\n",
       "       1., 1., 1., 1., 1., 0., 0., 1., 1., 0., 0., 1., 0., 1., 1., 0., 0.,\n",
       "       0., 1., 1., 0., 0., 1., 1., 0., 1., 1., 1., 0., 1., 1., 1., 1., 0.,\n",
       "       1., 0., 0., 1., 0., 1., 1., 1., 0., 1., 1., 0., 1., 0., 1., 0., 1.,\n",
       "       0., 0., 0., 0., 0., 0., 0., 1., 1., 0., 1., 1., 0., 1., 0., 1., 0.,\n",
       "       0., 0., 1., 0., 0., 0., 0., 1., 0., 1., 1., 1., 0., 1., 1., 0., 1.,\n",
       "       0., 1., 0., 1., 0., 1., 0., 0., 0., 0., 1., 0., 0., 1., 0., 1., 1.,\n",
       "       1., 1., 0., 0., 1., 0., 1., 1., 0., 1., 0., 0., 0., 0., 1., 1., 0.,\n",
       "       1., 1., 1., 0., 0., 1., 1., 0., 0., 0., 0., 0., 1., 0., 0., 0., 1.,\n",
       "       1., 1., 1., 0., 1., 1., 1., 0., 1., 0., 0., 0., 0., 0., 1., 0., 0.,\n",
       "       1., 1., 1., 1., 0., 0., 1., 0., 1., 0., 0., 1., 1., 0., 1., 0., 0.,\n",
       "       1., 1., 0., 1., 0., 0., 1., 1., 1., 0., 1., 0., 0., 0., 1., 0., 0.,\n",
       "       0., 0., 1., 0., 0., 0., 1., 0., 0., 1., 1., 0., 1., 0., 1., 0., 1.,\n",
       "       0., 0., 0., 0., 0., 1., 1., 0., 1., 0., 1., 0., 0., 1., 0., 0., 0.,\n",
       "       0., 1., 1., 1., 0., 1., 0., 1., 0., 1., 1., 0., 0., 1., 0., 0., 1.,\n",
       "       0., 1., 0., 0., 0., 0., 1., 0., 0., 0., 0., 0., 0., 1., 1., 0., 0.,\n",
       "       1., 1., 0., 0., 0., 1., 1., 1., 0., 1., 1., 0., 0., 1., 0., 1., 1.,\n",
       "       1., 0., 0., 0., 0., 1., 1., 1., 1., 0., 1., 1., 1., 0., 0., 0., 0.,\n",
       "       0., 1., 1., 1., 1., 0., 0., 1., 0., 0., 1., 0., 1., 0., 1., 1., 0.,\n",
       "       0., 1., 1., 0., 0., 0., 0., 0., 0., 1., 0., 0., 0., 1., 1., 0., 1.,\n",
       "       0., 1., 1., 1., 0., 1., 0., 0., 1., 0., 0., 0., 0., 0., 0., 0., 1.,\n",
       "       0., 1., 1., 1., 1., 0., 1., 0., 0., 1., 0., 1., 1., 0., 1., 1., 0.,\n",
       "       1., 1., 0., 0., 0., 1., 0., 0., 1., 0., 0., 0., 1., 1., 1., 0., 1.,\n",
       "       0., 0., 0., 0., 1., 1., 1., 1., 0., 1., 0., 0., 1., 1., 1., 0., 1.,\n",
       "       1., 1., 1., 1., 0., 0., 1., 0., 1., 1., 1., 0., 1., 1., 1., 1., 0.,\n",
       "       0., 1., 1., 0., 1., 1., 1., 0., 0., 0., 0., 0., 0., 0., 0., 0., 0.,\n",
       "       0., 1., 0., 1., 0., 1., 0., 1., 0., 0., 1., 1., 1., 1., 1., 1., 0.,\n",
       "       0., 1., 0., 1., 0., 1., 0., 0., 1., 0., 1., 1., 1., 0., 0., 1., 1.,\n",
       "       1., 0., 1., 0., 0., 0., 0., 0., 1., 1., 1., 1., 0., 0., 1., 1., 0.,\n",
       "       0., 0., 0., 0., 1., 0., 1., 0., 0., 1., 0., 1., 0., 0., 1., 1., 0.,\n",
       "       0., 0., 0., 0., 1., 1., 0., 0., 0., 0., 0., 0., 1., 0., 0., 0., 0.,\n",
       "       1., 0., 0., 0., 0., 0., 0., 1., 1., 0., 0., 1., 0., 0., 0., 1., 0.,\n",
       "       0., 1., 1., 0., 1., 0., 1., 0., 1., 0., 1., 0., 0., 0., 0., 0., 0.,\n",
       "       0., 0., 1., 0., 0., 0., 0., 1., 0., 0., 1., 1., 0., 0., 1., 0., 0.,\n",
       "       0., 1., 0., 1., 0., 0., 1., 1., 0., 0., 1., 1., 1., 0., 0., 0., 0.,\n",
       "       0., 1., 0., 1., 0., 1., 0., 1., 1., 1., 0., 1.])"
>>>>>>> 4479aec9b24a47926fded6e8a499ef4f71cf3803
      ]
     },
     "execution_count": 53,
     "metadata": {},
     "output_type": "execute_result"
    }
   ],
   "source": [
<<<<<<< HEAD
    "catmodel.fit(\n",
    "    X_train_preprocessed, y_train, \n",
    "    eval_set=(X_test_preprocessed, y_test),\n",
    "    verbose=False,\n",
    "    plot=True\n",
    ")"
   ]
  },
  {
   "cell_type": "code",
   "execution_count": 54,
   "metadata": {},
   "outputs": [
    {
     "data": {
      "text/plain": [
       "array([1., 1., 1., 0., 1., 1., 0., 0., 1., 0., 1., 1., 0., 0., 1., 0., 1.,\n",
       "       0., 0., 0., 0., 0., 0., 0., 1., 0., 0., 0., 1., 1., 1., 1., 1., 1.,\n",
       "       0., 0., 0., 0., 1., 1., 0., 1., 0., 0., 0., 1., 1., 1., 1., 0., 0.,\n",
       "       1., 0., 1., 1., 1., 0., 0., 1., 1., 0., 1., 0., 1., 1., 0., 0., 0.,\n",
       "       1., 0., 0., 0., 1., 1., 0., 0., 1., 1., 1., 0., 0., 1., 1., 0., 1.,\n",
       "       0., 1., 0., 0., 1., 0., 0., 0., 1., 1., 1., 0., 0., 1., 0., 0., 0.,\n",
       "       1., 0., 0., 0., 0., 1., 1., 1., 0., 1., 1., 1., 1., 1., 0., 0., 0.,\n",
       "       1., 0., 0., 1., 0., 1., 0., 0., 0., 1., 1., 1., 1., 0., 1., 0., 0.,\n",
       "       0., 1., 1., 1., 1., 0., 1., 1., 0., 0., 1., 1., 0., 1., 1., 1., 1.,\n",
       "       1., 0., 1., 0., 0., 0., 1., 1., 1., 0., 1., 0., 1., 0., 0., 0., 0.,\n",
       "       0., 1., 1., 0., 1., 1., 1., 0., 0., 1., 0., 0., 1., 0., 1., 1., 1.,\n",
       "       0., 0., 0., 0., 1., 1., 0., 0., 1., 0., 0., 1., 0., 0., 0., 0., 0.,\n",
       "       0., 1., 0., 1., 0., 1., 0., 0., 0., 1., 0., 0., 1., 1., 0., 1., 0.,\n",
       "       1., 0., 0., 0., 0., 0., 1., 0., 0., 1., 0., 0., 0., 0., 0., 0., 0.,\n",
       "       0., 1., 1., 1., 1., 0., 1., 0., 0., 0., 1., 1., 0., 0., 0., 0., 0.,\n",
       "       0., 1., 0., 1., 1., 0., 0., 0., 1., 0., 1., 0., 0., 0., 1., 0., 1.,\n",
       "       0., 0., 0., 1., 1., 0., 0., 0., 0., 0., 1., 1., 0., 0., 0., 1., 1.,\n",
       "       1., 0., 1., 0., 0., 0., 1., 0., 1., 1., 1., 1., 0., 0., 0., 1., 0.,\n",
       "       0., 1., 0., 1., 1., 0., 1., 1., 1., 1., 1., 1., 1., 1., 0., 0., 1.,\n",
       "       0., 1., 1., 0., 1., 0., 1., 0., 1., 1., 1., 0., 0., 1., 0., 0., 0.,\n",
       "       1., 1., 1., 0., 0., 0., 1., 1., 0., 1., 1., 0., 1., 1., 0., 1., 0.,\n",
       "       0., 0., 0., 0., 0., 1., 1., 1., 0., 1., 0., 0., 0., 0., 0., 1., 1.,\n",
       "       0., 1., 0., 1., 1., 1., 0., 1., 0., 0., 0., 1., 0., 1., 1., 0., 1.,\n",
       "       0., 1., 1., 0., 1., 1., 1., 1., 0., 1., 1., 1., 1., 0., 1., 0., 1.,\n",
       "       0., 0., 1., 0., 0., 0., 0., 0., 0., 1., 1., 0., 0., 1., 0., 0., 1.,\n",
       "       0., 0., 0., 0., 0., 0., 0., 0., 1., 1., 1., 1., 0., 1., 1., 1., 0.,\n",
       "       0., 0., 0., 1., 1., 1., 1., 0., 0., 0., 1., 1., 1., 0., 0., 1., 0.,\n",
       "       1., 1., 1., 1., 0., 0., 0., 1., 0., 1., 0., 0., 0., 0., 0., 1., 0.,\n",
       "       0., 1., 1., 0., 0., 0., 0., 0., 0., 0., 1., 1., 1., 0., 1., 1., 0.,\n",
       "       1., 0., 0., 0., 0., 1., 1., 0., 0., 1., 0., 0., 1., 1., 1., 0., 0.,\n",
       "       0., 1., 0., 1., 0., 1., 0., 1., 0., 0., 0., 0., 0., 1., 1., 0., 0.,\n",
       "       0., 1., 1., 1., 1., 0., 0., 1., 0., 1., 0., 1., 1., 0., 1., 0., 0.,\n",
       "       0., 1., 1., 0., 1., 1., 0., 1., 1., 1., 0., 1., 1., 0., 0., 1., 0.,\n",
       "       1., 1., 0., 1., 0., 1., 1., 0., 0., 1., 1., 0., 1., 0., 1., 1., 1.,\n",
       "       0., 1., 1., 0., 1., 0., 0., 0., 0., 1., 1., 1., 1., 0., 0., 0., 1.,\n",
       "       1., 0., 1., 0., 0., 0., 1., 1., 1., 1., 0., 1., 1., 1., 0., 0., 0.,\n",
       "       0., 0., 1., 1., 1., 1., 0., 0., 1., 1., 0., 1., 0., 0., 1., 0., 1.,\n",
       "       1., 0., 0., 0., 1., 1., 0., 0., 1., 0., 0., 0., 1., 0., 0., 0., 0.,\n",
       "       0., 1., 0., 0., 1., 0., 1., 1., 1., 0., 1., 1., 1., 0., 1., 0., 1.,\n",
       "       0., 0., 1., 0., 1., 1., 0., 1., 1., 1., 0., 0., 0., 0., 1., 0., 0.,\n",
       "       1., 0., 1., 1., 1., 1., 0., 1., 0., 1., 1., 1., 0., 1., 0., 1., 1.,\n",
       "       1., 0., 0., 0., 0., 0., 1., 0., 0., 1., 1., 1., 1., 1., 1., 1., 1.,\n",
       "       0., 0., 0., 0., 1., 0., 1., 1., 1., 1., 1., 1., 1., 1., 0., 0., 0.,\n",
       "       1., 1., 1., 0., 1., 0., 0., 0., 1., 0., 1., 1., 0., 0., 0., 1., 0.,\n",
       "       0., 1., 1., 0., 1., 1., 0., 0., 1., 1., 0., 0., 1., 1., 0., 0., 1.,\n",
       "       1., 0., 1., 0., 1., 1., 0., 1., 0., 0., 1., 0., 0., 1., 0., 0., 0.,\n",
       "       0., 0., 1., 0., 1., 0., 0., 0., 1., 0., 0., 1., 0., 1., 1., 0., 1.,\n",
       "       1., 0., 0., 0., 0., 1., 0., 0., 0., 1., 1., 0.])"
      ]
     },
     "execution_count": 54,
     "metadata": {},
     "output_type": "execute_result"
    }
   ],
   "source": [
=======
>>>>>>> 4479aec9b24a47926fded6e8a499ef4f71cf3803
    "y_pred_cat = catmodel.predict(X_test_preprocessed)\n",
    "y_pred_cat"
   ]
  },
  {
   "cell_type": "code",
<<<<<<< HEAD
   "execution_count": 55,
=======
   "execution_count": 54,
>>>>>>> 4479aec9b24a47926fded6e8a499ef4f71cf3803
   "metadata": {},
   "outputs": [
    {
     "name": "stdout",
     "output_type": "stream",
     "text": [
<<<<<<< HEAD
      "Precision :  0.8229166666666666\n",
      "Recall :  0.5163398692810458\n",
      "Accuracy :  0.5511713933415536\n",
      "F1 Score :  0.6345381526104418\n",
      "\n",
      " [[131  68]\n",
      " [296 316]]\n",
=======
      "Precision :  0.8469656992084432\n",
      "Recall :  0.5160771704180064\n",
      "Accuracy :  0.5573366214549939\n",
      "F1 Score :  0.6413586413586413\n",
      "\n",
      " [[131  58]\n",
      " [301 321]]\n",
>>>>>>> 4479aec9b24a47926fded6e8a499ef4f71cf3803
      "\n",
      "\n",
      "******************************************************\n",
      "                Classification Report\n",
      "******************************************************\n",
      "              precision    recall  f1-score   support\n",
      "\n",
<<<<<<< HEAD
      "         0.0       0.31      0.66      0.42       199\n",
      "         1.0       0.82      0.52      0.63       612\n",
      "\n",
      "    accuracy                           0.55       811\n",
      "   macro avg       0.56      0.59      0.53       811\n",
      "weighted avg       0.70      0.55      0.58       811\n",
=======
      "         0.0       0.30      0.69      0.42       189\n",
      "         1.0       0.85      0.52      0.64       622\n",
      "\n",
      "    accuracy                           0.56       811\n",
      "   macro avg       0.58      0.60      0.53       811\n",
      "weighted avg       0.72      0.56      0.59       811\n",
>>>>>>> 4479aec9b24a47926fded6e8a499ef4f71cf3803
      "\n",
      "******************************************************\n",
      "\n"
     ]
    },
    {
     "data": {
<<<<<<< HEAD
      "image/png": "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",
=======
      "image/png": "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",
>>>>>>> 4479aec9b24a47926fded6e8a499ef4f71cf3803
      "text/plain": [
       "<Figure size 640x480 with 2 Axes>"
      ]
     },
     "metadata": {},
     "output_type": "display_data"
    }
   ],
   "source": [
    "perform(y_test, y_pred_cat)"
   ]
<<<<<<< HEAD
  },
  {
   "cell_type": "code",
   "execution_count": null,
   "metadata": {},
   "outputs": [],
   "source": []
  },
  {
   "cell_type": "code",
   "execution_count": null,
   "metadata": {},
   "outputs": [],
   "source": []
=======
>>>>>>> 4479aec9b24a47926fded6e8a499ef4f71cf3803
  }
 ],
 "metadata": {
  "kernelspec": {
   "display_name": "dropoutpred-env",
   "language": "python",
   "name": "python3"
  },
  "language_info": {
   "codemirror_mode": {
    "name": "ipython",
    "version": 3
   },
   "file_extension": ".py",
   "mimetype": "text/x-python",
   "name": "python",
   "nbconvert_exporter": "python",
   "pygments_lexer": "ipython3",
   "version": "3.10.6"
  },
  "orig_nbformat": 4
 },
 "nbformat": 4,
 "nbformat_minor": 2
}
