{
 "cells": [
  {
   "cell_type": "code",
   "execution_count": 1185,
   "metadata": {},
   "outputs": [],
   "source": [
    "import pandas as pd\n",
    "import numpy as np\n",
    "import matplotlib.pyplot as plt\n",
    "import seaborn as sns\n"
   ]
  },
  {
   "cell_type": "code",
   "execution_count": 1186,
   "metadata": {},
   "outputs": [
    {
     "data": {
      "text/html": [
       "<div>\n",
       "<style scoped>\n",
       "    .dataframe tbody tr th:only-of-type {\n",
       "        vertical-align: middle;\n",
       "    }\n",
       "\n",
       "    .dataframe tbody tr th {\n",
       "        vertical-align: top;\n",
       "    }\n",
       "\n",
       "    .dataframe thead th {\n",
       "        text-align: right;\n",
       "    }\n",
       "</style>\n",
       "<table border=\"1\" class=\"dataframe\">\n",
       "  <thead>\n",
       "    <tr style=\"text-align: right;\">\n",
       "      <th></th>\n",
       "      <th>hhid</th>\n",
       "      <th>Gender</th>\n",
       "      <th>Mother still living</th>\n",
       "      <th>Father still living</th>\n",
       "      <th>Age, in years</th>\n",
       "      <th>Marital Status</th>\n",
       "      <th>darija</th>\n",
       "      <th>class_arabic</th>\n",
       "      <th>french</th>\n",
       "      <th>amazygh</th>\n",
       "      <th>...</th>\n",
       "      <th>Age abandoned school</th>\n",
       "      <th>schoolunitid</th>\n",
       "      <th>type_unit</th>\n",
       "      <th>groupid</th>\n",
       "      <th>num_menage</th>\n",
       "      <th>done_test</th>\n",
       "      <th>digit_recognition_res</th>\n",
       "      <th>number_recognition_res</th>\n",
       "      <th>subtraction_res</th>\n",
       "      <th>division_res</th>\n",
       "    </tr>\n",
       "  </thead>\n",
       "  <tbody>\n",
       "    <tr>\n",
       "      <th>0</th>\n",
       "      <td>A208004</td>\n",
       "      <td>1.0</td>\n",
       "      <td>1.0</td>\n",
       "      <td>1.0</td>\n",
       "      <td>35.0</td>\n",
       "      <td>1.0</td>\n",
       "      <td>1.0</td>\n",
       "      <td>2.0</td>\n",
       "      <td>2.0</td>\n",
       "      <td>2.0</td>\n",
       "      <td>...</td>\n",
       "      <td>1.0</td>\n",
       "      <td>A208</td>\n",
       "      <td>Secteur Scolaire Centre</td>\n",
       "      <td>2</td>\n",
       "      <td>4</td>\n",
       "      <td>1.0</td>\n",
       "      <td>1.0</td>\n",
       "      <td>2.0</td>\n",
       "      <td>2.0</td>\n",
       "      <td>2.0</td>\n",
       "    </tr>\n",
       "    <tr>\n",
       "      <th>1</th>\n",
       "      <td>A426002</td>\n",
       "      <td>1.0</td>\n",
       "      <td>1.0</td>\n",
       "      <td>2.0</td>\n",
       "      <td>33.0</td>\n",
       "      <td>1.0</td>\n",
       "      <td>1.0</td>\n",
       "      <td>2.0</td>\n",
       "      <td>2.0</td>\n",
       "      <td>1.0</td>\n",
       "      <td>...</td>\n",
       "      <td>1.0</td>\n",
       "      <td>A426</td>\n",
       "      <td>Secteur Scolaire Centre</td>\n",
       "      <td>4</td>\n",
       "      <td>2</td>\n",
       "      <td>2.0</td>\n",
       "      <td>NaN</td>\n",
       "      <td>NaN</td>\n",
       "      <td>NaN</td>\n",
       "      <td>NaN</td>\n",
       "    </tr>\n",
       "    <tr>\n",
       "      <th>2</th>\n",
       "      <td>A268006</td>\n",
       "      <td>1.0</td>\n",
       "      <td>1.0</td>\n",
       "      <td>1.0</td>\n",
       "      <td>31.0</td>\n",
       "      <td>1.0</td>\n",
       "      <td>1.0</td>\n",
       "      <td>2.0</td>\n",
       "      <td>2.0</td>\n",
       "      <td>1.0</td>\n",
       "      <td>...</td>\n",
       "      <td>1.0</td>\n",
       "      <td>A268</td>\n",
       "      <td>Satellite</td>\n",
       "      <td>1</td>\n",
       "      <td>6</td>\n",
       "      <td>1.0</td>\n",
       "      <td>1.0</td>\n",
       "      <td>1.0</td>\n",
       "      <td>2.0</td>\n",
       "      <td>2.0</td>\n",
       "    </tr>\n",
       "    <tr>\n",
       "      <th>3</th>\n",
       "      <td>A419004</td>\n",
       "      <td>1.0</td>\n",
       "      <td>2.0</td>\n",
       "      <td>2.0</td>\n",
       "      <td>62.0</td>\n",
       "      <td>1.0</td>\n",
       "      <td>1.0</td>\n",
       "      <td>2.0</td>\n",
       "      <td>2.0</td>\n",
       "      <td>1.0</td>\n",
       "      <td>...</td>\n",
       "      <td>1.0</td>\n",
       "      <td>A419</td>\n",
       "      <td>Secteur Scolaire Centre</td>\n",
       "      <td>2</td>\n",
       "      <td>4</td>\n",
       "      <td>2.0</td>\n",
       "      <td>NaN</td>\n",
       "      <td>NaN</td>\n",
       "      <td>NaN</td>\n",
       "      <td>NaN</td>\n",
       "    </tr>\n",
       "    <tr>\n",
       "      <th>4</th>\n",
       "      <td>A536006</td>\n",
       "      <td>1.0</td>\n",
       "      <td>2.0</td>\n",
       "      <td>1.0</td>\n",
       "      <td>36.0</td>\n",
       "      <td>1.0</td>\n",
       "      <td>1.0</td>\n",
       "      <td>1.0</td>\n",
       "      <td>2.0</td>\n",
       "      <td>1.0</td>\n",
       "      <td>...</td>\n",
       "      <td>1.0</td>\n",
       "      <td>A536</td>\n",
       "      <td>Satellite</td>\n",
       "      <td>1</td>\n",
       "      <td>6</td>\n",
       "      <td>1.0</td>\n",
       "      <td>1.0</td>\n",
       "      <td>1.0</td>\n",
       "      <td>1.0</td>\n",
       "      <td>2.0</td>\n",
       "    </tr>\n",
       "    <tr>\n",
       "      <th>...</th>\n",
       "      <td>...</td>\n",
       "      <td>...</td>\n",
       "      <td>...</td>\n",
       "      <td>...</td>\n",
       "      <td>...</td>\n",
       "      <td>...</td>\n",
       "      <td>...</td>\n",
       "      <td>...</td>\n",
       "      <td>...</td>\n",
       "      <td>...</td>\n",
       "      <td>...</td>\n",
       "      <td>...</td>\n",
       "      <td>...</td>\n",
       "      <td>...</td>\n",
       "      <td>...</td>\n",
       "      <td>...</td>\n",
       "      <td>...</td>\n",
       "      <td>...</td>\n",
       "      <td>...</td>\n",
       "      <td>...</td>\n",
       "      <td>...</td>\n",
       "    </tr>\n",
       "    <tr>\n",
       "      <th>4503</th>\n",
       "      <td>A618007</td>\n",
       "      <td>1.0</td>\n",
       "      <td>1.0</td>\n",
       "      <td>1.0</td>\n",
       "      <td>37.0</td>\n",
       "      <td>1.0</td>\n",
       "      <td>1.0</td>\n",
       "      <td>2.0</td>\n",
       "      <td>2.0</td>\n",
       "      <td>2.0</td>\n",
       "      <td>...</td>\n",
       "      <td>1.0</td>\n",
       "      <td>A618</td>\n",
       "      <td>Secteur Scolaire Centre</td>\n",
       "      <td>2</td>\n",
       "      <td>7</td>\n",
       "      <td>1.0</td>\n",
       "      <td>1.0</td>\n",
       "      <td>1.0</td>\n",
       "      <td>2.0</td>\n",
       "      <td>2.0</td>\n",
       "    </tr>\n",
       "    <tr>\n",
       "      <th>4504</th>\n",
       "      <td>A571001</td>\n",
       "      <td>1.0</td>\n",
       "      <td>1.0</td>\n",
       "      <td>1.0</td>\n",
       "      <td>37.0</td>\n",
       "      <td>1.0</td>\n",
       "      <td>1.0</td>\n",
       "      <td>1.0</td>\n",
       "      <td>2.0</td>\n",
       "      <td>2.0</td>\n",
       "      <td>...</td>\n",
       "      <td>1.0</td>\n",
       "      <td>A571</td>\n",
       "      <td>Satellite</td>\n",
       "      <td>4</td>\n",
       "      <td>1</td>\n",
       "      <td>1.0</td>\n",
       "      <td>1.0</td>\n",
       "      <td>1.0</td>\n",
       "      <td>2.0</td>\n",
       "      <td>2.0</td>\n",
       "    </tr>\n",
       "    <tr>\n",
       "      <th>4505</th>\n",
       "      <td>A359007</td>\n",
       "      <td>1.0</td>\n",
       "      <td>1.0</td>\n",
       "      <td>2.0</td>\n",
       "      <td>42.0</td>\n",
       "      <td>1.0</td>\n",
       "      <td>1.0</td>\n",
       "      <td>2.0</td>\n",
       "      <td>2.0</td>\n",
       "      <td>2.0</td>\n",
       "      <td>...</td>\n",
       "      <td>0.0</td>\n",
       "      <td>A359</td>\n",
       "      <td>Secteur Scolaire Centre</td>\n",
       "      <td>0</td>\n",
       "      <td>7</td>\n",
       "      <td>1.0</td>\n",
       "      <td>1.0</td>\n",
       "      <td>1.0</td>\n",
       "      <td>2.0</td>\n",
       "      <td>2.0</td>\n",
       "    </tr>\n",
       "    <tr>\n",
       "      <th>4506</th>\n",
       "      <td>A578003</td>\n",
       "      <td>1.0</td>\n",
       "      <td>2.0</td>\n",
       "      <td>1.0</td>\n",
       "      <td>50.0</td>\n",
       "      <td>1.0</td>\n",
       "      <td>1.0</td>\n",
       "      <td>2.0</td>\n",
       "      <td>2.0</td>\n",
       "      <td>2.0</td>\n",
       "      <td>...</td>\n",
       "      <td>0.0</td>\n",
       "      <td>A578</td>\n",
       "      <td>Satellite</td>\n",
       "      <td>0</td>\n",
       "      <td>3</td>\n",
       "      <td>1.0</td>\n",
       "      <td>1.0</td>\n",
       "      <td>1.0</td>\n",
       "      <td>1.0</td>\n",
       "      <td>1.0</td>\n",
       "    </tr>\n",
       "    <tr>\n",
       "      <th>4507</th>\n",
       "      <td>A535005</td>\n",
       "      <td>1.0</td>\n",
       "      <td>1.0</td>\n",
       "      <td>1.0</td>\n",
       "      <td>38.0</td>\n",
       "      <td>1.0</td>\n",
       "      <td>1.0</td>\n",
       "      <td>2.0</td>\n",
       "      <td>2.0</td>\n",
       "      <td>1.0</td>\n",
       "      <td>...</td>\n",
       "      <td>1.0</td>\n",
       "      <td>A535</td>\n",
       "      <td>Satellite</td>\n",
       "      <td>1</td>\n",
       "      <td>5</td>\n",
       "      <td>1.0</td>\n",
       "      <td>1.0</td>\n",
       "      <td>1.0</td>\n",
       "      <td>2.0</td>\n",
       "      <td>2.0</td>\n",
       "    </tr>\n",
       "  </tbody>\n",
       "</table>\n",
       "<p>4508 rows × 38 columns</p>\n",
       "</div>"
      ],
      "text/plain": [
       "         hhid  Gender  Mother still living  Father still living  \\\n",
       "0     A208004     1.0                  1.0                  1.0   \n",
       "1     A426002     1.0                  1.0                  2.0   \n",
       "2     A268006     1.0                  1.0                  1.0   \n",
       "3     A419004     1.0                  2.0                  2.0   \n",
       "4     A536006     1.0                  2.0                  1.0   \n",
       "...       ...     ...                  ...                  ...   \n",
       "4503  A618007     1.0                  1.0                  1.0   \n",
       "4504  A571001     1.0                  1.0                  1.0   \n",
       "4505  A359007     1.0                  1.0                  2.0   \n",
       "4506  A578003     1.0                  2.0                  1.0   \n",
       "4507  A535005     1.0                  1.0                  1.0   \n",
       "\n",
       "      Age, in years  Marital Status  darija  class_arabic  french  amazygh  \\\n",
       "0              35.0             1.0     1.0           2.0     2.0      2.0   \n",
       "1              33.0             1.0     1.0           2.0     2.0      1.0   \n",
       "2              31.0             1.0     1.0           2.0     2.0      1.0   \n",
       "3              62.0             1.0     1.0           2.0     2.0      1.0   \n",
       "4              36.0             1.0     1.0           1.0     2.0      1.0   \n",
       "...             ...             ...     ...           ...     ...      ...   \n",
       "4503           37.0             1.0     1.0           2.0     2.0      2.0   \n",
       "4504           37.0             1.0     1.0           1.0     2.0      2.0   \n",
       "4505           42.0             1.0     1.0           2.0     2.0      2.0   \n",
       "4506           50.0             1.0     1.0           2.0     2.0      2.0   \n",
       "4507           38.0             1.0     1.0           2.0     2.0      1.0   \n",
       "\n",
       "      ...  Age abandoned school  schoolunitid                type_unit  \\\n",
       "0     ...                   1.0          A208  Secteur Scolaire Centre   \n",
       "1     ...                   1.0          A426  Secteur Scolaire Centre   \n",
       "2     ...                   1.0          A268                Satellite   \n",
       "3     ...                   1.0          A419  Secteur Scolaire Centre   \n",
       "4     ...                   1.0          A536                Satellite   \n",
       "...   ...                   ...           ...                      ...   \n",
       "4503  ...                   1.0          A618  Secteur Scolaire Centre   \n",
       "4504  ...                   1.0          A571                Satellite   \n",
       "4505  ...                   0.0          A359  Secteur Scolaire Centre   \n",
       "4506  ...                   0.0          A578                Satellite   \n",
       "4507  ...                   1.0          A535                Satellite   \n",
       "\n",
       "      groupid  num_menage  done_test  digit_recognition_res  \\\n",
       "0           2           4        1.0                    1.0   \n",
       "1           4           2        2.0                    NaN   \n",
       "2           1           6        1.0                    1.0   \n",
       "3           2           4        2.0                    NaN   \n",
       "4           1           6        1.0                    1.0   \n",
       "...       ...         ...        ...                    ...   \n",
       "4503        2           7        1.0                    1.0   \n",
       "4504        4           1        1.0                    1.0   \n",
       "4505        0           7        1.0                    1.0   \n",
       "4506        0           3        1.0                    1.0   \n",
       "4507        1           5        1.0                    1.0   \n",
       "\n",
       "      number_recognition_res  subtraction_res  division_res  \n",
       "0                        2.0              2.0           2.0  \n",
       "1                        NaN              NaN           NaN  \n",
       "2                        1.0              2.0           2.0  \n",
       "3                        NaN              NaN           NaN  \n",
       "4                        1.0              1.0           2.0  \n",
       "...                      ...              ...           ...  \n",
       "4503                     1.0              2.0           2.0  \n",
       "4504                     1.0              2.0           2.0  \n",
       "4505                     1.0              2.0           2.0  \n",
       "4506                     1.0              1.0           1.0  \n",
       "4507                     1.0              2.0           2.0  \n",
       "\n",
       "[4508 rows x 38 columns]"
      ]
     },
     "execution_count": 1186,
     "metadata": {},
     "output_type": "execute_result"
    }
   ],
   "source": [
    "data = pd.read_csv('../raw_data/final_file.csv')\n",
    "data"
   ]
  },
  {
   "cell_type": "code",
   "execution_count": 1187,
   "metadata": {},
   "outputs": [
    {
     "data": {
      "text/html": [
       "<div>\n",
       "<style scoped>\n",
       "    .dataframe tbody tr th:only-of-type {\n",
       "        vertical-align: middle;\n",
       "    }\n",
       "\n",
       "    .dataframe tbody tr th {\n",
       "        vertical-align: top;\n",
       "    }\n",
       "\n",
       "    .dataframe thead th {\n",
       "        text-align: right;\n",
       "    }\n",
       "</style>\n",
       "<table border=\"1\" class=\"dataframe\">\n",
       "  <thead>\n",
       "    <tr style=\"text-align: right;\">\n",
       "      <th></th>\n",
       "      <th>Gender</th>\n",
       "      <th>Mother still living</th>\n",
       "      <th>Father still living</th>\n",
       "      <th>Age, in years</th>\n",
       "      <th>Marital Status</th>\n",
       "      <th>darija</th>\n",
       "      <th>class_arabic</th>\n",
       "      <th>french</th>\n",
       "      <th>amazygh</th>\n",
       "      <th>Member knows to read in at least one language</th>\n",
       "      <th>...</th>\n",
       "      <th>child_enrollment</th>\n",
       "      <th>class_when_dropout</th>\n",
       "      <th>Age abandoned school</th>\n",
       "      <th>groupid</th>\n",
       "      <th>num_menage</th>\n",
       "      <th>done_test</th>\n",
       "      <th>digit_recognition_res</th>\n",
       "      <th>number_recognition_res</th>\n",
       "      <th>subtraction_res</th>\n",
       "      <th>division_res</th>\n",
       "    </tr>\n",
       "  </thead>\n",
       "  <tbody>\n",
       "    <tr>\n",
       "      <th>count</th>\n",
       "      <td>4503.000000</td>\n",
       "      <td>4416.000000</td>\n",
       "      <td>4370.000000</td>\n",
       "      <td>4409.000000</td>\n",
       "      <td>4376.000000</td>\n",
       "      <td>4431.000000</td>\n",
       "      <td>4431.000000</td>\n",
       "      <td>4431.000000</td>\n",
       "      <td>4431.000000</td>\n",
       "      <td>4319.000000</td>\n",
       "      <td>...</td>\n",
       "      <td>4487.000000</td>\n",
       "      <td>4508.000000</td>\n",
       "      <td>4508.000000</td>\n",
       "      <td>4508.000000</td>\n",
       "      <td>4508.000000</td>\n",
       "      <td>4508.000000</td>\n",
       "      <td>3321.000000</td>\n",
       "      <td>3317.000000</td>\n",
       "      <td>3299.000000</td>\n",
       "      <td>3328.000000</td>\n",
       "    </tr>\n",
       "    <tr>\n",
       "      <th>mean</th>\n",
       "      <td>1.026427</td>\n",
       "      <td>1.416667</td>\n",
       "      <td>1.608467</td>\n",
       "      <td>45.265366</td>\n",
       "      <td>1.061700</td>\n",
       "      <td>1.169939</td>\n",
       "      <td>1.868878</td>\n",
       "      <td>1.974498</td>\n",
       "      <td>1.231550</td>\n",
       "      <td>1.730493</td>\n",
       "      <td>...</td>\n",
       "      <td>1.303766</td>\n",
       "      <td>0.273292</td>\n",
       "      <td>0.741792</td>\n",
       "      <td>1.934561</td>\n",
       "      <td>4.454525</td>\n",
       "      <td>1.261757</td>\n",
       "      <td>1.011743</td>\n",
       "      <td>1.051854</td>\n",
       "      <td>1.557139</td>\n",
       "      <td>1.612079</td>\n",
       "    </tr>\n",
       "    <tr>\n",
       "      <th>std</th>\n",
       "      <td>0.160419</td>\n",
       "      <td>0.493062</td>\n",
       "      <td>0.488149</td>\n",
       "      <td>13.019265</td>\n",
       "      <td>0.416061</td>\n",
       "      <td>0.375622</td>\n",
       "      <td>0.337571</td>\n",
       "      <td>0.157662</td>\n",
       "      <td>0.421871</td>\n",
       "      <td>0.443755</td>\n",
       "      <td>...</td>\n",
       "      <td>0.459934</td>\n",
       "      <td>0.476029</td>\n",
       "      <td>0.437697</td>\n",
       "      <td>1.377954</td>\n",
       "      <td>2.280121</td>\n",
       "      <td>0.439640</td>\n",
       "      <td>0.107745</td>\n",
       "      <td>0.221766</td>\n",
       "      <td>0.496800</td>\n",
       "      <td>0.504919</td>\n",
       "    </tr>\n",
       "    <tr>\n",
       "      <th>min</th>\n",
       "      <td>1.000000</td>\n",
       "      <td>1.000000</td>\n",
       "      <td>1.000000</td>\n",
       "      <td>-99.000000</td>\n",
       "      <td>1.000000</td>\n",
       "      <td>1.000000</td>\n",
       "      <td>1.000000</td>\n",
       "      <td>1.000000</td>\n",
       "      <td>1.000000</td>\n",
       "      <td>1.000000</td>\n",
       "      <td>...</td>\n",
       "      <td>1.000000</td>\n",
       "      <td>0.000000</td>\n",
       "      <td>0.000000</td>\n",
       "      <td>0.000000</td>\n",
       "      <td>1.000000</td>\n",
       "      <td>1.000000</td>\n",
       "      <td>1.000000</td>\n",
       "      <td>1.000000</td>\n",
       "      <td>1.000000</td>\n",
       "      <td>0.000000</td>\n",
       "    </tr>\n",
       "    <tr>\n",
       "      <th>25%</th>\n",
       "      <td>1.000000</td>\n",
       "      <td>1.000000</td>\n",
       "      <td>1.000000</td>\n",
       "      <td>39.000000</td>\n",
       "      <td>1.000000</td>\n",
       "      <td>1.000000</td>\n",
       "      <td>2.000000</td>\n",
       "      <td>2.000000</td>\n",
       "      <td>1.000000</td>\n",
       "      <td>1.000000</td>\n",
       "      <td>...</td>\n",
       "      <td>1.000000</td>\n",
       "      <td>0.000000</td>\n",
       "      <td>0.000000</td>\n",
       "      <td>1.000000</td>\n",
       "      <td>2.000000</td>\n",
       "      <td>1.000000</td>\n",
       "      <td>1.000000</td>\n",
       "      <td>1.000000</td>\n",
       "      <td>1.000000</td>\n",
       "      <td>1.000000</td>\n",
       "    </tr>\n",
       "    <tr>\n",
       "      <th>50%</th>\n",
       "      <td>1.000000</td>\n",
       "      <td>1.000000</td>\n",
       "      <td>2.000000</td>\n",
       "      <td>45.000000</td>\n",
       "      <td>1.000000</td>\n",
       "      <td>1.000000</td>\n",
       "      <td>2.000000</td>\n",
       "      <td>2.000000</td>\n",
       "      <td>1.000000</td>\n",
       "      <td>2.000000</td>\n",
       "      <td>...</td>\n",
       "      <td>1.000000</td>\n",
       "      <td>0.000000</td>\n",
       "      <td>1.000000</td>\n",
       "      <td>2.000000</td>\n",
       "      <td>4.000000</td>\n",
       "      <td>1.000000</td>\n",
       "      <td>1.000000</td>\n",
       "      <td>1.000000</td>\n",
       "      <td>2.000000</td>\n",
       "      <td>2.000000</td>\n",
       "    </tr>\n",
       "    <tr>\n",
       "      <th>75%</th>\n",
       "      <td>1.000000</td>\n",
       "      <td>2.000000</td>\n",
       "      <td>2.000000</td>\n",
       "      <td>51.000000</td>\n",
       "      <td>1.000000</td>\n",
       "      <td>1.000000</td>\n",
       "      <td>2.000000</td>\n",
       "      <td>2.000000</td>\n",
       "      <td>1.000000</td>\n",
       "      <td>2.000000</td>\n",
       "      <td>...</td>\n",
       "      <td>2.000000</td>\n",
       "      <td>1.000000</td>\n",
       "      <td>1.000000</td>\n",
       "      <td>3.000000</td>\n",
       "      <td>6.000000</td>\n",
       "      <td>2.000000</td>\n",
       "      <td>1.000000</td>\n",
       "      <td>1.000000</td>\n",
       "      <td>2.000000</td>\n",
       "      <td>2.000000</td>\n",
       "    </tr>\n",
       "    <tr>\n",
       "      <th>max</th>\n",
       "      <td>2.000000</td>\n",
       "      <td>2.000000</td>\n",
       "      <td>2.000000</td>\n",
       "      <td>100.000000</td>\n",
       "      <td>4.000000</td>\n",
       "      <td>2.000000</td>\n",
       "      <td>2.000000</td>\n",
       "      <td>2.000000</td>\n",
       "      <td>2.000000</td>\n",
       "      <td>2.000000</td>\n",
       "      <td>...</td>\n",
       "      <td>2.000000</td>\n",
       "      <td>2.000000</td>\n",
       "      <td>1.000000</td>\n",
       "      <td>4.000000</td>\n",
       "      <td>11.000000</td>\n",
       "      <td>2.000000</td>\n",
       "      <td>2.000000</td>\n",
       "      <td>2.000000</td>\n",
       "      <td>2.000000</td>\n",
       "      <td>2.000000</td>\n",
       "    </tr>\n",
       "  </tbody>\n",
       "</table>\n",
       "<p>8 rows × 32 columns</p>\n",
       "</div>"
      ],
      "text/plain": [
       "            Gender  Mother still living  Father still living  Age, in years  \\\n",
       "count  4503.000000          4416.000000          4370.000000    4409.000000   \n",
       "mean      1.026427             1.416667             1.608467      45.265366   \n",
       "std       0.160419             0.493062             0.488149      13.019265   \n",
       "min       1.000000             1.000000             1.000000     -99.000000   \n",
       "25%       1.000000             1.000000             1.000000      39.000000   \n",
       "50%       1.000000             1.000000             2.000000      45.000000   \n",
       "75%       1.000000             2.000000             2.000000      51.000000   \n",
       "max       2.000000             2.000000             2.000000     100.000000   \n",
       "\n",
       "       Marital Status       darija  class_arabic       french      amazygh  \\\n",
       "count     4376.000000  4431.000000   4431.000000  4431.000000  4431.000000   \n",
       "mean         1.061700     1.169939      1.868878     1.974498     1.231550   \n",
       "std          0.416061     0.375622      0.337571     0.157662     0.421871   \n",
       "min          1.000000     1.000000      1.000000     1.000000     1.000000   \n",
       "25%          1.000000     1.000000      2.000000     2.000000     1.000000   \n",
       "50%          1.000000     1.000000      2.000000     2.000000     1.000000   \n",
       "75%          1.000000     1.000000      2.000000     2.000000     1.000000   \n",
       "max          4.000000     2.000000      2.000000     2.000000     2.000000   \n",
       "\n",
       "       Member knows to read in at least one language  ...  child_enrollment  \\\n",
       "count                                    4319.000000  ...       4487.000000   \n",
       "mean                                        1.730493  ...          1.303766   \n",
       "std                                         0.443755  ...          0.459934   \n",
       "min                                         1.000000  ...          1.000000   \n",
       "25%                                         1.000000  ...          1.000000   \n",
       "50%                                         2.000000  ...          1.000000   \n",
       "75%                                         2.000000  ...          2.000000   \n",
       "max                                         2.000000  ...          2.000000   \n",
       "\n",
       "       class_when_dropout  Age abandoned school      groupid   num_menage  \\\n",
       "count         4508.000000           4508.000000  4508.000000  4508.000000   \n",
       "mean             0.273292              0.741792     1.934561     4.454525   \n",
       "std              0.476029              0.437697     1.377954     2.280121   \n",
       "min              0.000000              0.000000     0.000000     1.000000   \n",
       "25%              0.000000              0.000000     1.000000     2.000000   \n",
       "50%              0.000000              1.000000     2.000000     4.000000   \n",
       "75%              1.000000              1.000000     3.000000     6.000000   \n",
       "max              2.000000              1.000000     4.000000    11.000000   \n",
       "\n",
       "         done_test  digit_recognition_res  number_recognition_res  \\\n",
       "count  4508.000000            3321.000000             3317.000000   \n",
       "mean      1.261757               1.011743                1.051854   \n",
       "std       0.439640               0.107745                0.221766   \n",
       "min       1.000000               1.000000                1.000000   \n",
       "25%       1.000000               1.000000                1.000000   \n",
       "50%       1.000000               1.000000                1.000000   \n",
       "75%       2.000000               1.000000                1.000000   \n",
       "max       2.000000               2.000000                2.000000   \n",
       "\n",
       "       subtraction_res  division_res  \n",
       "count      3299.000000   3328.000000  \n",
       "mean          1.557139      1.612079  \n",
       "std           0.496800      0.504919  \n",
       "min           1.000000      0.000000  \n",
       "25%           1.000000      1.000000  \n",
       "50%           2.000000      2.000000  \n",
       "75%           2.000000      2.000000  \n",
       "max           2.000000      2.000000  \n",
       "\n",
       "[8 rows x 32 columns]"
      ]
     },
     "execution_count": 1187,
     "metadata": {},
     "output_type": "execute_result"
    }
   ],
   "source": [
    "data.describe()"
   ]
  },
  {
   "cell_type": "code",
   "execution_count": 1188,
   "metadata": {},
   "outputs": [
    {
     "data": {
      "text/plain": [
       "(4508, 38)"
      ]
     },
     "execution_count": 1188,
     "metadata": {},
     "output_type": "execute_result"
    }
   ],
   "source": [
    "data.shape"
   ]
  },
  {
   "cell_type": "code",
   "execution_count": 1189,
   "metadata": {},
   "outputs": [],
   "source": [
    "test_data = data"
   ]
  },
  {
   "cell_type": "code",
   "execution_count": 1190,
   "metadata": {},
   "outputs": [
    {
     "data": {
      "text/plain": [
       "(4508, 38)"
      ]
     },
     "execution_count": 1190,
     "metadata": {},
     "output_type": "execute_result"
    }
   ],
   "source": [
    "test_data.shape"
   ]
  },
  {
   "attachments": {},
   "cell_type": "markdown",
   "metadata": {},
   "source": [
    "# work_activity\n",
    "\n",
    "**Full time** - **0**\n",
    "* 1 - Worked in a permament fashion, on his/her own account\n",
    "* 2 - Worked in a permanent fashion on another's account\n",
    "\n",
    "**Part Time** - **1**\n",
    "* 3 - Worked in an occassional fashion\n",
    "\n",
    "**Not working** - **2**\n",
    "* 9 - Did not work\n",
    "* 4 - Searched for work\n",
    "* 5 - Completed domestick tasks\n",
    "* 7 - Was sick \n",
    "* 8 - Retiremen \n"
   ]
  },
  {
   "cell_type": "code",
   "execution_count": 1191,
   "metadata": {},
   "outputs": [
    {
     "data": {
      "text/plain": [
       " 1.0     1597\n",
       " 3.0     1371\n",
       " 2.0      849\n",
       " 9.0      220\n",
       " NaN      161\n",
       " 4.0       87\n",
       " 5.0       77\n",
       " 7.0       60\n",
       " 10.0      54\n",
       " 8.0       25\n",
       " 6.0        4\n",
       "-99.0       3\n",
       "Name: work_activity, dtype: int64"
      ]
     },
     "execution_count": 1191,
     "metadata": {},
     "output_type": "execute_result"
    }
   ],
   "source": [
    "test_data['work_activity'].value_counts(dropna=False)"
   ]
  },
  {
   "cell_type": "code",
   "execution_count": 1192,
   "metadata": {},
   "outputs": [],
   "source": [
    "new_cat = {1: 0, 2: 0, 3: 1, 9: 2, 4: 2, 5: 2, 7: 2, 8: 2}\n",
    "\n",
    "test_data['work_activity_classified'] = test_data['work_activity'].map(new_cat)"
   ]
  },
  {
   "cell_type": "code",
   "execution_count": 1193,
   "metadata": {},
   "outputs": [
    {
     "data": {
      "text/plain": [
       "0.0    2446\n",
       "1.0    1371\n",
       "2.0     469\n",
       "NaN     222\n",
       "Name: work_activity_classified, dtype: int64"
      ]
     },
     "execution_count": 1193,
     "metadata": {},
     "output_type": "execute_result"
    }
   ],
   "source": [
    "test_data['work_activity_classified'].value_counts(dropna=False)"
   ]
  },
  {
   "cell_type": "code",
   "execution_count": 1194,
   "metadata": {},
   "outputs": [
    {
     "data": {
      "text/plain": [
       "(4508, 39)"
      ]
     },
     "execution_count": 1194,
     "metadata": {},
     "output_type": "execute_result"
    }
   ],
   "source": [
    "test_data.shape"
   ]
  },
  {
   "cell_type": "code",
   "execution_count": 1195,
   "metadata": {},
   "outputs": [
    {
     "data": {
      "text/html": [
       "<div>\n",
       "<style scoped>\n",
       "    .dataframe tbody tr th:only-of-type {\n",
       "        vertical-align: middle;\n",
       "    }\n",
       "\n",
       "    .dataframe tbody tr th {\n",
       "        vertical-align: top;\n",
       "    }\n",
       "\n",
       "    .dataframe thead th {\n",
       "        text-align: right;\n",
       "    }\n",
       "</style>\n",
       "<table border=\"1\" class=\"dataframe\">\n",
       "  <thead>\n",
       "    <tr style=\"text-align: right;\">\n",
       "      <th></th>\n",
       "      <th>hhid</th>\n",
       "      <th>Gender</th>\n",
       "      <th>Mother still living</th>\n",
       "      <th>Father still living</th>\n",
       "      <th>Age, in years</th>\n",
       "      <th>Marital Status</th>\n",
       "      <th>darija</th>\n",
       "      <th>class_arabic</th>\n",
       "      <th>french</th>\n",
       "      <th>amazygh</th>\n",
       "      <th>...</th>\n",
       "      <th>schoolunitid</th>\n",
       "      <th>type_unit</th>\n",
       "      <th>groupid</th>\n",
       "      <th>num_menage</th>\n",
       "      <th>done_test</th>\n",
       "      <th>digit_recognition_res</th>\n",
       "      <th>number_recognition_res</th>\n",
       "      <th>subtraction_res</th>\n",
       "      <th>division_res</th>\n",
       "      <th>work_activity_classified</th>\n",
       "    </tr>\n",
       "  </thead>\n",
       "  <tbody>\n",
       "    <tr>\n",
       "      <th>0</th>\n",
       "      <td>A208004</td>\n",
       "      <td>1.0</td>\n",
       "      <td>1.0</td>\n",
       "      <td>1.0</td>\n",
       "      <td>35.0</td>\n",
       "      <td>1.0</td>\n",
       "      <td>1.0</td>\n",
       "      <td>2.0</td>\n",
       "      <td>2.0</td>\n",
       "      <td>2.0</td>\n",
       "      <td>...</td>\n",
       "      <td>A208</td>\n",
       "      <td>Secteur Scolaire Centre</td>\n",
       "      <td>2</td>\n",
       "      <td>4</td>\n",
       "      <td>1.0</td>\n",
       "      <td>1.0</td>\n",
       "      <td>2.0</td>\n",
       "      <td>2.0</td>\n",
       "      <td>2.0</td>\n",
       "      <td>1.0</td>\n",
       "    </tr>\n",
       "    <tr>\n",
       "      <th>1</th>\n",
       "      <td>A426002</td>\n",
       "      <td>1.0</td>\n",
       "      <td>1.0</td>\n",
       "      <td>2.0</td>\n",
       "      <td>33.0</td>\n",
       "      <td>1.0</td>\n",
       "      <td>1.0</td>\n",
       "      <td>2.0</td>\n",
       "      <td>2.0</td>\n",
       "      <td>1.0</td>\n",
       "      <td>...</td>\n",
       "      <td>A426</td>\n",
       "      <td>Secteur Scolaire Centre</td>\n",
       "      <td>4</td>\n",
       "      <td>2</td>\n",
       "      <td>2.0</td>\n",
       "      <td>NaN</td>\n",
       "      <td>NaN</td>\n",
       "      <td>NaN</td>\n",
       "      <td>NaN</td>\n",
       "      <td>0.0</td>\n",
       "    </tr>\n",
       "    <tr>\n",
       "      <th>2</th>\n",
       "      <td>A268006</td>\n",
       "      <td>1.0</td>\n",
       "      <td>1.0</td>\n",
       "      <td>1.0</td>\n",
       "      <td>31.0</td>\n",
       "      <td>1.0</td>\n",
       "      <td>1.0</td>\n",
       "      <td>2.0</td>\n",
       "      <td>2.0</td>\n",
       "      <td>1.0</td>\n",
       "      <td>...</td>\n",
       "      <td>A268</td>\n",
       "      <td>Satellite</td>\n",
       "      <td>1</td>\n",
       "      <td>6</td>\n",
       "      <td>1.0</td>\n",
       "      <td>1.0</td>\n",
       "      <td>1.0</td>\n",
       "      <td>2.0</td>\n",
       "      <td>2.0</td>\n",
       "      <td>0.0</td>\n",
       "    </tr>\n",
       "    <tr>\n",
       "      <th>3</th>\n",
       "      <td>A419004</td>\n",
       "      <td>1.0</td>\n",
       "      <td>2.0</td>\n",
       "      <td>2.0</td>\n",
       "      <td>62.0</td>\n",
       "      <td>1.0</td>\n",
       "      <td>1.0</td>\n",
       "      <td>2.0</td>\n",
       "      <td>2.0</td>\n",
       "      <td>1.0</td>\n",
       "      <td>...</td>\n",
       "      <td>A419</td>\n",
       "      <td>Secteur Scolaire Centre</td>\n",
       "      <td>2</td>\n",
       "      <td>4</td>\n",
       "      <td>2.0</td>\n",
       "      <td>NaN</td>\n",
       "      <td>NaN</td>\n",
       "      <td>NaN</td>\n",
       "      <td>NaN</td>\n",
       "      <td>0.0</td>\n",
       "    </tr>\n",
       "    <tr>\n",
       "      <th>4</th>\n",
       "      <td>A536006</td>\n",
       "      <td>1.0</td>\n",
       "      <td>2.0</td>\n",
       "      <td>1.0</td>\n",
       "      <td>36.0</td>\n",
       "      <td>1.0</td>\n",
       "      <td>1.0</td>\n",
       "      <td>1.0</td>\n",
       "      <td>2.0</td>\n",
       "      <td>1.0</td>\n",
       "      <td>...</td>\n",
       "      <td>A536</td>\n",
       "      <td>Satellite</td>\n",
       "      <td>1</td>\n",
       "      <td>6</td>\n",
       "      <td>1.0</td>\n",
       "      <td>1.0</td>\n",
       "      <td>1.0</td>\n",
       "      <td>1.0</td>\n",
       "      <td>2.0</td>\n",
       "      <td>1.0</td>\n",
       "    </tr>\n",
       "    <tr>\n",
       "      <th>...</th>\n",
       "      <td>...</td>\n",
       "      <td>...</td>\n",
       "      <td>...</td>\n",
       "      <td>...</td>\n",
       "      <td>...</td>\n",
       "      <td>...</td>\n",
       "      <td>...</td>\n",
       "      <td>...</td>\n",
       "      <td>...</td>\n",
       "      <td>...</td>\n",
       "      <td>...</td>\n",
       "      <td>...</td>\n",
       "      <td>...</td>\n",
       "      <td>...</td>\n",
       "      <td>...</td>\n",
       "      <td>...</td>\n",
       "      <td>...</td>\n",
       "      <td>...</td>\n",
       "      <td>...</td>\n",
       "      <td>...</td>\n",
       "      <td>...</td>\n",
       "    </tr>\n",
       "    <tr>\n",
       "      <th>4503</th>\n",
       "      <td>A618007</td>\n",
       "      <td>1.0</td>\n",
       "      <td>1.0</td>\n",
       "      <td>1.0</td>\n",
       "      <td>37.0</td>\n",
       "      <td>1.0</td>\n",
       "      <td>1.0</td>\n",
       "      <td>2.0</td>\n",
       "      <td>2.0</td>\n",
       "      <td>2.0</td>\n",
       "      <td>...</td>\n",
       "      <td>A618</td>\n",
       "      <td>Secteur Scolaire Centre</td>\n",
       "      <td>2</td>\n",
       "      <td>7</td>\n",
       "      <td>1.0</td>\n",
       "      <td>1.0</td>\n",
       "      <td>1.0</td>\n",
       "      <td>2.0</td>\n",
       "      <td>2.0</td>\n",
       "      <td>0.0</td>\n",
       "    </tr>\n",
       "    <tr>\n",
       "      <th>4504</th>\n",
       "      <td>A571001</td>\n",
       "      <td>1.0</td>\n",
       "      <td>1.0</td>\n",
       "      <td>1.0</td>\n",
       "      <td>37.0</td>\n",
       "      <td>1.0</td>\n",
       "      <td>1.0</td>\n",
       "      <td>1.0</td>\n",
       "      <td>2.0</td>\n",
       "      <td>2.0</td>\n",
       "      <td>...</td>\n",
       "      <td>A571</td>\n",
       "      <td>Satellite</td>\n",
       "      <td>4</td>\n",
       "      <td>1</td>\n",
       "      <td>1.0</td>\n",
       "      <td>1.0</td>\n",
       "      <td>1.0</td>\n",
       "      <td>2.0</td>\n",
       "      <td>2.0</td>\n",
       "      <td>0.0</td>\n",
       "    </tr>\n",
       "    <tr>\n",
       "      <th>4505</th>\n",
       "      <td>A359007</td>\n",
       "      <td>1.0</td>\n",
       "      <td>1.0</td>\n",
       "      <td>2.0</td>\n",
       "      <td>42.0</td>\n",
       "      <td>1.0</td>\n",
       "      <td>1.0</td>\n",
       "      <td>2.0</td>\n",
       "      <td>2.0</td>\n",
       "      <td>2.0</td>\n",
       "      <td>...</td>\n",
       "      <td>A359</td>\n",
       "      <td>Secteur Scolaire Centre</td>\n",
       "      <td>0</td>\n",
       "      <td>7</td>\n",
       "      <td>1.0</td>\n",
       "      <td>1.0</td>\n",
       "      <td>1.0</td>\n",
       "      <td>2.0</td>\n",
       "      <td>2.0</td>\n",
       "      <td>0.0</td>\n",
       "    </tr>\n",
       "    <tr>\n",
       "      <th>4506</th>\n",
       "      <td>A578003</td>\n",
       "      <td>1.0</td>\n",
       "      <td>2.0</td>\n",
       "      <td>1.0</td>\n",
       "      <td>50.0</td>\n",
       "      <td>1.0</td>\n",
       "      <td>1.0</td>\n",
       "      <td>2.0</td>\n",
       "      <td>2.0</td>\n",
       "      <td>2.0</td>\n",
       "      <td>...</td>\n",
       "      <td>A578</td>\n",
       "      <td>Satellite</td>\n",
       "      <td>0</td>\n",
       "      <td>3</td>\n",
       "      <td>1.0</td>\n",
       "      <td>1.0</td>\n",
       "      <td>1.0</td>\n",
       "      <td>1.0</td>\n",
       "      <td>1.0</td>\n",
       "      <td>0.0</td>\n",
       "    </tr>\n",
       "    <tr>\n",
       "      <th>4507</th>\n",
       "      <td>A535005</td>\n",
       "      <td>1.0</td>\n",
       "      <td>1.0</td>\n",
       "      <td>1.0</td>\n",
       "      <td>38.0</td>\n",
       "      <td>1.0</td>\n",
       "      <td>1.0</td>\n",
       "      <td>2.0</td>\n",
       "      <td>2.0</td>\n",
       "      <td>1.0</td>\n",
       "      <td>...</td>\n",
       "      <td>A535</td>\n",
       "      <td>Satellite</td>\n",
       "      <td>1</td>\n",
       "      <td>5</td>\n",
       "      <td>1.0</td>\n",
       "      <td>1.0</td>\n",
       "      <td>1.0</td>\n",
       "      <td>2.0</td>\n",
       "      <td>2.0</td>\n",
       "      <td>1.0</td>\n",
       "    </tr>\n",
       "  </tbody>\n",
       "</table>\n",
       "<p>4286 rows × 39 columns</p>\n",
       "</div>"
      ],
      "text/plain": [
       "         hhid  Gender  Mother still living  Father still living  \\\n",
       "0     A208004     1.0                  1.0                  1.0   \n",
       "1     A426002     1.0                  1.0                  2.0   \n",
       "2     A268006     1.0                  1.0                  1.0   \n",
       "3     A419004     1.0                  2.0                  2.0   \n",
       "4     A536006     1.0                  2.0                  1.0   \n",
       "...       ...     ...                  ...                  ...   \n",
       "4503  A618007     1.0                  1.0                  1.0   \n",
       "4504  A571001     1.0                  1.0                  1.0   \n",
       "4505  A359007     1.0                  1.0                  2.0   \n",
       "4506  A578003     1.0                  2.0                  1.0   \n",
       "4507  A535005     1.0                  1.0                  1.0   \n",
       "\n",
       "      Age, in years  Marital Status  darija  class_arabic  french  amazygh  \\\n",
       "0              35.0             1.0     1.0           2.0     2.0      2.0   \n",
       "1              33.0             1.0     1.0           2.0     2.0      1.0   \n",
       "2              31.0             1.0     1.0           2.0     2.0      1.0   \n",
       "3              62.0             1.0     1.0           2.0     2.0      1.0   \n",
       "4              36.0             1.0     1.0           1.0     2.0      1.0   \n",
       "...             ...             ...     ...           ...     ...      ...   \n",
       "4503           37.0             1.0     1.0           2.0     2.0      2.0   \n",
       "4504           37.0             1.0     1.0           1.0     2.0      2.0   \n",
       "4505           42.0             1.0     1.0           2.0     2.0      2.0   \n",
       "4506           50.0             1.0     1.0           2.0     2.0      2.0   \n",
       "4507           38.0             1.0     1.0           2.0     2.0      1.0   \n",
       "\n",
       "      ...  schoolunitid                type_unit  groupid  num_menage  \\\n",
       "0     ...          A208  Secteur Scolaire Centre        2           4   \n",
       "1     ...          A426  Secteur Scolaire Centre        4           2   \n",
       "2     ...          A268                Satellite        1           6   \n",
       "3     ...          A419  Secteur Scolaire Centre        2           4   \n",
       "4     ...          A536                Satellite        1           6   \n",
       "...   ...           ...                      ...      ...         ...   \n",
       "4503  ...          A618  Secteur Scolaire Centre        2           7   \n",
       "4504  ...          A571                Satellite        4           1   \n",
       "4505  ...          A359  Secteur Scolaire Centre        0           7   \n",
       "4506  ...          A578                Satellite        0           3   \n",
       "4507  ...          A535                Satellite        1           5   \n",
       "\n",
       "      done_test  digit_recognition_res  number_recognition_res  \\\n",
       "0           1.0                    1.0                     2.0   \n",
       "1           2.0                    NaN                     NaN   \n",
       "2           1.0                    1.0                     1.0   \n",
       "3           2.0                    NaN                     NaN   \n",
       "4           1.0                    1.0                     1.0   \n",
       "...         ...                    ...                     ...   \n",
       "4503        1.0                    1.0                     1.0   \n",
       "4504        1.0                    1.0                     1.0   \n",
       "4505        1.0                    1.0                     1.0   \n",
       "4506        1.0                    1.0                     1.0   \n",
       "4507        1.0                    1.0                     1.0   \n",
       "\n",
       "      subtraction_res  division_res  work_activity_classified  \n",
       "0                 2.0           2.0                       1.0  \n",
       "1                 NaN           NaN                       0.0  \n",
       "2                 2.0           2.0                       0.0  \n",
       "3                 NaN           NaN                       0.0  \n",
       "4                 1.0           2.0                       1.0  \n",
       "...               ...           ...                       ...  \n",
       "4503              2.0           2.0                       0.0  \n",
       "4504              2.0           2.0                       0.0  \n",
       "4505              2.0           2.0                       0.0  \n",
       "4506              1.0           1.0                       0.0  \n",
       "4507              2.0           2.0                       1.0  \n",
       "\n",
       "[4286 rows x 39 columns]"
      ]
     },
     "execution_count": 1195,
     "metadata": {},
     "output_type": "execute_result"
    }
   ],
   "source": [
    "test_data = test_data.dropna(subset=['work_activity_classified'])\n",
    "test_data"
   ]
  },
  {
   "cell_type": "code",
   "execution_count": 1196,
   "metadata": {},
   "outputs": [
    {
     "data": {
      "text/plain": [
       "0.0    2446\n",
       "1.0    1371\n",
       "2.0     469\n",
       "Name: work_activity_classified, dtype: int64"
      ]
     },
     "execution_count": 1196,
     "metadata": {},
     "output_type": "execute_result"
    }
   ],
   "source": [
    "test_data['work_activity_classified'].value_counts()"
   ]
  },
  {
   "cell_type": "code",
   "execution_count": 1197,
   "metadata": {},
   "outputs": [
    {
     "name": "stderr",
     "output_type": "stream",
     "text": [
      "/home/andriigegliuk/.pyenv/versions/3.10.6/envs/dropoutpred-env/lib/python3.10/site-packages/seaborn/_decorators.py:36: FutureWarning: Pass the following variable as a keyword arg: x. From version 0.12, the only valid positional argument will be `data`, and passing other arguments without an explicit keyword will result in an error or misinterpretation.\n",
      "  warnings.warn(\n"
     ]
    },
    {
     "data": {
      "image/png": "[encoded data removed]",
      "text/plain": [
       "<Figure size 640x480 with 1 Axes>"
      ]
     },
     "metadata": {},
     "output_type": "display_data"
    }
   ],
   "source": [
    "sns.countplot(test_data['work_activity_classified'])\n",
    "plt.show()"
   ]
  },
  {
   "cell_type": "code",
   "execution_count": 1198,
   "metadata": {},
   "outputs": [
    {
     "data": {
      "text/plain": [
       "hhid                                                0\n",
       "Gender                                              5\n",
       "Mother still living                                28\n",
       "Father still living                                69\n",
       "Age, in years                                      37\n",
       "Marital Status                                     60\n",
       "darija                                             14\n",
       "class_arabic                                       14\n",
       "french                                             14\n",
       "amazygh                                            14\n",
       "Member knows to read in at least one language     102\n",
       "write_one_lang                                     91\n",
       "no_read_write                                      91\n",
       "parents_level_ed                                   42\n",
       "work_activity                                       0\n",
       "Number of persons living in house                  14\n",
       "Type of housing                                    26\n",
       "automobiles                                        44\n",
       "mobile_phones                                      32\n",
       "satellite                                          29\n",
       "no_water                                            0\n",
       "individual_water_net                                0\n",
       "electrical_net_co                                   0\n",
       "school_id                                           0\n",
       "child_enrollment                                   18\n",
       "class_when_dropout                                  0\n",
       "region                                              0\n",
       "province                                            0\n",
       "Age abandoned school                                0\n",
       "schoolunitid                                        0\n",
       "type_unit                                           0\n",
       "groupid                                             0\n",
       "num_menage                                          0\n",
       "done_test                                           0\n",
       "digit_recognition_res                            1113\n",
       "number_recognition_res                           1117\n",
       "subtraction_res                                  1134\n",
       "division_res                                     1106\n",
       "work_activity_classified                            0\n",
       "dtype: int64"
      ]
     },
     "execution_count": 1198,
     "metadata": {},
     "output_type": "execute_result"
    }
   ],
   "source": [
    "test_data.isna().sum()"
   ]
  },
  {
   "cell_type": "code",
   "execution_count": 1199,
   "metadata": {},
   "outputs": [],
   "source": [
    "test_data = test_data.replace(-99, np.nan)\n",
    "test_data = test_data.replace(-88, np.nan)\n",
    "test_data = test_data.replace(100, np.nan)"
   ]
  },
  {
   "cell_type": "code",
   "execution_count": 1200,
   "metadata": {},
   "outputs": [],
   "source": [
    "test_data = test_data.drop('work_activity', axis=1)\n"
   ]
  },
  {
   "cell_type": "code",
   "execution_count": 1201,
   "metadata": {},
   "outputs": [
    {
     "data": {
      "text/plain": [
       "(4286, 38)"
      ]
     },
     "execution_count": 1201,
     "metadata": {},
     "output_type": "execute_result"
    }
   ],
   "source": [
    "test_data.shape"
   ]
  },
  {
   "attachments": {},
   "cell_type": "markdown",
   "metadata": {},
   "source": [
    "# No education\n",
    "\n",
    "* 1 - None\n",
    "\n",
    "**Primary**\n",
    "\n",
    "* 3 - Primary\n",
    "\n",
    "**Koranic**\n",
    "\n",
    "* 2 - Koranic\n",
    "\n",
    "**Middle**\n",
    "\n",
    "* 4 - Middle\n",
    "\n",
    "**High school**\n",
    "\n",
    "* 5 - Middle\n",
    "\n",
    "**Higher education**\n",
    "\n",
    "* 6 - Higher education\n",
    "\n",
    "**Middle**\n",
    "\n",
    "* 7 - Professional"
   ]
  },
  {
   "cell_type": "code",
   "execution_count": 1202,
   "metadata": {},
   "outputs": [
    {
     "data": {
      "text/plain": [
       "1.0    3063\n",
       "3.0     643\n",
       "2.0     413\n",
       "4.0      73\n",
       "NaN      44\n",
       "5.0      32\n",
       "6.0      14\n",
       "7.0       4\n",
       "Name: parents_level_ed, dtype: int64"
      ]
     },
     "execution_count": 1202,
     "metadata": {},
     "output_type": "execute_result"
    }
   ],
   "source": [
    "test_data['parents_level_ed'].value_counts(dropna=False)"
   ]
  },
  {
   "cell_type": "code",
   "execution_count": 1203,
   "metadata": {},
   "outputs": [
    {
     "data": {
      "text/plain": [
       "(4286, 38)"
      ]
     },
     "execution_count": 1203,
     "metadata": {},
     "output_type": "execute_result"
    }
   ],
   "source": [
    "test_data.shape"
   ]
  },
  {
   "cell_type": "code",
   "execution_count": 1204,
   "metadata": {},
   "outputs": [],
   "source": [
    "test_data = test_data.dropna(subset=['parents_level_ed'])"
   ]
  },
  {
   "cell_type": "code",
   "execution_count": 1205,
   "metadata": {},
   "outputs": [
    {
     "data": {
      "text/plain": [
       "(4242, 38)"
      ]
     },
     "execution_count": 1205,
     "metadata": {},
     "output_type": "execute_result"
    }
   ],
   "source": [
    "test_data.shape"
   ]
  },
  {
   "cell_type": "code",
   "execution_count": 1206,
   "metadata": {},
   "outputs": [
    {
     "data": {
      "text/plain": [
       "1.0    3063\n",
       "3.0     643\n",
       "2.0     413\n",
       "4.0      73\n",
       "5.0      32\n",
       "6.0      14\n",
       "7.0       4\n",
       "Name: parents_level_ed, dtype: int64"
      ]
     },
     "execution_count": 1206,
     "metadata": {},
     "output_type": "execute_result"
    }
   ],
   "source": [
    "test_data['parents_level_ed'].value_counts(dropna=False)"
   ]
  },
  {
   "cell_type": "code",
   "execution_count": 1207,
   "metadata": {},
   "outputs": [
    {
     "name": "stderr",
     "output_type": "stream",
     "text": [
      "/home/andriigegliuk/.pyenv/versions/3.10.6/envs/dropoutpred-env/lib/python3.10/site-packages/seaborn/_decorators.py:36: FutureWarning: Pass the following variable as a keyword arg: x. From version 0.12, the only valid positional argument will be `data`, and passing other arguments without an explicit keyword will result in an error or misinterpretation.\n",
      "  warnings.warn(\n"
     ]
    },
    {
     "data": {
      "image/png": "[encoded data removed]",
      "text/plain": [
       "<Figure size 640x480 with 1 Axes>"
      ]
     },
     "metadata": {},
     "output_type": "display_data"
    }
   ],
   "source": [
    "sns.countplot(test_data['parents_level_ed'])\n",
    "plt.title('Parents education')\n",
    "plt.show()"
   ]
  },
  {
   "attachments": {},
   "cell_type": "markdown",
   "metadata": {},
   "source": [
    "# mobile_phones\n",
    "\n",
    "* 1 - Yes\n",
    "* 2 - No"
   ]
  },
  {
   "cell_type": "code",
   "execution_count": 1208,
   "metadata": {},
   "outputs": [],
   "source": [
    "test_data = test_data.dropna(subset=['mobile_phones'])"
   ]
  },
  {
   "cell_type": "code",
   "execution_count": 1209,
   "metadata": {},
   "outputs": [
    {
     "data": {
      "text/plain": [
       "(4209, 38)"
      ]
     },
     "execution_count": 1209,
     "metadata": {},
     "output_type": "execute_result"
    }
   ],
   "source": [
    "test_data.shape"
   ]
  },
  {
   "cell_type": "code",
   "execution_count": 1210,
   "metadata": {},
   "outputs": [
    {
     "name": "stderr",
     "output_type": "stream",
     "text": [
      "/home/andriigegliuk/.pyenv/versions/3.10.6/envs/dropoutpred-env/lib/python3.10/site-packages/seaborn/_decorators.py:36: FutureWarning: Pass the following variable as a keyword arg: x. From version 0.12, the only valid positional argument will be `data`, and passing other arguments without an explicit keyword will result in an error or misinterpretation.\n",
      "  warnings.warn(\n"
     ]
    },
    {
     "data": {
      "image/png": "[encoded data removed]",
      "text/plain": [
       "<Figure size 640x480 with 1 Axes>"
      ]
     },
     "metadata": {},
     "output_type": "display_data"
    }
   ],
   "source": [
    "sns.countplot(test_data['mobile_phones'])\n",
    "plt.title('Phone per house hold distribution')\n",
    "plt.show()"
   ]
  },
  {
   "cell_type": "code",
   "execution_count": 1211,
   "metadata": {},
   "outputs": [
    {
     "data": {
      "text/plain": [
       "(4209, 38)"
      ]
     },
     "execution_count": 1211,
     "metadata": {},
     "output_type": "execute_result"
    }
   ],
   "source": [
    "test_data.shape"
   ]
  },
  {
   "cell_type": "code",
   "execution_count": 1212,
   "metadata": {},
   "outputs": [
    {
     "data": {
      "text/plain": [
       "hhid                                                0\n",
       "Gender                                              5\n",
       "Mother still living                                27\n",
       "Father still living                                69\n",
       "Age, in years                                      51\n",
       "Marital Status                                     48\n",
       "darija                                             12\n",
       "class_arabic                                       12\n",
       "french                                             12\n",
       "amazygh                                            12\n",
       "Member knows to read in at least one language      94\n",
       "write_one_lang                                     83\n",
       "no_read_write                                      83\n",
       "parents_level_ed                                    0\n",
       "Number of persons living in house                  13\n",
       "Type of housing                                    25\n",
       "automobiles                                        34\n",
       "mobile_phones                                       0\n",
       "satellite                                          23\n",
       "no_water                                            0\n",
       "individual_water_net                                0\n",
       "electrical_net_co                                   0\n",
       "school_id                                           0\n",
       "child_enrollment                                   18\n",
       "class_when_dropout                                  0\n",
       "region                                              0\n",
       "province                                            0\n",
       "Age abandoned school                                0\n",
       "schoolunitid                                        0\n",
       "type_unit                                           0\n",
       "groupid                                             0\n",
       "num_menage                                          0\n",
       "done_test                                           0\n",
       "digit_recognition_res                            1093\n",
       "number_recognition_res                           1096\n",
       "subtraction_res                                  1111\n",
       "division_res                                     1086\n",
       "work_activity_classified                            0\n",
       "dtype: int64"
      ]
     },
     "execution_count": 1212,
     "metadata": {},
     "output_type": "execute_result"
    }
   ],
   "source": [
    "test_data.isna().sum()"
   ]
  },
  {
   "cell_type": "code",
   "execution_count": 1213,
   "metadata": {},
   "outputs": [
    {
     "data": {
      "text/plain": [
       "1.0    4074\n",
       "4.0      72\n",
       "NaN      48\n",
       "3.0       9\n",
       "2.0       6\n",
       "Name: Marital Status, dtype: int64"
      ]
     },
     "execution_count": 1213,
     "metadata": {},
     "output_type": "execute_result"
    }
   ],
   "source": [
    "test_data['Marital Status'].value_counts(dropna=False)"
   ]
  },
  {
   "cell_type": "code",
   "execution_count": 1214,
   "metadata": {},
   "outputs": [],
   "source": [
    "test_data = test_data.dropna(subset=['mobile_phones'])"
   ]
  },
  {
   "cell_type": "code",
   "execution_count": 1215,
   "metadata": {},
   "outputs": [
    {
     "data": {
      "text/plain": [
       "1.0    4074\n",
       "4.0      72\n",
       "NaN      48\n",
       "3.0       9\n",
       "2.0       6\n",
       "Name: Marital Status, dtype: int64"
      ]
     },
     "execution_count": 1215,
     "metadata": {},
     "output_type": "execute_result"
    }
   ],
   "source": [
    "test_data['Marital Status'].value_counts(dropna=False)"
   ]
  },
  {
   "cell_type": "code",
   "execution_count": 1216,
   "metadata": {},
   "outputs": [],
   "source": [
    "# test_data['Marital Status'] = test_data['Marital Status'].replace('NaN', , inplace=True)"
   ]
  },
  {
   "cell_type": "code",
   "execution_count": 1217,
   "metadata": {},
   "outputs": [
    {
     "data": {
      "text/plain": [
       "1.0    4074\n",
       "4.0      72\n",
       "NaN      48\n",
       "3.0       9\n",
       "2.0       6\n",
       "Name: Marital Status, dtype: int64"
      ]
     },
     "execution_count": 1217,
     "metadata": {},
     "output_type": "execute_result"
    }
   ],
   "source": [
    "test_data['Marital Status'].value_counts(dropna=False)"
   ]
  },
  {
   "cell_type": "code",
   "execution_count": 1218,
   "metadata": {},
   "outputs": [],
   "source": [
    "test_data['Marital Status'] = pd.to_numeric(test_data['Marital Status'], errors='coerce')"
   ]
  },
  {
   "cell_type": "code",
   "execution_count": 1219,
   "metadata": {},
   "outputs": [
    {
     "data": {
      "text/plain": [
       "1.0    4074\n",
       "4.0      72\n",
       "NaN      48\n",
       "3.0       9\n",
       "2.0       6\n",
       "Name: Marital Status, dtype: int64"
      ]
     },
     "execution_count": 1219,
     "metadata": {},
     "output_type": "execute_result"
    }
   ],
   "source": [
    "test_data['Marital Status'].value_counts(dropna=False)"
   ]
  },
  {
   "cell_type": "code",
   "execution_count": 1220,
   "metadata": {},
   "outputs": [],
   "source": [
    "test_data = test_data.dropna(subset=['Marital Status'])"
   ]
  },
  {
   "cell_type": "code",
   "execution_count": 1221,
   "metadata": {},
   "outputs": [
    {
     "data": {
      "text/plain": [
       "1.0    4074\n",
       "4.0      72\n",
       "3.0       9\n",
       "2.0       6\n",
       "Name: Marital Status, dtype: int64"
      ]
     },
     "execution_count": 1221,
     "metadata": {},
     "output_type": "execute_result"
    }
   ],
   "source": [
    "test_data['Marital Status'].value_counts(dropna=False)"
   ]
  },
  {
   "cell_type": "code",
   "execution_count": 1222,
   "metadata": {},
   "outputs": [
    {
     "data": {
      "text/plain": [
       "2.0    2834\n",
       "1.0    1304\n",
       "NaN      23\n",
       "Name: satellite, dtype: int64"
      ]
     },
     "execution_count": 1222,
     "metadata": {},
     "output_type": "execute_result"
    }
   ],
   "source": [
    "test_data['satellite'].value_counts(dropna=False)"
   ]
  },
  {
   "cell_type": "code",
   "execution_count": 1223,
   "metadata": {},
   "outputs": [],
   "source": [
    "test_data = test_data.dropna(subset=['satellite', 'child_enrollment', 'Number of persons living in house', 'Gender', 'Type of housing', 'automobiles'])"
   ]
  },
  {
   "cell_type": "code",
   "execution_count": 1224,
   "metadata": {},
   "outputs": [
    {
     "data": {
      "text/plain": [
       "2.0    2779\n",
       "1.0    1273\n",
       "Name: satellite, dtype: int64"
      ]
     },
     "execution_count": 1224,
     "metadata": {},
     "output_type": "execute_result"
    }
   ],
   "source": [
    "test_data['satellite'].value_counts(dropna=False)"
   ]
  },
  {
   "cell_type": "code",
   "execution_count": 1225,
   "metadata": {},
   "outputs": [
    {
     "data": {
      "text/plain": [
       "hhid                                              0.000000\n",
       "Gender                                            0.000000\n",
       "Mother still living                               0.592300\n",
       "Father still living                               1.628825\n",
       "Age, in years                                     1.110563\n",
       "Marital Status                                    0.000000\n",
       "darija                                            0.296150\n",
       "class_arabic                                      0.296150\n",
       "french                                            0.296150\n",
       "amazygh                                           0.296150\n",
       "Member knows to read in at least one language     2.245805\n",
       "write_one_lang                                    1.974334\n",
       "no_read_write                                     1.974334\n",
       "parents_level_ed                                  0.000000\n",
       "Number of persons living in house                 0.000000\n",
       "Type of housing                                   0.000000\n",
       "automobiles                                       0.000000\n",
       "mobile_phones                                     0.000000\n",
       "satellite                                         0.000000\n",
       "no_water                                          0.000000\n",
       "individual_water_net                              0.000000\n",
       "electrical_net_co                                 0.000000\n",
       "school_id                                         0.000000\n",
       "child_enrollment                                  0.000000\n",
       "class_when_dropout                                0.000000\n",
       "region                                            0.000000\n",
       "province                                          0.000000\n",
       "Age abandoned school                              0.000000\n",
       "schoolunitid                                      0.000000\n",
       "type_unit                                         0.000000\n",
       "groupid                                           0.000000\n",
       "num_menage                                        0.000000\n",
       "done_test                                         0.000000\n",
       "digit_recognition_res                            26.085884\n",
       "number_recognition_res                           26.159921\n",
       "subtraction_res                                  26.505429\n",
       "division_res                                     25.913129\n",
       "work_activity_classified                          0.000000\n",
       "dtype: float64"
      ]
     },
     "execution_count": 1225,
     "metadata": {},
     "output_type": "execute_result"
    }
   ],
   "source": [
    "test_data.isna().sum() / len(test_data) * 100"
   ]
  },
  {
   "cell_type": "code",
   "execution_count": 1226,
   "metadata": {},
   "outputs": [
    {
     "data": {
      "text/plain": [
       "1.0    3985\n",
       "2.0      67\n",
       "Name: Gender, dtype: int64"
      ]
     },
     "execution_count": 1226,
     "metadata": {},
     "output_type": "execute_result"
    }
   ],
   "source": [
    "test_data['Gender'].value_counts(dropna=False)"
   ]
  },
  {
   "cell_type": "code",
   "execution_count": 1227,
   "metadata": {},
   "outputs": [
    {
     "data": {
      "text/plain": [
       "(4052, 38)"
      ]
     },
     "execution_count": 1227,
     "metadata": {},
     "output_type": "execute_result"
    }
   ],
   "source": [
    "test_data.shape"
   ]
  },
  {
   "cell_type": "code",
   "execution_count": 1228,
   "metadata": {},
   "outputs": [
    {
     "data": {
      "text/html": [
       "<div>\n",
       "<style scoped>\n",
       "    .dataframe tbody tr th:only-of-type {\n",
       "        vertical-align: middle;\n",
       "    }\n",
       "\n",
       "    .dataframe tbody tr th {\n",
       "        vertical-align: top;\n",
       "    }\n",
       "\n",
       "    .dataframe thead th {\n",
       "        text-align: right;\n",
       "    }\n",
       "</style>\n",
       "<table border=\"1\" class=\"dataframe\">\n",
       "  <thead>\n",
       "    <tr style=\"text-align: right;\">\n",
       "      <th></th>\n",
       "      <th>Gender</th>\n",
       "      <th>Mother still living</th>\n",
       "      <th>Father still living</th>\n",
       "      <th>Age, in years</th>\n",
       "      <th>Marital Status</th>\n",
       "      <th>darija</th>\n",
       "      <th>class_arabic</th>\n",
       "      <th>french</th>\n",
       "      <th>amazygh</th>\n",
       "      <th>Member knows to read in at least one language</th>\n",
       "      <th>...</th>\n",
       "      <th>class_when_dropout</th>\n",
       "      <th>Age abandoned school</th>\n",
       "      <th>groupid</th>\n",
       "      <th>num_menage</th>\n",
       "      <th>done_test</th>\n",
       "      <th>digit_recognition_res</th>\n",
       "      <th>number_recognition_res</th>\n",
       "      <th>subtraction_res</th>\n",
       "      <th>division_res</th>\n",
       "      <th>work_activity_classified</th>\n",
       "    </tr>\n",
       "  </thead>\n",
       "  <tbody>\n",
       "    <tr>\n",
       "      <th>count</th>\n",
       "      <td>4052.000000</td>\n",
       "      <td>4028.000000</td>\n",
       "      <td>3986.000000</td>\n",
       "      <td>4007.000000</td>\n",
       "      <td>4052.000000</td>\n",
       "      <td>4040.000000</td>\n",
       "      <td>4040.000000</td>\n",
       "      <td>4040.000000</td>\n",
       "      <td>4040.000000</td>\n",
       "      <td>3961.000000</td>\n",
       "      <td>...</td>\n",
       "      <td>4052.000000</td>\n",
       "      <td>4052.000000</td>\n",
       "      <td>4052.000000</td>\n",
       "      <td>4052.000000</td>\n",
       "      <td>4052.000000</td>\n",
       "      <td>2995.000000</td>\n",
       "      <td>2992.000000</td>\n",
       "      <td>2978.000000</td>\n",
       "      <td>3002.000000</td>\n",
       "      <td>4052.000000</td>\n",
       "    </tr>\n",
       "    <tr>\n",
       "      <th>mean</th>\n",
       "      <td>1.016535</td>\n",
       "      <td>1.416832</td>\n",
       "      <td>1.608379</td>\n",
       "      <td>45.735213</td>\n",
       "      <td>1.056515</td>\n",
       "      <td>1.165842</td>\n",
       "      <td>1.866089</td>\n",
       "      <td>1.974257</td>\n",
       "      <td>1.233168</td>\n",
       "      <td>1.729614</td>\n",
       "      <td>...</td>\n",
       "      <td>0.268016</td>\n",
       "      <td>0.747532</td>\n",
       "      <td>1.942744</td>\n",
       "      <td>4.448667</td>\n",
       "      <td>1.259131</td>\n",
       "      <td>1.011352</td>\n",
       "      <td>1.051136</td>\n",
       "      <td>1.559772</td>\n",
       "      <td>1.611925</td>\n",
       "      <td>0.537512</td>\n",
       "    </tr>\n",
       "    <tr>\n",
       "      <th>std</th>\n",
       "      <td>0.127537</td>\n",
       "      <td>0.493096</td>\n",
       "      <td>0.488174</td>\n",
       "      <td>9.582030</td>\n",
       "      <td>0.399351</td>\n",
       "      <td>0.371984</td>\n",
       "      <td>0.340599</td>\n",
       "      <td>0.158386</td>\n",
       "      <td>0.422901</td>\n",
       "      <td>0.444215</td>\n",
       "      <td>...</td>\n",
       "      <td>0.473159</td>\n",
       "      <td>0.434482</td>\n",
       "      <td>1.379642</td>\n",
       "      <td>2.281386</td>\n",
       "      <td>0.438212</td>\n",
       "      <td>0.105958</td>\n",
       "      <td>0.220313</td>\n",
       "      <td>0.496498</td>\n",
       "      <td>0.505515</td>\n",
       "      <td>0.681834</td>\n",
       "    </tr>\n",
       "    <tr>\n",
       "      <th>min</th>\n",
       "      <td>1.000000</td>\n",
       "      <td>1.000000</td>\n",
       "      <td>1.000000</td>\n",
       "      <td>22.000000</td>\n",
       "      <td>1.000000</td>\n",
       "      <td>1.000000</td>\n",
       "      <td>1.000000</td>\n",
       "      <td>1.000000</td>\n",
       "      <td>1.000000</td>\n",
       "      <td>1.000000</td>\n",
       "      <td>...</td>\n",
       "      <td>0.000000</td>\n",
       "      <td>0.000000</td>\n",
       "      <td>0.000000</td>\n",
       "      <td>1.000000</td>\n",
       "      <td>1.000000</td>\n",
       "      <td>1.000000</td>\n",
       "      <td>1.000000</td>\n",
       "      <td>1.000000</td>\n",
       "      <td>0.000000</td>\n",
       "      <td>0.000000</td>\n",
       "    </tr>\n",
       "    <tr>\n",
       "      <th>25%</th>\n",
       "      <td>1.000000</td>\n",
       "      <td>1.000000</td>\n",
       "      <td>1.000000</td>\n",
       "      <td>39.000000</td>\n",
       "      <td>1.000000</td>\n",
       "      <td>1.000000</td>\n",
       "      <td>2.000000</td>\n",
       "      <td>2.000000</td>\n",
       "      <td>1.000000</td>\n",
       "      <td>1.000000</td>\n",
       "      <td>...</td>\n",
       "      <td>0.000000</td>\n",
       "      <td>0.000000</td>\n",
       "      <td>1.000000</td>\n",
       "      <td>2.000000</td>\n",
       "      <td>1.000000</td>\n",
       "      <td>1.000000</td>\n",
       "      <td>1.000000</td>\n",
       "      <td>1.000000</td>\n",
       "      <td>1.000000</td>\n",
       "      <td>0.000000</td>\n",
       "    </tr>\n",
       "    <tr>\n",
       "      <th>50%</th>\n",
       "      <td>1.000000</td>\n",
       "      <td>1.000000</td>\n",
       "      <td>2.000000</td>\n",
       "      <td>45.000000</td>\n",
       "      <td>1.000000</td>\n",
       "      <td>1.000000</td>\n",
       "      <td>2.000000</td>\n",
       "      <td>2.000000</td>\n",
       "      <td>1.000000</td>\n",
       "      <td>2.000000</td>\n",
       "      <td>...</td>\n",
       "      <td>0.000000</td>\n",
       "      <td>1.000000</td>\n",
       "      <td>2.000000</td>\n",
       "      <td>4.000000</td>\n",
       "      <td>1.000000</td>\n",
       "      <td>1.000000</td>\n",
       "      <td>1.000000</td>\n",
       "      <td>2.000000</td>\n",
       "      <td>2.000000</td>\n",
       "      <td>0.000000</td>\n",
       "    </tr>\n",
       "    <tr>\n",
       "      <th>75%</th>\n",
       "      <td>1.000000</td>\n",
       "      <td>2.000000</td>\n",
       "      <td>2.000000</td>\n",
       "      <td>51.000000</td>\n",
       "      <td>1.000000</td>\n",
       "      <td>1.000000</td>\n",
       "      <td>2.000000</td>\n",
       "      <td>2.000000</td>\n",
       "      <td>1.000000</td>\n",
       "      <td>2.000000</td>\n",
       "      <td>...</td>\n",
       "      <td>1.000000</td>\n",
       "      <td>1.000000</td>\n",
       "      <td>3.000000</td>\n",
       "      <td>6.000000</td>\n",
       "      <td>2.000000</td>\n",
       "      <td>1.000000</td>\n",
       "      <td>1.000000</td>\n",
       "      <td>2.000000</td>\n",
       "      <td>2.000000</td>\n",
       "      <td>1.000000</td>\n",
       "    </tr>\n",
       "    <tr>\n",
       "      <th>max</th>\n",
       "      <td>2.000000</td>\n",
       "      <td>2.000000</td>\n",
       "      <td>2.000000</td>\n",
       "      <td>96.000000</td>\n",
       "      <td>4.000000</td>\n",
       "      <td>2.000000</td>\n",
       "      <td>2.000000</td>\n",
       "      <td>2.000000</td>\n",
       "      <td>2.000000</td>\n",
       "      <td>2.000000</td>\n",
       "      <td>...</td>\n",
       "      <td>2.000000</td>\n",
       "      <td>1.000000</td>\n",
       "      <td>4.000000</td>\n",
       "      <td>11.000000</td>\n",
       "      <td>2.000000</td>\n",
       "      <td>2.000000</td>\n",
       "      <td>2.000000</td>\n",
       "      <td>2.000000</td>\n",
       "      <td>2.000000</td>\n",
       "      <td>2.000000</td>\n",
       "    </tr>\n",
       "  </tbody>\n",
       "</table>\n",
       "<p>8 rows × 32 columns</p>\n",
       "</div>"
      ],
      "text/plain": [
       "            Gender  Mother still living  Father still living  Age, in years  \\\n",
       "count  4052.000000          4028.000000          3986.000000    4007.000000   \n",
       "mean      1.016535             1.416832             1.608379      45.735213   \n",
       "std       0.127537             0.493096             0.488174       9.582030   \n",
       "min       1.000000             1.000000             1.000000      22.000000   \n",
       "25%       1.000000             1.000000             1.000000      39.000000   \n",
       "50%       1.000000             1.000000             2.000000      45.000000   \n",
       "75%       1.000000             2.000000             2.000000      51.000000   \n",
       "max       2.000000             2.000000             2.000000      96.000000   \n",
       "\n",
       "       Marital Status       darija  class_arabic       french      amazygh  \\\n",
       "count     4052.000000  4040.000000   4040.000000  4040.000000  4040.000000   \n",
       "mean         1.056515     1.165842      1.866089     1.974257     1.233168   \n",
       "std          0.399351     0.371984      0.340599     0.158386     0.422901   \n",
       "min          1.000000     1.000000      1.000000     1.000000     1.000000   \n",
       "25%          1.000000     1.000000      2.000000     2.000000     1.000000   \n",
       "50%          1.000000     1.000000      2.000000     2.000000     1.000000   \n",
       "75%          1.000000     1.000000      2.000000     2.000000     1.000000   \n",
       "max          4.000000     2.000000      2.000000     2.000000     2.000000   \n",
       "\n",
       "       Member knows to read in at least one language  ...  class_when_dropout  \\\n",
       "count                                    3961.000000  ...         4052.000000   \n",
       "mean                                        1.729614  ...            0.268016   \n",
       "std                                         0.444215  ...            0.473159   \n",
       "min                                         1.000000  ...            0.000000   \n",
       "25%                                         1.000000  ...            0.000000   \n",
       "50%                                         2.000000  ...            0.000000   \n",
       "75%                                         2.000000  ...            1.000000   \n",
       "max                                         2.000000  ...            2.000000   \n",
       "\n",
       "       Age abandoned school      groupid   num_menage    done_test  \\\n",
       "count           4052.000000  4052.000000  4052.000000  4052.000000   \n",
       "mean               0.747532     1.942744     4.448667     1.259131   \n",
       "std                0.434482     1.379642     2.281386     0.438212   \n",
       "min                0.000000     0.000000     1.000000     1.000000   \n",
       "25%                0.000000     1.000000     2.000000     1.000000   \n",
       "50%                1.000000     2.000000     4.000000     1.000000   \n",
       "75%                1.000000     3.000000     6.000000     2.000000   \n",
       "max                1.000000     4.000000    11.000000     2.000000   \n",
       "\n",
       "       digit_recognition_res  number_recognition_res  subtraction_res  \\\n",
       "count            2995.000000             2992.000000      2978.000000   \n",
       "mean                1.011352                1.051136         1.559772   \n",
       "std                 0.105958                0.220313         0.496498   \n",
       "min                 1.000000                1.000000         1.000000   \n",
       "25%                 1.000000                1.000000         1.000000   \n",
       "50%                 1.000000                1.000000         2.000000   \n",
       "75%                 1.000000                1.000000         2.000000   \n",
       "max                 2.000000                2.000000         2.000000   \n",
       "\n",
       "       division_res  work_activity_classified  \n",
       "count   3002.000000               4052.000000  \n",
       "mean       1.611925                  0.537512  \n",
       "std        0.505515                  0.681834  \n",
       "min        0.000000                  0.000000  \n",
       "25%        1.000000                  0.000000  \n",
       "50%        2.000000                  0.000000  \n",
       "75%        2.000000                  1.000000  \n",
       "max        2.000000                  2.000000  \n",
       "\n",
       "[8 rows x 32 columns]"
      ]
     },
     "execution_count": 1228,
     "metadata": {},
     "output_type": "execute_result"
    }
   ],
   "source": [
    "test_data.describe()"
   ]
  },
  {
   "cell_type": "code",
   "execution_count": 1229,
   "metadata": {},
   "outputs": [
    {
     "data": {
      "text/plain": [
       "1.0    2843\n",
       "2.0    1209\n",
       "Name: child_enrollment, dtype: int64"
      ]
     },
     "execution_count": 1229,
     "metadata": {},
     "output_type": "execute_result"
    }
   ],
   "source": [
    "test_data['child_enrollment'].value_counts(dropna=False)"
   ]
  },
  {
   "cell_type": "code",
   "execution_count": 1230,
   "metadata": {},
   "outputs": [
    {
     "data": {
      "text/plain": [
       "(4052, 38)"
      ]
     },
     "execution_count": 1230,
     "metadata": {},
     "output_type": "execute_result"
    }
   ],
   "source": [
    "test_data.shape"
   ]
  },
  {
   "attachments": {},
   "cell_type": "markdown",
   "metadata": {},
   "source": [
    "# Imputing"
   ]
  },
  {
   "cell_type": "code",
   "execution_count": 1231,
   "metadata": {},
   "outputs": [],
   "source": [
    "test_data= test_data.rename(columns={'Member knows to read in at least one language':'read_one_lang',\n",
    "                    'Number of persons living in house':'num_per_house',\n",
    "                    'Type of housing':'type_housing',\n",
    "                     'Age, in years':'parents_age',\n",
    "                     'Mother still living':'mother_alive',\n",
    "                     'Father still living':'father_alive',\n",
    "                     'Marital Status':'marital_status'})"
   ]
  },
  {
   "cell_type": "code",
   "execution_count": 1232,
   "metadata": {},
   "outputs": [
    {
     "data": {
      "text/plain": [
       "Index(['hhid', 'Gender', 'mother_alive', 'father_alive', 'parents_age',\n",
       "       'marital_status', 'darija', 'class_arabic', 'french', 'amazygh',\n",
       "       'read_one_lang', 'write_one_lang', 'no_read_write', 'parents_level_ed',\n",
       "       'num_per_house', 'type_housing', 'automobiles', 'mobile_phones',\n",
       "       'satellite', 'no_water', 'individual_water_net', 'electrical_net_co',\n",
       "       'school_id', 'child_enrollment', 'class_when_dropout', 'region',\n",
       "       'province', 'Age abandoned school', 'schoolunitid', 'type_unit',\n",
       "       'groupid', 'num_menage', 'done_test', 'digit_recognition_res',\n",
       "       'number_recognition_res', 'subtraction_res', 'division_res',\n",
       "       'work_activity_classified'],\n",
       "      dtype='object')"
      ]
     },
     "execution_count": 1232,
     "metadata": {},
     "output_type": "execute_result"
    }
   ],
   "source": [
    "test_data.columns"
   ]
  },
  {
   "cell_type": "code",
   "execution_count": 1233,
   "metadata": {},
   "outputs": [],
   "source": [
    "from sklearn.impute import SimpleImputer\n",
    "\n",
    "imputer = SimpleImputer(strategy=\"mean\") "
   ]
  },
  {
   "cell_type": "code",
   "execution_count": 1234,
   "metadata": {},
   "outputs": [
    {
     "data": {
      "text/html": [
       "<style>#sk-container-id-20 {color: black;background-color: white;}#sk-container-id-20 pre{padding: 0;}#sk-container-id-20 div.sk-toggleable {background-color: white;}#sk-container-id-20 label.sk-toggleable__label {cursor: pointer;display: block;width: 100%;margin-bottom: 0;padding: 0.3em;box-sizing: border-box;text-align: center;}#sk-container-id-20 label.sk-toggleable__label-arrow:before {content: \"▸\";float: left;margin-right: 0.25em;color: #696969;}#sk-container-id-20 label.sk-toggleable__label-arrow:hover:before {color: black;}#sk-container-id-20 div.sk-estimator:hover label.sk-toggleable__label-arrow:before {color: black;}#sk-container-id-20 div.sk-toggleable__content {max-height: 0;max-width: 0;overflow: hidden;text-align: left;background-color: #f0f8ff;}#sk-container-id-20 div.sk-toggleable__content pre {margin: 0.2em;color: black;border-radius: 0.25em;background-color: #f0f8ff;}#sk-container-id-20 input.sk-toggleable__control:checked~div.sk-toggleable__content {max-height: 200px;max-width: 100%;overflow: auto;}#sk-container-id-20 input.sk-toggleable__control:checked~label.sk-toggleable__label-arrow:before {content: \"▾\";}#sk-container-id-20 div.sk-estimator input.sk-toggleable__control:checked~label.sk-toggleable__label {background-color: #d4ebff;}#sk-container-id-20 div.sk-label input.sk-toggleable__control:checked~label.sk-toggleable__label {background-color: #d4ebff;}#sk-container-id-20 input.sk-hidden--visually {border: 0;clip: rect(1px 1px 1px 1px);clip: rect(1px, 1px, 1px, 1px);height: 1px;margin: -1px;overflow: hidden;padding: 0;position: absolute;width: 1px;}#sk-container-id-20 div.sk-estimator {font-family: monospace;background-color: #f0f8ff;border: 1px dotted black;border-radius: 0.25em;box-sizing: border-box;margin-bottom: 0.5em;}#sk-container-id-20 div.sk-estimator:hover {background-color: #d4ebff;}#sk-container-id-20 div.sk-parallel-item::after {content: \"\";width: 100%;border-bottom: 1px solid gray;flex-grow: 1;}#sk-container-id-20 div.sk-label:hover label.sk-toggleable__label {background-color: #d4ebff;}#sk-container-id-20 div.sk-serial::before {content: \"\";position: absolute;border-left: 1px solid gray;box-sizing: border-box;top: 0;bottom: 0;left: 50%;z-index: 0;}#sk-container-id-20 div.sk-serial {display: flex;flex-direction: column;align-items: center;background-color: white;padding-right: 0.2em;padding-left: 0.2em;position: relative;}#sk-container-id-20 div.sk-item {position: relative;z-index: 1;}#sk-container-id-20 div.sk-parallel {display: flex;align-items: stretch;justify-content: center;background-color: white;position: relative;}#sk-container-id-20 div.sk-item::before, #sk-container-id-20 div.sk-parallel-item::before {content: \"\";position: absolute;border-left: 1px solid gray;box-sizing: border-box;top: 0;bottom: 0;left: 50%;z-index: -1;}#sk-container-id-20 div.sk-parallel-item {display: flex;flex-direction: column;z-index: 1;position: relative;background-color: white;}#sk-container-id-20 div.sk-parallel-item:first-child::after {align-self: flex-end;width: 50%;}#sk-container-id-20 div.sk-parallel-item:last-child::after {align-self: flex-start;width: 50%;}#sk-container-id-20 div.sk-parallel-item:only-child::after {width: 0;}#sk-container-id-20 div.sk-dashed-wrapped {border: 1px dashed gray;margin: 0 0.4em 0.5em 0.4em;box-sizing: border-box;padding-bottom: 0.4em;background-color: white;}#sk-container-id-20 div.sk-label label {font-family: monospace;font-weight: bold;display: inline-block;line-height: 1.2em;}#sk-container-id-20 div.sk-label-container {text-align: center;}#sk-container-id-20 div.sk-container {/* jupyter's `normalize.less` sets `[hidden] { display: none; }` but bootstrap.min.css set `[hidden] { display: none !important; }` so we also need the `!important` here to be able to override the default hidden behavior on the sphinx rendered scikit-learn.org. See: https://github.com/scikit-learn/scikit-learn/issues/21755 */display: inline-block !important;position: relative;}#sk-container-id-20 div.sk-text-repr-fallback {display: none;}</style><div id=\"sk-container-id-20\" class=\"sk-top-container\"><div class=\"sk-text-repr-fallback\"><pre>SimpleImputer()</pre><b>In a Jupyter environment, please rerun this cell to show the HTML representation or trust the notebook. <br />On GitHub, the HTML representation is unable to render, please try loading this page with nbviewer.org.</b></div><div class=\"sk-container\" hidden><div class=\"sk-item\"><div class=\"sk-estimator sk-toggleable\"><input class=\"sk-toggleable__control sk-hidden--visually\" id=\"sk-estimator-id-20\" type=\"checkbox\" checked><label for=\"sk-estimator-id-20\" class=\"sk-toggleable__label sk-toggleable__label-arrow\">SimpleImputer</label><div class=\"sk-toggleable__content\"><pre>SimpleImputer()</pre></div></div></div></div></div>"
      ],
      "text/plain": [
       "SimpleImputer()"
      ]
     },
     "execution_count": 1234,
     "metadata": {},
     "output_type": "execute_result"
    }
   ],
   "source": [
    "imputer.fit(test_data[['parents_age', 'read_one_lang','no_read_write','write_one_lang','father_alive', 'mother_alive',\"darija\",\"class_arabic\",'french','amazygh']]) "
   ]
  },
  {
   "cell_type": "code",
   "execution_count": 1235,
   "metadata": {},
   "outputs": [],
   "source": [
    "test_data[['parents_age', 'read_one_lang','no_read_write','write_one_lang','father_alive', 'mother_alive', \"darija\",\"class_arabic\",'french','amazygh']] = imputer.transform(test_data[['parents_age','read_one_lang','no_read_write','write_one_lang','father_alive', 'mother_alive',\"darija\",\"class_arabic\",'french','amazygh']])"
   ]
  },
  {
   "cell_type": "code",
   "execution_count": 1236,
   "metadata": {},
   "outputs": [
    {
     "data": {
      "text/plain": [
       "hhid                           0\n",
       "Gender                         0\n",
       "mother_alive                   0\n",
       "father_alive                   0\n",
       "parents_age                    0\n",
       "marital_status                 0\n",
       "darija                         0\n",
       "class_arabic                   0\n",
       "french                         0\n",
       "amazygh                        0\n",
       "read_one_lang                  0\n",
       "write_one_lang                 0\n",
       "no_read_write                  0\n",
       "parents_level_ed               0\n",
       "num_per_house                  0\n",
       "type_housing                   0\n",
       "automobiles                    0\n",
       "mobile_phones                  0\n",
       "satellite                      0\n",
       "no_water                       0\n",
       "individual_water_net           0\n",
       "electrical_net_co              0\n",
       "school_id                      0\n",
       "child_enrollment               0\n",
       "class_when_dropout             0\n",
       "region                         0\n",
       "province                       0\n",
       "Age abandoned school           0\n",
       "schoolunitid                   0\n",
       "type_unit                      0\n",
       "groupid                        0\n",
       "num_menage                     0\n",
       "done_test                      0\n",
       "digit_recognition_res       1057\n",
       "number_recognition_res      1060\n",
       "subtraction_res             1074\n",
       "division_res                1050\n",
       "work_activity_classified       0\n",
       "dtype: int64"
      ]
     },
     "execution_count": 1236,
     "metadata": {},
     "output_type": "execute_result"
    }
   ],
   "source": [
    "test_data.isna().sum()"
   ]
  },
  {
   "cell_type": "code",
   "execution_count": 1237,
   "metadata": {},
   "outputs": [
    {
     "data": {
      "text/plain": [
       "40.0    235\n",
       "45.0    205\n",
       "48.0    201\n",
       "38.0    196\n",
       "44.0    176\n",
       "       ... \n",
       "87.0      1\n",
       "81.0      1\n",
       "77.0      1\n",
       "24.0      1\n",
       "86.0      1\n",
       "Name: parents_age, Length: 65, dtype: int64"
      ]
     },
     "execution_count": 1237,
     "metadata": {},
     "output_type": "execute_result"
    }
   ],
   "source": [
    "test_data['parents_age'].value_counts(dropna=False)"
   ]
  },
  {
   "cell_type": "code",
   "execution_count": 1238,
   "metadata": {},
   "outputs": [
    {
     "data": {
      "text/plain": [
       "6.0     922\n",
       "7.0     832\n",
       "5.0     704\n",
       "8.0     547\n",
       "9.0     345\n",
       "4.0     317\n",
       "10.0    156\n",
       "11.0    103\n",
       "3.0      52\n",
       "12.0     16\n",
       "1.0      14\n",
       "14.0     11\n",
       "13.0      8\n",
       "15.0      5\n",
       "2.0       5\n",
       "18.0      5\n",
       "16.0      3\n",
       "17.0      2\n",
       "21.0      2\n",
       "0.0       1\n",
       "22.0      1\n",
       "19.0      1\n",
       "Name: num_per_house, dtype: int64"
      ]
     },
     "execution_count": 1238,
     "metadata": {},
     "output_type": "execute_result"
    }
   ],
   "source": [
    "test_data['num_per_house'].value_counts(dropna=False)"
   ]
  },
  {
   "cell_type": "code",
   "execution_count": 1239,
   "metadata": {},
   "outputs": [
    {
     "data": {
      "text/plain": [
       "array([35.        , 33.        , 31.        , 62.        , 36.        ,\n",
       "       67.        , 43.        , 46.        , 29.        , 32.        ,\n",
       "       57.        , 50.        , 55.        , 48.        , 44.        ,\n",
       "       59.        , 49.        , 30.        , 60.        , 52.        ,\n",
       "       58.        , 54.        , 45.        , 75.        , 39.        ,\n",
       "       47.        , 56.        , 40.        , 38.        , 41.        ,\n",
       "       63.        , 45.73521338, 66.        , 34.        , 61.        ,\n",
       "       37.        , 73.        , 51.        , 42.        , 76.        ,\n",
       "       28.        , 70.        , 72.        , 96.        , 65.        ,\n",
       "       22.        , 68.        , 74.        , 53.        , 71.        ,\n",
       "       64.        , 80.        , 26.        , 69.        , 27.        ,\n",
       "       85.        , 25.        , 78.        , 83.        , 87.        ,\n",
       "       84.        , 81.        , 77.        , 24.        , 86.        ])"
      ]
     },
     "execution_count": 1239,
     "metadata": {},
     "output_type": "execute_result"
    }
   ],
   "source": [
    "test_data['parents_age'].unique()"
   ]
  },
  {
   "cell_type": "code",
   "execution_count": 1240,
   "metadata": {},
   "outputs": [
    {
     "data": {
      "text/plain": [
       "(4052, 38)"
      ]
     },
     "execution_count": 1240,
     "metadata": {},
     "output_type": "execute_result"
    }
   ],
   "source": [
    "test_data.shape"
   ]
  },
  {
   "cell_type": "code",
   "execution_count": 1241,
   "metadata": {},
   "outputs": [
    {
     "name": "stderr",
     "output_type": "stream",
     "text": [
      "/home/andriigegliuk/.pyenv/versions/3.10.6/envs/dropoutpred-env/lib/python3.10/site-packages/seaborn/_decorators.py:36: FutureWarning: Pass the following variable as a keyword arg: x. From version 0.12, the only valid positional argument will be `data`, and passing other arguments without an explicit keyword will result in an error or misinterpretation.\n",
      "  warnings.warn(\n"
     ]
    },
    {
     "data": {
      "image/png": "[encoded data removed]",
      "text/plain": [
       "<Figure size 1200x700 with 1 Axes>"
      ]
     },
     "metadata": {},
     "output_type": "display_data"
    }
   ],
   "source": [
    "plt.figure(figsize=(12, 7))\n",
    "sns.countplot(test_data['num_per_house'])\n",
    "plt.show()"
   ]
  },
  {
   "cell_type": "code",
   "execution_count": 1242,
   "metadata": {},
   "outputs": [
    {
     "data": {
      "text/plain": [
       "hhid                           0\n",
       "Gender                         0\n",
       "mother_alive                   0\n",
       "father_alive                   0\n",
       "parents_age                    0\n",
       "marital_status                 0\n",
       "darija                         0\n",
       "class_arabic                   0\n",
       "french                         0\n",
       "amazygh                        0\n",
       "read_one_lang                  0\n",
       "write_one_lang                 0\n",
       "no_read_write                  0\n",
       "parents_level_ed               0\n",
       "num_per_house                  0\n",
       "type_housing                   0\n",
       "automobiles                    0\n",
       "mobile_phones                  0\n",
       "satellite                      0\n",
       "no_water                       0\n",
       "individual_water_net           0\n",
       "electrical_net_co              0\n",
       "school_id                      0\n",
       "child_enrollment               0\n",
       "class_when_dropout             0\n",
       "region                         0\n",
       "province                       0\n",
       "Age abandoned school           0\n",
       "schoolunitid                   0\n",
       "type_unit                      0\n",
       "groupid                        0\n",
       "num_menage                     0\n",
       "done_test                      0\n",
       "digit_recognition_res       1057\n",
       "number_recognition_res      1060\n",
       "subtraction_res             1074\n",
       "division_res                1050\n",
       "work_activity_classified       0\n",
       "dtype: int64"
      ]
     },
     "execution_count": 1242,
     "metadata": {},
     "output_type": "execute_result"
    }
   ],
   "source": [
    "test_data.isna().sum()"
   ]
  },
  {
   "cell_type": "code",
   "execution_count": 1243,
   "metadata": {},
   "outputs": [
    {
     "data": {
      "text/plain": [
       "1.0    3985\n",
       "2.0      67\n",
       "Name: Gender, dtype: int64"
      ]
     },
     "execution_count": 1243,
     "metadata": {},
     "output_type": "execute_result"
    }
   ],
   "source": [
    "test_data['Gender'].value_counts(dropna=False)"
   ]
  },
  {
   "cell_type": "code",
   "execution_count": 1244,
   "metadata": {},
   "outputs": [],
   "source": [
    "# test_data.to_csv('file_with_mathtest_features.csv', header=True, index=False)"
   ]
  },
  {
   "cell_type": "code",
   "execution_count": 1245,
   "metadata": {},
   "outputs": [
    {
     "data": {
      "text/plain": [
       "(4052, 38)"
      ]
     },
     "execution_count": 1245,
     "metadata": {},
     "output_type": "execute_result"
    }
   ],
   "source": [
    "test_data.shape"
   ]
  },
  {
   "cell_type": "code",
   "execution_count": 1246,
   "metadata": {},
   "outputs": [],
   "source": [
    "test_data = test_data.drop(['digit_recognition_res', 'number_recognition_res', 'subtraction_res', 'division_res', 'type_unit', 'child_enrollment', 'groupid', 'num_menage', 'class_when_dropout', 'schoolunitid', 'school_id'], axis = 1)"
   ]
  },
  {
   "cell_type": "code",
   "execution_count": null,
   "metadata": {},
   "outputs": [],
   "source": []
  },
  {
   "cell_type": "code",
   "execution_count": 1247,
   "metadata": {},
   "outputs": [
    {
     "data": {
      "text/plain": [
       "hhid                        0\n",
       "Gender                      0\n",
       "mother_alive                0\n",
       "father_alive                0\n",
       "parents_age                 0\n",
       "marital_status              0\n",
       "darija                      0\n",
       "class_arabic                0\n",
       "french                      0\n",
       "amazygh                     0\n",
       "read_one_lang               0\n",
       "write_one_lang              0\n",
       "no_read_write               0\n",
       "parents_level_ed            0\n",
       "num_per_house               0\n",
       "type_housing                0\n",
       "automobiles                 0\n",
       "mobile_phones               0\n",
       "satellite                   0\n",
       "no_water                    0\n",
       "individual_water_net        0\n",
       "electrical_net_co           0\n",
       "region                      0\n",
       "province                    0\n",
       "Age abandoned school        0\n",
       "done_test                   0\n",
       "work_activity_classified    0\n",
       "dtype: int64"
      ]
     },
     "execution_count": 1247,
     "metadata": {},
     "output_type": "execute_result"
    }
   ],
   "source": [
    "test_data.isna().sum()"
   ]
  },
  {
   "cell_type": "code",
   "execution_count": 1248,
   "metadata": {},
   "outputs": [
    {
     "data": {
      "text/plain": [
       "(4052, 27)"
      ]
     },
     "execution_count": 1248,
     "metadata": {},
     "output_type": "execute_result"
    }
   ],
   "source": [
    "test_data.shape"
   ]
  },
  {
   "cell_type": "code",
   "execution_count": 1249,
   "metadata": {},
   "outputs": [],
   "source": [
    "# test_data.to_csv('final_file_with_all_features.csv', header=True, index=False)"
   ]
  },
  {
   "cell_type": "code",
   "execution_count": 1250,
   "metadata": {},
   "outputs": [
    {
     "name": "stdout",
     "output_type": "stream",
     "text": [
      "<class 'pandas.core.frame.DataFrame'>\n",
      "Int64Index: 4052 entries, 0 to 4507\n",
      "Data columns (total 27 columns):\n",
      " #   Column                    Non-Null Count  Dtype  \n",
      "---  ------                    --------------  -----  \n",
      " 0   hhid                      4052 non-null   object \n",
      " 1   Gender                    4052 non-null   float64\n",
      " 2   mother_alive              4052 non-null   float64\n",
      " 3   father_alive              4052 non-null   float64\n",
      " 4   parents_age               4052 non-null   float64\n",
      " 5   marital_status            4052 non-null   float64\n",
      " 6   darija                    4052 non-null   float64\n",
      " 7   class_arabic              4052 non-null   float64\n",
      " 8   french                    4052 non-null   float64\n",
      " 9   amazygh                   4052 non-null   float64\n",
      " 10  read_one_lang             4052 non-null   float64\n",
      " 11  write_one_lang            4052 non-null   float64\n",
      " 12  no_read_write             4052 non-null   float64\n",
      " 13  parents_level_ed          4052 non-null   float64\n",
      " 14  num_per_house             4052 non-null   float64\n",
      " 15  type_housing              4052 non-null   float64\n",
      " 16  automobiles               4052 non-null   float64\n",
      " 17  mobile_phones             4052 non-null   float64\n",
      " 18  satellite                 4052 non-null   float64\n",
      " 19  no_water                  4052 non-null   int64  \n",
      " 20  individual_water_net      4052 non-null   int64  \n",
      " 21  electrical_net_co         4052 non-null   int64  \n",
      " 22  region                    4052 non-null   object \n",
      " 23  province                  4052 non-null   object \n",
      " 24  Age abandoned school      4052 non-null   float64\n",
      " 25  done_test                 4052 non-null   float64\n",
      " 26  work_activity_classified  4052 non-null   float64\n",
      "dtypes: float64(21), int64(3), object(3)\n",
      "memory usage: 886.4+ KB\n"
     ]
    }
   ],
   "source": [
    "test_data.info()"
   ]
  },
  {
   "cell_type": "code",
   "execution_count": null,
   "metadata": {},
   "outputs": [],
   "source": []
  },
  {
   "cell_type": "code",
   "execution_count": null,
   "metadata": {},
   "outputs": [],
   "source": []
  },
  {
   "cell_type": "code",
   "execution_count": 1251,
   "metadata": {},
   "outputs": [
    {
     "data": {
      "text/plain": [
       "1.0    3029\n",
       "0.0    1023\n",
       "Name: Age abandoned school, dtype: int64"
      ]
     },
     "execution_count": 1251,
     "metadata": {},
     "output_type": "execute_result"
    }
   ],
   "source": [
    "test_data['Age abandoned school'].value_counts()"
   ]
  },
  {
   "cell_type": "code",
   "execution_count": 1252,
   "metadata": {},
   "outputs": [
    {
     "name": "stdout",
     "output_type": "stream",
     "text": [
      "<class 'pandas.core.frame.DataFrame'>\n",
      "Int64Index: 4052 entries, 0 to 4507\n",
      "Data columns (total 27 columns):\n",
      " #   Column                    Non-Null Count  Dtype  \n",
      "---  ------                    --------------  -----  \n",
      " 0   hhid                      4052 non-null   object \n",
      " 1   Gender                    4052 non-null   float64\n",
      " 2   mother_alive              4052 non-null   float64\n",
      " 3   father_alive              4052 non-null   float64\n",
      " 4   parents_age               4052 non-null   float64\n",
      " 5   marital_status            4052 non-null   float64\n",
      " 6   darija                    4052 non-null   float64\n",
      " 7   class_arabic              4052 non-null   float64\n",
      " 8   french                    4052 non-null   float64\n",
      " 9   amazygh                   4052 non-null   float64\n",
      " 10  read_one_lang             4052 non-null   float64\n",
      " 11  write_one_lang            4052 non-null   float64\n",
      " 12  no_read_write             4052 non-null   float64\n",
      " 13  parents_level_ed          4052 non-null   float64\n",
      " 14  num_per_house             4052 non-null   float64\n",
      " 15  type_housing              4052 non-null   float64\n",
      " 16  automobiles               4052 non-null   float64\n",
      " 17  mobile_phones             4052 non-null   float64\n",
      " 18  satellite                 4052 non-null   float64\n",
      " 19  no_water                  4052 non-null   int64  \n",
      " 20  individual_water_net      4052 non-null   int64  \n",
      " 21  electrical_net_co         4052 non-null   int64  \n",
      " 22  region                    4052 non-null   object \n",
      " 23  province                  4052 non-null   object \n",
      " 24  Age abandoned school      4052 non-null   float64\n",
      " 25  done_test                 4052 non-null   float64\n",
      " 26  work_activity_classified  4052 non-null   float64\n",
      "dtypes: float64(21), int64(3), object(3)\n",
      "memory usage: 886.4+ KB\n"
     ]
    }
   ],
   "source": [
    "test_data.info()"
   ]
  },
  {
   "cell_type": "code",
   "execution_count": 1253,
   "metadata": {},
   "outputs": [],
   "source": [
    "test_data.to_csv('school_dropout_data.csv', header=True, index=False)"
   ]
  }
 ],
 "metadata": {
  "kernelspec": {
   "display_name": "dropoutpred-env",
   "language": "python",
   "name": "python3"
  },
  "language_info": {
   "codemirror_mode": {
    "name": "ipython",
    "version": 3
   },
   "file_extension": ".py",
   "mimetype": "text/x-python",
   "name": "python",
   "nbconvert_exporter": "python",
   "pygments_lexer": "ipython3",
   "version": "3.10.6"
  },
  "orig_nbformat": 4
 },
 "nbformat": 4,
 "nbformat_minor": 2
}
